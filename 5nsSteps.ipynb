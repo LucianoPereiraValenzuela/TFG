{
 "cells": [
  {
   "cell_type": "code",
   "execution_count": 1,
   "id": "20d490df-9563-41b5-b6de-62cd50f59887",
   "metadata": {},
   "outputs": [
    {
     "name": "stderr",
     "output_type": "stream",
     "text": [
      "<frozen importlib._bootstrap>:219: RuntimeWarning: scipy._lib.messagestream.MessageStream size changed, may indicate binary incompatibility. Expected 56 from C header, got 64 from PyObject\n"
     ]
    }
   ],
   "source": [
    "import numpy as np\n",
    "\n",
    "# Importing standard Qiskit libraries\n",
    "from qiskit import QuantumCircuit, transpile, Aer, IBMQ\n",
    "from qiskit.tools.jupyter import *\n",
    "from qiskit.visualization import *\n",
    "from ibm_quantum_widgets import *\n",
    "from qiskit.providers.aer import QasmSimulator\n",
    "\n",
    "# Loading your IBM Quantum account(s)\n",
    "provider = IBMQ.load_account()"
   ]
  },
  {
   "cell_type": "code",
   "execution_count": 2,
   "id": "ad98d87d-bad4-4c8d-8d9d-da4b0f27036e",
   "metadata": {},
   "outputs": [],
   "source": [
    "import warnings\n",
    "warnings.filterwarnings('ignore')\n",
    "from qiskit.tools.jupyter import *"
   ]
  },
  {
   "cell_type": "code",
   "execution_count": 3,
   "id": "00875011-83ad-49ae-a285-e1eefc54d729",
   "metadata": {},
   "outputs": [
    {
     "name": "stderr",
     "output_type": "stream",
     "text": [
      "ibmqfactory.load_account:WARNING:2022-07-31 04:45:19,153: Credentials are already in use. The existing account in the session will be replaced.\n"
     ]
    }
   ],
   "source": [
    "from qiskit import IBMQ\n",
    "IBMQ.load_account()\n",
    "provider = IBMQ.get_provider(hub='ibm-q', group='open', project='main')\n",
    "backend = provider.get_backend('ibmq_manila')"
   ]
  },
  {
   "cell_type": "code",
   "execution_count": 4,
   "id": "c60b3ddd-ffe0-48ba-b74f-9ccff7d62701",
   "metadata": {},
   "outputs": [],
   "source": [
    "backend_config = backend.configuration()"
   ]
  },
  {
   "cell_type": "code",
   "execution_count": 5,
   "id": "db3dbb24-9837-4652-b8fe-6235564a2d2e",
   "metadata": {},
   "outputs": [
    {
     "name": "stdout",
     "output_type": "stream",
     "text": [
      "Sampling time: 0.2222222222222222 ns\n"
     ]
    }
   ],
   "source": [
    "dt = backend_config.dt\n",
    "print(f\"Sampling time: {dt*1e9} ns\")    # The configuration returns dt in seconds, so multiply by\n",
    "                                        # 1e9 to get nanoseconds"
   ]
  },
  {
   "cell_type": "code",
   "execution_count": 6,
   "id": "6c6cdcb7-e19d-4d21-a76d-a9a210e40374",
   "metadata": {},
   "outputs": [
    {
     "data": {
      "text/plain": [
       "{'acquire_alignment': 16,\n",
       " 'granularity': 16,\n",
       " 'min_length': 64,\n",
       " 'pulse_alignment': 1}"
      ]
     },
     "execution_count": 6,
     "metadata": {},
     "output_type": "execute_result"
    }
   ],
   "source": [
    "backend.configuration().timing_constraints"
   ]
  },
  {
   "cell_type": "code",
   "execution_count": 7,
   "id": "550cd807-2416-492b-bc56-ff05b89b47e6",
   "metadata": {},
   "outputs": [],
   "source": [
    "acquire_alignment = backend.configuration().timing_constraints['acquire_alignment']\n",
    "granularity = backend.configuration().timing_constraints['granularity']\n",
    "pulse_alignment = backend.configuration().timing_constraints['pulse_alignment']"
   ]
  },
  {
   "cell_type": "code",
   "execution_count": 8,
   "id": "948a712a-fca8-4678-b32e-5036ea8c9f8f",
   "metadata": {},
   "outputs": [
    {
     "name": "stdout",
     "output_type": "stream",
     "text": [
      "Least common multiple of acquire_alignment and pulse_alignment: 16\n"
     ]
    }
   ],
   "source": [
    "import numpy as np\n",
    "\n",
    "lcm = np.lcm(acquire_alignment, pulse_alignment)\n",
    "print(f\"Least common multiple of acquire_alignment and pulse_alignment: {lcm}\")"
   ]
  },
  {
   "cell_type": "code",
   "execution_count": 9,
   "id": "cec21486-dcb8-45d1-80f3-d349d2d084bd",
   "metadata": {},
   "outputs": [],
   "source": [
    "backend_defaults = backend.defaults()"
   ]
  },
  {
   "cell_type": "code",
   "execution_count": 10,
   "id": "f7385eed-6588-4615-8e95-6f97832b8829",
   "metadata": {},
   "outputs": [],
   "source": [
    "#Finding the qubit Frequency using a Frequency Sweep"
   ]
  },
  {
   "cell_type": "code",
   "execution_count": 11,
   "id": "4f1c8646-1b3f-496e-aaf1-2592c8cbc27d",
   "metadata": {},
   "outputs": [
    {
     "name": "stdout",
     "output_type": "stream",
     "text": [
      "Qubit 0 has an estimated frequency of 4.962287357984293 GHz.\n",
      "The sweep will go from 4.942287357984293 GHz to 4.982287357984293 GHz in steps of 1.0 MHz.\n"
     ]
    }
   ],
   "source": [
    "# unit conversion factors -> all backend properties returned in SI (Hz, sec, etc.)\n",
    "GHz = 1.0e9 # Gigahertz\n",
    "MHz = 1.0e6 # Megahertz\n",
    "us = 1.0e-6 # Microseconds\n",
    "ns = 1.0e-9 # Nanoseconds\n",
    "\n",
    "# We will find the qubit frequency for the following qubit.\n",
    "qubit = 0\n",
    "\n",
    "# The sweep will be centered around the estimated qubit frequency.\n",
    "center_frequency_Hz = backend_defaults.qubit_freq_est[qubit]        # The default frequency is given in Hz\n",
    "                                                                    # warning: this will change in a future release\n",
    "print(f\"Qubit {qubit} has an estimated frequency of {center_frequency_Hz / GHz} GHz.\")\n",
    "\n",
    "# scale factor to remove factors of 10 from the data\n",
    "scale_factor = 1e-7\n",
    "\n",
    "# We will sweep 40 MHz around the estimated frequency\n",
    "frequency_span_Hz = 40 * MHz\n",
    "# in steps of 1 MHz.\n",
    "frequency_step_Hz = 1 * MHz\n",
    "\n",
    "# We will sweep 20 MHz above and 20 MHz below the estimated frequency\n",
    "frequency_min = center_frequency_Hz - frequency_span_Hz / 2\n",
    "frequency_max = center_frequency_Hz + frequency_span_Hz / 2\n",
    "# Construct an np array of the frequencies for our experiment\n",
    "frequencies_GHz = np.arange(frequency_min / GHz, \n",
    "                            frequency_max / GHz, \n",
    "                            frequency_step_Hz / GHz)\n",
    "\n",
    "print(f\"The sweep will go from {frequency_min / GHz} GHz to {frequency_max / GHz} GHz \\\n",
    "in steps of {frequency_step_Hz / MHz} MHz.\")"
   ]
  },
  {
   "cell_type": "code",
   "execution_count": 12,
   "id": "d71dea9e-ee8e-4763-adf9-73f743649028",
   "metadata": {},
   "outputs": [],
   "source": [
    "def get_closest_multiple_of(vaule, base_number):\n",
    "    return int(vaule + base_number/2) - (int(vaule + base_number/2) % base_number)"
   ]
  },
  {
   "cell_type": "code",
   "execution_count": 13,
   "id": "aa9c4560-2d41-4ab2-a090-683f8efd336e",
   "metadata": {},
   "outputs": [],
   "source": [
    "# samples need to be multiples of 16\n",
    "def get_closest_multiple_of_16(num):\n",
    "    return get_closest_multiple_of(num, granularity)"
   ]
  },
  {
   "cell_type": "code",
   "execution_count": 14,
   "id": "4d44d6cb-e73c-4338-83cb-2861b4106da5",
   "metadata": {},
   "outputs": [],
   "source": [
    "# Convert seconds to dt\n",
    "def get_dt_from(sec):\n",
    "    return get_closest_multiple_of(sec/dt, lcm)"
   ]
  },
  {
   "cell_type": "code",
   "execution_count": 15,
   "id": "f0cc6b18-775b-4e6b-a910-e1567bad71b9",
   "metadata": {},
   "outputs": [],
   "source": [
    "from qiskit import pulse                  # This is where we access all of our Pulse features!\n",
    "from qiskit.circuit import Parameter      # This is Parameter Class for variable parameters.\n",
    "from qiskit.circuit import QuantumCircuit, Gate\n",
    "\n",
    "# Drive pulse parameters (us = microseconds)\n",
    "drive_sigma_sec = 0.015 * us                           # This determines the actual width of the gaussian\n",
    "drive_duration_sec = drive_sigma_sec * 8                # This is a truncating parameter, because gaussians don't have \n",
    "                                                        # a natural finite length\n",
    "drive_amp = 0.05\n",
    "\n",
    "# Create the base schedule\n",
    "# Start with drive pulse acting on the drive channel\n",
    "freq = Parameter('freq')\n",
    "with pulse.build(backend=backend, default_alignment='sequential', name='Frequency sweep') as sweep_sched:\n",
    "    drive_duration = get_closest_multiple_of_16(pulse.seconds_to_samples(drive_duration_sec))\n",
    "    drive_sigma = pulse.seconds_to_samples(drive_sigma_sec)\n",
    "    drive_chan = pulse.drive_channel(qubit)\n",
    "    pulse.set_frequency(freq, drive_chan)\n",
    "    # Drive pulse samples\n",
    "    pulse.play(pulse.Gaussian(duration=drive_duration,\n",
    "                              sigma=drive_sigma,\n",
    "                              amp=drive_amp,\n",
    "                              name='freq_sweep_excitation_pulse'), drive_chan)"
   ]
  },
  {
   "cell_type": "code",
   "execution_count": 16,
   "id": "f04a5ab9-81ca-4e09-b638-9c6ec4a5bac0",
   "metadata": {},
   "outputs": [],
   "source": [
    "sweep_gate = Gate(\"sweep\", 1, [freq])\n",
    "\n",
    "qc_sweep = QuantumCircuit(1, 1)\n",
    "\n",
    "qc_sweep.append(sweep_gate, [0])\n",
    "qc_sweep.measure(0, 0)\n",
    "qc_sweep.add_calibration(sweep_gate, (0,), sweep_sched, [freq])\n",
    "\n",
    "# Create the frequency settings for the sweep (MUST BE IN HZ)\n",
    "frequencies_Hz = frequencies_GHz*GHz\n",
    "exp_sweep_circs = [qc_sweep.assign_parameters({freq: f}, inplace=False) for f in frequencies_Hz]"
   ]
  },
  {
   "cell_type": "code",
   "execution_count": 17,
   "id": "bfd55ea7-da75-4399-b886-2bc6a6093dc6",
   "metadata": {},
   "outputs": [
    {
     "data": {
      "image/png": "[encoded data removed]",
      "text/plain": [
       "<Figure size 936x237.6 with 1 Axes>"
      ]
     },
     "execution_count": 17,
     "metadata": {},
     "output_type": "execute_result"
    }
   ],
   "source": [
    "from qiskit import schedule\n",
    "\n",
    "sweep_schedule = schedule(exp_sweep_circs[0], backend)\n",
    "sweep_schedule.draw(backend=backend)"
   ]
  },
  {
   "cell_type": "code",
   "execution_count": 18,
   "id": "8d586992-2db0-4600-8871-628b71358c3e",
   "metadata": {},
   "outputs": [],
   "source": [
    "num_shots_per_frequency = 1024\n",
    "\n",
    "job = backend.run(exp_sweep_circs, \n",
    "                  meas_level=1, \n",
    "                  meas_return='avg', \n",
    "                  shots=num_shots_per_frequency)"
   ]
  },
  {
   "cell_type": "code",
   "execution_count": 19,
   "id": "399e473b-535e-4504-aa15-a1da9fec046a",
   "metadata": {},
   "outputs": [
    {
     "name": "stdout",
     "output_type": "stream",
     "text": [
      "Job Status: job has successfully run\n"
     ]
    }
   ],
   "source": [
    "from qiskit.tools.monitor import job_monitor\n",
    "job_monitor(job)"
   ]
  },
  {
   "cell_type": "code",
   "execution_count": 20,
   "id": "71c52309-70ce-4639-980e-9def91e5b38e",
   "metadata": {},
   "outputs": [],
   "source": [
    "frequency_sweep_results = job.result(timeout=120) # timeout parameter set to 120 seconds"
   ]
  },
  {
   "cell_type": "code",
   "execution_count": 21,
   "id": "24627eba-80e1-4ff5-9bf0-2e439ba4c0b8",
   "metadata": {},
   "outputs": [
    {
     "data": {
      "image/png": "[encoded data removed]",
      "text/plain": [
       "<Figure size 432x288 with 1 Axes>"
      ]
     },
     "metadata": {
      "needs_background": "light"
     },
     "output_type": "display_data"
    }
   ],
   "source": [
    "import matplotlib.pyplot as plt\n",
    "\n",
    "sweep_values = []\n",
    "for i in range(len(frequency_sweep_results.results)):\n",
    "    # Get the results from the ith experiment\n",
    "    res = frequency_sweep_results.get_memory(i)*scale_factor\n",
    "    # Get the results for `qubit` from this experiment\n",
    "    sweep_values.append(res[qubit])\n",
    "\n",
    "plt.scatter(frequencies_GHz, np.real(sweep_values), color='black') # plot real part of sweep values\n",
    "plt.xlim([min(frequencies_GHz), max(frequencies_GHz)])\n",
    "plt.xlabel(\"Frequency [GHz]\")\n",
    "plt.ylabel(\"Measured signal [a.u.]\")\n",
    "plt.show()"
   ]
  },
  {
   "cell_type": "code",
   "execution_count": 22,
   "id": "7a042e54-a863-47ce-ab3e-1dc4d282382e",
   "metadata": {},
   "outputs": [],
   "source": [
    "from scipy.optimize import curve_fit\n",
    "\n",
    "def fit_function(x_values, y_values, function, init_params):\n",
    "    fitparams, conv = curve_fit(function, x_values, y_values, init_params)\n",
    "    y_fit = function(x_values, *fitparams)\n",
    "    \n",
    "    return fitparams, y_fit"
   ]
  },
  {
   "cell_type": "code",
   "execution_count": 23,
   "id": "6c4ea7d6-0713-4db2-b9b3-ffd6a0765bc8",
   "metadata": {},
   "outputs": [],
   "source": [
    "fit_params, y_fit = fit_function(frequencies_GHz,\n",
    "                                 np.real(sweep_values), \n",
    "                                 lambda x, A, q_freq, B, C: (A / np.pi) * (B / ((x - q_freq)**2 + B**2)) + C,\n",
    "                                 [1, 4.975, 1, -2] # initial parameters for curve_fit\n",
    "                                )"
   ]
  },
  {
   "cell_type": "code",
   "execution_count": 24,
   "id": "9a99f77b-0bc9-4f87-999d-e9b0d653264c",
   "metadata": {},
   "outputs": [
    {
     "data": {
      "image/png": "[encoded data removed]",
      "text/plain": [
       "<Figure size 432x288 with 1 Axes>"
      ]
     },
     "metadata": {
      "needs_background": "light"
     },
     "output_type": "display_data"
    }
   ],
   "source": [
    "plt.scatter(frequencies_GHz, np.real(sweep_values), color='black')\n",
    "plt.plot(frequencies_GHz, y_fit, color='red')\n",
    "plt.xlim([min(frequencies_GHz), max(frequencies_GHz)])\n",
    "\n",
    "plt.xlabel(\"Frequency [GHz]\")\n",
    "plt.ylabel(\"Measured Signal [a.u.]\")\n",
    "plt.show()"
   ]
  },
  {
   "cell_type": "code",
   "execution_count": 25,
   "id": "4b528b53-de18-495f-b948-75b4ace9aec5",
   "metadata": {},
   "outputs": [
    {
     "name": "stdout",
     "output_type": "stream",
     "text": [
      "We've updated our qubit frequency estimate from 4.96229 GHz to 4.96227 GHz.\n"
     ]
    }
   ],
   "source": [
    "A, rough_qubit_frequency, B, C = fit_params\n",
    "rough_qubit_frequency = rough_qubit_frequency*GHz # make sure qubit freq is in Hz\n",
    "print(f\"We've updated our qubit frequency estimate from \"\n",
    "      f\"{round(backend_defaults.qubit_freq_est[qubit] / GHz, 5)} GHz to {round(rough_qubit_frequency/GHz, 5)} GHz.\")"
   ]
  },
  {
   "cell_type": "code",
   "execution_count": 26,
   "id": "50e2b41b-bd65-4f36-af45-85e1f6c50a88",
   "metadata": {},
   "outputs": [],
   "source": [
    "#Calibrating and using a Pi Pulse"
   ]
  },
  {
   "cell_type": "code",
   "execution_count": 27,
   "id": "7ef38eff-47cf-4ca6-b0ca-440ec3a365dd",
   "metadata": {},
   "outputs": [],
   "source": [
    "#Calibrating  Pulses using a Rabi Experiment"
   ]
  },
  {
   "cell_type": "code",
   "execution_count": 28,
   "id": "572dceec-54fd-457f-99b7-6d35114a604d",
   "metadata": {},
   "outputs": [],
   "source": [
    "# This experiment uses these values from the previous experiment:\n",
    "# `qubit`,and\n",
    "# `rough_qubit_frequency`.\n",
    "\n",
    "# Rabi experiment parameters\n",
    "num_rabi_points = 50\n",
    "\n",
    "# Drive amplitude values to iterate over: 50 amplitudes evenly spaced from 0 to 0.75\n",
    "drive_amp_min = 0\n",
    "drive_amp_max = 0.75\n",
    "drive_amps = np.linspace(drive_amp_min, drive_amp_max, num_rabi_points)"
   ]
  },
  {
   "cell_type": "code",
   "execution_count": 29,
   "id": "a0dce3e7-3347-4348-96e6-1066249cd66a",
   "metadata": {},
   "outputs": [],
   "source": [
    "# Build the Rabi experiments:\n",
    "#    A drive pulse at the qubit frequency, followed by a measurement,\n",
    "#    where we vary the drive amplitude each time.\n",
    "\n",
    "drive_amp = Parameter('drive_amp')\n",
    "with pulse.build(backend=backend, default_alignment='sequential', name='Rabi Experiment') as rabi_sched:\n",
    "    drive_duration = get_closest_multiple_of_16(pulse.seconds_to_samples(drive_duration_sec))\n",
    "    drive_sigma = pulse.seconds_to_samples(drive_sigma_sec)\n",
    "    drive_chan = pulse.drive_channel(qubit)\n",
    "    pulse.set_frequency(rough_qubit_frequency, drive_chan)\n",
    "    pulse.play(pulse.Gaussian(duration=drive_duration,\n",
    "                              amp=drive_amp,\n",
    "                              sigma=drive_sigma,\n",
    "                              name='Rabi Pulse'), drive_chan)"
   ]
  },
  {
   "cell_type": "code",
   "execution_count": 30,
   "id": "320e3149-f34d-4322-a995-9bd396e8784e",
   "metadata": {},
   "outputs": [],
   "source": [
    "rabi_gate = Gate(\"rabi\", 1, [drive_amp])\n",
    "\n",
    "qc_rabi = QuantumCircuit(1, 1)\n",
    "\n",
    "qc_rabi.append(rabi_gate, [0])\n",
    "qc_rabi.measure(0, 0)\n",
    "qc_rabi.add_calibration(rabi_gate, (0,), rabi_sched, [drive_amp])\n",
    "\n",
    "exp_rabi_circs = [qc_rabi.assign_parameters({drive_amp: a}, inplace=False) for a in drive_amps]"
   ]
  },
  {
   "cell_type": "code",
   "execution_count": 31,
   "id": "8dd5fa0c-125d-46d7-98aa-57d45b2957a1",
   "metadata": {},
   "outputs": [
    {
     "data": {
      "image/png": "[encoded data removed]",
      "text/plain": [
       "<Figure size 936x237.6 with 1 Axes>"
      ]
     },
     "execution_count": 31,
     "metadata": {},
     "output_type": "execute_result"
    }
   ],
   "source": [
    "rabi_schedule = schedule(exp_rabi_circs[-1], backend)\n",
    "rabi_schedule.draw(backend=backend)"
   ]
  },
  {
   "cell_type": "code",
   "execution_count": 32,
   "id": "f558d9cc-a39d-4a3b-b977-aa77be0d4fa3",
   "metadata": {},
   "outputs": [
    {
     "name": "stdout",
     "output_type": "stream",
     "text": [
      "Job Status: job has successfully run\n"
     ]
    }
   ],
   "source": [
    "num_shots_per_point = 1024\n",
    "\n",
    "job = backend.run(exp_rabi_circs, \n",
    "                  meas_level=1, \n",
    "                  meas_return='avg', \n",
    "                  shots=num_shots_per_point)\n",
    "\n",
    "job_monitor(job)"
   ]
  },
  {
   "cell_type": "code",
   "execution_count": 33,
   "id": "1ee69999-0a65-4ee3-893a-91b848304f4a",
   "metadata": {},
   "outputs": [],
   "source": [
    "rabi_results = job.result(timeout=120)"
   ]
  },
  {
   "cell_type": "code",
   "execution_count": 34,
   "id": "3ac011ea-c511-41a8-8efd-af390d65b56d",
   "metadata": {},
   "outputs": [],
   "source": [
    "# center data around 0\n",
    "def baseline_remove(values):\n",
    "    return np.array(values) - np.mean(values)"
   ]
  },
  {
   "cell_type": "code",
   "execution_count": 35,
   "id": "fe02ce8f-d440-48f8-a6c9-78c20d29c344",
   "metadata": {},
   "outputs": [
    {
     "data": {
      "image/png": "[encoded data removed]",
      "text/plain": [
       "<Figure size 432x288 with 1 Axes>"
      ]
     },
     "metadata": {
      "needs_background": "light"
     },
     "output_type": "display_data"
    }
   ],
   "source": [
    "rabi_values = []\n",
    "for i in range(num_rabi_points):\n",
    "    # Get the results for `qubit` from the ith experiment\n",
    "    rabi_values.append(rabi_results.get_memory(i)[qubit] * scale_factor)\n",
    "\n",
    "rabi_values = np.real(baseline_remove(rabi_values))\n",
    "\n",
    "plt.xlabel(\"Drive amp [a.u.]\")\n",
    "plt.ylabel(\"Measured signal [a.u.]\")\n",
    "plt.scatter(drive_amps, rabi_values, color='black') # plot real part of Rabi values\n",
    "plt.show()"
   ]
  },
  {
   "cell_type": "code",
   "execution_count": 36,
   "id": "82890545-2aca-46e4-82ca-193d3d722cf6",
   "metadata": {},
   "outputs": [
    {
     "data": {
      "image/png": "[encoded data removed]",
      "text/plain": [
       "<Figure size 432x288 with 1 Axes>"
      ]
     },
     "metadata": {
      "needs_background": "light"
     },
     "output_type": "display_data"
    }
   ],
   "source": [
    "fit_params, y_fit = fit_function(drive_amps,\n",
    "                                 rabi_values, \n",
    "                                 lambda x, A, B, drive_period, phi: (A*np.cos(2*np.pi*x/drive_period - phi) + B),\n",
    "                                 [2, 0, 0.2, 0])\n",
    "\n",
    "plt.scatter(drive_amps, rabi_values, color='black')\n",
    "plt.plot(drive_amps, y_fit, color='red')\n",
    "\n",
    "drive_period = fit_params[2] # get period of rabi oscillation\n",
    "\n",
    "plt.axvline(drive_period/2, color='red', linestyle='--')\n",
    "plt.axvline(drive_period, color='red', linestyle='--')\n",
    "plt.annotate(\"\", xy=(drive_period, 0), xytext=(drive_period/2,0), arrowprops=dict(arrowstyle=\"<->\", color='red'))\n",
    "plt.annotate(\"$\\pi$\", xy=(drive_period/2-0.03, 0.1), color='red')\n",
    "\n",
    "plt.xlabel(\"Drive amp [a.u.]\", fontsize=15)\n",
    "plt.ylabel(\"Measured signal [a.u.]\", fontsize=15)\n",
    "plt.show()"
   ]
  },
  {
   "cell_type": "code",
   "execution_count": 37,
   "id": "fd1afe52-0150-4328-a6f7-218ed5a76601",
   "metadata": {},
   "outputs": [
    {
     "name": "stdout",
     "output_type": "stream",
     "text": [
      "Pi Amplitude = 0.09330966880035005\n"
     ]
    }
   ],
   "source": [
    "pi_amp = abs(drive_period / 2)\n",
    "print(f\"Pi Amplitude = {pi_amp}\")"
   ]
  },
  {
   "cell_type": "code",
   "execution_count": 38,
   "id": "f4cc33d9-ed8f-468c-a582-322fe164490e",
   "metadata": {},
   "outputs": [],
   "source": [
    "#Our Pi pulse!"
   ]
  },
  {
   "cell_type": "code",
   "execution_count": 39,
   "id": "03588f57-5394-4f89-870b-213f456626c0",
   "metadata": {},
   "outputs": [],
   "source": [
    "with pulse.build(backend) as pi_pulse:\n",
    "    drive_duration = get_closest_multiple_of_16(pulse.seconds_to_samples(drive_duration_sec))\n",
    "    drive_sigma = pulse.seconds_to_samples(drive_sigma_sec)\n",
    "    drive_chan = pulse.drive_channel(qubit)\n",
    "    pulse.play(pulse.Gaussian(duration=drive_duration,\n",
    "                              amp=pi_amp,\n",
    "                              sigma=drive_sigma,\n",
    "                              name='pi_pulse'), drive_chan)"
   ]
  },
  {
   "cell_type": "code",
   "execution_count": 40,
   "id": "bf81ffd4-d782-4e8f-801e-ce90961ab18b",
   "metadata": {},
   "outputs": [],
   "source": [
    "#Determining 0 vs 1"
   ]
  },
  {
   "cell_type": "code",
   "execution_count": 41,
   "id": "c809a8cf-37c2-4cd8-9229-deba9ee55a00",
   "metadata": {},
   "outputs": [
    {
     "data": {
      "text/plain": [
       "<qiskit.circuit.instructionset.InstructionSet at 0x7f06109e2850>"
      ]
     },
     "execution_count": 41,
     "metadata": {},
     "output_type": "execute_result"
    }
   ],
   "source": [
    "# Ground state \n",
    "qc_gnd = QuantumCircuit(1, 1)\n",
    "qc_gnd.measure(0, 0)"
   ]
  },
  {
   "cell_type": "code",
   "execution_count": 42,
   "id": "09f116fc-c86c-4b56-a3f1-9deb3a7011c8",
   "metadata": {},
   "outputs": [
    {
     "data": {
      "image/png": "[encoded data removed]",
      "text/plain": [
       "<Figure size 936x118.8 with 1 Axes>"
      ]
     },
     "execution_count": 42,
     "metadata": {},
     "output_type": "execute_result"
    }
   ],
   "source": [
    "gnd_schedule = schedule(qc_gnd, backend)\n",
    "gnd_schedule.draw(backend=backend)"
   ]
  },
  {
   "cell_type": "code",
   "execution_count": 43,
   "id": "ed2a8ab5-2db3-4249-8637-8506d48de9f5",
   "metadata": {},
   "outputs": [],
   "source": [
    "# Excited state\n",
    "with pulse.build(backend=backend, default_alignment='sequential', name='excited state') as exc_schedule:\n",
    "    drive_chan = pulse.drive_channel(qubit)\n",
    "    pulse.set_frequency(rough_qubit_frequency, drive_chan)\n",
    "    pulse.call(pi_pulse)"
   ]
  },
  {
   "cell_type": "code",
   "execution_count": 44,
   "id": "83a4ecbe-063b-4f88-9839-7b2d0a386f5c",
   "metadata": {},
   "outputs": [],
   "source": [
    "qc_exc = QuantumCircuit(1, 1)\n",
    "qc_exc.x(0)\n",
    "qc_exc.measure(0, 0)\n",
    "\n",
    "qc_exc.add_calibration(\"x\", (0,), exc_schedule, [])"
   ]
  },
  {
   "cell_type": "code",
   "execution_count": 45,
   "id": "7709cd84-37ac-408b-b2bf-b205d9aa7ae7",
   "metadata": {},
   "outputs": [
    {
     "data": {
      "image/png": "[encoded data removed]",
      "text/plain": [
       "<Figure size 936x237.6 with 1 Axes>"
      ]
     },
     "execution_count": 45,
     "metadata": {},
     "output_type": "execute_result"
    }
   ],
   "source": [
    "exec_schedule = schedule(qc_exc, backend)\n",
    "exec_schedule.draw(backend=backend)"
   ]
  },
  {
   "cell_type": "code",
   "execution_count": 46,
   "id": "15bc5058-aa04-4845-a7a2-283b9900aa63",
   "metadata": {},
   "outputs": [
    {
     "name": "stdout",
     "output_type": "stream",
     "text": [
      "Job Status: job has successfully run\n"
     ]
    }
   ],
   "source": [
    "# Execution settings\n",
    "num_shots = 1024\n",
    "\n",
    "job = backend.run([qc_gnd, qc_exc], \n",
    "                  meas_level=1, \n",
    "                  meas_return='single', \n",
    "                  shots=num_shots)\n",
    "\n",
    "job_monitor(job)"
   ]
  },
  {
   "cell_type": "code",
   "execution_count": 47,
   "id": "08b93699-6e15-463b-908a-c85a518a023e",
   "metadata": {},
   "outputs": [],
   "source": [
    "gnd_exc_results = job.result(timeout=120)"
   ]
  },
  {
   "cell_type": "code",
   "execution_count": 48,
   "id": "f681868d-fa31-4115-ba8e-45b26034aa07",
   "metadata": {},
   "outputs": [
    {
     "data": {
      "image/png": "[encoded data removed]",
      "text/plain": [
       "<Figure size 432x288 with 1 Axes>"
      ]
     },
     "metadata": {
      "needs_background": "light"
     },
     "output_type": "display_data"
    }
   ],
   "source": [
    "gnd_results = gnd_exc_results.get_memory(0)[:, qubit]*scale_factor\n",
    "exc_results = gnd_exc_results.get_memory(1)[:, qubit]*scale_factor\n",
    "\n",
    "plt.figure()\n",
    "\n",
    "# Plot all the results\n",
    "# All results from the ground state are plotted in blue\n",
    "plt.scatter(np.real(gnd_results), np.imag(gnd_results), \n",
    "                s=5, cmap='viridis', c='blue', alpha=0.5, label='state_0')\n",
    "# All results from the excited state are plotted in red\n",
    "plt.scatter(np.real(exc_results), np.imag(exc_results), \n",
    "                s=5, cmap='viridis', c='red', alpha=0.5, label='state_1')\n",
    "\n",
    "plt.axis('square')\n",
    "\n",
    "# Plot a large dot for the average result of the 0 and 1 states.\n",
    "mean_gnd = np.mean(gnd_results) # takes mean of both real and imaginary parts\n",
    "mean_exc = np.mean(exc_results)\n",
    "plt.scatter(np.real(mean_gnd), np.imag(mean_gnd), \n",
    "            s=200, cmap='viridis', c='black',alpha=1.0, label='state_0_mean')\n",
    "plt.scatter(np.real(mean_exc), np.imag(mean_exc), \n",
    "            s=200, cmap='viridis', c='black',alpha=1.0, label='state_1_mean')\n",
    "\n",
    "plt.ylabel('I [a.u.]', fontsize=15)\n",
    "plt.xlabel('Q [a.u.]', fontsize=15)\n",
    "plt.title(\"0-1 discrimination\", fontsize=15)\n",
    "\n",
    "plt.show()"
   ]
  },
  {
   "cell_type": "code",
   "execution_count": 49,
   "id": "20c5aa1a-4bc6-4ad9-9f05-7a2016e5850a",
   "metadata": {},
   "outputs": [],
   "source": [
    "import math\n",
    "\n",
    "def classify(point: complex):\n",
    "    \"\"\"Classify the given state as |0> or |1>.\"\"\"\n",
    "    def distance(a, b):\n",
    "        return math.sqrt((np.real(a) - np.real(b))**2 + (np.imag(a) - np.imag(b))**2)\n",
    "    return int(distance(point, mean_exc) < distance(point, mean_gnd))"
   ]
  },
  {
   "cell_type": "code",
   "execution_count": 50,
   "id": "daaab25f-2f0b-41e5-9c5c-89752aa09aec",
   "metadata": {},
   "outputs": [],
   "source": [
    "# Measuring T1 using Inversion Recovery"
   ]
  },
  {
   "cell_type": "code",
   "execution_count": 51,
   "id": "c733b889-27e5-4b43-abf2-ba33027a61df",
   "metadata": {},
   "outputs": [],
   "source": [
    "# T1 experiment parameters\n",
    "time_max_sec = 450 * us\n",
    "time_step_sec = 6.5 * us\n",
    "delay_times_sec = np.arange(1 * us, time_max_sec, time_step_sec)\n",
    "\n",
    "# We will use the same `pi_pulse` and qubit frequency that we calibrated and used before"
   ]
  },
  {
   "cell_type": "code",
   "execution_count": 52,
   "id": "379ecda7-4f14-4b72-9cb9-8196b5355085",
   "metadata": {},
   "outputs": [],
   "source": [
    "delay = Parameter('delay')\n",
    "qc_t1 = QuantumCircuit(1, 1)\n",
    "\n",
    "qc_t1.x(0)\n",
    "qc_t1.delay(delay, 0)\n",
    "qc_t1.measure(0, 0)\n",
    "qc_t1.add_calibration(\"x\", (0,), pi_pulse)\n",
    "\n",
    "exp_t1_circs = [qc_t1.assign_parameters({delay: get_dt_from(d)}, inplace=False) for d in delay_times_sec]"
   ]
  },
  {
   "cell_type": "code",
   "execution_count": 53,
   "id": "5c64d2ea-c2c0-460d-875e-eb63d1515946",
   "metadata": {},
   "outputs": [
    {
     "data": {
      "image/png": "[encoded data removed]",
      "text/plain": [
       "<Figure size 936x237.6 with 1 Axes>"
      ]
     },
     "execution_count": 53,
     "metadata": {},
     "output_type": "execute_result"
    }
   ],
   "source": [
    "sched_idx = -1\n",
    "t1_schedule = schedule(exp_t1_circs[sched_idx], backend)\n",
    "t1_schedule.draw(backend=backend)"
   ]
  },
  {
   "cell_type": "code",
   "execution_count": 54,
   "id": "f37b47a9-209e-4456-b8a3-2e151ea555f3",
   "metadata": {},
   "outputs": [
    {
     "name": "stdout",
     "output_type": "stream",
     "text": [
      "Job Status: job has successfully run\n"
     ]
    }
   ],
   "source": [
    "# Execution settings\n",
    "num_shots = 256\n",
    "\n",
    "job = backend.run(exp_t1_circs, \n",
    "                  meas_level=1, \n",
    "                  meas_return='single', \n",
    "                  shots=num_shots)\n",
    "\n",
    "job_monitor(job)"
   ]
  },
  {
   "cell_type": "code",
   "execution_count": 55,
   "id": "0db83d57-b235-48cd-9781-9d585ba1a020",
   "metadata": {},
   "outputs": [],
   "source": [
    "t1_results = job.result(timeout=120)"
   ]
  },
  {
   "cell_type": "code",
   "execution_count": 56,
   "id": "b6d369fc-af74-4e1d-8e62-9b8818a50a3f",
   "metadata": {},
   "outputs": [
    {
     "data": {
      "image/png": "[encoded data removed]",
      "text/plain": [
       "<Figure size 432x288 with 1 Axes>"
      ]
     },
     "metadata": {
      "needs_background": "light"
     },
     "output_type": "display_data"
    }
   ],
   "source": [
    "t1_values = []\n",
    "\n",
    "for i in range(len(delay_times_sec)):\n",
    "    iq_data = t1_results.get_memory(i)[:,qubit] * scale_factor\n",
    "    t1_values.append(sum(map(classify, iq_data)) / num_shots)\n",
    "\n",
    "plt.scatter(delay_times_sec/us, t1_values, color='black') \n",
    "plt.title(\"$T_1$ Experiment\", fontsize=15)\n",
    "plt.xlabel('Delay before measurement [$\\mu$s]', fontsize=15)\n",
    "plt.ylabel('Signal [a.u.]', fontsize=15)\n",
    "plt.show()"
   ]
  },
  {
   "cell_type": "code",
   "execution_count": 57,
   "id": "ed9a582a-0cbf-4075-a95d-45e69eb81ba5",
   "metadata": {},
   "outputs": [
    {
     "data": {
      "image/png": "[encoded data removed]",
      "text/plain": [
       "<Figure size 432x288 with 1 Axes>"
      ]
     },
     "metadata": {
      "needs_background": "light"
     },
     "output_type": "display_data"
    }
   ],
   "source": [
    "# Fit the data\n",
    "fit_params, y_fit = fit_function(delay_times_sec/us, t1_values, \n",
    "            lambda x, A, C, T1: (A * np.exp(-x / T1) + C),\n",
    "            [-3, 3, 100]\n",
    "            )\n",
    "\n",
    "_, _, T1 = fit_params\n",
    "\n",
    "plt.scatter(delay_times_sec/us, t1_values, color='black')\n",
    "plt.plot(delay_times_sec/us, y_fit, color='red', label=f\"T1 = {T1:.2f} us\")\n",
    "plt.xlim(0, np.max(delay_times_sec/us))\n",
    "plt.title(\"$T_1$ Experiment\", fontsize=15)\n",
    "plt.xlabel('Delay before measurement [$\\mu$s]', fontsize=15)\n",
    "plt.ylabel('Signal [a.u.]', fontsize=15)\n",
    "plt.legend()\n",
    "plt.show()"
   ]
  },
  {
   "cell_type": "code",
   "execution_count": 58,
   "id": "5c1f1516-8965-40ac-8aba-0c060870132a",
   "metadata": {},
   "outputs": [],
   "source": [
    "#Determining qubit Coherence"
   ]
  },
  {
   "cell_type": "code",
   "execution_count": 59,
   "id": "57fda703-5be8-4779-9ac7-fb3a3f4d1b7a",
   "metadata": {},
   "outputs": [],
   "source": [
    "#Measuring the qubit Frequency Precisely using a Ramsey Experiment"
   ]
  },
  {
   "cell_type": "code",
   "execution_count": 60,
   "id": "2d84fbd6-6820-4eab-9c93-3c130f7fcff1",
   "metadata": {},
   "outputs": [],
   "source": [
    "# Ramsey experiment parameters\n",
    "time_max_sec = 1.8 * us\n",
    "time_step_sec = 0.025 * us\n",
    "delay_times_sec = np.arange(0.1 * us, time_max_sec, time_step_sec)\n",
    "\n",
    "# Drive parameters\n",
    "# The drive amplitude for pi/2 is simply half the amplitude of the pi pulse\n",
    "drive_amp = pi_amp / 2\n",
    "\n",
    "# x_90 is a concise way to say pi_over_2; i.e., an X rotation of 90 degrees\n",
    "with pulse.build(backend) as x90_pulse:\n",
    "    drive_duration = get_closest_multiple_of_16(pulse.seconds_to_samples(drive_duration_sec))\n",
    "    drive_sigma = pulse.seconds_to_samples(drive_sigma_sec)\n",
    "    drive_chan = pulse.drive_channel(qubit)\n",
    "    pulse.play(pulse.Gaussian(duration=drive_duration,\n",
    "                              amp=drive_amp,\n",
    "                              sigma=drive_sigma,\n",
    "                              name='x90_pulse'), drive_chan)"
   ]
  },
  {
   "cell_type": "code",
   "execution_count": 61,
   "id": "b926ab6b-ebba-4981-ab0f-884ec2ef9345",
   "metadata": {},
   "outputs": [],
   "source": [
    "detuning_MHz = 2 \n",
    "ramsey_frequency = round(rough_qubit_frequency + detuning_MHz * MHz, 6) # need ramsey freq in Hz"
   ]
  },
  {
   "cell_type": "code",
   "execution_count": 62,
   "id": "01037065-28a0-4767-b0c4-af1ce48cae0a",
   "metadata": {},
   "outputs": [],
   "source": [
    "# create schedules for Ramsey experiment \n",
    "delay = Parameter('delay')\n",
    "with pulse.build(backend=backend, default_alignment='sequential', name=\"Ramsey delay Experiment\") as ramsey_schedule:\n",
    "    drive_chan = pulse.drive_channel(qubit)\n",
    "    pulse.set_frequency(ramsey_frequency, drive_chan)\n",
    "    pulse.call(x90_pulse)\n",
    "    pulse.delay(delay, drive_chan)\n",
    "    pulse.call(x90_pulse)"
   ]
  },
  {
   "cell_type": "code",
   "execution_count": 63,
   "id": "338981c5-4b41-4b01-b5b1-5098cd73c76a",
   "metadata": {},
   "outputs": [],
   "source": [
    "ramsey_gate = Gate(\"ramsey\", 1, [delay])\n",
    "\n",
    "qc_ramsey = QuantumCircuit(1, 1)\n",
    "\n",
    "qc_ramsey.append(ramsey_gate, [0])\n",
    "qc_ramsey.measure(0, 0)\n",
    "qc_ramsey.add_calibration(ramsey_gate, (0,), ramsey_schedule, [delay])\n",
    "\n",
    "exp_ramsey_circs = [qc_ramsey.assign_parameters({delay: get_dt_from(d)}, inplace=False) for d in delay_times_sec]"
   ]
  },
  {
   "cell_type": "code",
   "execution_count": 64,
   "id": "d2fc08f6-c4f5-49d4-b758-6ab21f56685a",
   "metadata": {},
   "outputs": [
    {
     "data": {
      "image/png": "[encoded data removed]",
      "text/plain": [
       "<Figure size 936x237.6 with 1 Axes>"
      ]
     },
     "execution_count": 64,
     "metadata": {},
     "output_type": "execute_result"
    }
   ],
   "source": [
    "ramsey_schedule = schedule(exp_ramsey_circs[2], backend)\n",
    "ramsey_schedule.draw(backend=backend)"
   ]
  },
  {
   "cell_type": "code",
   "execution_count": 65,
   "id": "f44af23e-0c18-4b69-bfbd-dcb6b9cd3020",
   "metadata": {},
   "outputs": [
    {
     "name": "stdout",
     "output_type": "stream",
     "text": [
      "Job Status: job has successfully run\n"
     ]
    }
   ],
   "source": [
    "# Execution settings\n",
    "num_shots = 256\n",
    "\n",
    "job = backend.run(exp_ramsey_circs, \n",
    "                  meas_level=1, \n",
    "                  meas_return='single', \n",
    "                  shots=num_shots)\n",
    "\n",
    "job_monitor(job)"
   ]
  },
  {
   "cell_type": "code",
   "execution_count": 66,
   "id": "eac48e11-e5eb-41de-aeaf-c393bc33810a",
   "metadata": {},
   "outputs": [],
   "source": [
    "ramsey_results = job.result(timeout=120)"
   ]
  },
  {
   "cell_type": "code",
   "execution_count": 67,
   "id": "43fc77c6-b521-4616-8f01-a9ef2e180d80",
   "metadata": {},
   "outputs": [
    {
     "data": {
      "image/png": "[encoded data removed]",
      "text/plain": [
       "<Figure size 432x288 with 1 Axes>"
      ]
     },
     "metadata": {
      "needs_background": "light"
     },
     "output_type": "display_data"
    }
   ],
   "source": [
    "ramsey_values = []\n",
    "\n",
    "for i in range(len(delay_times_sec)):\n",
    "    iq_data = ramsey_results.get_memory(i)[:,qubit] * scale_factor\n",
    "    ramsey_values.append(sum(map(classify, iq_data)) / num_shots)\n",
    "    \n",
    "plt.scatter(delay_times_sec/us, np.real(ramsey_values), color='black')\n",
    "plt.xlim(0, np.max(delay_times_sec/us))\n",
    "plt.title(\"Ramsey Experiment\", fontsize=15)\n",
    "plt.xlabel('Delay between X90 pulses [$\\mu$s]', fontsize=15)\n",
    "plt.ylabel('Measured Signal [a.u.]', fontsize=15)\n",
    "plt.show()"
   ]
  },
  {
   "cell_type": "code",
   "execution_count": 68,
   "id": "5799fd28-05ed-4f54-b7d6-9fad86dcd7cb",
   "metadata": {},
   "outputs": [
    {
     "data": {
      "image/png": "[encoded data removed]",
      "text/plain": [
       "<Figure size 432x288 with 1 Axes>"
      ]
     },
     "metadata": {
      "needs_background": "light"
     },
     "output_type": "display_data"
    }
   ],
   "source": [
    "fit_params, y_fit = fit_function(delay_times_sec/us, np.real(ramsey_values),\n",
    "                                 lambda x, A, del_f_MHz, C, B: (\n",
    "                                          A * np.cos(2*np.pi*del_f_MHz*x - C) + B\n",
    "                                         ),\n",
    "                                 [1, 4, 0, 0.3]\n",
    "                                )\n",
    "\n",
    "# Off-resonance component\n",
    "_, del_f_MHz, _, _, = fit_params # freq is MHz since times in us\n",
    "\n",
    "plt.scatter(delay_times_sec/us, np.real(ramsey_values), color='black')\n",
    "plt.plot(delay_times_sec/us, y_fit, color='red', label=f\"df = {del_f_MHz:.2f} MHz\")\n",
    "plt.xlim(0, np.max(delay_times_sec/us))\n",
    "plt.xlabel('Delay between X90 pulses [$\\mu$s]', fontsize=15)\n",
    "plt.ylabel('Measured Signal [a.u.]', fontsize=15)\n",
    "plt.title('Ramsey Experiment', fontsize=15)\n",
    "plt.legend()\n",
    "plt.show()"
   ]
  },
  {
   "cell_type": "code",
   "execution_count": 69,
   "id": "28c643e9-4e05-47da-a050-69e5dacad0ce",
   "metadata": {},
   "outputs": [],
   "source": [
    "# Aquí probamos lo que nos dijo de hacerlo cerca de 4microseg que era donde se prdoudcía la caída"
   ]
  },
  {
   "cell_type": "code",
   "execution_count": 70,
   "id": "0da18b52-046d-4557-9e88-7969728d8779",
   "metadata": {},
   "outputs": [
    {
     "name": "stdout",
     "output_type": "stream",
     "text": [
      "Job Status: job has successfully run\n"
     ]
    },
    {
     "data": {
      "image/png": "[encoded data removed]",
      "text/plain": [
       "<Figure size 432x288 with 1 Axes>"
      ]
     },
     "metadata": {
      "needs_background": "light"
     },
     "output_type": "display_data"
    }
   ],
   "source": [
    "# Ramsey experiment parameters\n",
    "time_max_sec = 0.4 * us\n",
    "time_step_sec = 0.005 * us\n",
    "delay_times_sec = np.arange(0 * us, time_max_sec, time_step_sec)\n",
    "\n",
    "# Drive parameters\n",
    "# The drive amplitude for pi/2 is simply half the amplitude of the pi pulse\n",
    "drive_amp = pi_amp / 2\n",
    "\n",
    "# x_90 is a concise way to say pi_over_2; i.e., an X rotation of 90 degrees\n",
    "with pulse.build(backend) as x90_pulse:\n",
    "    drive_duration = get_closest_multiple_of_16(pulse.seconds_to_samples(drive_duration_sec))\n",
    "    drive_sigma = pulse.seconds_to_samples(drive_sigma_sec)\n",
    "    drive_chan = pulse.drive_channel(qubit)\n",
    "    pulse.play(pulse.Gaussian(duration=drive_duration,\n",
    "                              amp=drive_amp,\n",
    "                              sigma=drive_sigma,\n",
    "                              name='x90_pulse'), drive_chan)\n",
    "\n",
    "##\n",
    "\n",
    "detuning_MHz = 2 \n",
    "ramsey_frequency = round(rough_qubit_frequency + detuning_MHz * MHz, 6) # need ramsey freq in Hz\n",
    "\n",
    "##\n",
    "\n",
    "# create schedules for Ramsey experiment \n",
    "delay = Parameter('delay')\n",
    "with pulse.build(backend=backend, default_alignment='sequential', name=\"Ramsey delay Experiment\") as ramsey_schedule:\n",
    "    drive_chan = pulse.drive_channel(qubit)\n",
    "    pulse.set_frequency(ramsey_frequency, drive_chan)\n",
    "    pulse.call(x90_pulse)\n",
    "    pulse.delay(delay, drive_chan)\n",
    "    pulse.call(x90_pulse)\n",
    "\n",
    "##\n",
    "\n",
    "ramsey_gate = Gate(\"ramsey\", 1, [delay])\n",
    "\n",
    "qc_ramsey = QuantumCircuit(1, 1)\n",
    "\n",
    "qc_ramsey.append(ramsey_gate, [0])\n",
    "qc_ramsey.measure(0, 0)\n",
    "qc_ramsey.add_calibration(ramsey_gate, (0,), ramsey_schedule, [delay])\n",
    "\n",
    "exp_ramsey_circs = [qc_ramsey.assign_parameters({delay: get_dt_from(d)}, inplace=False) for d in delay_times_sec]\n",
    "\n",
    "##\n",
    "\n",
    "ramsey_schedule = schedule(exp_ramsey_circs[2], backend)\n",
    "ramsey_schedule.draw(backend=backend)\n",
    "\n",
    "##\n",
    "\n",
    "# Execution settings\n",
    "num_shots = 256\n",
    "\n",
    "job = backend.run(exp_ramsey_circs, \n",
    "                  meas_level=1, \n",
    "                  meas_return='single', \n",
    "                  shots=num_shots)\n",
    "\n",
    "job_monitor(job)\n",
    "\n",
    "##\n",
    "\n",
    "ramsey_results = job.result(timeout=120)\n",
    "\n",
    "##\n",
    "\n",
    "ramsey_values = []\n",
    "\n",
    "for i in range(len(delay_times_sec)):\n",
    "    iq_data = ramsey_results.get_memory(i)[:,qubit] * scale_factor\n",
    "    ramsey_values.append(sum(map(classify, iq_data)) / num_shots)\n",
    "    \n",
    "plt.scatter(delay_times_sec/us, np.real(ramsey_values), color='black')\n",
    "plt.xlim(0, np.max(delay_times_sec/us))\n",
    "plt.title(\"Ramsey Experiment\", fontsize=15)\n",
    "plt.xlabel('Delay between X90 pulses [$\\mu$s]', fontsize=15)\n",
    "plt.ylabel('Measured Signal [a.u.]', fontsize=15)\n",
    "plt.show()"
   ]
  },
  {
   "cell_type": "code",
   "execution_count": 71,
   "id": "6f0d5e7e-b344-4d14-9ae6-a2671c573457",
   "metadata": {},
   "outputs": [
    {
     "name": "stdout",
     "output_type": "stream",
     "text": [
      "Job Status: job has successfully run\n"
     ]
    },
    {
     "data": {
      "image/png": "[encoded data removed]",
      "text/plain": [
       "<Figure size 432x288 with 1 Axes>"
      ]
     },
     "metadata": {
      "needs_background": "light"
     },
     "output_type": "display_data"
    }
   ],
   "source": [
    "# Ramsey experiment parameters\n",
    "time_max_sec = 0.8 * us\n",
    "time_step_sec = 0.005 * us\n",
    "delay_times_sec = np.arange(0.4 * us, time_max_sec, time_step_sec)\n",
    "\n",
    "# Drive parameters\n",
    "# The drive amplitude for pi/2 is simply half the amplitude of the pi pulse\n",
    "drive_amp = pi_amp / 2\n",
    "\n",
    "# x_90 is a concise way to say pi_over_2; i.e., an X rotation of 90 degrees\n",
    "with pulse.build(backend) as x90_pulse:\n",
    "    drive_duration = get_closest_multiple_of_16(pulse.seconds_to_samples(drive_duration_sec))\n",
    "    drive_sigma = pulse.seconds_to_samples(drive_sigma_sec)\n",
    "    drive_chan = pulse.drive_channel(qubit)\n",
    "    pulse.play(pulse.Gaussian(duration=drive_duration,\n",
    "                              amp=drive_amp,\n",
    "                              sigma=drive_sigma,\n",
    "                              name='x90_pulse'), drive_chan)\n",
    "\n",
    "##\n",
    "\n",
    "detuning_MHz = 2 \n",
    "ramsey_frequency = round(rough_qubit_frequency + detuning_MHz * MHz, 6) # need ramsey freq in Hz\n",
    "\n",
    "##\n",
    "\n",
    "# create schedules for Ramsey experiment \n",
    "delay = Parameter('delay')\n",
    "with pulse.build(backend=backend, default_alignment='sequential', name=\"Ramsey delay Experiment\") as ramsey_schedule:\n",
    "    drive_chan = pulse.drive_channel(qubit)\n",
    "    pulse.set_frequency(ramsey_frequency, drive_chan)\n",
    "    pulse.call(x90_pulse)\n",
    "    pulse.delay(delay, drive_chan)\n",
    "    pulse.call(x90_pulse)\n",
    "\n",
    "##\n",
    "\n",
    "ramsey_gate = Gate(\"ramsey\", 1, [delay])\n",
    "\n",
    "qc_ramsey = QuantumCircuit(1, 1)\n",
    "\n",
    "qc_ramsey.append(ramsey_gate, [0])\n",
    "qc_ramsey.measure(0, 0)\n",
    "qc_ramsey.add_calibration(ramsey_gate, (0,), ramsey_schedule, [delay])\n",
    "\n",
    "exp_ramsey_circs = [qc_ramsey.assign_parameters({delay: get_dt_from(d)}, inplace=False) for d in delay_times_sec]\n",
    "\n",
    "##\n",
    "\n",
    "ramsey_schedule = schedule(exp_ramsey_circs[2], backend)\n",
    "ramsey_schedule.draw(backend=backend)\n",
    "\n",
    "##\n",
    "\n",
    "# Execution settings\n",
    "num_shots = 256\n",
    "\n",
    "job = backend.run(exp_ramsey_circs, \n",
    "                  meas_level=1, \n",
    "                  meas_return='single', \n",
    "                  shots=num_shots)\n",
    "\n",
    "job_monitor(job)\n",
    "\n",
    "##\n",
    "\n",
    "ramsey_results = job.result(timeout=120)\n",
    "\n",
    "##\n",
    "\n",
    "ramsey_values = []\n",
    "\n",
    "for i in range(len(delay_times_sec)):\n",
    "    iq_data = ramsey_results.get_memory(i)[:,qubit] * scale_factor\n",
    "    ramsey_values.append(sum(map(classify, iq_data)) / num_shots)\n",
    "    \n",
    "plt.scatter(delay_times_sec/us, np.real(ramsey_values), color='black')\n",
    "plt.xlim(0, np.max(delay_times_sec/us))\n",
    "plt.title(\"Ramsey Experiment\", fontsize=15)\n",
    "plt.xlabel('Delay between X90 pulses [$\\mu$s]', fontsize=15)\n",
    "plt.ylabel('Measured Signal [a.u.]', fontsize=15)\n",
    "plt.show()"
   ]
  },
  {
   "cell_type": "code",
   "execution_count": null,
   "id": "b29611ff-7d90-4ffa-b0be-3f3e368a89b1",
   "metadata": {},
   "outputs": [
    {
     "name": "stdout",
     "output_type": "stream",
     "text": [
      "Job Status: job is queued (9) "
     ]
    }
   ],
   "source": [
    "# Ramsey experiment parameters\n",
    "time_max_sec = 1.2 * us\n",
    "time_step_sec = 0.005 * us\n",
    "delay_times_sec = np.arange(0.8 * us, time_max_sec, time_step_sec)\n",
    "\n",
    "# Drive parameters\n",
    "# The drive amplitude for pi/2 is simply half the amplitude of the pi pulse\n",
    "drive_amp = pi_amp / 2\n",
    "\n",
    "# x_90 is a concise way to say pi_over_2; i.e., an X rotation of 90 degrees\n",
    "with pulse.build(backend) as x90_pulse:\n",
    "    drive_duration = get_closest_multiple_of_16(pulse.seconds_to_samples(drive_duration_sec))\n",
    "    drive_sigma = pulse.seconds_to_samples(drive_sigma_sec)\n",
    "    drive_chan = pulse.drive_channel(qubit)\n",
    "    pulse.play(pulse.Gaussian(duration=drive_duration,\n",
    "                              amp=drive_amp,\n",
    "                              sigma=drive_sigma,\n",
    "                              name='x90_pulse'), drive_chan)\n",
    "\n",
    "##\n",
    "\n",
    "detuning_MHz = 2 \n",
    "ramsey_frequency = round(rough_qubit_frequency + detuning_MHz * MHz, 6) # need ramsey freq in Hz\n",
    "\n",
    "##\n",
    "\n",
    "# create schedules for Ramsey experiment \n",
    "delay = Parameter('delay')\n",
    "with pulse.build(backend=backend, default_alignment='sequential', name=\"Ramsey delay Experiment\") as ramsey_schedule:\n",
    "    drive_chan = pulse.drive_channel(qubit)\n",
    "    pulse.set_frequency(ramsey_frequency, drive_chan)\n",
    "    pulse.call(x90_pulse)\n",
    "    pulse.delay(delay, drive_chan)\n",
    "    pulse.call(x90_pulse)\n",
    "\n",
    "##\n",
    "\n",
    "ramsey_gate = Gate(\"ramsey\", 1, [delay])\n",
    "\n",
    "qc_ramsey = QuantumCircuit(1, 1)\n",
    "\n",
    "qc_ramsey.append(ramsey_gate, [0])\n",
    "qc_ramsey.measure(0, 0)\n",
    "qc_ramsey.add_calibration(ramsey_gate, (0,), ramsey_schedule, [delay])\n",
    "\n",
    "exp_ramsey_circs = [qc_ramsey.assign_parameters({delay: get_dt_from(d)}, inplace=False) for d in delay_times_sec]\n",
    "\n",
    "##\n",
    "\n",
    "ramsey_schedule = schedule(exp_ramsey_circs[2], backend)\n",
    "ramsey_schedule.draw(backend=backend)\n",
    "\n",
    "##\n",
    "\n",
    "# Execution settings\n",
    "num_shots = 256\n",
    "\n",
    "job = backend.run(exp_ramsey_circs, \n",
    "                  meas_level=1, \n",
    "                  meas_return='single', \n",
    "                  shots=num_shots)\n",
    "\n",
    "job_monitor(job)\n",
    "\n",
    "##\n",
    "\n",
    "ramsey_results = job.result(timeout=120)\n",
    "\n",
    "##\n",
    "\n",
    "ramsey_values = []\n",
    "\n",
    "for i in range(len(delay_times_sec)):\n",
    "    iq_data = ramsey_results.get_memory(i)[:,qubit] * scale_factor\n",
    "    ramsey_values.append(sum(map(classify, iq_data)) / num_shots)\n",
    "    \n",
    "plt.scatter(delay_times_sec/us, np.real(ramsey_values), color='black')\n",
    "plt.xlim(0, np.max(delay_times_sec/us))\n",
    "plt.title(\"Ramsey Experiment\", fontsize=15)\n",
    "plt.xlabel('Delay between X90 pulses [$\\mu$s]', fontsize=15)\n",
    "plt.ylabel('Measured Signal [a.u.]', fontsize=15)\n",
    "plt.show()"
   ]
  },
  {
   "cell_type": "code",
   "execution_count": null,
   "id": "bb088995-a885-4099-b9c0-5d557926b4f5",
   "metadata": {},
   "outputs": [],
   "source": [
    "# Ramsey experiment parameters\n",
    "time_max_sec = 1.6 * us\n",
    "time_step_sec = 0.005 * us\n",
    "delay_times_sec = np.arange(1.2 * us, time_max_sec, time_step_sec)\n",
    "\n",
    "# Drive parameters\n",
    "# The drive amplitude for pi/2 is simply half the amplitude of the pi pulse\n",
    "drive_amp = pi_amp / 2\n",
    "\n",
    "# x_90 is a concise way to say pi_over_2; i.e., an X rotation of 90 degrees\n",
    "with pulse.build(backend) as x90_pulse:\n",
    "    drive_duration = get_closest_multiple_of_16(pulse.seconds_to_samples(drive_duration_sec))\n",
    "    drive_sigma = pulse.seconds_to_samples(drive_sigma_sec)\n",
    "    drive_chan = pulse.drive_channel(qubit)\n",
    "    pulse.play(pulse.Gaussian(duration=drive_duration,\n",
    "                              amp=drive_amp,\n",
    "                              sigma=drive_sigma,\n",
    "                              name='x90_pulse'), drive_chan)\n",
    "\n",
    "##\n",
    "\n",
    "detuning_MHz = 2 \n",
    "ramsey_frequency = round(rough_qubit_frequency + detuning_MHz * MHz, 6) # need ramsey freq in Hz\n",
    "\n",
    "##\n",
    "\n",
    "# create schedules for Ramsey experiment \n",
    "delay = Parameter('delay')\n",
    "with pulse.build(backend=backend, default_alignment='sequential', name=\"Ramsey delay Experiment\") as ramsey_schedule:\n",
    "    drive_chan = pulse.drive_channel(qubit)\n",
    "    pulse.set_frequency(ramsey_frequency, drive_chan)\n",
    "    pulse.call(x90_pulse)\n",
    "    pulse.delay(delay, drive_chan)\n",
    "    pulse.call(x90_pulse)\n",
    "\n",
    "##\n",
    "\n",
    "ramsey_gate = Gate(\"ramsey\", 1, [delay])\n",
    "\n",
    "qc_ramsey = QuantumCircuit(1, 1)\n",
    "\n",
    "qc_ramsey.append(ramsey_gate, [0])\n",
    "qc_ramsey.measure(0, 0)\n",
    "qc_ramsey.add_calibration(ramsey_gate, (0,), ramsey_schedule, [delay])\n",
    "\n",
    "exp_ramsey_circs = [qc_ramsey.assign_parameters({delay: get_dt_from(d)}, inplace=False) for d in delay_times_sec]\n",
    "\n",
    "##\n",
    "\n",
    "ramsey_schedule = schedule(exp_ramsey_circs[2], backend)\n",
    "ramsey_schedule.draw(backend=backend)\n",
    "\n",
    "##\n",
    "\n",
    "# Execution settings\n",
    "num_shots = 256\n",
    "\n",
    "job = backend.run(exp_ramsey_circs, \n",
    "                  meas_level=1, \n",
    "                  meas_return='single', \n",
    "                  shots=num_shots)\n",
    "\n",
    "job_monitor(job)\n",
    "\n",
    "##\n",
    "\n",
    "ramsey_results = job.result(timeout=120)\n",
    "\n",
    "##\n",
    "\n",
    "ramsey_values = []\n",
    "\n",
    "for i in range(len(delay_times_sec)):\n",
    "    iq_data = ramsey_results.get_memory(i)[:,qubit] * scale_factor\n",
    "    ramsey_values.append(sum(map(classify, iq_data)) / num_shots)\n",
    "    \n",
    "plt.scatter(delay_times_sec/us, np.real(ramsey_values), color='black')\n",
    "plt.xlim(0, np.max(delay_times_sec/us))\n",
    "plt.title(\"Ramsey Experiment\", fontsize=15)\n",
    "plt.xlabel('Delay between X90 pulses [$\\mu$s]', fontsize=15)\n",
    "plt.ylabel('Measured Signal [a.u.]', fontsize=15)\n",
    "plt.show()"
   ]
  },
  {
   "cell_type": "code",
   "execution_count": null,
   "id": "e260a9e1-736e-456f-b5f1-85ef89a91d0e",
   "metadata": {},
   "outputs": [],
   "source": [
    "# Ramsey experiment parameters\n",
    "time_max_sec = 2 * us\n",
    "time_step_sec = 0.005 * us\n",
    "delay_times_sec = np.arange(1.6 * us, time_max_sec, time_step_sec)\n",
    "\n",
    "# Drive parameters\n",
    "# The drive amplitude for pi/2 is simply half the amplitude of the pi pulse\n",
    "drive_amp = pi_amp / 2\n",
    "\n",
    "# x_90 is a concise way to say pi_over_2; i.e., an X rotation of 90 degrees\n",
    "with pulse.build(backend) as x90_pulse:\n",
    "    drive_duration = get_closest_multiple_of_16(pulse.seconds_to_samples(drive_duration_sec))\n",
    "    drive_sigma = pulse.seconds_to_samples(drive_sigma_sec)\n",
    "    drive_chan = pulse.drive_channel(qubit)\n",
    "    pulse.play(pulse.Gaussian(duration=drive_duration,\n",
    "                              amp=drive_amp,\n",
    "                              sigma=drive_sigma,\n",
    "                              name='x90_pulse'), drive_chan)\n",
    "\n",
    "##\n",
    "\n",
    "detuning_MHz = 2 \n",
    "ramsey_frequency = round(rough_qubit_frequency + detuning_MHz * MHz, 6) # need ramsey freq in Hz\n",
    "\n",
    "##\n",
    "\n",
    "# create schedules for Ramsey experiment \n",
    "delay = Parameter('delay')\n",
    "with pulse.build(backend=backend, default_alignment='sequential', name=\"Ramsey delay Experiment\") as ramsey_schedule:\n",
    "    drive_chan = pulse.drive_channel(qubit)\n",
    "    pulse.set_frequency(ramsey_frequency, drive_chan)\n",
    "    pulse.call(x90_pulse)\n",
    "    pulse.delay(delay, drive_chan)\n",
    "    pulse.call(x90_pulse)\n",
    "\n",
    "##\n",
    "\n",
    "ramsey_gate = Gate(\"ramsey\", 1, [delay])\n",
    "\n",
    "qc_ramsey = QuantumCircuit(1, 1)\n",
    "\n",
    "qc_ramsey.append(ramsey_gate, [0])\n",
    "qc_ramsey.measure(0, 0)\n",
    "qc_ramsey.add_calibration(ramsey_gate, (0,), ramsey_schedule, [delay])\n",
    "\n",
    "exp_ramsey_circs = [qc_ramsey.assign_parameters({delay: get_dt_from(d)}, inplace=False) for d in delay_times_sec]\n",
    "\n",
    "##\n",
    "\n",
    "ramsey_schedule = schedule(exp_ramsey_circs[2], backend)\n",
    "ramsey_schedule.draw(backend=backend)\n",
    "\n",
    "##\n",
    "\n",
    "# Execution settings\n",
    "num_shots = 256\n",
    "\n",
    "job = backend.run(exp_ramsey_circs, \n",
    "                  meas_level=1, \n",
    "                  meas_return='single', \n",
    "                  shots=num_shots)\n",
    "\n",
    "job_monitor(job)\n",
    "\n",
    "##\n",
    "\n",
    "ramsey_results = job.result(timeout=120)\n",
    "\n",
    "##\n",
    "\n",
    "ramsey_values = []\n",
    "\n",
    "for i in range(len(delay_times_sec)):\n",
    "    iq_data = ramsey_results.get_memory(i)[:,qubit] * scale_factor\n",
    "    ramsey_values.append(sum(map(classify, iq_data)) / num_shots)\n",
    "    \n",
    "plt.scatter(delay_times_sec/us, np.real(ramsey_values), color='black')\n",
    "plt.xlim(0, np.max(delay_times_sec/us))\n",
    "plt.title(\"Ramsey Experiment\", fontsize=15)\n",
    "plt.xlabel('Delay between X90 pulses [$\\mu$s]', fontsize=15)\n",
    "plt.ylabel('Measured Signal [a.u.]', fontsize=15)\n",
    "plt.show()"
   ]
  },
  {
   "cell_type": "code",
   "execution_count": null,
   "id": "bd2863f4-a873-4848-bc3e-fef481350548",
   "metadata": {},
   "outputs": [],
   "source": [
    "# Ramsey experiment parameters\n",
    "time_max_sec = 2.4 * us\n",
    "time_step_sec = 0.005 * us\n",
    "delay_times_sec = np.arange(2 * us, time_max_sec, time_step_sec)\n",
    "\n",
    "# Drive parameters\n",
    "# The drive amplitude for pi/2 is simply half the amplitude of the pi pulse\n",
    "drive_amp = pi_amp / 2\n",
    "\n",
    "# x_90 is a concise way to say pi_over_2; i.e., an X rotation of 90 degrees\n",
    "with pulse.build(backend) as x90_pulse:\n",
    "    drive_duration = get_closest_multiple_of_16(pulse.seconds_to_samples(drive_duration_sec))\n",
    "    drive_sigma = pulse.seconds_to_samples(drive_sigma_sec)\n",
    "    drive_chan = pulse.drive_channel(qubit)\n",
    "    pulse.play(pulse.Gaussian(duration=drive_duration,\n",
    "                              amp=drive_amp,\n",
    "                              sigma=drive_sigma,\n",
    "                              name='x90_pulse'), drive_chan)\n",
    "\n",
    "##\n",
    "\n",
    "detuning_MHz = 2 \n",
    "ramsey_frequency = round(rough_qubit_frequency + detuning_MHz * MHz, 6) # need ramsey freq in Hz\n",
    "\n",
    "##\n",
    "\n",
    "# create schedules for Ramsey experiment \n",
    "delay = Parameter('delay')\n",
    "with pulse.build(backend=backend, default_alignment='sequential', name=\"Ramsey delay Experiment\") as ramsey_schedule:\n",
    "    drive_chan = pulse.drive_channel(qubit)\n",
    "    pulse.set_frequency(ramsey_frequency, drive_chan)\n",
    "    pulse.call(x90_pulse)\n",
    "    pulse.delay(delay, drive_chan)\n",
    "    pulse.call(x90_pulse)\n",
    "\n",
    "##\n",
    "\n",
    "ramsey_gate = Gate(\"ramsey\", 1, [delay])\n",
    "\n",
    "qc_ramsey = QuantumCircuit(1, 1)\n",
    "\n",
    "qc_ramsey.append(ramsey_gate, [0])\n",
    "qc_ramsey.measure(0, 0)\n",
    "qc_ramsey.add_calibration(ramsey_gate, (0,), ramsey_schedule, [delay])\n",
    "\n",
    "exp_ramsey_circs = [qc_ramsey.assign_parameters({delay: get_dt_from(d)}, inplace=False) for d in delay_times_sec]\n",
    "\n",
    "##\n",
    "\n",
    "ramsey_schedule = schedule(exp_ramsey_circs[2], backend)\n",
    "ramsey_schedule.draw(backend=backend)\n",
    "\n",
    "##\n",
    "\n",
    "# Execution settings\n",
    "num_shots = 256\n",
    "\n",
    "job = backend.run(exp_ramsey_circs, \n",
    "                  meas_level=1, \n",
    "                  meas_return='single', \n",
    "                  shots=num_shots)\n",
    "\n",
    "job_monitor(job)\n",
    "\n",
    "##\n",
    "\n",
    "ramsey_results = job.result(timeout=120)\n",
    "\n",
    "##\n",
    "\n",
    "ramsey_values = []\n",
    "\n",
    "for i in range(len(delay_times_sec)):\n",
    "    iq_data = ramsey_results.get_memory(i)[:,qubit] * scale_factor\n",
    "    ramsey_values.append(sum(map(classify, iq_data)) / num_shots)\n",
    "    \n",
    "plt.scatter(delay_times_sec/us, np.real(ramsey_values), color='black')\n",
    "plt.xlim(0, np.max(delay_times_sec/us))\n",
    "plt.title(\"Ramsey Experiment\", fontsize=15)\n",
    "plt.xlabel('Delay between X90 pulses [$\\mu$s]', fontsize=15)\n",
    "plt.ylabel('Measured Signal [a.u.]', fontsize=15)\n",
    "plt.show()"
   ]
  },
  {
   "cell_type": "code",
   "execution_count": null,
   "id": "64091db6-3229-4fee-867a-c4abb7ff9fcf",
   "metadata": {},
   "outputs": [],
   "source": [
    "# Ramsey experiment parameters\n",
    "time_max_sec = 2.8 * us\n",
    "time_step_sec = 0.005 * us\n",
    "delay_times_sec = np.arange(2.4 * us, time_max_sec, time_step_sec)\n",
    "\n",
    "# Drive parameters\n",
    "# The drive amplitude for pi/2 is simply half the amplitude of the pi pulse\n",
    "drive_amp = pi_amp / 2\n",
    "\n",
    "# x_90 is a concise way to say pi_over_2; i.e., an X rotation of 90 degrees\n",
    "with pulse.build(backend) as x90_pulse:\n",
    "    drive_duration = get_closest_multiple_of_16(pulse.seconds_to_samples(drive_duration_sec))\n",
    "    drive_sigma = pulse.seconds_to_samples(drive_sigma_sec)\n",
    "    drive_chan = pulse.drive_channel(qubit)\n",
    "    pulse.play(pulse.Gaussian(duration=drive_duration,\n",
    "                              amp=drive_amp,\n",
    "                              sigma=drive_sigma,\n",
    "                              name='x90_pulse'), drive_chan)\n",
    "\n",
    "##\n",
    "\n",
    "detuning_MHz = 2 \n",
    "ramsey_frequency = round(rough_qubit_frequency + detuning_MHz * MHz, 6) # need ramsey freq in Hz\n",
    "\n",
    "##\n",
    "\n",
    "# create schedules for Ramsey experiment \n",
    "delay = Parameter('delay')\n",
    "with pulse.build(backend=backend, default_alignment='sequential', name=\"Ramsey delay Experiment\") as ramsey_schedule:\n",
    "    drive_chan = pulse.drive_channel(qubit)\n",
    "    pulse.set_frequency(ramsey_frequency, drive_chan)\n",
    "    pulse.call(x90_pulse)\n",
    "    pulse.delay(delay, drive_chan)\n",
    "    pulse.call(x90_pulse)\n",
    "\n",
    "##\n",
    "\n",
    "ramsey_gate = Gate(\"ramsey\", 1, [delay])\n",
    "\n",
    "qc_ramsey = QuantumCircuit(1, 1)\n",
    "\n",
    "qc_ramsey.append(ramsey_gate, [0])\n",
    "qc_ramsey.measure(0, 0)\n",
    "qc_ramsey.add_calibration(ramsey_gate, (0,), ramsey_schedule, [delay])\n",
    "\n",
    "exp_ramsey_circs = [qc_ramsey.assign_parameters({delay: get_dt_from(d)}, inplace=False) for d in delay_times_sec]\n",
    "\n",
    "##\n",
    "\n",
    "ramsey_schedule = schedule(exp_ramsey_circs[2], backend)\n",
    "ramsey_schedule.draw(backend=backend)\n",
    "\n",
    "##\n",
    "\n",
    "# Execution settings\n",
    "num_shots = 256\n",
    "\n",
    "job = backend.run(exp_ramsey_circs, \n",
    "                  meas_level=1, \n",
    "                  meas_return='single', \n",
    "                  shots=num_shots)\n",
    "\n",
    "job_monitor(job)\n",
    "\n",
    "##\n",
    "\n",
    "ramsey_results = job.result(timeout=120)\n",
    "\n",
    "##\n",
    "\n",
    "ramsey_values = []\n",
    "\n",
    "for i in range(len(delay_times_sec)):\n",
    "    iq_data = ramsey_results.get_memory(i)[:,qubit] * scale_factor\n",
    "    ramsey_values.append(sum(map(classify, iq_data)) / num_shots)\n",
    "    \n",
    "plt.scatter(delay_times_sec/us, np.real(ramsey_values), color='black')\n",
    "plt.xlim(0, np.max(delay_times_sec/us))\n",
    "plt.title(\"Ramsey Experiment\", fontsize=15)\n",
    "plt.xlabel('Delay between X90 pulses [$\\mu$s]', fontsize=15)\n",
    "plt.ylabel('Measured Signal [a.u.]', fontsize=15)\n",
    "plt.show()"
   ]
  },
  {
   "cell_type": "code",
   "execution_count": null,
   "id": "b11ffab5-b55a-4dd5-9f62-df4e898a4996",
   "metadata": {},
   "outputs": [],
   "source": [
    "# Ramsey experiment parameters\n",
    "time_max_sec = 3.2 * us\n",
    "time_step_sec = 0.005 * us\n",
    "delay_times_sec = np.arange(2.8 * us, time_max_sec, time_step_sec)\n",
    "\n",
    "# Drive parameters\n",
    "# The drive amplitude for pi/2 is simply half the amplitude of the pi pulse\n",
    "drive_amp = pi_amp / 2\n",
    "\n",
    "# x_90 is a concise way to say pi_over_2; i.e., an X rotation of 90 degrees\n",
    "with pulse.build(backend) as x90_pulse:\n",
    "    drive_duration = get_closest_multiple_of_16(pulse.seconds_to_samples(drive_duration_sec))\n",
    "    drive_sigma = pulse.seconds_to_samples(drive_sigma_sec)\n",
    "    drive_chan = pulse.drive_channel(qubit)\n",
    "    pulse.play(pulse.Gaussian(duration=drive_duration,\n",
    "                              amp=drive_amp,\n",
    "                              sigma=drive_sigma,\n",
    "                              name='x90_pulse'), drive_chan)\n",
    "\n",
    "##\n",
    "\n",
    "detuning_MHz = 2 \n",
    "ramsey_frequency = round(rough_qubit_frequency + detuning_MHz * MHz, 6) # need ramsey freq in Hz\n",
    "\n",
    "##\n",
    "\n",
    "# create schedules for Ramsey experiment \n",
    "delay = Parameter('delay')\n",
    "with pulse.build(backend=backend, default_alignment='sequential', name=\"Ramsey delay Experiment\") as ramsey_schedule:\n",
    "    drive_chan = pulse.drive_channel(qubit)\n",
    "    pulse.set_frequency(ramsey_frequency, drive_chan)\n",
    "    pulse.call(x90_pulse)\n",
    "    pulse.delay(delay, drive_chan)\n",
    "    pulse.call(x90_pulse)\n",
    "\n",
    "##\n",
    "\n",
    "ramsey_gate = Gate(\"ramsey\", 1, [delay])\n",
    "\n",
    "qc_ramsey = QuantumCircuit(1, 1)\n",
    "\n",
    "qc_ramsey.append(ramsey_gate, [0])\n",
    "qc_ramsey.measure(0, 0)\n",
    "qc_ramsey.add_calibration(ramsey_gate, (0,), ramsey_schedule, [delay])\n",
    "\n",
    "exp_ramsey_circs = [qc_ramsey.assign_parameters({delay: get_dt_from(d)}, inplace=False) for d in delay_times_sec]\n",
    "\n",
    "##\n",
    "\n",
    "ramsey_schedule = schedule(exp_ramsey_circs[2], backend)\n",
    "ramsey_schedule.draw(backend=backend)\n",
    "\n",
    "##\n",
    "\n",
    "# Execution settings\n",
    "num_shots = 256\n",
    "\n",
    "job = backend.run(exp_ramsey_circs, \n",
    "                  meas_level=1, \n",
    "                  meas_return='single', \n",
    "                  shots=num_shots)\n",
    "\n",
    "job_monitor(job)\n",
    "\n",
    "##\n",
    "\n",
    "ramsey_results = job.result(timeout=120)\n",
    "\n",
    "##\n",
    "\n",
    "ramsey_values = []\n",
    "\n",
    "for i in range(len(delay_times_sec)):\n",
    "    iq_data = ramsey_results.get_memory(i)[:,qubit] * scale_factor\n",
    "    ramsey_values.append(sum(map(classify, iq_data)) / num_shots)\n",
    "    \n",
    "plt.scatter(delay_times_sec/us, np.real(ramsey_values), color='black')\n",
    "plt.xlim(0, np.max(delay_times_sec/us))\n",
    "plt.title(\"Ramsey Experiment\", fontsize=15)\n",
    "plt.xlabel('Delay between X90 pulses [$\\mu$s]', fontsize=15)\n",
    "plt.ylabel('Measured Signal [a.u.]', fontsize=15)\n",
    "plt.show()"
   ]
  },
  {
   "cell_type": "code",
   "execution_count": null,
   "id": "7d9f20e2-e08d-4892-a62a-6934f9f00090",
   "metadata": {},
   "outputs": [],
   "source": [
    "# Ramsey experiment parameters\n",
    "time_max_sec = 3.6 * us\n",
    "time_step_sec = 0.005 * us\n",
    "delay_times_sec = np.arange(3.2 * us, time_max_sec, time_step_sec)\n",
    "\n",
    "# Drive parameters\n",
    "# The drive amplitude for pi/2 is simply half the amplitude of the pi pulse\n",
    "drive_amp = pi_amp / 2\n",
    "\n",
    "# x_90 is a concise way to say pi_over_2; i.e., an X rotation of 90 degrees\n",
    "with pulse.build(backend) as x90_pulse:\n",
    "    drive_duration = get_closest_multiple_of_16(pulse.seconds_to_samples(drive_duration_sec))\n",
    "    drive_sigma = pulse.seconds_to_samples(drive_sigma_sec)\n",
    "    drive_chan = pulse.drive_channel(qubit)\n",
    "    pulse.play(pulse.Gaussian(duration=drive_duration,\n",
    "                              amp=drive_amp,\n",
    "                              sigma=drive_sigma,\n",
    "                              name='x90_pulse'), drive_chan)\n",
    "\n",
    "##\n",
    "\n",
    "detuning_MHz = 2 \n",
    "ramsey_frequency = round(rough_qubit_frequency + detuning_MHz * MHz, 6) # need ramsey freq in Hz\n",
    "\n",
    "##\n",
    "\n",
    "# create schedules for Ramsey experiment \n",
    "delay = Parameter('delay')\n",
    "with pulse.build(backend=backend, default_alignment='sequential', name=\"Ramsey delay Experiment\") as ramsey_schedule:\n",
    "    drive_chan = pulse.drive_channel(qubit)\n",
    "    pulse.set_frequency(ramsey_frequency, drive_chan)\n",
    "    pulse.call(x90_pulse)\n",
    "    pulse.delay(delay, drive_chan)\n",
    "    pulse.call(x90_pulse)\n",
    "\n",
    "##\n",
    "\n",
    "ramsey_gate = Gate(\"ramsey\", 1, [delay])\n",
    "\n",
    "qc_ramsey = QuantumCircuit(1, 1)\n",
    "\n",
    "qc_ramsey.append(ramsey_gate, [0])\n",
    "qc_ramsey.measure(0, 0)\n",
    "qc_ramsey.add_calibration(ramsey_gate, (0,), ramsey_schedule, [delay])\n",
    "\n",
    "exp_ramsey_circs = [qc_ramsey.assign_parameters({delay: get_dt_from(d)}, inplace=False) for d in delay_times_sec]\n",
    "\n",
    "##\n",
    "\n",
    "ramsey_schedule = schedule(exp_ramsey_circs[2], backend)\n",
    "ramsey_schedule.draw(backend=backend)\n",
    "\n",
    "##\n",
    "\n",
    "# Execution settings\n",
    "num_shots = 256\n",
    "\n",
    "job = backend.run(exp_ramsey_circs, \n",
    "                  meas_level=1, \n",
    "                  meas_return='single', \n",
    "                  shots=num_shots)\n",
    "\n",
    "job_monitor(job)\n",
    "\n",
    "##\n",
    "\n",
    "ramsey_results = job.result(timeout=120)\n",
    "\n",
    "##\n",
    "\n",
    "ramsey_values = []\n",
    "\n",
    "for i in range(len(delay_times_sec)):\n",
    "    iq_data = ramsey_results.get_memory(i)[:,qubit] * scale_factor\n",
    "    ramsey_values.append(sum(map(classify, iq_data)) / num_shots)\n",
    "    \n",
    "plt.scatter(delay_times_sec/us, np.real(ramsey_values), color='black')\n",
    "plt.xlim(0, np.max(delay_times_sec/us))\n",
    "plt.title(\"Ramsey Experiment\", fontsize=15)\n",
    "plt.xlabel('Delay between X90 pulses [$\\mu$s]', fontsize=15)\n",
    "plt.ylabel('Measured Signal [a.u.]', fontsize=15)\n",
    "plt.show()"
   ]
  },
  {
   "cell_type": "code",
   "execution_count": null,
   "id": "e861d44d-e4c6-4b55-9fd0-dea22c704668",
   "metadata": {},
   "outputs": [],
   "source": [
    "# Ramsey experiment parameters\n",
    "time_max_sec = 4 * us\n",
    "time_step_sec = 0.005 * us\n",
    "delay_times_sec = np.arange(3.6 * us, time_max_sec, time_step_sec)\n",
    "\n",
    "# Drive parameters\n",
    "# The drive amplitude for pi/2 is simply half the amplitude of the pi pulse\n",
    "drive_amp = pi_amp / 2\n",
    "\n",
    "# x_90 is a concise way to say pi_over_2; i.e., an X rotation of 90 degrees\n",
    "with pulse.build(backend) as x90_pulse:\n",
    "    drive_duration = get_closest_multiple_of_16(pulse.seconds_to_samples(drive_duration_sec))\n",
    "    drive_sigma = pulse.seconds_to_samples(drive_sigma_sec)\n",
    "    drive_chan = pulse.drive_channel(qubit)\n",
    "    pulse.play(pulse.Gaussian(duration=drive_duration,\n",
    "                              amp=drive_amp,\n",
    "                              sigma=drive_sigma,\n",
    "                              name='x90_pulse'), drive_chan)\n",
    "\n",
    "##\n",
    "\n",
    "detuning_MHz = 2 \n",
    "ramsey_frequency = round(rough_qubit_frequency + detuning_MHz * MHz, 6) # need ramsey freq in Hz\n",
    "\n",
    "##\n",
    "\n",
    "# create schedules for Ramsey experiment \n",
    "delay = Parameter('delay')\n",
    "with pulse.build(backend=backend, default_alignment='sequential', name=\"Ramsey delay Experiment\") as ramsey_schedule:\n",
    "    drive_chan = pulse.drive_channel(qubit)\n",
    "    pulse.set_frequency(ramsey_frequency, drive_chan)\n",
    "    pulse.call(x90_pulse)\n",
    "    pulse.delay(delay, drive_chan)\n",
    "    pulse.call(x90_pulse)\n",
    "\n",
    "##\n",
    "\n",
    "ramsey_gate = Gate(\"ramsey\", 1, [delay])\n",
    "\n",
    "qc_ramsey = QuantumCircuit(1, 1)\n",
    "\n",
    "qc_ramsey.append(ramsey_gate, [0])\n",
    "qc_ramsey.measure(0, 0)\n",
    "qc_ramsey.add_calibration(ramsey_gate, (0,), ramsey_schedule, [delay])\n",
    "\n",
    "exp_ramsey_circs = [qc_ramsey.assign_parameters({delay: get_dt_from(d)}, inplace=False) for d in delay_times_sec]\n",
    "\n",
    "##\n",
    "\n",
    "ramsey_schedule = schedule(exp_ramsey_circs[2], backend)\n",
    "ramsey_schedule.draw(backend=backend)\n",
    "\n",
    "##\n",
    "\n",
    "# Execution settings\n",
    "num_shots = 256\n",
    "\n",
    "job = backend.run(exp_ramsey_circs, \n",
    "                  meas_level=1, \n",
    "                  meas_return='single', \n",
    "                  shots=num_shots)\n",
    "\n",
    "job_monitor(job)\n",
    "\n",
    "##\n",
    "\n",
    "ramsey_results = job.result(timeout=120)\n",
    "\n",
    "##\n",
    "\n",
    "ramsey_values = []\n",
    "\n",
    "for i in range(len(delay_times_sec)):\n",
    "    iq_data = ramsey_results.get_memory(i)[:,qubit] * scale_factor\n",
    "    ramsey_values.append(sum(map(classify, iq_data)) / num_shots)\n",
    "    \n",
    "plt.scatter(delay_times_sec/us, np.real(ramsey_values), color='black')\n",
    "plt.xlim(0, np.max(delay_times_sec/us))\n",
    "plt.title(\"Ramsey Experiment\", fontsize=15)\n",
    "plt.xlabel('Delay between X90 pulses [$\\mu$s]', fontsize=15)\n",
    "plt.ylabel('Measured Signal [a.u.]', fontsize=15)\n",
    "plt.show()"
   ]
  },
  {
   "cell_type": "code",
   "execution_count": null,
   "id": "f6f0a035-e7d9-4950-b6b0-5ec6ab90e5d0",
   "metadata": {},
   "outputs": [],
   "source": [
    "# Ramsey experiment parameters\n",
    "time_max_sec = 4.4 * us\n",
    "time_step_sec = 0.005 * us\n",
    "delay_times_sec = np.arange(4 * us, time_max_sec, time_step_sec)\n",
    "\n",
    "# Drive parameters\n",
    "# The drive amplitude for pi/2 is simply half the amplitude of the pi pulse\n",
    "drive_amp = pi_amp / 2\n",
    "\n",
    "# x_90 is a concise way to say pi_over_2; i.e., an X rotation of 90 degrees\n",
    "with pulse.build(backend) as x90_pulse:\n",
    "    drive_duration = get_closest_multiple_of_16(pulse.seconds_to_samples(drive_duration_sec))\n",
    "    drive_sigma = pulse.seconds_to_samples(drive_sigma_sec)\n",
    "    drive_chan = pulse.drive_channel(qubit)\n",
    "    pulse.play(pulse.Gaussian(duration=drive_duration,\n",
    "                              amp=drive_amp,\n",
    "                              sigma=drive_sigma,\n",
    "                              name='x90_pulse'), drive_chan)\n",
    "\n",
    "##\n",
    "\n",
    "detuning_MHz = 2 \n",
    "ramsey_frequency = round(rough_qubit_frequency + detuning_MHz * MHz, 6) # need ramsey freq in Hz\n",
    "\n",
    "##\n",
    "\n",
    "# create schedules for Ramsey experiment \n",
    "delay = Parameter('delay')\n",
    "with pulse.build(backend=backend, default_alignment='sequential', name=\"Ramsey delay Experiment\") as ramsey_schedule:\n",
    "    drive_chan = pulse.drive_channel(qubit)\n",
    "    pulse.set_frequency(ramsey_frequency, drive_chan)\n",
    "    pulse.call(x90_pulse)\n",
    "    pulse.delay(delay, drive_chan)\n",
    "    pulse.call(x90_pulse)\n",
    "\n",
    "##\n",
    "\n",
    "ramsey_gate = Gate(\"ramsey\", 1, [delay])\n",
    "\n",
    "qc_ramsey = QuantumCircuit(1, 1)\n",
    "\n",
    "qc_ramsey.append(ramsey_gate, [0])\n",
    "qc_ramsey.measure(0, 0)\n",
    "qc_ramsey.add_calibration(ramsey_gate, (0,), ramsey_schedule, [delay])\n",
    "\n",
    "exp_ramsey_circs = [qc_ramsey.assign_parameters({delay: get_dt_from(d)}, inplace=False) for d in delay_times_sec]\n",
    "\n",
    "##\n",
    "\n",
    "ramsey_schedule = schedule(exp_ramsey_circs[2], backend)\n",
    "ramsey_schedule.draw(backend=backend)\n",
    "\n",
    "##\n",
    "\n",
    "# Execution settings\n",
    "num_shots = 256\n",
    "\n",
    "job = backend.run(exp_ramsey_circs, \n",
    "                  meas_level=1, \n",
    "                  meas_return='single', \n",
    "                  shots=num_shots)\n",
    "\n",
    "job_monitor(job)\n",
    "\n",
    "##\n",
    "\n",
    "ramsey_results = job.result(timeout=120)\n",
    "\n",
    "##\n",
    "\n",
    "ramsey_values = []\n",
    "\n",
    "for i in range(len(delay_times_sec)):\n",
    "    iq_data = ramsey_results.get_memory(i)[:,qubit] * scale_factor\n",
    "    ramsey_values.append(sum(map(classify, iq_data)) / num_shots)\n",
    "    \n",
    "plt.scatter(delay_times_sec/us, np.real(ramsey_values), color='black')\n",
    "plt.xlim(0, np.max(delay_times_sec/us))\n",
    "plt.title(\"Ramsey Experiment\", fontsize=15)\n",
    "plt.xlabel('Delay between X90 pulses [$\\mu$s]', fontsize=15)\n",
    "plt.ylabel('Measured Signal [a.u.]', fontsize=15)\n",
    "plt.show()"
   ]
  },
  {
   "cell_type": "code",
   "execution_count": null,
   "id": "0c75969f-659b-4cf9-a7a3-bfc71efcfba0",
   "metadata": {},
   "outputs": [],
   "source": [
    "# Ramsey experiment parameters\n",
    "time_max_sec = 4.8 * us\n",
    "time_step_sec = 0.005 * us\n",
    "delay_times_sec = np.arange(4.4 * us, time_max_sec, time_step_sec)\n",
    "\n",
    "# Drive parameters\n",
    "# The drive amplitude for pi/2 is simply half the amplitude of the pi pulse\n",
    "drive_amp = pi_amp / 2\n",
    "\n",
    "# x_90 is a concise way to say pi_over_2; i.e., an X rotation of 90 degrees\n",
    "with pulse.build(backend) as x90_pulse:\n",
    "    drive_duration = get_closest_multiple_of_16(pulse.seconds_to_samples(drive_duration_sec))\n",
    "    drive_sigma = pulse.seconds_to_samples(drive_sigma_sec)\n",
    "    drive_chan = pulse.drive_channel(qubit)\n",
    "    pulse.play(pulse.Gaussian(duration=drive_duration,\n",
    "                              amp=drive_amp,\n",
    "                              sigma=drive_sigma,\n",
    "                              name='x90_pulse'), drive_chan)\n",
    "\n",
    "##\n",
    "\n",
    "detuning_MHz = 2 \n",
    "ramsey_frequency = round(rough_qubit_frequency + detuning_MHz * MHz, 6) # need ramsey freq in Hz\n",
    "\n",
    "##\n",
    "\n",
    "# create schedules for Ramsey experiment \n",
    "delay = Parameter('delay')\n",
    "with pulse.build(backend=backend, default_alignment='sequential', name=\"Ramsey delay Experiment\") as ramsey_schedule:\n",
    "    drive_chan = pulse.drive_channel(qubit)\n",
    "    pulse.set_frequency(ramsey_frequency, drive_chan)\n",
    "    pulse.call(x90_pulse)\n",
    "    pulse.delay(delay, drive_chan)\n",
    "    pulse.call(x90_pulse)\n",
    "\n",
    "##\n",
    "\n",
    "ramsey_gate = Gate(\"ramsey\", 1, [delay])\n",
    "\n",
    "qc_ramsey = QuantumCircuit(1, 1)\n",
    "\n",
    "qc_ramsey.append(ramsey_gate, [0])\n",
    "qc_ramsey.measure(0, 0)\n",
    "qc_ramsey.add_calibration(ramsey_gate, (0,), ramsey_schedule, [delay])\n",
    "\n",
    "exp_ramsey_circs = [qc_ramsey.assign_parameters({delay: get_dt_from(d)}, inplace=False) for d in delay_times_sec]\n",
    "\n",
    "##\n",
    "\n",
    "ramsey_schedule = schedule(exp_ramsey_circs[2], backend)\n",
    "ramsey_schedule.draw(backend=backend)\n",
    "\n",
    "##\n",
    "\n",
    "# Execution settings\n",
    "num_shots = 256\n",
    "\n",
    "job = backend.run(exp_ramsey_circs, \n",
    "                  meas_level=1, \n",
    "                  meas_return='single', \n",
    "                  shots=num_shots)\n",
    "\n",
    "job_monitor(job)\n",
    "\n",
    "##\n",
    "\n",
    "ramsey_results = job.result(timeout=120)\n",
    "\n",
    "##\n",
    "\n",
    "ramsey_values = []\n",
    "\n",
    "for i in range(len(delay_times_sec)):\n",
    "    iq_data = ramsey_results.get_memory(i)[:,qubit] * scale_factor\n",
    "    ramsey_values.append(sum(map(classify, iq_data)) / num_shots)\n",
    "    \n",
    "plt.scatter(delay_times_sec/us, np.real(ramsey_values), color='black')\n",
    "plt.xlim(0, np.max(delay_times_sec/us))\n",
    "plt.title(\"Ramsey Experiment\", fontsize=15)\n",
    "plt.xlabel('Delay between X90 pulses [$\\mu$s]', fontsize=15)\n",
    "plt.ylabel('Measured Signal [a.u.]', fontsize=15)\n",
    "plt.show()"
   ]
  },
  {
   "cell_type": "code",
   "execution_count": null,
   "id": "2eea29e1-6d40-4333-a832-3bd785c9a6a3",
   "metadata": {},
   "outputs": [],
   "source": [
    "# Ramsey experiment parameters\n",
    "time_max_sec = 5.2 * us\n",
    "time_step_sec = 0.005 * us\n",
    "delay_times_sec = np.arange(4.8 * us, time_max_sec, time_step_sec)\n",
    "\n",
    "# Drive parameters\n",
    "# The drive amplitude for pi/2 is simply half the amplitude of the pi pulse\n",
    "drive_amp = pi_amp / 2\n",
    "\n",
    "# x_90 is a concise way to say pi_over_2; i.e., an X rotation of 90 degrees\n",
    "with pulse.build(backend) as x90_pulse:\n",
    "    drive_duration = get_closest_multiple_of_16(pulse.seconds_to_samples(drive_duration_sec))\n",
    "    drive_sigma = pulse.seconds_to_samples(drive_sigma_sec)\n",
    "    drive_chan = pulse.drive_channel(qubit)\n",
    "    pulse.play(pulse.Gaussian(duration=drive_duration,\n",
    "                              amp=drive_amp,\n",
    "                              sigma=drive_sigma,\n",
    "                              name='x90_pulse'), drive_chan)\n",
    "\n",
    "##\n",
    "\n",
    "detuning_MHz = 2 \n",
    "ramsey_frequency = round(rough_qubit_frequency + detuning_MHz * MHz, 6) # need ramsey freq in Hz\n",
    "\n",
    "##\n",
    "\n",
    "# create schedules for Ramsey experiment \n",
    "delay = Parameter('delay')\n",
    "with pulse.build(backend=backend, default_alignment='sequential', name=\"Ramsey delay Experiment\") as ramsey_schedule:\n",
    "    drive_chan = pulse.drive_channel(qubit)\n",
    "    pulse.set_frequency(ramsey_frequency, drive_chan)\n",
    "    pulse.call(x90_pulse)\n",
    "    pulse.delay(delay, drive_chan)\n",
    "    pulse.call(x90_pulse)\n",
    "\n",
    "##\n",
    "\n",
    "ramsey_gate = Gate(\"ramsey\", 1, [delay])\n",
    "\n",
    "qc_ramsey = QuantumCircuit(1, 1)\n",
    "\n",
    "qc_ramsey.append(ramsey_gate, [0])\n",
    "qc_ramsey.measure(0, 0)\n",
    "qc_ramsey.add_calibration(ramsey_gate, (0,), ramsey_schedule, [delay])\n",
    "\n",
    "exp_ramsey_circs = [qc_ramsey.assign_parameters({delay: get_dt_from(d)}, inplace=False) for d in delay_times_sec]\n",
    "\n",
    "##\n",
    "\n",
    "ramsey_schedule = schedule(exp_ramsey_circs[2], backend)\n",
    "ramsey_schedule.draw(backend=backend)\n",
    "\n",
    "##\n",
    "\n",
    "# Execution settings\n",
    "num_shots = 256\n",
    "\n",
    "job = backend.run(exp_ramsey_circs, \n",
    "                  meas_level=1, \n",
    "                  meas_return='single', \n",
    "                  shots=num_shots)\n",
    "\n",
    "job_monitor(job)\n",
    "\n",
    "##\n",
    "\n",
    "ramsey_results = job.result(timeout=120)\n",
    "\n",
    "##\n",
    "\n",
    "ramsey_values = []\n",
    "\n",
    "for i in range(len(delay_times_sec)):\n",
    "    iq_data = ramsey_results.get_memory(i)[:,qubit] * scale_factor\n",
    "    ramsey_values.append(sum(map(classify, iq_data)) / num_shots)\n",
    "    \n",
    "plt.scatter(delay_times_sec/us, np.real(ramsey_values), color='black')\n",
    "plt.xlim(0, np.max(delay_times_sec/us))\n",
    "plt.title(\"Ramsey Experiment\", fontsize=15)\n",
    "plt.xlabel('Delay between X90 pulses [$\\mu$s]', fontsize=15)\n",
    "plt.ylabel('Measured Signal [a.u.]', fontsize=15)\n",
    "plt.show()"
   ]
  },
  {
   "cell_type": "code",
   "execution_count": null,
   "id": "1682b6d7-7f5c-4897-ba4d-d7b6f94e9406",
   "metadata": {},
   "outputs": [],
   "source": [
    "# Ramsey experiment parameters\n",
    "time_max_sec = 5.6 * us\n",
    "time_step_sec = 0.005 * us\n",
    "delay_times_sec = np.arange(5.2 * us, time_max_sec, time_step_sec)\n",
    "\n",
    "# Drive parameters\n",
    "# The drive amplitude for pi/2 is simply half the amplitude of the pi pulse\n",
    "drive_amp = pi_amp / 2\n",
    "\n",
    "# x_90 is a concise way to say pi_over_2; i.e., an X rotation of 90 degrees\n",
    "with pulse.build(backend) as x90_pulse:\n",
    "    drive_duration = get_closest_multiple_of_16(pulse.seconds_to_samples(drive_duration_sec))\n",
    "    drive_sigma = pulse.seconds_to_samples(drive_sigma_sec)\n",
    "    drive_chan = pulse.drive_channel(qubit)\n",
    "    pulse.play(pulse.Gaussian(duration=drive_duration,\n",
    "                              amp=drive_amp,\n",
    "                              sigma=drive_sigma,\n",
    "                              name='x90_pulse'), drive_chan)\n",
    "\n",
    "##\n",
    "\n",
    "detuning_MHz = 2 \n",
    "ramsey_frequency = round(rough_qubit_frequency + detuning_MHz * MHz, 6) # need ramsey freq in Hz\n",
    "\n",
    "##\n",
    "\n",
    "# create schedules for Ramsey experiment \n",
    "delay = Parameter('delay')\n",
    "with pulse.build(backend=backend, default_alignment='sequential', name=\"Ramsey delay Experiment\") as ramsey_schedule:\n",
    "    drive_chan = pulse.drive_channel(qubit)\n",
    "    pulse.set_frequency(ramsey_frequency, drive_chan)\n",
    "    pulse.call(x90_pulse)\n",
    "    pulse.delay(delay, drive_chan)\n",
    "    pulse.call(x90_pulse)\n",
    "\n",
    "##\n",
    "\n",
    "ramsey_gate = Gate(\"ramsey\", 1, [delay])\n",
    "\n",
    "qc_ramsey = QuantumCircuit(1, 1)\n",
    "\n",
    "qc_ramsey.append(ramsey_gate, [0])\n",
    "qc_ramsey.measure(0, 0)\n",
    "qc_ramsey.add_calibration(ramsey_gate, (0,), ramsey_schedule, [delay])\n",
    "\n",
    "exp_ramsey_circs = [qc_ramsey.assign_parameters({delay: get_dt_from(d)}, inplace=False) for d in delay_times_sec]\n",
    "\n",
    "##\n",
    "\n",
    "ramsey_schedule = schedule(exp_ramsey_circs[2], backend)\n",
    "ramsey_schedule.draw(backend=backend)\n",
    "\n",
    "##\n",
    "\n",
    "# Execution settings\n",
    "num_shots = 256\n",
    "\n",
    "job = backend.run(exp_ramsey_circs, \n",
    "                  meas_level=1, \n",
    "                  meas_return='single', \n",
    "                  shots=num_shots)\n",
    "\n",
    "job_monitor(job)\n",
    "\n",
    "##\n",
    "\n",
    "ramsey_results = job.result(timeout=120)\n",
    "\n",
    "##\n",
    "\n",
    "ramsey_values = []\n",
    "\n",
    "for i in range(len(delay_times_sec)):\n",
    "    iq_data = ramsey_results.get_memory(i)[:,qubit] * scale_factor\n",
    "    ramsey_values.append(sum(map(classify, iq_data)) / num_shots)\n",
    "    \n",
    "plt.scatter(delay_times_sec/us, np.real(ramsey_values), color='black')\n",
    "plt.xlim(0, np.max(delay_times_sec/us))\n",
    "plt.title(\"Ramsey Experiment\", fontsize=15)\n",
    "plt.xlabel('Delay between X90 pulses [$\\mu$s]', fontsize=15)\n",
    "plt.ylabel('Measured Signal [a.u.]', fontsize=15)\n",
    "plt.show()"
   ]
  },
  {
   "cell_type": "code",
   "execution_count": null,
   "id": "d506729a-9fa5-47b2-b73a-23641049a40b",
   "metadata": {},
   "outputs": [],
   "source": [
    "# Ramsey experiment parameters\n",
    "time_max_sec = 6 * us\n",
    "time_step_sec = 0.005 * us\n",
    "delay_times_sec = np.arange(5.6 * us, time_max_sec, time_step_sec)\n",
    "\n",
    "# Drive parameters\n",
    "# The drive amplitude for pi/2 is simply half the amplitude of the pi pulse\n",
    "drive_amp = pi_amp / 2\n",
    "\n",
    "# x_90 is a concise way to say pi_over_2; i.e., an X rotation of 90 degrees\n",
    "with pulse.build(backend) as x90_pulse:\n",
    "    drive_duration = get_closest_multiple_of_16(pulse.seconds_to_samples(drive_duration_sec))\n",
    "    drive_sigma = pulse.seconds_to_samples(drive_sigma_sec)\n",
    "    drive_chan = pulse.drive_channel(qubit)\n",
    "    pulse.play(pulse.Gaussian(duration=drive_duration,\n",
    "                              amp=drive_amp,\n",
    "                              sigma=drive_sigma,\n",
    "                              name='x90_pulse'), drive_chan)\n",
    "\n",
    "##\n",
    "\n",
    "detuning_MHz = 2 \n",
    "ramsey_frequency = round(rough_qubit_frequency + detuning_MHz * MHz, 6) # need ramsey freq in Hz\n",
    "\n",
    "##\n",
    "\n",
    "# create schedules for Ramsey experiment \n",
    "delay = Parameter('delay')\n",
    "with pulse.build(backend=backend, default_alignment='sequential', name=\"Ramsey delay Experiment\") as ramsey_schedule:\n",
    "    drive_chan = pulse.drive_channel(qubit)\n",
    "    pulse.set_frequency(ramsey_frequency, drive_chan)\n",
    "    pulse.call(x90_pulse)\n",
    "    pulse.delay(delay, drive_chan)\n",
    "    pulse.call(x90_pulse)\n",
    "\n",
    "##\n",
    "\n",
    "ramsey_gate = Gate(\"ramsey\", 1, [delay])\n",
    "\n",
    "qc_ramsey = QuantumCircuit(1, 1)\n",
    "\n",
    "qc_ramsey.append(ramsey_gate, [0])\n",
    "qc_ramsey.measure(0, 0)\n",
    "qc_ramsey.add_calibration(ramsey_gate, (0,), ramsey_schedule, [delay])\n",
    "\n",
    "exp_ramsey_circs = [qc_ramsey.assign_parameters({delay: get_dt_from(d)}, inplace=False) for d in delay_times_sec]\n",
    "\n",
    "##\n",
    "\n",
    "ramsey_schedule = schedule(exp_ramsey_circs[2], backend)\n",
    "ramsey_schedule.draw(backend=backend)\n",
    "\n",
    "##\n",
    "\n",
    "# Execution settings\n",
    "num_shots = 256\n",
    "\n",
    "job = backend.run(exp_ramsey_circs, \n",
    "                  meas_level=1, \n",
    "                  meas_return='single', \n",
    "                  shots=num_shots)\n",
    "\n",
    "job_monitor(job)\n",
    "\n",
    "##\n",
    "\n",
    "ramsey_results = job.result(timeout=120)\n",
    "\n",
    "##\n",
    "\n",
    "ramsey_values = []\n",
    "\n",
    "for i in range(len(delay_times_sec)):\n",
    "    iq_data = ramsey_results.get_memory(i)[:,qubit] * scale_factor\n",
    "    ramsey_values.append(sum(map(classify, iq_data)) / num_shots)\n",
    "    \n",
    "plt.scatter(delay_times_sec/us, np.real(ramsey_values), color='black')\n",
    "plt.xlim(0, np.max(delay_times_sec/us))\n",
    "plt.title(\"Ramsey Experiment\", fontsize=15)\n",
    "plt.xlabel('Delay between X90 pulses [$\\mu$s]', fontsize=15)\n",
    "plt.ylabel('Measured Signal [a.u.]', fontsize=15)\n",
    "plt.show()"
   ]
  },
  {
   "cell_type": "code",
   "execution_count": null,
   "id": "90245bc8-694a-44c8-bb0d-bd91c4daa33a",
   "metadata": {},
   "outputs": [],
   "source": [
    "# Ramsey experiment parameters\n",
    "time_max_sec = 6.4 * us\n",
    "time_step_sec = 0.005 * us\n",
    "delay_times_sec = np.arange(6 * us, time_max_sec, time_step_sec)\n",
    "\n",
    "# Drive parameters\n",
    "# The drive amplitude for pi/2 is simply half the amplitude of the pi pulse\n",
    "drive_amp = pi_amp / 2\n",
    "\n",
    "# x_90 is a concise way to say pi_over_2; i.e., an X rotation of 90 degrees\n",
    "with pulse.build(backend) as x90_pulse:\n",
    "    drive_duration = get_closest_multiple_of_16(pulse.seconds_to_samples(drive_duration_sec))\n",
    "    drive_sigma = pulse.seconds_to_samples(drive_sigma_sec)\n",
    "    drive_chan = pulse.drive_channel(qubit)\n",
    "    pulse.play(pulse.Gaussian(duration=drive_duration,\n",
    "                              amp=drive_amp,\n",
    "                              sigma=drive_sigma,\n",
    "                              name='x90_pulse'), drive_chan)\n",
    "\n",
    "##\n",
    "\n",
    "detuning_MHz = 2 \n",
    "ramsey_frequency = round(rough_qubit_frequency + detuning_MHz * MHz, 6) # need ramsey freq in Hz\n",
    "\n",
    "##\n",
    "\n",
    "# create schedules for Ramsey experiment \n",
    "delay = Parameter('delay')\n",
    "with pulse.build(backend=backend, default_alignment='sequential', name=\"Ramsey delay Experiment\") as ramsey_schedule:\n",
    "    drive_chan = pulse.drive_channel(qubit)\n",
    "    pulse.set_frequency(ramsey_frequency, drive_chan)\n",
    "    pulse.call(x90_pulse)\n",
    "    pulse.delay(delay, drive_chan)\n",
    "    pulse.call(x90_pulse)\n",
    "\n",
    "##\n",
    "\n",
    "ramsey_gate = Gate(\"ramsey\", 1, [delay])\n",
    "\n",
    "qc_ramsey = QuantumCircuit(1, 1)\n",
    "\n",
    "qc_ramsey.append(ramsey_gate, [0])\n",
    "qc_ramsey.measure(0, 0)\n",
    "qc_ramsey.add_calibration(ramsey_gate, (0,), ramsey_schedule, [delay])\n",
    "\n",
    "exp_ramsey_circs = [qc_ramsey.assign_parameters({delay: get_dt_from(d)}, inplace=False) for d in delay_times_sec]\n",
    "\n",
    "##\n",
    "\n",
    "ramsey_schedule = schedule(exp_ramsey_circs[2], backend)\n",
    "ramsey_schedule.draw(backend=backend)\n",
    "\n",
    "##\n",
    "\n",
    "# Execution settings\n",
    "num_shots = 256\n",
    "\n",
    "job = backend.run(exp_ramsey_circs, \n",
    "                  meas_level=1, \n",
    "                  meas_return='single', \n",
    "                  shots=num_shots)\n",
    "\n",
    "job_monitor(job)\n",
    "\n",
    "##\n",
    "\n",
    "ramsey_results = job.result(timeout=120)\n",
    "\n",
    "##\n",
    "\n",
    "ramsey_values = []\n",
    "\n",
    "for i in range(len(delay_times_sec)):\n",
    "    iq_data = ramsey_results.get_memory(i)[:,qubit] * scale_factor\n",
    "    ramsey_values.append(sum(map(classify, iq_data)) / num_shots)\n",
    "    \n",
    "plt.scatter(delay_times_sec/us, np.real(ramsey_values), color='black')\n",
    "plt.xlim(0, np.max(delay_times_sec/us))\n",
    "plt.title(\"Ramsey Experiment\", fontsize=15)\n",
    "plt.xlabel('Delay between X90 pulses [$\\mu$s]', fontsize=15)\n",
    "plt.ylabel('Measured Signal [a.u.]', fontsize=15)\n",
    "plt.show()"
   ]
  },
  {
   "cell_type": "code",
   "execution_count": null,
   "id": "cdb4c535-09b9-4887-b899-7a55dad8adbc",
   "metadata": {},
   "outputs": [],
   "source": [
    "# Ramsey experiment parameters\n",
    "time_max_sec = 6.8 * us\n",
    "time_step_sec = 0.005 * us\n",
    "delay_times_sec = np.arange(6.4 * us, time_max_sec, time_step_sec)\n",
    "\n",
    "# Drive parameters\n",
    "# The drive amplitude for pi/2 is simply half the amplitude of the pi pulse\n",
    "drive_amp = pi_amp / 2\n",
    "\n",
    "# x_90 is a concise way to say pi_over_2; i.e., an X rotation of 90 degrees\n",
    "with pulse.build(backend) as x90_pulse:\n",
    "    drive_duration = get_closest_multiple_of_16(pulse.seconds_to_samples(drive_duration_sec))\n",
    "    drive_sigma = pulse.seconds_to_samples(drive_sigma_sec)\n",
    "    drive_chan = pulse.drive_channel(qubit)\n",
    "    pulse.play(pulse.Gaussian(duration=drive_duration,\n",
    "                              amp=drive_amp,\n",
    "                              sigma=drive_sigma,\n",
    "                              name='x90_pulse'), drive_chan)\n",
    "\n",
    "##\n",
    "\n",
    "detuning_MHz = 2 \n",
    "ramsey_frequency = round(rough_qubit_frequency + detuning_MHz * MHz, 6) # need ramsey freq in Hz\n",
    "\n",
    "##\n",
    "\n",
    "# create schedules for Ramsey experiment \n",
    "delay = Parameter('delay')\n",
    "with pulse.build(backend=backend, default_alignment='sequential', name=\"Ramsey delay Experiment\") as ramsey_schedule:\n",
    "    drive_chan = pulse.drive_channel(qubit)\n",
    "    pulse.set_frequency(ramsey_frequency, drive_chan)\n",
    "    pulse.call(x90_pulse)\n",
    "    pulse.delay(delay, drive_chan)\n",
    "    pulse.call(x90_pulse)\n",
    "\n",
    "##\n",
    "\n",
    "ramsey_gate = Gate(\"ramsey\", 1, [delay])\n",
    "\n",
    "qc_ramsey = QuantumCircuit(1, 1)\n",
    "\n",
    "qc_ramsey.append(ramsey_gate, [0])\n",
    "qc_ramsey.measure(0, 0)\n",
    "qc_ramsey.add_calibration(ramsey_gate, (0,), ramsey_schedule, [delay])\n",
    "\n",
    "exp_ramsey_circs = [qc_ramsey.assign_parameters({delay: get_dt_from(d)}, inplace=False) for d in delay_times_sec]\n",
    "\n",
    "##\n",
    "\n",
    "ramsey_schedule = schedule(exp_ramsey_circs[2], backend)\n",
    "ramsey_schedule.draw(backend=backend)\n",
    "\n",
    "##\n",
    "\n",
    "# Execution settings\n",
    "num_shots = 256\n",
    "\n",
    "job = backend.run(exp_ramsey_circs, \n",
    "                  meas_level=1, \n",
    "                  meas_return='single', \n",
    "                  shots=num_shots)\n",
    "\n",
    "job_monitor(job)\n",
    "\n",
    "##\n",
    "\n",
    "ramsey_results = job.result(timeout=120)\n",
    "\n",
    "##\n",
    "\n",
    "ramsey_values = []\n",
    "\n",
    "for i in range(len(delay_times_sec)):\n",
    "    iq_data = ramsey_results.get_memory(i)[:,qubit] * scale_factor\n",
    "    ramsey_values.append(sum(map(classify, iq_data)) / num_shots)\n",
    "    \n",
    "plt.scatter(delay_times_sec/us, np.real(ramsey_values), color='black')\n",
    "plt.xlim(0, np.max(delay_times_sec/us))\n",
    "plt.title(\"Ramsey Experiment\", fontsize=15)\n",
    "plt.xlabel('Delay between X90 pulses [$\\mu$s]', fontsize=15)\n",
    "plt.ylabel('Measured Signal [a.u.]', fontsize=15)\n",
    "plt.show()"
   ]
  },
  {
   "cell_type": "code",
   "execution_count": null,
   "id": "0cb45500-5beb-42ce-a663-bced5ad8a749",
   "metadata": {},
   "outputs": [],
   "source": [
    "# Ramsey experiment parameters\n",
    "time_max_sec = 7.2 * us\n",
    "time_step_sec = 0.005 * us\n",
    "delay_times_sec = np.arange(6.8 * us, time_max_sec, time_step_sec)\n",
    "\n",
    "# Drive parameters\n",
    "# The drive amplitude for pi/2 is simply half the amplitude of the pi pulse\n",
    "drive_amp = pi_amp / 2\n",
    "\n",
    "# x_90 is a concise way to say pi_over_2; i.e., an X rotation of 90 degrees\n",
    "with pulse.build(backend) as x90_pulse:\n",
    "    drive_duration = get_closest_multiple_of_16(pulse.seconds_to_samples(drive_duration_sec))\n",
    "    drive_sigma = pulse.seconds_to_samples(drive_sigma_sec)\n",
    "    drive_chan = pulse.drive_channel(qubit)\n",
    "    pulse.play(pulse.Gaussian(duration=drive_duration,\n",
    "                              amp=drive_amp,\n",
    "                              sigma=drive_sigma,\n",
    "                              name='x90_pulse'), drive_chan)\n",
    "\n",
    "##\n",
    "\n",
    "detuning_MHz = 2 \n",
    "ramsey_frequency = round(rough_qubit_frequency + detuning_MHz * MHz, 6) # need ramsey freq in Hz\n",
    "\n",
    "##\n",
    "\n",
    "# create schedules for Ramsey experiment \n",
    "delay = Parameter('delay')\n",
    "with pulse.build(backend=backend, default_alignment='sequential', name=\"Ramsey delay Experiment\") as ramsey_schedule:\n",
    "    drive_chan = pulse.drive_channel(qubit)\n",
    "    pulse.set_frequency(ramsey_frequency, drive_chan)\n",
    "    pulse.call(x90_pulse)\n",
    "    pulse.delay(delay, drive_chan)\n",
    "    pulse.call(x90_pulse)\n",
    "\n",
    "##\n",
    "\n",
    "ramsey_gate = Gate(\"ramsey\", 1, [delay])\n",
    "\n",
    "qc_ramsey = QuantumCircuit(1, 1)\n",
    "\n",
    "qc_ramsey.append(ramsey_gate, [0])\n",
    "qc_ramsey.measure(0, 0)\n",
    "qc_ramsey.add_calibration(ramsey_gate, (0,), ramsey_schedule, [delay])\n",
    "\n",
    "exp_ramsey_circs = [qc_ramsey.assign_parameters({delay: get_dt_from(d)}, inplace=False) for d in delay_times_sec]\n",
    "\n",
    "##\n",
    "\n",
    "ramsey_schedule = schedule(exp_ramsey_circs[2], backend)\n",
    "ramsey_schedule.draw(backend=backend)\n",
    "\n",
    "##\n",
    "\n",
    "# Execution settings\n",
    "num_shots = 256\n",
    "\n",
    "job = backend.run(exp_ramsey_circs, \n",
    "                  meas_level=1, \n",
    "                  meas_return='single', \n",
    "                  shots=num_shots)\n",
    "\n",
    "job_monitor(job)\n",
    "\n",
    "##\n",
    "\n",
    "ramsey_results = job.result(timeout=120)\n",
    "\n",
    "##\n",
    "\n",
    "ramsey_values = []\n",
    "\n",
    "for i in range(len(delay_times_sec)):\n",
    "    iq_data = ramsey_results.get_memory(i)[:,qubit] * scale_factor\n",
    "    ramsey_values.append(sum(map(classify, iq_data)) / num_shots)\n",
    "    \n",
    "plt.scatter(delay_times_sec/us, np.real(ramsey_values), color='black')\n",
    "plt.xlim(0, np.max(delay_times_sec/us))\n",
    "plt.title(\"Ramsey Experiment\", fontsize=15)\n",
    "plt.xlabel('Delay between X90 pulses [$\\mu$s]', fontsize=15)\n",
    "plt.ylabel('Measured Signal [a.u.]', fontsize=15)\n",
    "plt.show()"
   ]
  },
  {
   "cell_type": "code",
   "execution_count": null,
   "id": "37f874da-e00e-4cd4-81c6-c022e88bf65e",
   "metadata": {},
   "outputs": [],
   "source": [
    "# Ramsey experiment parameters\n",
    "time_max_sec = 7.6 * us\n",
    "time_step_sec = 0.005 * us\n",
    "delay_times_sec = np.arange(7.2 * us, time_max_sec, time_step_sec)\n",
    "\n",
    "# Drive parameters\n",
    "# The drive amplitude for pi/2 is simply half the amplitude of the pi pulse\n",
    "drive_amp = pi_amp / 2\n",
    "\n",
    "# x_90 is a concise way to say pi_over_2; i.e., an X rotation of 90 degrees\n",
    "with pulse.build(backend) as x90_pulse:\n",
    "    drive_duration = get_closest_multiple_of_16(pulse.seconds_to_samples(drive_duration_sec))\n",
    "    drive_sigma = pulse.seconds_to_samples(drive_sigma_sec)\n",
    "    drive_chan = pulse.drive_channel(qubit)\n",
    "    pulse.play(pulse.Gaussian(duration=drive_duration,\n",
    "                              amp=drive_amp,\n",
    "                              sigma=drive_sigma,\n",
    "                              name='x90_pulse'), drive_chan)\n",
    "\n",
    "##\n",
    "\n",
    "detuning_MHz = 2 \n",
    "ramsey_frequency = round(rough_qubit_frequency + detuning_MHz * MHz, 6) # need ramsey freq in Hz\n",
    "\n",
    "##\n",
    "\n",
    "# create schedules for Ramsey experiment \n",
    "delay = Parameter('delay')\n",
    "with pulse.build(backend=backend, default_alignment='sequential', name=\"Ramsey delay Experiment\") as ramsey_schedule:\n",
    "    drive_chan = pulse.drive_channel(qubit)\n",
    "    pulse.set_frequency(ramsey_frequency, drive_chan)\n",
    "    pulse.call(x90_pulse)\n",
    "    pulse.delay(delay, drive_chan)\n",
    "    pulse.call(x90_pulse)\n",
    "\n",
    "##\n",
    "\n",
    "ramsey_gate = Gate(\"ramsey\", 1, [delay])\n",
    "\n",
    "qc_ramsey = QuantumCircuit(1, 1)\n",
    "\n",
    "qc_ramsey.append(ramsey_gate, [0])\n",
    "qc_ramsey.measure(0, 0)\n",
    "qc_ramsey.add_calibration(ramsey_gate, (0,), ramsey_schedule, [delay])\n",
    "\n",
    "exp_ramsey_circs = [qc_ramsey.assign_parameters({delay: get_dt_from(d)}, inplace=False) for d in delay_times_sec]\n",
    "\n",
    "##\n",
    "\n",
    "ramsey_schedule = schedule(exp_ramsey_circs[2], backend)\n",
    "ramsey_schedule.draw(backend=backend)\n",
    "\n",
    "##\n",
    "\n",
    "# Execution settings\n",
    "num_shots = 256\n",
    "\n",
    "job = backend.run(exp_ramsey_circs, \n",
    "                  meas_level=1, \n",
    "                  meas_return='single', \n",
    "                  shots=num_shots)\n",
    "\n",
    "job_monitor(job)\n",
    "\n",
    "##\n",
    "\n",
    "ramsey_results = job.result(timeout=120)\n",
    "\n",
    "##\n",
    "\n",
    "ramsey_values = []\n",
    "\n",
    "for i in range(len(delay_times_sec)):\n",
    "    iq_data = ramsey_results.get_memory(i)[:,qubit] * scale_factor\n",
    "    ramsey_values.append(sum(map(classify, iq_data)) / num_shots)\n",
    "    \n",
    "plt.scatter(delay_times_sec/us, np.real(ramsey_values), color='black')\n",
    "plt.xlim(0, np.max(delay_times_sec/us))\n",
    "plt.title(\"Ramsey Experiment\", fontsize=15)\n",
    "plt.xlabel('Delay between X90 pulses [$\\mu$s]', fontsize=15)\n",
    "plt.ylabel('Measured Signal [a.u.]', fontsize=15)\n",
    "plt.show()"
   ]
  },
  {
   "cell_type": "code",
   "execution_count": null,
   "id": "153fbdb1-767f-4ca8-8e30-98ad40c0f8a7",
   "metadata": {},
   "outputs": [],
   "source": [
    "# Ramsey experiment parameters\n",
    "time_max_sec = 8 * us\n",
    "time_step_sec = 0.005 * us\n",
    "delay_times_sec = np.arange(7.6 * us, time_max_sec, time_step_sec)\n",
    "\n",
    "# Drive parameters\n",
    "# The drive amplitude for pi/2 is simply half the amplitude of the pi pulse\n",
    "drive_amp = pi_amp / 2\n",
    "\n",
    "# x_90 is a concise way to say pi_over_2; i.e., an X rotation of 90 degrees\n",
    "with pulse.build(backend) as x90_pulse:\n",
    "    drive_duration = get_closest_multiple_of_16(pulse.seconds_to_samples(drive_duration_sec))\n",
    "    drive_sigma = pulse.seconds_to_samples(drive_sigma_sec)\n",
    "    drive_chan = pulse.drive_channel(qubit)\n",
    "    pulse.play(pulse.Gaussian(duration=drive_duration,\n",
    "                              amp=drive_amp,\n",
    "                              sigma=drive_sigma,\n",
    "                              name='x90_pulse'), drive_chan)\n",
    "\n",
    "##\n",
    "\n",
    "detuning_MHz = 2 \n",
    "ramsey_frequency = round(rough_qubit_frequency + detuning_MHz * MHz, 6) # need ramsey freq in Hz\n",
    "\n",
    "##\n",
    "\n",
    "# create schedules for Ramsey experiment \n",
    "delay = Parameter('delay')\n",
    "with pulse.build(backend=backend, default_alignment='sequential', name=\"Ramsey delay Experiment\") as ramsey_schedule:\n",
    "    drive_chan = pulse.drive_channel(qubit)\n",
    "    pulse.set_frequency(ramsey_frequency, drive_chan)\n",
    "    pulse.call(x90_pulse)\n",
    "    pulse.delay(delay, drive_chan)\n",
    "    pulse.call(x90_pulse)\n",
    "\n",
    "##\n",
    "\n",
    "ramsey_gate = Gate(\"ramsey\", 1, [delay])\n",
    "\n",
    "qc_ramsey = QuantumCircuit(1, 1)\n",
    "\n",
    "qc_ramsey.append(ramsey_gate, [0])\n",
    "qc_ramsey.measure(0, 0)\n",
    "qc_ramsey.add_calibration(ramsey_gate, (0,), ramsey_schedule, [delay])\n",
    "\n",
    "exp_ramsey_circs = [qc_ramsey.assign_parameters({delay: get_dt_from(d)}, inplace=False) for d in delay_times_sec]\n",
    "\n",
    "##\n",
    "\n",
    "ramsey_schedule = schedule(exp_ramsey_circs[2], backend)\n",
    "ramsey_schedule.draw(backend=backend)\n",
    "\n",
    "##\n",
    "\n",
    "# Execution settings\n",
    "num_shots = 256\n",
    "\n",
    "job = backend.run(exp_ramsey_circs, \n",
    "                  meas_level=1, \n",
    "                  meas_return='single', \n",
    "                  shots=num_shots)\n",
    "\n",
    "job_monitor(job)\n",
    "\n",
    "##\n",
    "\n",
    "ramsey_results = job.result(timeout=120)\n",
    "\n",
    "##\n",
    "\n",
    "ramsey_values = []\n",
    "\n",
    "for i in range(len(delay_times_sec)):\n",
    "    iq_data = ramsey_results.get_memory(i)[:,qubit] * scale_factor\n",
    "    ramsey_values.append(sum(map(classify, iq_data)) / num_shots)\n",
    "    \n",
    "plt.scatter(delay_times_sec/us, np.real(ramsey_values), color='black')\n",
    "plt.xlim(0, np.max(delay_times_sec/us))\n",
    "plt.title(\"Ramsey Experiment\", fontsize=15)\n",
    "plt.xlabel('Delay between X90 pulses [$\\mu$s]', fontsize=15)\n",
    "plt.ylabel('Measured Signal [a.u.]', fontsize=15)\n",
    "plt.show()"
   ]
  },
  {
   "cell_type": "code",
   "execution_count": null,
   "id": "31f7f5e5-6233-4a6f-913e-652bc1642658",
   "metadata": {},
   "outputs": [],
   "source": [
    "# Ramsey experiment parameters\n",
    "time_max_sec = 8.4 * us\n",
    "time_step_sec = 0.005 * us\n",
    "delay_times_sec = np.arange(8 * us, time_max_sec, time_step_sec)\n",
    "\n",
    "# Drive parameters\n",
    "# The drive amplitude for pi/2 is simply half the amplitude of the pi pulse\n",
    "drive_amp = pi_amp / 2\n",
    "\n",
    "# x_90 is a concise way to say pi_over_2; i.e., an X rotation of 90 degrees\n",
    "with pulse.build(backend) as x90_pulse:\n",
    "    drive_duration = get_closest_multiple_of_16(pulse.seconds_to_samples(drive_duration_sec))\n",
    "    drive_sigma = pulse.seconds_to_samples(drive_sigma_sec)\n",
    "    drive_chan = pulse.drive_channel(qubit)\n",
    "    pulse.play(pulse.Gaussian(duration=drive_duration,\n",
    "                              amp=drive_amp,\n",
    "                              sigma=drive_sigma,\n",
    "                              name='x90_pulse'), drive_chan)\n",
    "\n",
    "##\n",
    "\n",
    "detuning_MHz = 2 \n",
    "ramsey_frequency = round(rough_qubit_frequency + detuning_MHz * MHz, 6) # need ramsey freq in Hz\n",
    "\n",
    "##\n",
    "\n",
    "# create schedules for Ramsey experiment \n",
    "delay = Parameter('delay')\n",
    "with pulse.build(backend=backend, default_alignment='sequential', name=\"Ramsey delay Experiment\") as ramsey_schedule:\n",
    "    drive_chan = pulse.drive_channel(qubit)\n",
    "    pulse.set_frequency(ramsey_frequency, drive_chan)\n",
    "    pulse.call(x90_pulse)\n",
    "    pulse.delay(delay, drive_chan)\n",
    "    pulse.call(x90_pulse)\n",
    "\n",
    "##\n",
    "\n",
    "ramsey_gate = Gate(\"ramsey\", 1, [delay])\n",
    "\n",
    "qc_ramsey = QuantumCircuit(1, 1)\n",
    "\n",
    "qc_ramsey.append(ramsey_gate, [0])\n",
    "qc_ramsey.measure(0, 0)\n",
    "qc_ramsey.add_calibration(ramsey_gate, (0,), ramsey_schedule, [delay])\n",
    "\n",
    "exp_ramsey_circs = [qc_ramsey.assign_parameters({delay: get_dt_from(d)}, inplace=False) for d in delay_times_sec]\n",
    "\n",
    "##\n",
    "\n",
    "ramsey_schedule = schedule(exp_ramsey_circs[2], backend)\n",
    "ramsey_schedule.draw(backend=backend)\n",
    "\n",
    "##\n",
    "\n",
    "# Execution settings\n",
    "num_shots = 256\n",
    "\n",
    "job = backend.run(exp_ramsey_circs, \n",
    "                  meas_level=1, \n",
    "                  meas_return='single', \n",
    "                  shots=num_shots)\n",
    "\n",
    "job_monitor(job)\n",
    "\n",
    "##\n",
    "\n",
    "ramsey_results = job.result(timeout=120)\n",
    "\n",
    "##\n",
    "\n",
    "ramsey_values = []\n",
    "\n",
    "for i in range(len(delay_times_sec)):\n",
    "    iq_data = ramsey_results.get_memory(i)[:,qubit] * scale_factor\n",
    "    ramsey_values.append(sum(map(classify, iq_data)) / num_shots)\n",
    "    \n",
    "plt.scatter(delay_times_sec/us, np.real(ramsey_values), color='black')\n",
    "plt.xlim(0, np.max(delay_times_sec/us))\n",
    "plt.title(\"Ramsey Experiment\", fontsize=15)\n",
    "plt.xlabel('Delay between X90 pulses [$\\mu$s]', fontsize=15)\n",
    "plt.ylabel('Measured Signal [a.u.]', fontsize=15)\n",
    "plt.show()"
   ]
  },
  {
   "cell_type": "code",
   "execution_count": null,
   "id": "2eadc0e7-da1c-4391-a3ca-f009cc96e0d9",
   "metadata": {},
   "outputs": [],
   "source": [
    "# Ramsey experiment parameters\n",
    "time_max_sec = 8.8 * us\n",
    "time_step_sec = 0.005 * us\n",
    "delay_times_sec = np.arange(8.4 * us, time_max_sec, time_step_sec)\n",
    "\n",
    "# Drive parameters\n",
    "# The drive amplitude for pi/2 is simply half the amplitude of the pi pulse\n",
    "drive_amp = pi_amp / 2\n",
    "\n",
    "# x_90 is a concise way to say pi_over_2; i.e., an X rotation of 90 degrees\n",
    "with pulse.build(backend) as x90_pulse:\n",
    "    drive_duration = get_closest_multiple_of_16(pulse.seconds_to_samples(drive_duration_sec))\n",
    "    drive_sigma = pulse.seconds_to_samples(drive_sigma_sec)\n",
    "    drive_chan = pulse.drive_channel(qubit)\n",
    "    pulse.play(pulse.Gaussian(duration=drive_duration,\n",
    "                              amp=drive_amp,\n",
    "                              sigma=drive_sigma,\n",
    "                              name='x90_pulse'), drive_chan)\n",
    "\n",
    "##\n",
    "\n",
    "detuning_MHz = 2 \n",
    "ramsey_frequency = round(rough_qubit_frequency + detuning_MHz * MHz, 6) # need ramsey freq in Hz\n",
    "\n",
    "##\n",
    "\n",
    "# create schedules for Ramsey experiment \n",
    "delay = Parameter('delay')\n",
    "with pulse.build(backend=backend, default_alignment='sequential', name=\"Ramsey delay Experiment\") as ramsey_schedule:\n",
    "    drive_chan = pulse.drive_channel(qubit)\n",
    "    pulse.set_frequency(ramsey_frequency, drive_chan)\n",
    "    pulse.call(x90_pulse)\n",
    "    pulse.delay(delay, drive_chan)\n",
    "    pulse.call(x90_pulse)\n",
    "\n",
    "##\n",
    "\n",
    "ramsey_gate = Gate(\"ramsey\", 1, [delay])\n",
    "\n",
    "qc_ramsey = QuantumCircuit(1, 1)\n",
    "\n",
    "qc_ramsey.append(ramsey_gate, [0])\n",
    "qc_ramsey.measure(0, 0)\n",
    "qc_ramsey.add_calibration(ramsey_gate, (0,), ramsey_schedule, [delay])\n",
    "\n",
    "exp_ramsey_circs = [qc_ramsey.assign_parameters({delay: get_dt_from(d)}, inplace=False) for d in delay_times_sec]\n",
    "\n",
    "##\n",
    "\n",
    "ramsey_schedule = schedule(exp_ramsey_circs[2], backend)\n",
    "ramsey_schedule.draw(backend=backend)\n",
    "\n",
    "##\n",
    "\n",
    "# Execution settings\n",
    "num_shots = 256\n",
    "\n",
    "job = backend.run(exp_ramsey_circs, \n",
    "                  meas_level=1, \n",
    "                  meas_return='single', \n",
    "                  shots=num_shots)\n",
    "\n",
    "job_monitor(job)\n",
    "\n",
    "##\n",
    "\n",
    "ramsey_results = job.result(timeout=120)\n",
    "\n",
    "##\n",
    "\n",
    "ramsey_values = []\n",
    "\n",
    "for i in range(len(delay_times_sec)):\n",
    "    iq_data = ramsey_results.get_memory(i)[:,qubit] * scale_factor\n",
    "    ramsey_values.append(sum(map(classify, iq_data)) / num_shots)\n",
    "    \n",
    "plt.scatter(delay_times_sec/us, np.real(ramsey_values), color='black')\n",
    "plt.xlim(0, np.max(delay_times_sec/us))\n",
    "plt.title(\"Ramsey Experiment\", fontsize=15)\n",
    "plt.xlabel('Delay between X90 pulses [$\\mu$s]', fontsize=15)\n",
    "plt.ylabel('Measured Signal [a.u.]', fontsize=15)\n",
    "plt.show()"
   ]
  },
  {
   "cell_type": "code",
   "execution_count": null,
   "id": "25d2effd-22b4-4658-a307-5a07dc7a5f24",
   "metadata": {},
   "outputs": [],
   "source": [
    "# Ramsey experiment parameters\n",
    "time_max_sec = 9.2 * us\n",
    "time_step_sec = 0.005 * us\n",
    "delay_times_sec = np.arange(8.8 * us, time_max_sec, time_step_sec)\n",
    "\n",
    "# Drive parameters\n",
    "# The drive amplitude for pi/2 is simply half the amplitude of the pi pulse\n",
    "drive_amp = pi_amp / 2\n",
    "\n",
    "# x_90 is a concise way to say pi_over_2; i.e., an X rotation of 90 degrees\n",
    "with pulse.build(backend) as x90_pulse:\n",
    "    drive_duration = get_closest_multiple_of_16(pulse.seconds_to_samples(drive_duration_sec))\n",
    "    drive_sigma = pulse.seconds_to_samples(drive_sigma_sec)\n",
    "    drive_chan = pulse.drive_channel(qubit)\n",
    "    pulse.play(pulse.Gaussian(duration=drive_duration,\n",
    "                              amp=drive_amp,\n",
    "                              sigma=drive_sigma,\n",
    "                              name='x90_pulse'), drive_chan)\n",
    "\n",
    "##\n",
    "\n",
    "detuning_MHz = 2 \n",
    "ramsey_frequency = round(rough_qubit_frequency + detuning_MHz * MHz, 6) # need ramsey freq in Hz\n",
    "\n",
    "##\n",
    "\n",
    "# create schedules for Ramsey experiment \n",
    "delay = Parameter('delay')\n",
    "with pulse.build(backend=backend, default_alignment='sequential', name=\"Ramsey delay Experiment\") as ramsey_schedule:\n",
    "    drive_chan = pulse.drive_channel(qubit)\n",
    "    pulse.set_frequency(ramsey_frequency, drive_chan)\n",
    "    pulse.call(x90_pulse)\n",
    "    pulse.delay(delay, drive_chan)\n",
    "    pulse.call(x90_pulse)\n",
    "\n",
    "##\n",
    "\n",
    "ramsey_gate = Gate(\"ramsey\", 1, [delay])\n",
    "\n",
    "qc_ramsey = QuantumCircuit(1, 1)\n",
    "\n",
    "qc_ramsey.append(ramsey_gate, [0])\n",
    "qc_ramsey.measure(0, 0)\n",
    "qc_ramsey.add_calibration(ramsey_gate, (0,), ramsey_schedule, [delay])\n",
    "\n",
    "exp_ramsey_circs = [qc_ramsey.assign_parameters({delay: get_dt_from(d)}, inplace=False) for d in delay_times_sec]\n",
    "\n",
    "##\n",
    "\n",
    "ramsey_schedule = schedule(exp_ramsey_circs[2], backend)\n",
    "ramsey_schedule.draw(backend=backend)\n",
    "\n",
    "##\n",
    "\n",
    "# Execution settings\n",
    "num_shots = 256\n",
    "\n",
    "job = backend.run(exp_ramsey_circs, \n",
    "                  meas_level=1, \n",
    "                  meas_return='single', \n",
    "                  shots=num_shots)\n",
    "\n",
    "job_monitor(job)\n",
    "\n",
    "##\n",
    "\n",
    "ramsey_results = job.result(timeout=120)\n",
    "\n",
    "##\n",
    "\n",
    "ramsey_values = []\n",
    "\n",
    "for i in range(len(delay_times_sec)):\n",
    "    iq_data = ramsey_results.get_memory(i)[:,qubit] * scale_factor\n",
    "    ramsey_values.append(sum(map(classify, iq_data)) / num_shots)\n",
    "    \n",
    "plt.scatter(delay_times_sec/us, np.real(ramsey_values), color='black')\n",
    "plt.xlim(0, np.max(delay_times_sec/us))\n",
    "plt.title(\"Ramsey Experiment\", fontsize=15)\n",
    "plt.xlabel('Delay between X90 pulses [$\\mu$s]', fontsize=15)\n",
    "plt.ylabel('Measured Signal [a.u.]', fontsize=15)\n",
    "plt.show()"
   ]
  },
  {
   "cell_type": "code",
   "execution_count": null,
   "id": "b57cf1af-6217-4ee4-bc90-6d7f17a3f051",
   "metadata": {},
   "outputs": [],
   "source": [
    "# Ramsey experiment parameters\n",
    "time_max_sec = 9.6 * us\n",
    "time_step_sec = 0.005 * us\n",
    "delay_times_sec = np.arange(9.2 * us, time_max_sec, time_step_sec)\n",
    "\n",
    "# Drive parameters\n",
    "# The drive amplitude for pi/2 is simply half the amplitude of the pi pulse\n",
    "drive_amp = pi_amp / 2\n",
    "\n",
    "# x_90 is a concise way to say pi_over_2; i.e., an X rotation of 90 degrees\n",
    "with pulse.build(backend) as x90_pulse:\n",
    "    drive_duration = get_closest_multiple_of_16(pulse.seconds_to_samples(drive_duration_sec))\n",
    "    drive_sigma = pulse.seconds_to_samples(drive_sigma_sec)\n",
    "    drive_chan = pulse.drive_channel(qubit)\n",
    "    pulse.play(pulse.Gaussian(duration=drive_duration,\n",
    "                              amp=drive_amp,\n",
    "                              sigma=drive_sigma,\n",
    "                              name='x90_pulse'), drive_chan)\n",
    "\n",
    "##\n",
    "\n",
    "detuning_MHz = 2 \n",
    "ramsey_frequency = round(rough_qubit_frequency + detuning_MHz * MHz, 6) # need ramsey freq in Hz\n",
    "\n",
    "##\n",
    "\n",
    "# create schedules for Ramsey experiment \n",
    "delay = Parameter('delay')\n",
    "with pulse.build(backend=backend, default_alignment='sequential', name=\"Ramsey delay Experiment\") as ramsey_schedule:\n",
    "    drive_chan = pulse.drive_channel(qubit)\n",
    "    pulse.set_frequency(ramsey_frequency, drive_chan)\n",
    "    pulse.call(x90_pulse)\n",
    "    pulse.delay(delay, drive_chan)\n",
    "    pulse.call(x90_pulse)\n",
    "\n",
    "##\n",
    "\n",
    "ramsey_gate = Gate(\"ramsey\", 1, [delay])\n",
    "\n",
    "qc_ramsey = QuantumCircuit(1, 1)\n",
    "\n",
    "qc_ramsey.append(ramsey_gate, [0])\n",
    "qc_ramsey.measure(0, 0)\n",
    "qc_ramsey.add_calibration(ramsey_gate, (0,), ramsey_schedule, [delay])\n",
    "\n",
    "exp_ramsey_circs = [qc_ramsey.assign_parameters({delay: get_dt_from(d)}, inplace=False) for d in delay_times_sec]\n",
    "\n",
    "##\n",
    "\n",
    "ramsey_schedule = schedule(exp_ramsey_circs[2], backend)\n",
    "ramsey_schedule.draw(backend=backend)\n",
    "\n",
    "##\n",
    "\n",
    "# Execution settings\n",
    "num_shots = 256\n",
    "\n",
    "job = backend.run(exp_ramsey_circs, \n",
    "                  meas_level=1, \n",
    "                  meas_return='single', \n",
    "                  shots=num_shots)\n",
    "\n",
    "job_monitor(job)\n",
    "\n",
    "##\n",
    "\n",
    "ramsey_results = job.result(timeout=120)\n",
    "\n",
    "##\n",
    "\n",
    "ramsey_values = []\n",
    "\n",
    "for i in range(len(delay_times_sec)):\n",
    "    iq_data = ramsey_results.get_memory(i)[:,qubit] * scale_factor\n",
    "    ramsey_values.append(sum(map(classify, iq_data)) / num_shots)\n",
    "    \n",
    "plt.scatter(delay_times_sec/us, np.real(ramsey_values), color='black')\n",
    "plt.xlim(0, np.max(delay_times_sec/us))\n",
    "plt.title(\"Ramsey Experiment\", fontsize=15)\n",
    "plt.xlabel('Delay between X90 pulses [$\\mu$s]', fontsize=15)\n",
    "plt.ylabel('Measured Signal [a.u.]', fontsize=15)\n",
    "plt.show()"
   ]
  },
  {
   "cell_type": "code",
   "execution_count": null,
   "id": "264c2045-7d5c-4c46-b674-77a921a54579",
   "metadata": {},
   "outputs": [],
   "source": [
    "# Ramsey experiment parameters\n",
    "time_max_sec = 10 * us\n",
    "time_step_sec = 0.005 * us\n",
    "delay_times_sec = np.arange(9.6 * us, time_max_sec, time_step_sec)\n",
    "\n",
    "# Drive parameters\n",
    "# The drive amplitude for pi/2 is simply half the amplitude of the pi pulse\n",
    "drive_amp = pi_amp / 2\n",
    "\n",
    "# x_90 is a concise way to say pi_over_2; i.e., an X rotation of 90 degrees\n",
    "with pulse.build(backend) as x90_pulse:\n",
    "    drive_duration = get_closest_multiple_of_16(pulse.seconds_to_samples(drive_duration_sec))\n",
    "    drive_sigma = pulse.seconds_to_samples(drive_sigma_sec)\n",
    "    drive_chan = pulse.drive_channel(qubit)\n",
    "    pulse.play(pulse.Gaussian(duration=drive_duration,\n",
    "                              amp=drive_amp,\n",
    "                              sigma=drive_sigma,\n",
    "                              name='x90_pulse'), drive_chan)\n",
    "\n",
    "##\n",
    "\n",
    "detuning_MHz = 2 \n",
    "ramsey_frequency = round(rough_qubit_frequency + detuning_MHz * MHz, 6) # need ramsey freq in Hz\n",
    "\n",
    "##\n",
    "\n",
    "# create schedules for Ramsey experiment \n",
    "delay = Parameter('delay')\n",
    "with pulse.build(backend=backend, default_alignment='sequential', name=\"Ramsey delay Experiment\") as ramsey_schedule:\n",
    "    drive_chan = pulse.drive_channel(qubit)\n",
    "    pulse.set_frequency(ramsey_frequency, drive_chan)\n",
    "    pulse.call(x90_pulse)\n",
    "    pulse.delay(delay, drive_chan)\n",
    "    pulse.call(x90_pulse)\n",
    "\n",
    "##\n",
    "\n",
    "ramsey_gate = Gate(\"ramsey\", 1, [delay])\n",
    "\n",
    "qc_ramsey = QuantumCircuit(1, 1)\n",
    "\n",
    "qc_ramsey.append(ramsey_gate, [0])\n",
    "qc_ramsey.measure(0, 0)\n",
    "qc_ramsey.add_calibration(ramsey_gate, (0,), ramsey_schedule, [delay])\n",
    "\n",
    "exp_ramsey_circs = [qc_ramsey.assign_parameters({delay: get_dt_from(d)}, inplace=False) for d in delay_times_sec]\n",
    "\n",
    "##\n",
    "\n",
    "ramsey_schedule = schedule(exp_ramsey_circs[2], backend)\n",
    "ramsey_schedule.draw(backend=backend)\n",
    "\n",
    "##\n",
    "\n",
    "# Execution settings\n",
    "num_shots = 256\n",
    "\n",
    "job = backend.run(exp_ramsey_circs, \n",
    "                  meas_level=1, \n",
    "                  meas_return='single', \n",
    "                  shots=num_shots)\n",
    "\n",
    "job_monitor(job)\n",
    "\n",
    "##\n",
    "\n",
    "ramsey_results = job.result(timeout=120)\n",
    "\n",
    "##\n",
    "\n",
    "ramsey_values = []\n",
    "\n",
    "for i in range(len(delay_times_sec)):\n",
    "    iq_data = ramsey_results.get_memory(i)[:,qubit] * scale_factor\n",
    "    ramsey_values.append(sum(map(classify, iq_data)) / num_shots)\n",
    "    \n",
    "plt.scatter(delay_times_sec/us, np.real(ramsey_values), color='black')\n",
    "plt.xlim(0, np.max(delay_times_sec/us))\n",
    "plt.title(\"Ramsey Experiment\", fontsize=15)\n",
    "plt.xlabel('Delay between X90 pulses [$\\mu$s]', fontsize=15)\n",
    "plt.ylabel('Measured Signal [a.u.]', fontsize=15)\n",
    "plt.show()"
   ]
  },
  {
   "cell_type": "code",
   "execution_count": null,
   "id": "b8ee962a-f944-4f8c-a2f6-8d598b9381c6",
   "metadata": {},
   "outputs": [],
   "source": [
    "# Ramsey experiment parameters\n",
    "time_max_sec = 10.4 * us\n",
    "time_step_sec = 0.005 * us\n",
    "delay_times_sec = np.arange(10 * us, time_max_sec, time_step_sec)\n",
    "\n",
    "# Drive parameters\n",
    "# The drive amplitude for pi/2 is simply half the amplitude of the pi pulse\n",
    "drive_amp = pi_amp / 2\n",
    "\n",
    "# x_90 is a concise way to say pi_over_2; i.e., an X rotation of 90 degrees\n",
    "with pulse.build(backend) as x90_pulse:\n",
    "    drive_duration = get_closest_multiple_of_16(pulse.seconds_to_samples(drive_duration_sec))\n",
    "    drive_sigma = pulse.seconds_to_samples(drive_sigma_sec)\n",
    "    drive_chan = pulse.drive_channel(qubit)\n",
    "    pulse.play(pulse.Gaussian(duration=drive_duration,\n",
    "                              amp=drive_amp,\n",
    "                              sigma=drive_sigma,\n",
    "                              name='x90_pulse'), drive_chan)\n",
    "\n",
    "##\n",
    "\n",
    "detuning_MHz = 2 \n",
    "ramsey_frequency = round(rough_qubit_frequency + detuning_MHz * MHz, 6) # need ramsey freq in Hz\n",
    "\n",
    "##\n",
    "\n",
    "# create schedules for Ramsey experiment \n",
    "delay = Parameter('delay')\n",
    "with pulse.build(backend=backend, default_alignment='sequential', name=\"Ramsey delay Experiment\") as ramsey_schedule:\n",
    "    drive_chan = pulse.drive_channel(qubit)\n",
    "    pulse.set_frequency(ramsey_frequency, drive_chan)\n",
    "    pulse.call(x90_pulse)\n",
    "    pulse.delay(delay, drive_chan)\n",
    "    pulse.call(x90_pulse)\n",
    "\n",
    "##\n",
    "\n",
    "ramsey_gate = Gate(\"ramsey\", 1, [delay])\n",
    "\n",
    "qc_ramsey = QuantumCircuit(1, 1)\n",
    "\n",
    "qc_ramsey.append(ramsey_gate, [0])\n",
    "qc_ramsey.measure(0, 0)\n",
    "qc_ramsey.add_calibration(ramsey_gate, (0,), ramsey_schedule, [delay])\n",
    "\n",
    "exp_ramsey_circs = [qc_ramsey.assign_parameters({delay: get_dt_from(d)}, inplace=False) for d in delay_times_sec]\n",
    "\n",
    "##\n",
    "\n",
    "ramsey_schedule = schedule(exp_ramsey_circs[2], backend)\n",
    "ramsey_schedule.draw(backend=backend)\n",
    "\n",
    "##\n",
    "\n",
    "# Execution settings\n",
    "num_shots = 256\n",
    "\n",
    "job = backend.run(exp_ramsey_circs, \n",
    "                  meas_level=1, \n",
    "                  meas_return='single', \n",
    "                  shots=num_shots)\n",
    "\n",
    "job_monitor(job)\n",
    "\n",
    "##\n",
    "\n",
    "ramsey_results = job.result(timeout=120)\n",
    "\n",
    "##\n",
    "\n",
    "ramsey_values = []\n",
    "\n",
    "for i in range(len(delay_times_sec)):\n",
    "    iq_data = ramsey_results.get_memory(i)[:,qubit] * scale_factor\n",
    "    ramsey_values.append(sum(map(classify, iq_data)) / num_shots)\n",
    "    \n",
    "plt.scatter(delay_times_sec/us, np.real(ramsey_values), color='black')\n",
    "plt.xlim(0, np.max(delay_times_sec/us))\n",
    "plt.title(\"Ramsey Experiment\", fontsize=15)\n",
    "plt.xlabel('Delay between X90 pulses [$\\mu$s]', fontsize=15)\n",
    "plt.ylabel('Measured Signal [a.u.]', fontsize=15)\n",
    "plt.show()"
   ]
  },
  {
   "cell_type": "code",
   "execution_count": null,
   "id": "d6284c91-dce6-4650-9d66-a2e2248220ad",
   "metadata": {},
   "outputs": [],
   "source": [
    "# Ramsey experiment parameters\n",
    "time_max_sec = 10.8 * us\n",
    "time_step_sec = 0.005 * us\n",
    "delay_times_sec = np.arange(10.4 * us, time_max_sec, time_step_sec)\n",
    "\n",
    "# Drive parameters\n",
    "# The drive amplitude for pi/2 is simply half the amplitude of the pi pulse\n",
    "drive_amp = pi_amp / 2\n",
    "\n",
    "# x_90 is a concise way to say pi_over_2; i.e., an X rotation of 90 degrees\n",
    "with pulse.build(backend) as x90_pulse:\n",
    "    drive_duration = get_closest_multiple_of_16(pulse.seconds_to_samples(drive_duration_sec))\n",
    "    drive_sigma = pulse.seconds_to_samples(drive_sigma_sec)\n",
    "    drive_chan = pulse.drive_channel(qubit)\n",
    "    pulse.play(pulse.Gaussian(duration=drive_duration,\n",
    "                              amp=drive_amp,\n",
    "                              sigma=drive_sigma,\n",
    "                              name='x90_pulse'), drive_chan)\n",
    "\n",
    "##\n",
    "\n",
    "detuning_MHz = 2 \n",
    "ramsey_frequency = round(rough_qubit_frequency + detuning_MHz * MHz, 6) # need ramsey freq in Hz\n",
    "\n",
    "##\n",
    "\n",
    "# create schedules for Ramsey experiment \n",
    "delay = Parameter('delay')\n",
    "with pulse.build(backend=backend, default_alignment='sequential', name=\"Ramsey delay Experiment\") as ramsey_schedule:\n",
    "    drive_chan = pulse.drive_channel(qubit)\n",
    "    pulse.set_frequency(ramsey_frequency, drive_chan)\n",
    "    pulse.call(x90_pulse)\n",
    "    pulse.delay(delay, drive_chan)\n",
    "    pulse.call(x90_pulse)\n",
    "\n",
    "##\n",
    "\n",
    "ramsey_gate = Gate(\"ramsey\", 1, [delay])\n",
    "\n",
    "qc_ramsey = QuantumCircuit(1, 1)\n",
    "\n",
    "qc_ramsey.append(ramsey_gate, [0])\n",
    "qc_ramsey.measure(0, 0)\n",
    "qc_ramsey.add_calibration(ramsey_gate, (0,), ramsey_schedule, [delay])\n",
    "\n",
    "exp_ramsey_circs = [qc_ramsey.assign_parameters({delay: get_dt_from(d)}, inplace=False) for d in delay_times_sec]\n",
    "\n",
    "##\n",
    "\n",
    "ramsey_schedule = schedule(exp_ramsey_circs[2], backend)\n",
    "ramsey_schedule.draw(backend=backend)\n",
    "\n",
    "##\n",
    "\n",
    "# Execution settings\n",
    "num_shots = 256\n",
    "\n",
    "job = backend.run(exp_ramsey_circs, \n",
    "                  meas_level=1, \n",
    "                  meas_return='single', \n",
    "                  shots=num_shots)\n",
    "\n",
    "job_monitor(job)\n",
    "\n",
    "##\n",
    "\n",
    "ramsey_results = job.result(timeout=120)\n",
    "\n",
    "##\n",
    "\n",
    "ramsey_values = []\n",
    "\n",
    "for i in range(len(delay_times_sec)):\n",
    "    iq_data = ramsey_results.get_memory(i)[:,qubit] * scale_factor\n",
    "    ramsey_values.append(sum(map(classify, iq_data)) / num_shots)\n",
    "    \n",
    "plt.scatter(delay_times_sec/us, np.real(ramsey_values), color='black')\n",
    "plt.xlim(0, np.max(delay_times_sec/us))\n",
    "plt.title(\"Ramsey Experiment\", fontsize=15)\n",
    "plt.xlabel('Delay between X90 pulses [$\\mu$s]', fontsize=15)\n",
    "plt.ylabel('Measured Signal [a.u.]', fontsize=15)\n",
    "plt.show()"
   ]
  },
  {
   "cell_type": "code",
   "execution_count": null,
   "id": "60871a46-f4f0-4517-95c2-b0db619f8f23",
   "metadata": {},
   "outputs": [],
   "source": [
    "# Ramsey experiment parameters\n",
    "time_max_sec = 11.2 * us\n",
    "time_step_sec = 0.005 * us\n",
    "delay_times_sec = np.arange(10.8 * us, time_max_sec, time_step_sec)\n",
    "\n",
    "# Drive parameters\n",
    "# The drive amplitude for pi/2 is simply half the amplitude of the pi pulse\n",
    "drive_amp = pi_amp / 2\n",
    "\n",
    "# x_90 is a concise way to say pi_over_2; i.e., an X rotation of 90 degrees\n",
    "with pulse.build(backend) as x90_pulse:\n",
    "    drive_duration = get_closest_multiple_of_16(pulse.seconds_to_samples(drive_duration_sec))\n",
    "    drive_sigma = pulse.seconds_to_samples(drive_sigma_sec)\n",
    "    drive_chan = pulse.drive_channel(qubit)\n",
    "    pulse.play(pulse.Gaussian(duration=drive_duration,\n",
    "                              amp=drive_amp,\n",
    "                              sigma=drive_sigma,\n",
    "                              name='x90_pulse'), drive_chan)\n",
    "\n",
    "##\n",
    "\n",
    "detuning_MHz = 2 \n",
    "ramsey_frequency = round(rough_qubit_frequency + detuning_MHz * MHz, 6) # need ramsey freq in Hz\n",
    "\n",
    "##\n",
    "\n",
    "# create schedules for Ramsey experiment \n",
    "delay = Parameter('delay')\n",
    "with pulse.build(backend=backend, default_alignment='sequential', name=\"Ramsey delay Experiment\") as ramsey_schedule:\n",
    "    drive_chan = pulse.drive_channel(qubit)\n",
    "    pulse.set_frequency(ramsey_frequency, drive_chan)\n",
    "    pulse.call(x90_pulse)\n",
    "    pulse.delay(delay, drive_chan)\n",
    "    pulse.call(x90_pulse)\n",
    "\n",
    "##\n",
    "\n",
    "ramsey_gate = Gate(\"ramsey\", 1, [delay])\n",
    "\n",
    "qc_ramsey = QuantumCircuit(1, 1)\n",
    "\n",
    "qc_ramsey.append(ramsey_gate, [0])\n",
    "qc_ramsey.measure(0, 0)\n",
    "qc_ramsey.add_calibration(ramsey_gate, (0,), ramsey_schedule, [delay])\n",
    "\n",
    "exp_ramsey_circs = [qc_ramsey.assign_parameters({delay: get_dt_from(d)}, inplace=False) for d in delay_times_sec]\n",
    "\n",
    "##\n",
    "\n",
    "ramsey_schedule = schedule(exp_ramsey_circs[2], backend)\n",
    "ramsey_schedule.draw(backend=backend)\n",
    "\n",
    "##\n",
    "\n",
    "# Execution settings\n",
    "num_shots = 256\n",
    "\n",
    "job = backend.run(exp_ramsey_circs, \n",
    "                  meas_level=1, \n",
    "                  meas_return='single', \n",
    "                  shots=num_shots)\n",
    "\n",
    "job_monitor(job)\n",
    "\n",
    "##\n",
    "\n",
    "ramsey_results = job.result(timeout=120)\n",
    "\n",
    "##\n",
    "\n",
    "ramsey_values = []\n",
    "\n",
    "for i in range(len(delay_times_sec)):\n",
    "    iq_data = ramsey_results.get_memory(i)[:,qubit] * scale_factor\n",
    "    ramsey_values.append(sum(map(classify, iq_data)) / num_shots)\n",
    "    \n",
    "plt.scatter(delay_times_sec/us, np.real(ramsey_values), color='black')\n",
    "plt.xlim(0, np.max(delay_times_sec/us))\n",
    "plt.title(\"Ramsey Experiment\", fontsize=15)\n",
    "plt.xlabel('Delay between X90 pulses [$\\mu$s]', fontsize=15)\n",
    "plt.ylabel('Measured Signal [a.u.]', fontsize=15)\n",
    "plt.show()"
   ]
  },
  {
   "cell_type": "code",
   "execution_count": null,
   "id": "1f50147d-b92c-4170-9b54-c25829047b55",
   "metadata": {},
   "outputs": [],
   "source": [
    "# Ramsey experiment parameters\n",
    "time_max_sec = 11.6 * us\n",
    "time_step_sec = 0.005 * us\n",
    "delay_times_sec = np.arange(11.2 * us, time_max_sec, time_step_sec)\n",
    "\n",
    "# Drive parameters\n",
    "# The drive amplitude for pi/2 is simply half the amplitude of the pi pulse\n",
    "drive_amp = pi_amp / 2\n",
    "\n",
    "# x_90 is a concise way to say pi_over_2; i.e., an X rotation of 90 degrees\n",
    "with pulse.build(backend) as x90_pulse:\n",
    "    drive_duration = get_closest_multiple_of_16(pulse.seconds_to_samples(drive_duration_sec))\n",
    "    drive_sigma = pulse.seconds_to_samples(drive_sigma_sec)\n",
    "    drive_chan = pulse.drive_channel(qubit)\n",
    "    pulse.play(pulse.Gaussian(duration=drive_duration,\n",
    "                              amp=drive_amp,\n",
    "                              sigma=drive_sigma,\n",
    "                              name='x90_pulse'), drive_chan)\n",
    "\n",
    "##\n",
    "\n",
    "detuning_MHz = 2 \n",
    "ramsey_frequency = round(rough_qubit_frequency + detuning_MHz * MHz, 6) # need ramsey freq in Hz\n",
    "\n",
    "##\n",
    "\n",
    "# create schedules for Ramsey experiment \n",
    "delay = Parameter('delay')\n",
    "with pulse.build(backend=backend, default_alignment='sequential', name=\"Ramsey delay Experiment\") as ramsey_schedule:\n",
    "    drive_chan = pulse.drive_channel(qubit)\n",
    "    pulse.set_frequency(ramsey_frequency, drive_chan)\n",
    "    pulse.call(x90_pulse)\n",
    "    pulse.delay(delay, drive_chan)\n",
    "    pulse.call(x90_pulse)\n",
    "\n",
    "##\n",
    "\n",
    "ramsey_gate = Gate(\"ramsey\", 1, [delay])\n",
    "\n",
    "qc_ramsey = QuantumCircuit(1, 1)\n",
    "\n",
    "qc_ramsey.append(ramsey_gate, [0])\n",
    "qc_ramsey.measure(0, 0)\n",
    "qc_ramsey.add_calibration(ramsey_gate, (0,), ramsey_schedule, [delay])\n",
    "\n",
    "exp_ramsey_circs = [qc_ramsey.assign_parameters({delay: get_dt_from(d)}, inplace=False) for d in delay_times_sec]\n",
    "\n",
    "##\n",
    "\n",
    "ramsey_schedule = schedule(exp_ramsey_circs[2], backend)\n",
    "ramsey_schedule.draw(backend=backend)\n",
    "\n",
    "##\n",
    "\n",
    "# Execution settings\n",
    "num_shots = 256\n",
    "\n",
    "job = backend.run(exp_ramsey_circs, \n",
    "                  meas_level=1, \n",
    "                  meas_return='single', \n",
    "                  shots=num_shots)\n",
    "\n",
    "job_monitor(job)\n",
    "\n",
    "##\n",
    "\n",
    "ramsey_results = job.result(timeout=120)\n",
    "\n",
    "##\n",
    "\n",
    "ramsey_values = []\n",
    "\n",
    "for i in range(len(delay_times_sec)):\n",
    "    iq_data = ramsey_results.get_memory(i)[:,qubit] * scale_factor\n",
    "    ramsey_values.append(sum(map(classify, iq_data)) / num_shots)\n",
    "    \n",
    "plt.scatter(delay_times_sec/us, np.real(ramsey_values), color='black')\n",
    "plt.xlim(0, np.max(delay_times_sec/us))\n",
    "plt.title(\"Ramsey Experiment\", fontsize=15)\n",
    "plt.xlabel('Delay between X90 pulses [$\\mu$s]', fontsize=15)\n",
    "plt.ylabel('Measured Signal [a.u.]', fontsize=15)\n",
    "plt.show()"
   ]
  },
  {
   "cell_type": "code",
   "execution_count": null,
   "id": "ed963b39-4665-4067-89a5-09c4e8e04d6e",
   "metadata": {},
   "outputs": [],
   "source": [
    "# Ramsey experiment parameters\n",
    "time_max_sec = 12 * us\n",
    "time_step_sec = 0.005 * us\n",
    "delay_times_sec = np.arange(11.6 * us, time_max_sec, time_step_sec)\n",
    "\n",
    "# Drive parameters\n",
    "# The drive amplitude for pi/2 is simply half the amplitude of the pi pulse\n",
    "drive_amp = pi_amp / 2\n",
    "\n",
    "# x_90 is a concise way to say pi_over_2; i.e., an X rotation of 90 degrees\n",
    "with pulse.build(backend) as x90_pulse:\n",
    "    drive_duration = get_closest_multiple_of_16(pulse.seconds_to_samples(drive_duration_sec))\n",
    "    drive_sigma = pulse.seconds_to_samples(drive_sigma_sec)\n",
    "    drive_chan = pulse.drive_channel(qubit)\n",
    "    pulse.play(pulse.Gaussian(duration=drive_duration,\n",
    "                              amp=drive_amp,\n",
    "                              sigma=drive_sigma,\n",
    "                              name='x90_pulse'), drive_chan)\n",
    "\n",
    "##\n",
    "\n",
    "detuning_MHz = 2 \n",
    "ramsey_frequency = round(rough_qubit_frequency + detuning_MHz * MHz, 6) # need ramsey freq in Hz\n",
    "\n",
    "##\n",
    "\n",
    "# create schedules for Ramsey experiment \n",
    "delay = Parameter('delay')\n",
    "with pulse.build(backend=backend, default_alignment='sequential', name=\"Ramsey delay Experiment\") as ramsey_schedule:\n",
    "    drive_chan = pulse.drive_channel(qubit)\n",
    "    pulse.set_frequency(ramsey_frequency, drive_chan)\n",
    "    pulse.call(x90_pulse)\n",
    "    pulse.delay(delay, drive_chan)\n",
    "    pulse.call(x90_pulse)\n",
    "\n",
    "##\n",
    "\n",
    "ramsey_gate = Gate(\"ramsey\", 1, [delay])\n",
    "\n",
    "qc_ramsey = QuantumCircuit(1, 1)\n",
    "\n",
    "qc_ramsey.append(ramsey_gate, [0])\n",
    "qc_ramsey.measure(0, 0)\n",
    "qc_ramsey.add_calibration(ramsey_gate, (0,), ramsey_schedule, [delay])\n",
    "\n",
    "exp_ramsey_circs = [qc_ramsey.assign_parameters({delay: get_dt_from(d)}, inplace=False) for d in delay_times_sec]\n",
    "\n",
    "##\n",
    "\n",
    "ramsey_schedule = schedule(exp_ramsey_circs[2], backend)\n",
    "ramsey_schedule.draw(backend=backend)\n",
    "\n",
    "##\n",
    "\n",
    "# Execution settings\n",
    "num_shots = 256\n",
    "\n",
    "job = backend.run(exp_ramsey_circs, \n",
    "                  meas_level=1, \n",
    "                  meas_return='single', \n",
    "                  shots=num_shots)\n",
    "\n",
    "job_monitor(job)\n",
    "\n",
    "##\n",
    "\n",
    "ramsey_results = job.result(timeout=120)\n",
    "\n",
    "##\n",
    "\n",
    "ramsey_values = []\n",
    "\n",
    "for i in range(len(delay_times_sec)):\n",
    "    iq_data = ramsey_results.get_memory(i)[:,qubit] * scale_factor\n",
    "    ramsey_values.append(sum(map(classify, iq_data)) / num_shots)\n",
    "    \n",
    "plt.scatter(delay_times_sec/us, np.real(ramsey_values), color='black')\n",
    "plt.xlim(0, np.max(delay_times_sec/us))\n",
    "plt.title(\"Ramsey Experiment\", fontsize=15)\n",
    "plt.xlabel('Delay between X90 pulses [$\\mu$s]', fontsize=15)\n",
    "plt.ylabel('Measured Signal [a.u.]', fontsize=15)\n",
    "plt.show()"
   ]
  },
  {
   "cell_type": "code",
   "execution_count": null,
   "id": "02e0cbba-6710-44e8-a4cb-ae69a81cb834",
   "metadata": {},
   "outputs": [],
   "source": [
    "# Ramsey experiment parameters\n",
    "time_max_sec = 12.4 * us\n",
    "time_step_sec = 0.005 * us\n",
    "delay_times_sec = np.arange(12 * us, time_max_sec, time_step_sec)\n",
    "\n",
    "# Drive parameters\n",
    "# The drive amplitude for pi/2 is simply half the amplitude of the pi pulse\n",
    "drive_amp = pi_amp / 2\n",
    "\n",
    "# x_90 is a concise way to say pi_over_2; i.e., an X rotation of 90 degrees\n",
    "with pulse.build(backend) as x90_pulse:\n",
    "    drive_duration = get_closest_multiple_of_16(pulse.seconds_to_samples(drive_duration_sec))\n",
    "    drive_sigma = pulse.seconds_to_samples(drive_sigma_sec)\n",
    "    drive_chan = pulse.drive_channel(qubit)\n",
    "    pulse.play(pulse.Gaussian(duration=drive_duration,\n",
    "                              amp=drive_amp,\n",
    "                              sigma=drive_sigma,\n",
    "                              name='x90_pulse'), drive_chan)\n",
    "\n",
    "##\n",
    "\n",
    "detuning_MHz = 2 \n",
    "ramsey_frequency = round(rough_qubit_frequency + detuning_MHz * MHz, 6) # need ramsey freq in Hz\n",
    "\n",
    "##\n",
    "\n",
    "# create schedules for Ramsey experiment \n",
    "delay = Parameter('delay')\n",
    "with pulse.build(backend=backend, default_alignment='sequential', name=\"Ramsey delay Experiment\") as ramsey_schedule:\n",
    "    drive_chan = pulse.drive_channel(qubit)\n",
    "    pulse.set_frequency(ramsey_frequency, drive_chan)\n",
    "    pulse.call(x90_pulse)\n",
    "    pulse.delay(delay, drive_chan)\n",
    "    pulse.call(x90_pulse)\n",
    "\n",
    "##\n",
    "\n",
    "ramsey_gate = Gate(\"ramsey\", 1, [delay])\n",
    "\n",
    "qc_ramsey = QuantumCircuit(1, 1)\n",
    "\n",
    "qc_ramsey.append(ramsey_gate, [0])\n",
    "qc_ramsey.measure(0, 0)\n",
    "qc_ramsey.add_calibration(ramsey_gate, (0,), ramsey_schedule, [delay])\n",
    "\n",
    "exp_ramsey_circs = [qc_ramsey.assign_parameters({delay: get_dt_from(d)}, inplace=False) for d in delay_times_sec]\n",
    "\n",
    "##\n",
    "\n",
    "ramsey_schedule = schedule(exp_ramsey_circs[2], backend)\n",
    "ramsey_schedule.draw(backend=backend)\n",
    "\n",
    "##\n",
    "\n",
    "# Execution settings\n",
    "num_shots = 256\n",
    "\n",
    "job = backend.run(exp_ramsey_circs, \n",
    "                  meas_level=1, \n",
    "                  meas_return='single', \n",
    "                  shots=num_shots)\n",
    "\n",
    "job_monitor(job)\n",
    "\n",
    "##\n",
    "\n",
    "ramsey_results = job.result(timeout=120)\n",
    "\n",
    "##\n",
    "\n",
    "ramsey_values = []\n",
    "\n",
    "for i in range(len(delay_times_sec)):\n",
    "    iq_data = ramsey_results.get_memory(i)[:,qubit] * scale_factor\n",
    "    ramsey_values.append(sum(map(classify, iq_data)) / num_shots)\n",
    "    \n",
    "plt.scatter(delay_times_sec/us, np.real(ramsey_values), color='black')\n",
    "plt.xlim(0, np.max(delay_times_sec/us))\n",
    "plt.title(\"Ramsey Experiment\", fontsize=15)\n",
    "plt.xlabel('Delay between X90 pulses [$\\mu$s]', fontsize=15)\n",
    "plt.ylabel('Measured Signal [a.u.]', fontsize=15)\n",
    "plt.show()"
   ]
  },
  {
   "cell_type": "code",
   "execution_count": null,
   "id": "10c09f2c-a93b-4395-8815-6d844ce359de",
   "metadata": {},
   "outputs": [],
   "source": [
    "# Ramsey experiment parameters\n",
    "time_max_sec = 12.8 * us\n",
    "time_step_sec = 0.005 * us\n",
    "delay_times_sec = np.arange(12.4 * us, time_max_sec, time_step_sec)\n",
    "\n",
    "# Drive parameters\n",
    "# The drive amplitude for pi/2 is simply half the amplitude of the pi pulse\n",
    "drive_amp = pi_amp / 2\n",
    "\n",
    "# x_90 is a concise way to say pi_over_2; i.e., an X rotation of 90 degrees\n",
    "with pulse.build(backend) as x90_pulse:\n",
    "    drive_duration = get_closest_multiple_of_16(pulse.seconds_to_samples(drive_duration_sec))\n",
    "    drive_sigma = pulse.seconds_to_samples(drive_sigma_sec)\n",
    "    drive_chan = pulse.drive_channel(qubit)\n",
    "    pulse.play(pulse.Gaussian(duration=drive_duration,\n",
    "                              amp=drive_amp,\n",
    "                              sigma=drive_sigma,\n",
    "                              name='x90_pulse'), drive_chan)\n",
    "\n",
    "##\n",
    "\n",
    "detuning_MHz = 2 \n",
    "ramsey_frequency = round(rough_qubit_frequency + detuning_MHz * MHz, 6) # need ramsey freq in Hz\n",
    "\n",
    "##\n",
    "\n",
    "# create schedules for Ramsey experiment \n",
    "delay = Parameter('delay')\n",
    "with pulse.build(backend=backend, default_alignment='sequential', name=\"Ramsey delay Experiment\") as ramsey_schedule:\n",
    "    drive_chan = pulse.drive_channel(qubit)\n",
    "    pulse.set_frequency(ramsey_frequency, drive_chan)\n",
    "    pulse.call(x90_pulse)\n",
    "    pulse.delay(delay, drive_chan)\n",
    "    pulse.call(x90_pulse)\n",
    "\n",
    "##\n",
    "\n",
    "ramsey_gate = Gate(\"ramsey\", 1, [delay])\n",
    "\n",
    "qc_ramsey = QuantumCircuit(1, 1)\n",
    "\n",
    "qc_ramsey.append(ramsey_gate, [0])\n",
    "qc_ramsey.measure(0, 0)\n",
    "qc_ramsey.add_calibration(ramsey_gate, (0,), ramsey_schedule, [delay])\n",
    "\n",
    "exp_ramsey_circs = [qc_ramsey.assign_parameters({delay: get_dt_from(d)}, inplace=False) for d in delay_times_sec]\n",
    "\n",
    "##\n",
    "\n",
    "ramsey_schedule = schedule(exp_ramsey_circs[2], backend)\n",
    "ramsey_schedule.draw(backend=backend)\n",
    "\n",
    "##\n",
    "\n",
    "# Execution settings\n",
    "num_shots = 256\n",
    "\n",
    "job = backend.run(exp_ramsey_circs, \n",
    "                  meas_level=1, \n",
    "                  meas_return='single', \n",
    "                  shots=num_shots)\n",
    "\n",
    "job_monitor(job)\n",
    "\n",
    "##\n",
    "\n",
    "ramsey_results = job.result(timeout=120)\n",
    "\n",
    "##\n",
    "\n",
    "ramsey_values = []\n",
    "\n",
    "for i in range(len(delay_times_sec)):\n",
    "    iq_data = ramsey_results.get_memory(i)[:,qubit] * scale_factor\n",
    "    ramsey_values.append(sum(map(classify, iq_data)) / num_shots)\n",
    "    \n",
    "plt.scatter(delay_times_sec/us, np.real(ramsey_values), color='black')\n",
    "plt.xlim(0, np.max(delay_times_sec/us))\n",
    "plt.title(\"Ramsey Experiment\", fontsize=15)\n",
    "plt.xlabel('Delay between X90 pulses [$\\mu$s]', fontsize=15)\n",
    "plt.ylabel('Measured Signal [a.u.]', fontsize=15)\n",
    "plt.show()"
   ]
  },
  {
   "cell_type": "code",
   "execution_count": null,
   "id": "c49ec2c3-4d51-4150-9d85-bbf48145332a",
   "metadata": {},
   "outputs": [],
   "source": [
    "# Ramsey experiment parameters\n",
    "time_max_sec = 13.2 * us\n",
    "time_step_sec = 0.005 * us\n",
    "delay_times_sec = np.arange(12.8 * us, time_max_sec, time_step_sec)\n",
    "\n",
    "# Drive parameters\n",
    "# The drive amplitude for pi/2 is simply half the amplitude of the pi pulse\n",
    "drive_amp = pi_amp / 2\n",
    "\n",
    "# x_90 is a concise way to say pi_over_2; i.e., an X rotation of 90 degrees\n",
    "with pulse.build(backend) as x90_pulse:\n",
    "    drive_duration = get_closest_multiple_of_16(pulse.seconds_to_samples(drive_duration_sec))\n",
    "    drive_sigma = pulse.seconds_to_samples(drive_sigma_sec)\n",
    "    drive_chan = pulse.drive_channel(qubit)\n",
    "    pulse.play(pulse.Gaussian(duration=drive_duration,\n",
    "                              amp=drive_amp,\n",
    "                              sigma=drive_sigma,\n",
    "                              name='x90_pulse'), drive_chan)\n",
    "\n",
    "##\n",
    "\n",
    "detuning_MHz = 2 \n",
    "ramsey_frequency = round(rough_qubit_frequency + detuning_MHz * MHz, 6) # need ramsey freq in Hz\n",
    "\n",
    "##\n",
    "\n",
    "# create schedules for Ramsey experiment \n",
    "delay = Parameter('delay')\n",
    "with pulse.build(backend=backend, default_alignment='sequential', name=\"Ramsey delay Experiment\") as ramsey_schedule:\n",
    "    drive_chan = pulse.drive_channel(qubit)\n",
    "    pulse.set_frequency(ramsey_frequency, drive_chan)\n",
    "    pulse.call(x90_pulse)\n",
    "    pulse.delay(delay, drive_chan)\n",
    "    pulse.call(x90_pulse)\n",
    "\n",
    "##\n",
    "\n",
    "ramsey_gate = Gate(\"ramsey\", 1, [delay])\n",
    "\n",
    "qc_ramsey = QuantumCircuit(1, 1)\n",
    "\n",
    "qc_ramsey.append(ramsey_gate, [0])\n",
    "qc_ramsey.measure(0, 0)\n",
    "qc_ramsey.add_calibration(ramsey_gate, (0,), ramsey_schedule, [delay])\n",
    "\n",
    "exp_ramsey_circs = [qc_ramsey.assign_parameters({delay: get_dt_from(d)}, inplace=False) for d in delay_times_sec]\n",
    "\n",
    "##\n",
    "\n",
    "ramsey_schedule = schedule(exp_ramsey_circs[2], backend)\n",
    "ramsey_schedule.draw(backend=backend)\n",
    "\n",
    "##\n",
    "\n",
    "# Execution settings\n",
    "num_shots = 256\n",
    "\n",
    "job = backend.run(exp_ramsey_circs, \n",
    "                  meas_level=1, \n",
    "                  meas_return='single', \n",
    "                  shots=num_shots)\n",
    "\n",
    "job_monitor(job)\n",
    "\n",
    "##\n",
    "\n",
    "ramsey_results = job.result(timeout=120)\n",
    "\n",
    "##\n",
    "\n",
    "ramsey_values = []\n",
    "\n",
    "for i in range(len(delay_times_sec)):\n",
    "    iq_data = ramsey_results.get_memory(i)[:,qubit] * scale_factor\n",
    "    ramsey_values.append(sum(map(classify, iq_data)) / num_shots)\n",
    "    \n",
    "plt.scatter(delay_times_sec/us, np.real(ramsey_values), color='black')\n",
    "plt.xlim(0, np.max(delay_times_sec/us))\n",
    "plt.title(\"Ramsey Experiment\", fontsize=15)\n",
    "plt.xlabel('Delay between X90 pulses [$\\mu$s]', fontsize=15)\n",
    "plt.ylabel('Measured Signal [a.u.]', fontsize=15)\n",
    "plt.show()"
   ]
  },
  {
   "cell_type": "code",
   "execution_count": null,
   "id": "818871ca-1286-4837-845a-b094c8c00c1c",
   "metadata": {},
   "outputs": [],
   "source": [
    "# Ramsey experiment parameters\n",
    "time_max_sec = 13.6 * us\n",
    "time_step_sec = 0.005 * us\n",
    "delay_times_sec = np.arange(13.2 * us, time_max_sec, time_step_sec)\n",
    "\n",
    "# Drive parameters\n",
    "# The drive amplitude for pi/2 is simply half the amplitude of the pi pulse\n",
    "drive_amp = pi_amp / 2\n",
    "\n",
    "# x_90 is a concise way to say pi_over_2; i.e., an X rotation of 90 degrees\n",
    "with pulse.build(backend) as x90_pulse:\n",
    "    drive_duration = get_closest_multiple_of_16(pulse.seconds_to_samples(drive_duration_sec))\n",
    "    drive_sigma = pulse.seconds_to_samples(drive_sigma_sec)\n",
    "    drive_chan = pulse.drive_channel(qubit)\n",
    "    pulse.play(pulse.Gaussian(duration=drive_duration,\n",
    "                              amp=drive_amp,\n",
    "                              sigma=drive_sigma,\n",
    "                              name='x90_pulse'), drive_chan)\n",
    "\n",
    "##\n",
    "\n",
    "detuning_MHz = 2 \n",
    "ramsey_frequency = round(rough_qubit_frequency + detuning_MHz * MHz, 6) # need ramsey freq in Hz\n",
    "\n",
    "##\n",
    "\n",
    "# create schedules for Ramsey experiment \n",
    "delay = Parameter('delay')\n",
    "with pulse.build(backend=backend, default_alignment='sequential', name=\"Ramsey delay Experiment\") as ramsey_schedule:\n",
    "    drive_chan = pulse.drive_channel(qubit)\n",
    "    pulse.set_frequency(ramsey_frequency, drive_chan)\n",
    "    pulse.call(x90_pulse)\n",
    "    pulse.delay(delay, drive_chan)\n",
    "    pulse.call(x90_pulse)\n",
    "\n",
    "##\n",
    "\n",
    "ramsey_gate = Gate(\"ramsey\", 1, [delay])\n",
    "\n",
    "qc_ramsey = QuantumCircuit(1, 1)\n",
    "\n",
    "qc_ramsey.append(ramsey_gate, [0])\n",
    "qc_ramsey.measure(0, 0)\n",
    "qc_ramsey.add_calibration(ramsey_gate, (0,), ramsey_schedule, [delay])\n",
    "\n",
    "exp_ramsey_circs = [qc_ramsey.assign_parameters({delay: get_dt_from(d)}, inplace=False) for d in delay_times_sec]\n",
    "\n",
    "##\n",
    "\n",
    "ramsey_schedule = schedule(exp_ramsey_circs[2], backend)\n",
    "ramsey_schedule.draw(backend=backend)\n",
    "\n",
    "##\n",
    "\n",
    "# Execution settings\n",
    "num_shots = 256\n",
    "\n",
    "job = backend.run(exp_ramsey_circs, \n",
    "                  meas_level=1, \n",
    "                  meas_return='single', \n",
    "                  shots=num_shots)\n",
    "\n",
    "job_monitor(job)\n",
    "\n",
    "##\n",
    "\n",
    "ramsey_results = job.result(timeout=120)\n",
    "\n",
    "##\n",
    "\n",
    "ramsey_values = []\n",
    "\n",
    "for i in range(len(delay_times_sec)):\n",
    "    iq_data = ramsey_results.get_memory(i)[:,qubit] * scale_factor\n",
    "    ramsey_values.append(sum(map(classify, iq_data)) / num_shots)\n",
    "    \n",
    "plt.scatter(delay_times_sec/us, np.real(ramsey_values), color='black')\n",
    "plt.xlim(0, np.max(delay_times_sec/us))\n",
    "plt.title(\"Ramsey Experiment\", fontsize=15)\n",
    "plt.xlabel('Delay between X90 pulses [$\\mu$s]', fontsize=15)\n",
    "plt.ylabel('Measured Signal [a.u.]', fontsize=15)\n",
    "plt.show()"
   ]
  },
  {
   "cell_type": "code",
   "execution_count": null,
   "id": "953f9018-d557-4ae3-b383-ad43f463dd04",
   "metadata": {},
   "outputs": [],
   "source": [
    "# Ramsey experiment parameters\n",
    "time_max_sec = 14 * us\n",
    "time_step_sec = 0.005 * us\n",
    "delay_times_sec = np.arange(13.6 * us, time_max_sec, time_step_sec)\n",
    "\n",
    "# Drive parameters\n",
    "# The drive amplitude for pi/2 is simply half the amplitude of the pi pulse\n",
    "drive_amp = pi_amp / 2\n",
    "\n",
    "# x_90 is a concise way to say pi_over_2; i.e., an X rotation of 90 degrees\n",
    "with pulse.build(backend) as x90_pulse:\n",
    "    drive_duration = get_closest_multiple_of_16(pulse.seconds_to_samples(drive_duration_sec))\n",
    "    drive_sigma = pulse.seconds_to_samples(drive_sigma_sec)\n",
    "    drive_chan = pulse.drive_channel(qubit)\n",
    "    pulse.play(pulse.Gaussian(duration=drive_duration,\n",
    "                              amp=drive_amp,\n",
    "                              sigma=drive_sigma,\n",
    "                              name='x90_pulse'), drive_chan)\n",
    "\n",
    "##\n",
    "\n",
    "detuning_MHz = 2 \n",
    "ramsey_frequency = round(rough_qubit_frequency + detuning_MHz * MHz, 6) # need ramsey freq in Hz\n",
    "\n",
    "##\n",
    "\n",
    "# create schedules for Ramsey experiment \n",
    "delay = Parameter('delay')\n",
    "with pulse.build(backend=backend, default_alignment='sequential', name=\"Ramsey delay Experiment\") as ramsey_schedule:\n",
    "    drive_chan = pulse.drive_channel(qubit)\n",
    "    pulse.set_frequency(ramsey_frequency, drive_chan)\n",
    "    pulse.call(x90_pulse)\n",
    "    pulse.delay(delay, drive_chan)\n",
    "    pulse.call(x90_pulse)\n",
    "\n",
    "##\n",
    "\n",
    "ramsey_gate = Gate(\"ramsey\", 1, [delay])\n",
    "\n",
    "qc_ramsey = QuantumCircuit(1, 1)\n",
    "\n",
    "qc_ramsey.append(ramsey_gate, [0])\n",
    "qc_ramsey.measure(0, 0)\n",
    "qc_ramsey.add_calibration(ramsey_gate, (0,), ramsey_schedule, [delay])\n",
    "\n",
    "exp_ramsey_circs = [qc_ramsey.assign_parameters({delay: get_dt_from(d)}, inplace=False) for d in delay_times_sec]\n",
    "\n",
    "##\n",
    "\n",
    "ramsey_schedule = schedule(exp_ramsey_circs[2], backend)\n",
    "ramsey_schedule.draw(backend=backend)\n",
    "\n",
    "##\n",
    "\n",
    "# Execution settings\n",
    "num_shots = 256\n",
    "\n",
    "job = backend.run(exp_ramsey_circs, \n",
    "                  meas_level=1, \n",
    "                  meas_return='single', \n",
    "                  shots=num_shots)\n",
    "\n",
    "job_monitor(job)\n",
    "\n",
    "##\n",
    "\n",
    "ramsey_results = job.result(timeout=120)\n",
    "\n",
    "##\n",
    "\n",
    "ramsey_values = []\n",
    "\n",
    "for i in range(len(delay_times_sec)):\n",
    "    iq_data = ramsey_results.get_memory(i)[:,qubit] * scale_factor\n",
    "    ramsey_values.append(sum(map(classify, iq_data)) / num_shots)\n",
    "    \n",
    "plt.scatter(delay_times_sec/us, np.real(ramsey_values), color='black')\n",
    "plt.xlim(0, np.max(delay_times_sec/us))\n",
    "plt.title(\"Ramsey Experiment\", fontsize=15)\n",
    "plt.xlabel('Delay between X90 pulses [$\\mu$s]', fontsize=15)\n",
    "plt.ylabel('Measured Signal [a.u.]', fontsize=15)\n",
    "plt.show()"
   ]
  },
  {
   "cell_type": "code",
   "execution_count": null,
   "id": "a4e70dae-81a3-417a-ada6-57a17d8a689c",
   "metadata": {},
   "outputs": [],
   "source": []
  },
  {
   "cell_type": "code",
   "execution_count": null,
   "id": "01d93ce2-ffed-4657-97db-1b2ed1dd8170",
   "metadata": {},
   "outputs": [],
   "source": []
  }
 ],
 "metadata": {
  "kernelspec": {
   "display_name": "Python 3 (ipykernel)",
   "language": "python",
   "name": "python3"
  },
  "language_info": {
   "codemirror_mode": {
    "name": "ipython",
    "version": 3
   },
   "file_extension": ".py",
   "mimetype": "text/x-python",
   "name": "python",
   "nbconvert_exporter": "python",
   "pygments_lexer": "ipython3",
   "version": "3.8.13"
  },
  "widgets": {
   "application/vnd.jupyter.widget-state+json": {
    "state": {
     "0097d38052544f01b6b3dcfc1d995b8a": {
      "model_module": "@jupyter-widgets/controls",
      "model_module_version": "1.5.0",
      "model_name": "ButtonModel",
      "state": {
       "icon": "close",
       "layout": "IPY_MODEL_9710472d006c4f99bc99bdfd47beac30",
       "style": "IPY_MODEL_4618664280f1431f8598214e70c3198d"
      }
     },
     "00cf3c6b9dc9450388406c6e63433c8c": {
      "model_module": "@jupyter-widgets/controls",
      "model_module_version": "1.5.0",
      "model_name": "DescriptionStyleModel",
      "state": {
       "description_width": ""
      }
     },
     "00e623690ebc4c7ba1066560141a4680": {
      "model_module": "@jupyter-widgets/controls",
      "model_module_version": "1.5.0",
      "model_name": "HTMLModel",
      "state": {
       "layout": "IPY_MODEL_dabf107679374c76a42db2358b07beb9",
       "style": "IPY_MODEL_d71177dda28e4b6eb78aab6fc5c68c1b",
       "value": "-"
      }
     },
     "0279e28d4bf24ff0815dc697007b1c4c": {
      "model_module": "@jupyter-widgets/controls",
      "model_module_version": "1.5.0",
      "model_name": "HTMLModel",
      "state": {
       "layout": "IPY_MODEL_884a7e74bf444dcab70d55289e1e6e87",
       "style": "IPY_MODEL_59822af10746402d9fec8be50bff0607",
       "value": "job has successfully run"
      }
     },
     "033c126625524bd58149c32f23ec805e": {
      "model_module": "@jupyter-widgets/base",
      "model_module_version": "1.2.0",
      "model_name": "LayoutModel",
      "state": {
       "width": "95px"
      }
     },
     "03ca6b1d71904d509976d4adb42c5cfc": {
      "model_module": "@jupyter-widgets/controls",
      "model_module_version": "1.5.0",
      "model_name": "HTMLModel",
      "state": {
       "layout": "IPY_MODEL_6cf3d693779b4541bcb8af560a78f9b5",
       "style": "IPY_MODEL_1b7ea0eab55a4b76b9a6466458610a9e",
       "value": "<font style='color:#34BC6E'>DONE</font>"
      }
     },
     "0649b04f95dd4a4ea08a57866fcb5b7b": {
      "model_module": "@jupyter-widgets/base",
      "model_module_version": "1.2.0",
      "model_name": "LayoutModel",
      "state": {
       "max_width": "700px",
       "min_width": "700px"
      }
     },
     "06a8c313a81c4b93b7dec6dd28236d68": {
      "model_module": "@jupyter-widgets/base",
      "model_module_version": "1.2.0",
      "model_name": "LayoutModel",
      "state": {
       "overflow_x": "scroll"
      }
     },
     "07079630cd1542169a2dfd601bfe6be8": {
      "model_module": "@jupyter-widgets/base",
      "model_module_version": "1.2.0",
      "model_name": "LayoutModel",
      "state": {
       "overflow_x": "scroll"
      }
     },
     "07fb8fc915b741afb355a5b2c5ff23d7": {
      "model_module": "@jupyter-widgets/controls",
      "model_module_version": "1.5.0",
      "model_name": "HBoxModel",
      "state": {
       "children": [
        "IPY_MODEL_622e48991dae4ca0aa3affd3c1ea82d8",
        "IPY_MODEL_911c5ed2437a458aad573c54d0efcc19",
        "IPY_MODEL_7adac7146544474ba35cb0ff7e5f7cc3",
        "IPY_MODEL_03ca6b1d71904d509976d4adb42c5cfc",
        "IPY_MODEL_3e3d3455844b4eacad14443d75b5a104",
        "IPY_MODEL_e0d96a602e0a4f1c96b48f28b92f9d8b"
       ],
       "layout": "IPY_MODEL_94b46c62f67540999b0107d31343b8dd"
      }
     },
     "09029384f65d48529962283803b04f19": {
      "model_module": "@jupyter-widgets/controls",
      "model_module_version": "1.5.0",
      "model_name": "DescriptionStyleModel",
      "state": {
       "description_width": ""
      }
     },
     "092c19925169400f9d78412ebe722d5d": {
      "model_module": "@jupyter-widgets/base",
      "model_module_version": "1.2.0",
      "model_name": "LayoutModel",
      "state": {
       "width": "145px"
      }
     },
     "09540c893cd745cfa83f676f4e7ff3e7": {
      "model_module": "@jupyter-widgets/base",
      "model_module_version": "1.2.0",
      "model_name": "LayoutModel",
      "state": {
       "overflow_x": "scroll"
      }
     },
     "095b5cfb59dc4a41a6bccef3bc67779f": {
      "model_module": "@jupyter-widgets/base",
      "model_module_version": "1.2.0",
      "model_name": "LayoutModel",
      "state": {
       "width": "70px"
      }
     },
     "09d4b03aabff4c3d8d8b3304208876b1": {
      "model_module": "@jupyter-widgets/base",
      "model_module_version": "1.2.0",
      "model_name": "LayoutModel",
      "state": {
       "margin": "0px 5px 0px 0px",
       "width": "32px"
      }
     },
     "0a3c2725224845a8ac2b8189dfe79588": {
      "model_module": "@jupyter-widgets/base",
      "model_module_version": "1.2.0",
      "model_name": "LayoutModel",
      "state": {
       "width": "145px"
      }
     },
     "0beee813308d4c32a2c1895125fbebf3": {
      "model_module": "@jupyter-widgets/base",
      "model_module_version": "1.2.0",
      "model_name": "LayoutModel",
      "state": {
       "overflow_x": "scroll"
      }
     },
     "0d3df64cd1ca48428af1307c41155cb0": {
      "model_module": "@jupyter-widgets/controls",
      "model_module_version": "1.5.0",
      "model_name": "DescriptionStyleModel",
      "state": {
       "description_width": ""
      }
     },
     "0d9a1bcd7ef14ee59f7743846d4c866e": {
      "model_module": "@jupyter-widgets/base",
      "model_module_version": "1.2.0",
      "model_name": "LayoutModel",
      "state": {
       "margin": "0px 5px 0px 0px",
       "width": "32px"
      }
     },
     "0e29024ff8b04867a0ce3a3d2c7d3c83": {
      "model_module": "@jupyter-widgets/controls",
      "model_module_version": "1.5.0",
      "model_name": "HBoxModel",
      "state": {
       "children": [
        "IPY_MODEL_5b738fe8e13f47b3989242e69802cca1",
        "IPY_MODEL_4fe4b552cf344b6a936dd7bb44688722",
        "IPY_MODEL_2c637f72fb7a470696fe3e867a44fa06",
        "IPY_MODEL_3e1a8e63aa4d472993cda72f4ea7c28a",
        "IPY_MODEL_1cc9aaf0180c4c778339505711b4b584",
        "IPY_MODEL_6acf5311cbea4353a06bc6868d34bf71"
       ],
       "layout": "IPY_MODEL_fb313dde8e5542008e18866826f61f92"
      }
     },
     "0e7aca88e66140d38fb992699d805e70": {
      "model_module": "@jupyter-widgets/controls",
      "model_module_version": "1.5.0",
      "model_name": "ButtonStyleModel",
      "state": {
       "button_color": "white"
      }
     },
     "103135fbb0d74f3da90a240c50d9f08e": {
      "model_module": "@jupyter-widgets/controls",
      "model_module_version": "1.5.0",
      "model_name": "HTMLModel",
      "state": {
       "layout": "IPY_MODEL_9d56f80de5bb417cbf60b466fab757fb",
       "style": "IPY_MODEL_b9889993bba24de29921f279923188ff",
       "value": "<font style='color:#34BC6E'>DONE</font>"
      }
     },
     "11891905aca94a4ca97a2b47c5a4c2df": {
      "model_module": "@jupyter-widgets/controls",
      "model_module_version": "1.5.0",
      "model_name": "DescriptionStyleModel",
      "state": {
       "description_width": ""
      }
     },
     "12f795a8763b449cb2da91578650e8b5": {
      "model_module": "@jupyter-widgets/controls",
      "model_module_version": "1.5.0",
      "model_name": "HBoxModel",
      "state": {
       "children": [
        "IPY_MODEL_d6a462af6b154d92bed9a665c9c97cd2",
        "IPY_MODEL_94c58ddf3cb2481b9387ff7276850ba9",
        "IPY_MODEL_7be7282504724fffae9a6ce2206571af",
        "IPY_MODEL_b92d77893b4d40579417574492504553",
        "IPY_MODEL_5173ea590d1d4be5be68d47b49c1eca8",
        "IPY_MODEL_0279e28d4bf24ff0815dc697007b1c4c"
       ],
       "layout": "IPY_MODEL_0649b04f95dd4a4ea08a57866fcb5b7b"
      }
     },
     "139b442d5bed4c51bdbe34ada8eb5a6d": {
      "model_module": "@jupyter-widgets/controls",
      "model_module_version": "1.5.0",
      "model_name": "DescriptionStyleModel",
      "state": {
       "description_width": ""
      }
     },
     "13e5a7ebdbac4bac9b1178486c5fa45d": {
      "model_module": "@jupyter-widgets/base",
      "model_module_version": "1.2.0",
      "model_name": "LayoutModel",
      "state": {
       "max_width": "700px",
       "min_width": "700px"
      }
     },
     "14183663ed894245bd9fd29329d3b5f7": {
      "model_module": "@jupyter-widgets/controls",
      "model_module_version": "1.5.0",
      "model_name": "HTMLModel",
      "state": {
       "layout": "IPY_MODEL_0beee813308d4c32a2c1895125fbebf3",
       "style": "IPY_MODEL_e4973772c28f409589f7bb8f7214336b",
       "value": "job has successfully run"
      }
     },
     "14b48fe846c6433d9677cd93e5959062": {
      "model_module": "@jupyter-widgets/base",
      "model_module_version": "1.2.0",
      "model_name": "LayoutModel",
      "state": {
       "width": "190px"
      }
     },
     "159a4735587d4a4c80ccc373d77e35af": {
      "model_module": "@jupyter-widgets/controls",
      "model_module_version": "1.5.0",
      "model_name": "HTMLModel",
      "state": {
       "layout": "IPY_MODEL_b1b3a342fcc748ad85e30ca7cd01c934",
       "style": "IPY_MODEL_0d3df64cd1ca48428af1307c41155cb0",
       "value": "<h5>Backend</h5>"
      }
     },
     "17d395d3d97749aeb0f4f4e6e2044c6d": {
      "model_module": "@jupyter-widgets/controls",
      "model_module_version": "1.5.0",
      "model_name": "HTMLModel",
      "state": {
       "layout": "IPY_MODEL_852bc008fb8440ee8b5fba33b4936e79",
       "style": "IPY_MODEL_21061116ebbf46be9ddffd420f1a0b23",
       "value": "job has successfully run"
      }
     },
     "1a932a9d034248c2b98b09519a5edf1f": {
      "model_module": "@jupyter-widgets/controls",
      "model_module_version": "1.5.0",
      "model_name": "HBoxModel",
      "state": {
       "children": [
        "IPY_MODEL_2e1ddec205684f1781395d87342d7b7a",
        "IPY_MODEL_7c373b150e4840789f0e8027942e3101",
        "IPY_MODEL_a1a9f04069df47bdbac242bce2e5778d",
        "IPY_MODEL_768fd34d1ffa40f48aea5cdcff1858f7",
        "IPY_MODEL_b6c36794e2c24a5bb84d55a6062bbb29",
        "IPY_MODEL_9484d72866c544e18d294ac5b3bd2229"
       ],
       "layout": "IPY_MODEL_bc68fb53945541c7a504cd74a4f3df59"
      }
     },
     "1a99868a4bd944e982882add9a173a9b": {
      "model_module": "@jupyter-widgets/base",
      "model_module_version": "1.2.0",
      "model_name": "LayoutModel",
      "state": {
       "width": "145px"
      }
     },
     "1af4b13895d6449d986790e269edd6a2": {
      "model_module": "@jupyter-widgets/base",
      "model_module_version": "1.2.0",
      "model_name": "LayoutModel",
      "state": {
       "width": "145px"
      }
     },
     "1b6c0f4b14b94e62b1c451495e877c7a": {
      "model_module": "@jupyter-widgets/controls",
      "model_module_version": "1.5.0",
      "model_name": "HTMLModel",
      "state": {
       "layout": "IPY_MODEL_a2a45d6014d14c2abf4d081e0d0fe98f",
       "style": "IPY_MODEL_2e0da07f0a6c454b9d1e79b98638c4c0",
       "value": "-"
      }
     },
     "1b7ea0eab55a4b76b9a6466458610a9e": {
      "model_module": "@jupyter-widgets/controls",
      "model_module_version": "1.5.0",
      "model_name": "DescriptionStyleModel",
      "state": {
       "description_width": ""
      }
     },
     "1bd389152c6b43819a978e4e10665d4a": {
      "model_module": "@jupyter-widgets/controls",
      "model_module_version": "1.5.0",
      "model_name": "HTMLModel",
      "state": {
       "layout": "IPY_MODEL_8b9c9a80a3e5475988b1b881df8c7096",
       "style": "IPY_MODEL_e2437b93e5134ca1afc3da516e63708d",
       "value": "-"
      }
     },
     "1c2a88cfec68481a8210024e5be0a97d": {
      "model_module": "@jupyter-widgets/base",
      "model_module_version": "1.2.0",
      "model_name": "LayoutModel",
      "state": {
       "width": "70px"
      }
     },
     "1c4b6a8e8f1940569c225ee73c0a3b5d": {
      "model_module": "@jupyter-widgets/controls",
      "model_module_version": "1.5.0",
      "model_name": "DescriptionStyleModel",
      "state": {
       "description_width": ""
      }
     },
     "1cc9aaf0180c4c778339505711b4b584": {
      "model_module": "@jupyter-widgets/controls",
      "model_module_version": "1.5.0",
      "model_name": "HTMLModel",
      "state": {
       "layout": "IPY_MODEL_7d974d5d76344ad7a0816fd4fd76f58b",
       "style": "IPY_MODEL_9868c077195d4599970ca2cfc57ef074",
       "value": "23"
      }
     },
     "1ccec5114f4b425186e48066459215a0": {
      "model_module": "@jupyter-widgets/controls",
      "model_module_version": "1.5.0",
      "model_name": "ButtonStyleModel",
      "state": {
       "button_color": "white"
      }
     },
     "1e3f185d73594a4cb1c54049919e1619": {
      "model_module": "@jupyter-widgets/controls",
      "model_module_version": "1.5.0",
      "model_name": "HTMLModel",
      "state": {
       "layout": "IPY_MODEL_14b48fe846c6433d9677cd93e5959062",
       "style": "IPY_MODEL_7f1b0d08819a4aad979b7bc8b1aa2c3e",
       "value": "62e64944ec8dccae0c00fea0"
      }
     },
     "1ed76b1743d840cba96487b812fd8eff": {
      "model_module": "@jupyter-widgets/base",
      "model_module_version": "1.2.0",
      "model_name": "LayoutModel",
      "state": {
       "width": "70px"
      }
     },
     "1f64218fbc4c44c09b3c1bc341dc0f8d": {
      "model_module": "@jupyter-widgets/controls",
      "model_module_version": "1.5.0",
      "model_name": "DescriptionStyleModel",
      "state": {
       "description_width": ""
      }
     },
     "20d68bf67dd84e608e42b6eb7a252c3c": {
      "model_module": "@jupyter-widgets/base",
      "model_module_version": "1.2.0",
      "model_name": "LayoutModel",
      "state": {
       "width": "190px"
      }
     },
     "21061116ebbf46be9ddffd420f1a0b23": {
      "model_module": "@jupyter-widgets/controls",
      "model_module_version": "1.5.0",
      "model_name": "DescriptionStyleModel",
      "state": {
       "description_width": ""
      }
     },
     "21bc9170403b4e238420efd574dbe489": {
      "model_module": "@jupyter-widgets/base",
      "model_module_version": "1.2.0",
      "model_name": "LayoutModel",
      "state": {
       "width": "70px"
      }
     },
     "22b1ee8fdf1e42278854e67533db463d": {
      "model_module": "@jupyter-widgets/controls",
      "model_module_version": "1.5.0",
      "model_name": "DescriptionStyleModel",
      "state": {
       "description_width": ""
      }
     },
     "22bea57434594b17a07f555b481780c5": {
      "model_module": "@jupyter-widgets/controls",
      "model_module_version": "1.5.0",
      "model_name": "DescriptionStyleModel",
      "state": {
       "description_width": ""
      }
     },
     "22d4121f8890478eb5a8a7b2db0f33a0": {
      "model_module": "@jupyter-widgets/controls",
      "model_module_version": "1.5.0",
      "model_name": "DescriptionStyleModel",
      "state": {
       "description_width": ""
      }
     },
     "243c3cf12d3a4b01b41080fb97dfa1b5": {
      "model_module": "@jupyter-widgets/base",
      "model_module_version": "1.2.0",
      "model_name": "LayoutModel",
      "state": {
       "width": "190px"
      }
     },
     "244f127eb4cd4823942470b4aea8e830": {
      "model_module": "@jupyter-widgets/base",
      "model_module_version": "1.2.0",
      "model_name": "LayoutModel",
      "state": {}
     },
     "2522d4f21a5d4366b184629f5a3431b5": {
      "model_module": "@jupyter-widgets/base",
      "model_module_version": "1.2.0",
      "model_name": "LayoutModel",
      "state": {
       "grid_area": "right",
       "padding": "0px 0px 0px 0px",
       "width": "70px"
      }
     },
     "26208050434d48b0b30412dc7a92e8d2": {
      "model_module": "@jupyter-widgets/controls",
      "model_module_version": "1.5.0",
      "model_name": "DescriptionStyleModel",
      "state": {
       "description_width": ""
      }
     },
     "29b7d16a83154e28bb76507e79adb640": {
      "model_module": "@jupyter-widgets/controls",
      "model_module_version": "1.5.0",
      "model_name": "ButtonStyleModel",
      "state": {
       "button_color": "white"
      }
     },
     "29dbe921d1704a5c9f4b7a338dd3a877": {
      "model_module": "@jupyter-widgets/base",
      "model_module_version": "1.2.0",
      "model_name": "LayoutModel",
      "state": {
       "width": "190px"
      }
     },
     "2b0631b760b740beb21f2fcdf84ccd1a": {
      "model_module": "@jupyter-widgets/base",
      "model_module_version": "1.2.0",
      "model_name": "LayoutModel",
      "state": {
       "max_width": "700px",
       "min_width": "700px"
      }
     },
     "2b752d37a6b145e0bceaedb3179c6954": {
      "model_module": "@jupyter-widgets/base",
      "model_module_version": "1.2.0",
      "model_name": "LayoutModel",
      "state": {
       "width": "190px"
      }
     },
     "2b75360fee424555996614e74de6b9ba": {
      "model_module": "@jupyter-widgets/base",
      "model_module_version": "1.2.0",
      "model_name": "LayoutModel",
      "state": {
       "width": "95px"
      }
     },
     "2bfa336e75d542589216fe28843f958d": {
      "model_module": "@jupyter-widgets/base",
      "model_module_version": "1.2.0",
      "model_name": "LayoutModel",
      "state": {
       "margin": "0px 5px 0px 0px",
       "width": "32px"
      }
     },
     "2c637f72fb7a470696fe3e867a44fa06": {
      "model_module": "@jupyter-widgets/controls",
      "model_module_version": "1.5.0",
      "model_name": "HTMLModel",
      "state": {
       "layout": "IPY_MODEL_6cd1cd51e7ce42cb9a40550fdd875e7a",
       "style": "IPY_MODEL_1f64218fbc4c44c09b3c1bc341dc0f8d",
       "value": "ibmq_manila"
      }
     },
     "2d52a0503a7c474dbadf2e9654335e9a": {
      "model_module": "@jupyter-widgets/controls",
      "model_module_version": "1.5.0",
      "model_name": "DescriptionStyleModel",
      "state": {
       "description_width": ""
      }
     },
     "2e0da07f0a6c454b9d1e79b98638c4c0": {
      "model_module": "@jupyter-widgets/controls",
      "model_module_version": "1.5.0",
      "model_name": "DescriptionStyleModel",
      "state": {
       "description_width": ""
      }
     },
     "2e1ddec205684f1781395d87342d7b7a": {
      "model_module": "@jupyter-widgets/controls",
      "model_module_version": "1.5.0",
      "model_name": "ButtonModel",
      "state": {
       "icon": "close",
       "layout": "IPY_MODEL_cf23fa5c387649e39963d25eff8d1619",
       "style": "IPY_MODEL_4c4a50d8d14a42b19db687594dfd6dad"
      }
     },
     "308bd118d46d496cb77cc147821a9d5b": {
      "model_module": "@jupyter-widgets/controls",
      "model_module_version": "1.5.0",
      "model_name": "DescriptionStyleModel",
      "state": {
       "description_width": ""
      }
     },
     "3200f47b466b499894ae7cc63ff40b23": {
      "model_module": "@jupyter-widgets/controls",
      "model_module_version": "1.5.0",
      "model_name": "DescriptionStyleModel",
      "state": {
       "description_width": ""
      }
     },
     "33dceddf08ff4596b08fcc9ff94698f3": {
      "model_module": "@jupyter-widgets/base",
      "model_module_version": "1.2.0",
      "model_name": "LayoutModel",
      "state": {
       "width": "95px"
      }
     },
     "364539ba1d3248de88c4f5cc432c2ec6": {
      "model_module": "@jupyter-widgets/base",
      "model_module_version": "1.2.0",
      "model_name": "LayoutModel",
      "state": {
       "margin": "0px 0px 0px 37px",
       "width": "600px"
      }
     },
     "36ef2dcfa41447418203e1c1f5aa4454": {
      "model_module": "@jupyter-widgets/base",
      "model_module_version": "1.2.0",
      "model_name": "LayoutModel",
      "state": {
       "width": "95px"
      }
     },
     "3774156193b84baca50a9da24a5cf4e1": {
      "model_module": "@jupyter-widgets/controls",
      "model_module_version": "1.5.0",
      "model_name": "HBoxModel",
      "state": {
       "children": [
        "IPY_MODEL_f131eb82208041b18642f18274756d83",
        "IPY_MODEL_7059aeec714d4850a5c12cb63fb047d8",
        "IPY_MODEL_a0c84ba5da2647859d37a4a8aed1d3e5",
        "IPY_MODEL_103135fbb0d74f3da90a240c50d9f08e",
        "IPY_MODEL_1bd389152c6b43819a978e4e10665d4a",
        "IPY_MODEL_f9de731554a44000b40e0d9463176986"
       ],
       "layout": "IPY_MODEL_4f36b177da1042979b8b316afe65a2b0"
      }
     },
     "37fc8246b7a74f40b2c02c7b11154500": {
      "model_module": "@jupyter-widgets/controls",
      "model_module_version": "1.5.0",
      "model_name": "DescriptionStyleModel",
      "state": {
       "description_width": ""
      }
     },
     "382b27d928aa4c48ac21ad2b5423814c": {
      "model_module": "@jupyter-widgets/controls",
      "model_module_version": "1.5.0",
      "model_name": "ButtonStyleModel",
      "state": {
       "button_color": "white"
      }
     },
     "3855a7275b4444fea4b6c6bff16b4f05": {
      "model_module": "@jupyter-widgets/controls",
      "model_module_version": "1.5.0",
      "model_name": "ButtonStyleModel",
      "state": {}
     },
     "3900a56e2c2c48348c21540166734aa9": {
      "model_module": "@jupyter-widgets/base",
      "model_module_version": "1.2.0",
      "model_name": "LayoutModel",
      "state": {
       "width": "145px"
      }
     },
     "3b489268293b439d81ecfb74c6756b69": {
      "model_module": "@jupyter-widgets/controls",
      "model_module_version": "1.5.0",
      "model_name": "DescriptionStyleModel",
      "state": {
       "description_width": ""
      }
     },
     "3bdb40f227984a2e9a4cb9d790ce5bc6": {
      "model_module": "@jupyter-widgets/base",
      "model_module_version": "1.2.0",
      "model_name": "LayoutModel",
      "state": {
       "width": "70px"
      }
     },
     "3be3d22a1af44747a03e3dbbde7fcad1": {
      "model_module": "@jupyter-widgets/controls",
      "model_module_version": "1.5.0",
      "model_name": "HBoxModel",
      "state": {
       "children": [
        "IPY_MODEL_0097d38052544f01b6b3dcfc1d995b8a",
        "IPY_MODEL_51c29cad64d24e83a832c1d87f64afea",
        "IPY_MODEL_3c11349438944ad19cb358ec8207bf89",
        "IPY_MODEL_7d261e220e1248d697b8f5f83a659068",
        "IPY_MODEL_68f2af45c26c43bb8129cb32ac09885e",
        "IPY_MODEL_a29828982833412b95daad59c9e24a25"
       ],
       "layout": "IPY_MODEL_13e5a7ebdbac4bac9b1178486c5fa45d"
      }
     },
     "3c11349438944ad19cb358ec8207bf89": {
      "model_module": "@jupyter-widgets/controls",
      "model_module_version": "1.5.0",
      "model_name": "HTMLModel",
      "state": {
       "layout": "IPY_MODEL_1af4b13895d6449d986790e269edd6a2",
       "style": "IPY_MODEL_86906622163048438bb2968d38bfeadc",
       "value": "ibmq_manila"
      }
     },
     "3c44867044a44136b73d06a844cba248": {
      "model_module": "@jupyter-widgets/controls",
      "model_module_version": "1.5.0",
      "model_name": "DescriptionStyleModel",
      "state": {
       "description_width": ""
      }
     },
     "3d96b9e06ace451f8b00875a8c0309f8": {
      "model_module": "@jupyter-widgets/controls",
      "model_module_version": "1.5.0",
      "model_name": "DescriptionStyleModel",
      "state": {
       "description_width": ""
      }
     },
     "3daef4462acb4be9b70ebf2c3b3c4625": {
      "model_module": "@jupyter-widgets/base",
      "model_module_version": "1.2.0",
      "model_name": "LayoutModel",
      "state": {
       "width": "70px"
      }
     },
     "3e1a8e63aa4d472993cda72f4ea7c28a": {
      "model_module": "@jupyter-widgets/controls",
      "model_module_version": "1.5.0",
      "model_name": "HTMLModel",
      "state": {
       "layout": "IPY_MODEL_47fc04ff8930476d8e2537c8024bfc4e",
       "style": "IPY_MODEL_95c54a80f5cd463db042065984edc650",
       "value": "QUEUED"
      }
     },
     "3e3768bb5b03443bb79fca78298d7367": {
      "model_module": "@jupyter-widgets/controls",
      "model_module_version": "1.5.0",
      "model_name": "HTMLModel",
      "state": {
       "layout": "IPY_MODEL_a725fb5230c649b9968885dfe84b721f",
       "style": "IPY_MODEL_b96c92ef225b483eae42c831ceed4eb9",
       "value": "<font style='color:#FFB000'>CANCELLED</font>"
      }
     },
     "3e3d3455844b4eacad14443d75b5a104": {
      "model_module": "@jupyter-widgets/controls",
      "model_module_version": "1.5.0",
      "model_name": "HTMLModel",
      "state": {
       "layout": "IPY_MODEL_a9defc7639624cde89c5e57650377193",
       "style": "IPY_MODEL_e5de1f36c4ab41488b7085a18d13bde0",
       "value": "-"
      }
     },
     "3e7c05a945ed4a86a6b371a9016c1005": {
      "model_module": "@jupyter-widgets/controls",
      "model_module_version": "1.5.0",
      "model_name": "ButtonModel",
      "state": {
       "icon": "close",
       "layout": "IPY_MODEL_e74c65f5c96e42d3b4dc583e351ad578",
       "style": "IPY_MODEL_8094a31d429545688f855feeafdddb46"
      }
     },
     "403bb2066aad4221bd66bc7a835d884c": {
      "model_module": "@jupyter-widgets/base",
      "model_module_version": "1.2.0",
      "model_name": "LayoutModel",
      "state": {
       "width": "145px"
      }
     },
     "413f578865b44c289edb6e3243282b7b": {
      "model_module": "@jupyter-widgets/base",
      "model_module_version": "1.2.0",
      "model_name": "LayoutModel",
      "state": {
       "margin": "0px 5px 0px 0px",
       "width": "32px"
      }
     },
     "423acbedad0b4e54ac3d6070b2f63437": {
      "model_module": "@jupyter-widgets/controls",
      "model_module_version": "1.5.0",
      "model_name": "DescriptionStyleModel",
      "state": {
       "description_width": ""
      }
     },
     "4420a14b37ec4f08adb2c3badda018fb": {
      "model_module": "@jupyter-widgets/base",
      "model_module_version": "1.2.0",
      "model_name": "LayoutModel",
      "state": {
       "width": "190px"
      }
     },
     "44798cf0c05242f388d49b70259b743a": {
      "model_module": "@jupyter-widgets/base",
      "model_module_version": "1.2.0",
      "model_name": "LayoutModel",
      "state": {
       "margin": "0px 5px 0px 0px",
       "width": "32px"
      }
     },
     "451fa30e8afa4e42a0928be997c5065d": {
      "model_module": "@jupyter-widgets/controls",
      "model_module_version": "1.5.0",
      "model_name": "ButtonStyleModel",
      "state": {
       "button_color": "white"
      }
     },
     "4618664280f1431f8598214e70c3198d": {
      "model_module": "@jupyter-widgets/controls",
      "model_module_version": "1.5.0",
      "model_name": "ButtonStyleModel",
      "state": {
       "button_color": "white"
      }
     },
     "4632447a5d12455da23f892bbf2799b1": {
      "model_module": "@jupyter-widgets/controls",
      "model_module_version": "1.5.0",
      "model_name": "DescriptionStyleModel",
      "state": {
       "description_width": ""
      }
     },
     "466855ceb11a4c4890d8aa6f0070c47a": {
      "model_module": "@jupyter-widgets/base",
      "model_module_version": "1.2.0",
      "model_name": "LayoutModel",
      "state": {
       "margin": "0px 5px 0px 0px",
       "width": "32px"
      }
     },
     "46a6204234234646917f4a0518607041": {
      "model_module": "@jupyter-widgets/controls",
      "model_module_version": "1.5.0",
      "model_name": "DescriptionStyleModel",
      "state": {
       "description_width": ""
      }
     },
     "47fc04ff8930476d8e2537c8024bfc4e": {
      "model_module": "@jupyter-widgets/base",
      "model_module_version": "1.2.0",
      "model_name": "LayoutModel",
      "state": {
       "width": "95px"
      }
     },
     "488d440fd7864be79d999491f5459ab0": {
      "model_module": "@jupyter-widgets/controls",
      "model_module_version": "1.5.0",
      "model_name": "DescriptionStyleModel",
      "state": {
       "description_width": ""
      }
     },
     "4921928ec9d54cc4a3cb16e6155a0df9": {
      "model_module": "@jupyter-widgets/controls",
      "model_module_version": "1.5.0",
      "model_name": "HTMLModel",
      "state": {
       "layout": "IPY_MODEL_403bb2066aad4221bd66bc7a835d884c",
       "style": "IPY_MODEL_ad7d0ab5a1c3462395048bf2b27ec96e",
       "value": "ibmq_manila"
      }
     },
     "499fea4d4b0f45beaadffeb4f7b269c5": {
      "model_module": "@jupyter-widgets/controls",
      "model_module_version": "1.5.0",
      "model_name": "HTMLModel",
      "state": {
       "layout": "IPY_MODEL_895db669d770401c86f291a6f0cd55cc",
       "style": "IPY_MODEL_09029384f65d48529962283803b04f19",
       "value": "62e63c8e3e2c284e88bd40f2"
      }
     },
     "4c4a50d8d14a42b19db687594dfd6dad": {
      "model_module": "@jupyter-widgets/controls",
      "model_module_version": "1.5.0",
      "model_name": "ButtonStyleModel",
      "state": {
       "button_color": "white"
      }
     },
     "4d7539ed9d9842d5a47773b4d2327dcd": {
      "model_module": "@jupyter-widgets/controls",
      "model_module_version": "1.5.0",
      "model_name": "DescriptionStyleModel",
      "state": {
       "description_width": ""
      }
     },
     "4f36b177da1042979b8b316afe65a2b0": {
      "model_module": "@jupyter-widgets/base",
      "model_module_version": "1.2.0",
      "model_name": "LayoutModel",
      "state": {
       "max_width": "700px",
       "min_width": "700px"
      }
     },
     "4fe4b552cf344b6a936dd7bb44688722": {
      "model_module": "@jupyter-widgets/controls",
      "model_module_version": "1.5.0",
      "model_name": "HTMLModel",
      "state": {
       "layout": "IPY_MODEL_bfb62cd773534332b3338da68278538d",
       "style": "IPY_MODEL_00cf3c6b9dc9450388406c6e63433c8c",
       "value": "62e6afc63e2c28de26bd43da"
      }
     },
     "5173ea590d1d4be5be68d47b49c1eca8": {
      "model_module": "@jupyter-widgets/controls",
      "model_module_version": "1.5.0",
      "model_name": "HTMLModel",
      "state": {
       "layout": "IPY_MODEL_3daef4462acb4be9b70ebf2c3b3c4625",
       "style": "IPY_MODEL_b3ce9caf7c0a4a11bdd444589f61b5fe",
       "value": "-"
      }
     },
     "51c29cad64d24e83a832c1d87f64afea": {
      "model_module": "@jupyter-widgets/controls",
      "model_module_version": "1.5.0",
      "model_name": "HTMLModel",
      "state": {
       "layout": "IPY_MODEL_29dbe921d1704a5c9f4b7a338dd3a877",
       "style": "IPY_MODEL_3c44867044a44136b73d06a844cba248",
       "value": "62e69cc9a07edd79c82463df"
      }
     },
     "52234b60037d4562968b7b6c1c2bc13a": {
      "model_module": "@jupyter-widgets/controls",
      "model_module_version": "1.5.0",
      "model_name": "DescriptionStyleModel",
      "state": {
       "description_width": ""
      }
     },
     "530b587dba074c049a633c39dbe62fa6": {
      "model_module": "@jupyter-widgets/base",
      "model_module_version": "1.2.0",
      "model_name": "LayoutModel",
      "state": {
       "max_width": "700px",
       "min_width": "700px"
      }
     },
     "5866f0b88b514cfdb514d2dc970119dc": {
      "model_module": "@jupyter-widgets/base",
      "model_module_version": "1.2.0",
      "model_name": "LayoutModel",
      "state": {
       "width": "95px"
      }
     },
     "589cf345f3a148c4927210fb8039ec75": {
      "model_module": "@jupyter-widgets/base",
      "model_module_version": "1.2.0",
      "model_name": "LayoutModel",
      "state": {
       "width": "190px"
      }
     },
     "58c3d5e3de514ce2971aeccf736f80dc": {
      "model_module": "@jupyter-widgets/controls",
      "model_module_version": "1.5.0",
      "model_name": "DescriptionStyleModel",
      "state": {
       "description_width": ""
      }
     },
     "59822af10746402d9fec8be50bff0607": {
      "model_module": "@jupyter-widgets/controls",
      "model_module_version": "1.5.0",
      "model_name": "DescriptionStyleModel",
      "state": {
       "description_width": ""
      }
     },
     "5b738fe8e13f47b3989242e69802cca1": {
      "model_module": "@jupyter-widgets/controls",
      "model_module_version": "1.5.0",
      "model_name": "ButtonModel",
      "state": {
       "icon": "close",
       "layout": "IPY_MODEL_a3bb953608324cc0b640bf7e49e78d33",
       "style": "IPY_MODEL_fc070ac5ae37451bb4e25bcea950eea0"
      }
     },
     "5bd590195428462a8902063a2aa50d70": {
      "model_module": "@jupyter-widgets/base",
      "model_module_version": "1.2.0",
      "model_name": "LayoutModel",
      "state": {
       "width": "190px"
      }
     },
     "5f709517c859416ba8f9020f58b5d413": {
      "model_module": "@jupyter-widgets/controls",
      "model_module_version": "1.5.0",
      "model_name": "HTMLModel",
      "state": {
       "layout": "IPY_MODEL_d5b6692335f14b68be773fd3d9ccf650",
       "style": "IPY_MODEL_705b55ca67b2466e83bd6bd720202f7c",
       "value": "-"
      }
     },
     "608ae03a59364896a3d434645dd9bd74": {
      "model_module": "@jupyter-widgets/base",
      "model_module_version": "1.2.0",
      "model_name": "LayoutModel",
      "state": {
       "max_width": "700px",
       "min_width": "700px"
      }
     },
     "60a892c656ff43c4a19e7ea89a74be8b": {
      "model_module": "@jupyter-widgets/controls",
      "model_module_version": "1.5.0",
      "model_name": "HBoxModel",
      "state": {
       "children": [
        "IPY_MODEL_ff6bc35b3a4846508cafc500f9b86b76",
        "IPY_MODEL_b2a351317d0d49329224284c32021684",
        "IPY_MODEL_cd3f70b62a064f6ea46aa0bc69bf0464",
        "IPY_MODEL_afc46e72abf74342874d79117a69b327",
        "IPY_MODEL_00e623690ebc4c7ba1066560141a4680",
        "IPY_MODEL_65a088c467a44d6db712d61d4240789d"
       ],
       "layout": "IPY_MODEL_a021229f4bed4433aee71ef96f934a0b"
      }
     },
     "622e48991dae4ca0aa3affd3c1ea82d8": {
      "model_module": "@jupyter-widgets/controls",
      "model_module_version": "1.5.0",
      "model_name": "ButtonModel",
      "state": {
       "icon": "close",
       "layout": "IPY_MODEL_b23ffcb825974c83a9aaa0949adf7766",
       "style": "IPY_MODEL_0e7aca88e66140d38fb992699d805e70"
      }
     },
     "627ef8dba4514525b53867f76f313fa6": {
      "model_module": "@jupyter-widgets/controls",
      "model_module_version": "1.5.0",
      "model_name": "ButtonStyleModel",
      "state": {
       "button_color": "white"
      }
     },
     "65a088c467a44d6db712d61d4240789d": {
      "model_module": "@jupyter-widgets/controls",
      "model_module_version": "1.5.0",
      "model_name": "HTMLModel",
      "state": {
       "layout": "IPY_MODEL_b054807f956a42a58bc7fe30368f49ca",
       "style": "IPY_MODEL_8aeeabe2ecc44833bb45a04f9810b62b",
       "value": "job has successfully run"
      }
     },
     "6661ce4a672d4be0abc58cc0c67a09b3": {
      "model_module": "@jupyter-widgets/base",
      "model_module_version": "1.2.0",
      "model_name": "LayoutModel",
      "state": {
       "width": "95px"
      }
     },
     "6744a11461894fe8a9167fd6dd850145": {
      "model_module": "@jupyter-widgets/controls",
      "model_module_version": "1.5.0",
      "model_name": "HTMLModel",
      "state": {
       "layout": "IPY_MODEL_33dceddf08ff4596b08fcc9ff94698f3",
       "style": "IPY_MODEL_fc24318583514e4dbe6cbee967189954",
       "value": "<font style='color:#34BC6E'>DONE</font>"
      }
     },
     "689621240ad74a1c95318b6481419c35": {
      "model_module": "@jupyter-widgets/controls",
      "model_module_version": "1.5.0",
      "model_name": "HBoxModel",
      "state": {
       "children": [
        "IPY_MODEL_91b870a1e14341618b546c7fcc1f04f5",
        "IPY_MODEL_9aebd912fdad407196b4d798e142494f",
        "IPY_MODEL_e830f2e6ad5b404098c302b3075ced78",
        "IPY_MODEL_facee557a3474ed1be6c70eaa0c383dc",
        "IPY_MODEL_f6130acad99848299b294a3e45e85e97",
        "IPY_MODEL_9f02df1fc59343539d97ad0a73cb198d"
       ],
       "layout": "IPY_MODEL_2b0631b760b740beb21f2fcdf84ccd1a"
      }
     },
     "68c23dd217d44d14a9abf3955aa35124": {
      "model_module": "@jupyter-widgets/controls",
      "model_module_version": "1.5.0",
      "model_name": "DescriptionStyleModel",
      "state": {
       "description_width": ""
      }
     },
     "68f13fb492a24422b5fc8d9611fba607": {
      "model_module": "@jupyter-widgets/controls",
      "model_module_version": "1.5.0",
      "model_name": "HTMLModel",
      "state": {
       "layout": "IPY_MODEL_7736b21479c7447296648ef0e74fd72f",
       "style": "IPY_MODEL_37fc8246b7a74f40b2c02c7b11154500",
       "value": "<h5>Job ID</h5>"
      }
     },
     "68f2af45c26c43bb8129cb32ac09885e": {
      "model_module": "@jupyter-widgets/controls",
      "model_module_version": "1.5.0",
      "model_name": "HTMLModel",
      "state": {
       "layout": "IPY_MODEL_1c2a88cfec68481a8210024e5be0a97d",
       "style": "IPY_MODEL_22d4121f8890478eb5a8a7b2db0f33a0",
       "value": "-"
      }
     },
     "6a154a8493444e5c87fe5f8c2e9047d0": {
      "model_module": "@jupyter-widgets/controls",
      "model_module_version": "1.5.0",
      "model_name": "DescriptionStyleModel",
      "state": {
       "description_width": ""
      }
     },
     "6a5ba7d638944c3e9928688343d3ddb2": {
      "model_module": "@jupyter-widgets/controls",
      "model_module_version": "1.5.0",
      "model_name": "DescriptionStyleModel",
      "state": {
       "description_width": ""
      }
     },
     "6acf5311cbea4353a06bc6868d34bf71": {
      "model_module": "@jupyter-widgets/controls",
      "model_module_version": "1.5.0",
      "model_name": "HTMLModel",
      "state": {
       "layout": "IPY_MODEL_fd774322157f4b29a5e54aa345479b1c",
       "style": "IPY_MODEL_ae75a1bfb96342c4adef5ba3aaf05743",
       "value": "job is queued"
      }
     },
     "6ad4282afb774860b6e4b35bb4ef028d": {
      "model_module": "@jupyter-widgets/controls",
      "model_module_version": "1.5.0",
      "model_name": "HTMLModel",
      "state": {
       "layout": "IPY_MODEL_8cfa971ceed24b4d8612f879867374f6",
       "style": "IPY_MODEL_8b0ddffffbfe4bc89282fd7e5624f4ef",
       "value": "job has successfully run"
      }
     },
     "6cd1cd51e7ce42cb9a40550fdd875e7a": {
      "model_module": "@jupyter-widgets/base",
      "model_module_version": "1.2.0",
      "model_name": "LayoutModel",
      "state": {
       "width": "145px"
      }
     },
     "6cf3d693779b4541bcb8af560a78f9b5": {
      "model_module": "@jupyter-widgets/base",
      "model_module_version": "1.2.0",
      "model_name": "LayoutModel",
      "state": {
       "width": "95px"
      }
     },
     "6e7a74e98e52497899e77f4f577cc77b": {
      "model_module": "@jupyter-widgets/base",
      "model_module_version": "1.2.0",
      "model_name": "LayoutModel",
      "state": {
       "grid_template_areas": "\n                                       \". . . . right \"\n                                        ",
       "grid_template_columns": "20% 20% 20% 20% 20%",
       "width": "100%"
      }
     },
     "70088ca476d84ab590121d9daf306e1f": {
      "model_module": "@jupyter-widgets/controls",
      "model_module_version": "1.5.0",
      "model_name": "DescriptionStyleModel",
      "state": {
       "description_width": ""
      }
     },
     "7059aeec714d4850a5c12cb63fb047d8": {
      "model_module": "@jupyter-widgets/controls",
      "model_module_version": "1.5.0",
      "model_name": "HTMLModel",
      "state": {
       "layout": "IPY_MODEL_5bd590195428462a8902063a2aa50d70",
       "style": "IPY_MODEL_6a5ba7d638944c3e9928688343d3ddb2",
       "value": "62e66a5285270c8654bb208c"
      }
     },
     "705b55ca67b2466e83bd6bd720202f7c": {
      "model_module": "@jupyter-widgets/controls",
      "model_module_version": "1.5.0",
      "model_name": "DescriptionStyleModel",
      "state": {
       "description_width": ""
      }
     },
     "71b6499de0cc48928ae3a2d2a8849768": {
      "model_module": "@jupyter-widgets/controls",
      "model_module_version": "1.5.0",
      "model_name": "HTMLModel",
      "state": {
       "layout": "IPY_MODEL_4420a14b37ec4f08adb2c3badda018fb",
       "style": "IPY_MODEL_22bea57434594b17a07f555b481780c5",
       "value": "62e678e65593a8a5da194925"
      }
     },
     "721d04f625584043ba3ecb4ca19f7581": {
      "model_module": "@jupyter-widgets/controls",
      "model_module_version": "1.5.0",
      "model_name": "DescriptionStyleModel",
      "state": {
       "description_width": ""
      }
     },
     "72751c8ac28643c3a9535749d106c6c7": {
      "model_module": "@jupyter-widgets/controls",
      "model_module_version": "1.5.0",
      "model_name": "HTMLModel",
      "state": {
       "layout": "IPY_MODEL_3bdb40f227984a2e9a4cb9d790ce5bc6",
       "style": "IPY_MODEL_11891905aca94a4ca97a2b47c5a4c2df",
       "value": "<h5>Queue</h5>"
      }
     },
     "7392913581074323b2514f7d3eb61108": {
      "model_module": "@jupyter-widgets/controls",
      "model_module_version": "1.5.0",
      "model_name": "DescriptionStyleModel",
      "state": {
       "description_width": ""
      }
     },
     "741466a7a709465eaa006dbde3a470db": {
      "model_module": "@jupyter-widgets/base",
      "model_module_version": "1.2.0",
      "model_name": "LayoutModel",
      "state": {
       "width": "145px"
      }
     },
     "768fd34d1ffa40f48aea5cdcff1858f7": {
      "model_module": "@jupyter-widgets/controls",
      "model_module_version": "1.5.0",
      "model_name": "HTMLModel",
      "state": {
       "layout": "IPY_MODEL_9a396dd9109047e0b4f3b9b8ee8d3f12",
       "style": "IPY_MODEL_22b1ee8fdf1e42278854e67533db463d",
       "value": "<font style='color:#34BC6E'>DONE</font>"
      }
     },
     "76ee1518eb284578a1f30c850de0c1b3": {
      "model_module": "@jupyter-widgets/controls",
      "model_module_version": "1.5.0",
      "model_name": "HTMLModel",
      "state": {
       "layout": "IPY_MODEL_c44604d6254546cdb6564b5cdaf4a3cf",
       "style": "IPY_MODEL_8ceab1eee8ff49c5b6253605069e3373",
       "value": "ibmq_manila"
      }
     },
     "7736b21479c7447296648ef0e74fd72f": {
      "model_module": "@jupyter-widgets/base",
      "model_module_version": "1.2.0",
      "model_name": "LayoutModel",
      "state": {
       "width": "190px"
      }
     },
     "785181b743a54067919683ec0abcb4f1": {
      "model_module": "@jupyter-widgets/controls",
      "model_module_version": "1.5.0",
      "model_name": "DescriptionStyleModel",
      "state": {
       "description_width": ""
      }
     },
     "7adac7146544474ba35cb0ff7e5f7cc3": {
      "model_module": "@jupyter-widgets/controls",
      "model_module_version": "1.5.0",
      "model_name": "HTMLModel",
      "state": {
       "layout": "IPY_MODEL_b509cfc3cc284183adbbe1b3eca30ae8",
       "style": "IPY_MODEL_afe08f68ea0d43dfb40eac5e9af7cada",
       "value": "ibmq_manila"
      }
     },
     "7b022ab6e4784adc95fad31499046675": {
      "model_module": "@jupyter-widgets/base",
      "model_module_version": "1.2.0",
      "model_name": "LayoutModel",
      "state": {
       "margin": "0px 0px 10px 0px"
      }
     },
     "7b64aed419bc4ed594dfc32aeaa5c942": {
      "model_module": "@jupyter-widgets/controls",
      "model_module_version": "1.5.0",
      "model_name": "HBoxModel",
      "state": {
       "children": [
        "IPY_MODEL_d08e57f91378444b8789c1bad6b4cc3c",
        "IPY_MODEL_1e3f185d73594a4cb1c54049919e1619",
        "IPY_MODEL_4921928ec9d54cc4a3cb16e6155a0df9",
        "IPY_MODEL_d6647b9a35784976a0718830972e8e80",
        "IPY_MODEL_c0ca61d962964066a7910703318372c5",
        "IPY_MODEL_17d395d3d97749aeb0f4f4e6e2044c6d"
       ],
       "layout": "IPY_MODEL_530b587dba074c049a633c39dbe62fa6"
      }
     },
     "7bacc70429d748f6bb31ce837729bff2": {
      "model_module": "@jupyter-widgets/base",
      "model_module_version": "1.2.0",
      "model_name": "LayoutModel",
      "state": {
       "width": "145px"
      }
     },
     "7be7282504724fffae9a6ce2206571af": {
      "model_module": "@jupyter-widgets/controls",
      "model_module_version": "1.5.0",
      "model_name": "HTMLModel",
      "state": {
       "layout": "IPY_MODEL_3900a56e2c2c48348c21540166734aa9",
       "style": "IPY_MODEL_c8cc0097d3f44565a444c3c199f7389e",
       "value": "ibmq_manila"
      }
     },
     "7c373b150e4840789f0e8027942e3101": {
      "model_module": "@jupyter-widgets/controls",
      "model_module_version": "1.5.0",
      "model_name": "HTMLModel",
      "state": {
       "layout": "IPY_MODEL_243c3cf12d3a4b01b41080fb97dfa1b5",
       "style": "IPY_MODEL_58c3d5e3de514ce2971aeccf736f80dc",
       "value": "62e67986fb9fa183e6a33dff"
      }
     },
     "7d261e220e1248d697b8f5f83a659068": {
      "model_module": "@jupyter-widgets/controls",
      "model_module_version": "1.5.0",
      "model_name": "HTMLModel",
      "state": {
       "layout": "IPY_MODEL_2b75360fee424555996614e74de6b9ba",
       "style": "IPY_MODEL_785181b743a54067919683ec0abcb4f1",
       "value": "<font style='color:#34BC6E'>DONE</font>"
      }
     },
     "7d974d5d76344ad7a0816fd4fd76f58b": {
      "model_module": "@jupyter-widgets/base",
      "model_module_version": "1.2.0",
      "model_name": "LayoutModel",
      "state": {
       "width": "70px"
      }
     },
     "7e9c2671c31247009d259f27490f6f89": {
      "model_module": "@jupyter-widgets/controls",
      "model_module_version": "1.5.0",
      "model_name": "HTMLModel",
      "state": {
       "layout": "IPY_MODEL_c9a9b2384e084c82b441e4967799b13c",
       "style": "IPY_MODEL_aa9e1bf8ac6f4de2b17845a665c74b12",
       "value": "<font style='color:#34BC6E'>DONE</font>"
      }
     },
     "7f1b0d08819a4aad979b7bc8b1aa2c3e": {
      "model_module": "@jupyter-widgets/controls",
      "model_module_version": "1.5.0",
      "model_name": "DescriptionStyleModel",
      "state": {
       "description_width": ""
      }
     },
     "8094a31d429545688f855feeafdddb46": {
      "model_module": "@jupyter-widgets/controls",
      "model_module_version": "1.5.0",
      "model_name": "ButtonStyleModel",
      "state": {
       "button_color": "white"
      }
     },
     "8247b242947a4d19a2d03165e163ea79": {
      "model_module": "@jupyter-widgets/controls",
      "model_module_version": "1.5.0",
      "model_name": "HTMLModel",
      "state": {
       "layout": "IPY_MODEL_0a3c2725224845a8ac2b8189dfe79588",
       "style": "IPY_MODEL_4d7539ed9d9842d5a47773b4d2327dcd",
       "value": "ibmq_manila"
      }
     },
     "83729630bb484fdba73f846498162c28": {
      "model_module": "@jupyter-widgets/controls",
      "model_module_version": "1.5.0",
      "model_name": "DescriptionStyleModel",
      "state": {
       "description_width": ""
      }
     },
     "852bc008fb8440ee8b5fba33b4936e79": {
      "model_module": "@jupyter-widgets/base",
      "model_module_version": "1.2.0",
      "model_name": "LayoutModel",
      "state": {
       "overflow_x": "scroll"
      }
     },
     "860d42824f9c461d89dab6a6d8e27f05": {
      "model_module": "@jupyter-widgets/controls",
      "model_module_version": "1.5.0",
      "model_name": "HTMLModel",
      "state": {
       "layout": "IPY_MODEL_f190f007fbd3409e8042cc9dd30e3645",
       "style": "IPY_MODEL_139b442d5bed4c51bdbe34ada8eb5a6d",
       "value": "ibmq_manila"
      }
     },
     "862fa299046d4a3a96d6361d16b25c7b": {
      "model_module": "@jupyter-widgets/controls",
      "model_module_version": "1.5.0",
      "model_name": "ButtonModel",
      "state": {
       "icon": "close",
       "layout": "IPY_MODEL_a981ef07d8e74a46b7c7744041b36a09",
       "style": "IPY_MODEL_627ef8dba4514525b53867f76f313fa6"
      }
     },
     "86906622163048438bb2968d38bfeadc": {
      "model_module": "@jupyter-widgets/controls",
      "model_module_version": "1.5.0",
      "model_name": "DescriptionStyleModel",
      "state": {
       "description_width": ""
      }
     },
     "87ce3efc90f34d57ae98f14baa3013e3": {
      "model_module": "@jupyter-widgets/controls",
      "model_module_version": "1.5.0",
      "model_name": "HTMLModel",
      "state": {
       "layout": "IPY_MODEL_741466a7a709465eaa006dbde3a470db",
       "style": "IPY_MODEL_3200f47b466b499894ae7cc63ff40b23",
       "value": "ibmq_manila"
      }
     },
     "880dc3297fec4af09b14fe40f9ae18d9": {
      "model_module": "@jupyter-widgets/controls",
      "model_module_version": "1.5.0",
      "model_name": "HTMLModel",
      "state": {
       "layout": "IPY_MODEL_fa12c2b238cd4ea2913040061053afe0",
       "style": "IPY_MODEL_c073fb5a561f4e929454c19eb26db510",
       "value": "-"
      }
     },
     "884a7e74bf444dcab70d55289e1e6e87": {
      "model_module": "@jupyter-widgets/base",
      "model_module_version": "1.2.0",
      "model_name": "LayoutModel",
      "state": {
       "overflow_x": "scroll"
      }
     },
     "895db669d770401c86f291a6f0cd55cc": {
      "model_module": "@jupyter-widgets/base",
      "model_module_version": "1.2.0",
      "model_name": "LayoutModel",
      "state": {
       "width": "190px"
      }
     },
     "8aeeabe2ecc44833bb45a04f9810b62b": {
      "model_module": "@jupyter-widgets/controls",
      "model_module_version": "1.5.0",
      "model_name": "DescriptionStyleModel",
      "state": {
       "description_width": ""
      }
     },
     "8b0ddffffbfe4bc89282fd7e5624f4ef": {
      "model_module": "@jupyter-widgets/controls",
      "model_module_version": "1.5.0",
      "model_name": "DescriptionStyleModel",
      "state": {
       "description_width": ""
      }
     },
     "8b9c9a80a3e5475988b1b881df8c7096": {
      "model_module": "@jupyter-widgets/base",
      "model_module_version": "1.2.0",
      "model_name": "LayoutModel",
      "state": {
       "width": "70px"
      }
     },
     "8ceab1eee8ff49c5b6253605069e3373": {
      "model_module": "@jupyter-widgets/controls",
      "model_module_version": "1.5.0",
      "model_name": "DescriptionStyleModel",
      "state": {
       "description_width": ""
      }
     },
     "8cfa971ceed24b4d8612f879867374f6": {
      "model_module": "@jupyter-widgets/base",
      "model_module_version": "1.2.0",
      "model_name": "LayoutModel",
      "state": {
       "overflow_x": "scroll"
      }
     },
     "8ed6cfc870a24feca165df5178646fbb": {
      "model_module": "@jupyter-widgets/controls",
      "model_module_version": "1.5.0",
      "model_name": "HBoxModel",
      "state": {
       "children": [
        "IPY_MODEL_862fa299046d4a3a96d6361d16b25c7b",
        "IPY_MODEL_a27a9fec33f24201afac3ff08f5f48e5",
        "IPY_MODEL_76ee1518eb284578a1f30c850de0c1b3",
        "IPY_MODEL_9f3c3dc35c1d4753a6c77d5306829814",
        "IPY_MODEL_1b6c0f4b14b94e62b1c451495e877c7a",
        "IPY_MODEL_14183663ed894245bd9fd29329d3b5f7"
       ],
       "layout": "IPY_MODEL_ddb4efb96aea4faa9a91ff966cc3a585"
      }
     },
     "911c5ed2437a458aad573c54d0efcc19": {
      "model_module": "@jupyter-widgets/controls",
      "model_module_version": "1.5.0",
      "model_name": "HTMLModel",
      "state": {
       "layout": "IPY_MODEL_e63d8826ea2f45c4ab32fb38c29c7dd7",
       "style": "IPY_MODEL_e22a9b8974094178be8d7db523e659c1",
       "value": "62e6317ca07eddfd182460bf"
      }
     },
     "91b870a1e14341618b546c7fcc1f04f5": {
      "model_module": "@jupyter-widgets/controls",
      "model_module_version": "1.5.0",
      "model_name": "ButtonModel",
      "state": {
       "icon": "close",
       "layout": "IPY_MODEL_44798cf0c05242f388d49b70259b743a",
       "style": "IPY_MODEL_fc259daf73b74a07a9f286e5d68389e3"
      }
     },
     "926337ed41e848bfb0d00c6906aef18d": {
      "model_module": "@jupyter-widgets/controls",
      "model_module_version": "1.5.0",
      "model_name": "DescriptionStyleModel",
      "state": {
       "description_width": ""
      }
     },
     "94684af2a8d5464ba9341782c8afab54": {
      "model_module": "@jupyter-widgets/controls",
      "model_module_version": "1.5.0",
      "model_name": "HTMLModel",
      "state": {
       "layout": "IPY_MODEL_1ed76b1743d840cba96487b812fd8eff",
       "style": "IPY_MODEL_f72c1d59148a490c9c9bf8c42298fc22",
       "value": "-"
      }
     },
     "9484d72866c544e18d294ac5b3bd2229": {
      "model_module": "@jupyter-widgets/controls",
      "model_module_version": "1.5.0",
      "model_name": "HTMLModel",
      "state": {
       "layout": "IPY_MODEL_adf11e7692a94456bab03a17d90a1b90",
       "style": "IPY_MODEL_46a6204234234646917f4a0518607041",
       "value": "job has successfully run"
      }
     },
     "94b46c62f67540999b0107d31343b8dd": {
      "model_module": "@jupyter-widgets/base",
      "model_module_version": "1.2.0",
      "model_name": "LayoutModel",
      "state": {
       "max_width": "700px",
       "min_width": "700px"
      }
     },
     "94c58ddf3cb2481b9387ff7276850ba9": {
      "model_module": "@jupyter-widgets/controls",
      "model_module_version": "1.5.0",
      "model_name": "HTMLModel",
      "state": {
       "layout": "IPY_MODEL_f4dacd251d49482d9bcb9d8a79c3ca60",
       "style": "IPY_MODEL_a9a814a626694a13ba20512c2900c1d4",
       "value": "62e6197585270c73d9bb1da6"
      }
     },
     "94c89b14c3f348dba8bb0cd7ee9963a6": {
      "model_module": "@jupyter-widgets/base",
      "model_module_version": "1.2.0",
      "model_name": "LayoutModel",
      "state": {
       "width": "70px"
      }
     },
     "95c54a80f5cd463db042065984edc650": {
      "model_module": "@jupyter-widgets/controls",
      "model_module_version": "1.5.0",
      "model_name": "DescriptionStyleModel",
      "state": {
       "description_width": ""
      }
     },
     "9710472d006c4f99bc99bdfd47beac30": {
      "model_module": "@jupyter-widgets/base",
      "model_module_version": "1.2.0",
      "model_name": "LayoutModel",
      "state": {
       "margin": "0px 5px 0px 0px",
       "width": "32px"
      }
     },
     "9868c077195d4599970ca2cfc57ef074": {
      "model_module": "@jupyter-widgets/controls",
      "model_module_version": "1.5.0",
      "model_name": "DescriptionStyleModel",
      "state": {
       "description_width": ""
      }
     },
     "99ee6fba36b14afcb8e28da8db70021d": {
      "model_module": "@jupyter-widgets/controls",
      "model_module_version": "1.5.0",
      "model_name": "DescriptionStyleModel",
      "state": {
       "description_width": ""
      }
     },
     "9a0c200de7ee416999f9317bbdb9466b": {
      "model_module": "@jupyter-widgets/controls",
      "model_module_version": "1.5.0",
      "model_name": "HBoxModel",
      "state": {
       "children": [
        "IPY_MODEL_cb6f8819c44e4db69bc9eb0bdbc22d68",
        "IPY_MODEL_499fea4d4b0f45beaadffeb4f7b269c5",
        "IPY_MODEL_87ce3efc90f34d57ae98f14baa3013e3",
        "IPY_MODEL_b6b22254f8cb4f7685aff3d19b77048d",
        "IPY_MODEL_f8e2d353852e49a7b8a26e6022ff7e52",
        "IPY_MODEL_6ad4282afb774860b6e4b35bb4ef028d"
       ],
       "layout": "IPY_MODEL_9e824781e6214ef8b55f12b98a7b81b4"
      }
     },
     "9a396dd9109047e0b4f3b9b8ee8d3f12": {
      "model_module": "@jupyter-widgets/base",
      "model_module_version": "1.2.0",
      "model_name": "LayoutModel",
      "state": {
       "width": "95px"
      }
     },
     "9aebd912fdad407196b4d798e142494f": {
      "model_module": "@jupyter-widgets/controls",
      "model_module_version": "1.5.0",
      "model_name": "HTMLModel",
      "state": {
       "layout": "IPY_MODEL_c533b5501071438db178d3848c1159c8",
       "style": "IPY_MODEL_3d96b9e06ace451f8b00875a8c0309f8",
       "value": "62e678a537e42f1f8faec1da"
      }
     },
     "9b8061b088f84afbb2f3d807f9abbc25": {
      "model_module": "@jupyter-widgets/base",
      "model_module_version": "1.2.0",
      "model_name": "LayoutModel",
      "state": {
       "width": "70px"
      }
     },
     "9d56f80de5bb417cbf60b466fab757fb": {
      "model_module": "@jupyter-widgets/base",
      "model_module_version": "1.2.0",
      "model_name": "LayoutModel",
      "state": {
       "width": "95px"
      }
     },
     "9e824781e6214ef8b55f12b98a7b81b4": {
      "model_module": "@jupyter-widgets/base",
      "model_module_version": "1.2.0",
      "model_name": "LayoutModel",
      "state": {
       "max_width": "700px",
       "min_width": "700px"
      }
     },
     "9ee2d8b5f9354ec7b0dfb0745c5eaffd": {
      "model_module": "@jupyter-widgets/controls",
      "model_module_version": "1.5.0",
      "model_name": "ButtonStyleModel",
      "state": {
       "button_color": "white"
      }
     },
     "9f02df1fc59343539d97ad0a73cb198d": {
      "model_module": "@jupyter-widgets/controls",
      "model_module_version": "1.5.0",
      "model_name": "HTMLModel",
      "state": {
       "layout": "IPY_MODEL_eddf1fce949642adad74823ff9f6109f",
       "style": "IPY_MODEL_e6045540105a43b8b8a17e74f23bd084",
       "value": "job has been cancelled"
      }
     },
     "9f3c3dc35c1d4753a6c77d5306829814": {
      "model_module": "@jupyter-widgets/controls",
      "model_module_version": "1.5.0",
      "model_name": "HTMLModel",
      "state": {
       "layout": "IPY_MODEL_033c126625524bd58149c32f23ec805e",
       "style": "IPY_MODEL_c15d31e7524c4b9c844d66189e4d8222",
       "value": "<font style='color:#34BC6E'>DONE</font>"
      }
     },
     "a021229f4bed4433aee71ef96f934a0b": {
      "model_module": "@jupyter-widgets/base",
      "model_module_version": "1.2.0",
      "model_name": "LayoutModel",
      "state": {
       "max_width": "700px",
       "min_width": "700px"
      }
     },
     "a0c84ba5da2647859d37a4a8aed1d3e5": {
      "model_module": "@jupyter-widgets/controls",
      "model_module_version": "1.5.0",
      "model_name": "HTMLModel",
      "state": {
       "layout": "IPY_MODEL_d5b50bfd18c24f18be5b409db183e0fb",
       "style": "IPY_MODEL_ef2711cad5624b8a8208cfc05cc4e7bc",
       "value": "ibmq_manila"
      }
     },
     "a1a9f04069df47bdbac242bce2e5778d": {
      "model_module": "@jupyter-widgets/controls",
      "model_module_version": "1.5.0",
      "model_name": "HTMLModel",
      "state": {
       "layout": "IPY_MODEL_7bacc70429d748f6bb31ce837729bff2",
       "style": "IPY_MODEL_faeb3fc4f923407eae1aedadb72b0ff5",
       "value": "ibmq_manila"
      }
     },
     "a27a9fec33f24201afac3ff08f5f48e5": {
      "model_module": "@jupyter-widgets/controls",
      "model_module_version": "1.5.0",
      "model_name": "HTMLModel",
      "state": {
       "layout": "IPY_MODEL_20d68bf67dd84e608e42b6eb7a252c3c",
       "style": "IPY_MODEL_926337ed41e848bfb0d00c6906aef18d",
       "value": "62e608e93e2c288164bd3f78"
      }
     },
     "a29828982833412b95daad59c9e24a25": {
      "model_module": "@jupyter-widgets/controls",
      "model_module_version": "1.5.0",
      "model_name": "HTMLModel",
      "state": {
       "layout": "IPY_MODEL_07079630cd1542169a2dfd601bfe6be8",
       "style": "IPY_MODEL_68c23dd217d44d14a9abf3955aa35124",
       "value": "job has successfully run"
      }
     },
     "a2a45d6014d14c2abf4d081e0d0fe98f": {
      "model_module": "@jupyter-widgets/base",
      "model_module_version": "1.2.0",
      "model_name": "LayoutModel",
      "state": {
       "width": "70px"
      }
     },
     "a3bb953608324cc0b640bf7e49e78d33": {
      "model_module": "@jupyter-widgets/base",
      "model_module_version": "1.2.0",
      "model_name": "LayoutModel",
      "state": {
       "margin": "0px 5px 0px 0px",
       "width": "32px"
      }
     },
     "a4c93891b54642a6ba64dcd648b8d3f4": {
      "model_module": "@jupyter-widgets/controls",
      "model_module_version": "1.5.0",
      "model_name": "DescriptionStyleModel",
      "state": {
       "description_width": ""
      }
     },
     "a4fabd77ee6b4a19b6c2c376f9424f0e": {
      "model_module": "@jupyter-widgets/controls",
      "model_module_version": "1.5.0",
      "model_name": "HTMLModel",
      "state": {
       "layout": "IPY_MODEL_244f127eb4cd4823942470b4aea8e830",
       "style": "IPY_MODEL_1c4b6a8e8f1940569c225ee73c0a3b5d",
       "value": "<h5>Message</h5>"
      }
     },
     "a725fb5230c649b9968885dfe84b721f": {
      "model_module": "@jupyter-widgets/base",
      "model_module_version": "1.2.0",
      "model_name": "LayoutModel",
      "state": {
       "width": "95px"
      }
     },
     "a981ef07d8e74a46b7c7744041b36a09": {
      "model_module": "@jupyter-widgets/base",
      "model_module_version": "1.2.0",
      "model_name": "LayoutModel",
      "state": {
       "margin": "0px 5px 0px 0px",
       "width": "32px"
      }
     },
     "a9a814a626694a13ba20512c2900c1d4": {
      "model_module": "@jupyter-widgets/controls",
      "model_module_version": "1.5.0",
      "model_name": "DescriptionStyleModel",
      "state": {
       "description_width": ""
      }
     },
     "a9acc9a215fd4108a99f62bb00b062a0": {
      "model_module": "@jupyter-widgets/controls",
      "model_module_version": "1.5.0",
      "model_name": "HTMLModel",
      "state": {
       "layout": "IPY_MODEL_7b022ab6e4784adc95fad31499046675",
       "style": "IPY_MODEL_83729630bb484fdba73f846498162c28",
       "value": "<p style='font-family: IBM Plex Sans, Arial, Helvetica, sans-serif; font-size: 20px; font-weight: medium;'>Circuit Properties</p>"
      }
     },
     "a9defc7639624cde89c5e57650377193": {
      "model_module": "@jupyter-widgets/base",
      "model_module_version": "1.2.0",
      "model_name": "LayoutModel",
      "state": {
       "width": "70px"
      }
     },
     "aa9e1bf8ac6f4de2b17845a665c74b12": {
      "model_module": "@jupyter-widgets/controls",
      "model_module_version": "1.5.0",
      "model_name": "DescriptionStyleModel",
      "state": {
       "description_width": ""
      }
     },
     "ad7d0ab5a1c3462395048bf2b27ec96e": {
      "model_module": "@jupyter-widgets/controls",
      "model_module_version": "1.5.0",
      "model_name": "DescriptionStyleModel",
      "state": {
       "description_width": ""
      }
     },
     "adadcc1dfbde4e59a5ca5819a7cb257e": {
      "model_module": "@jupyter-widgets/base",
      "model_module_version": "1.2.0",
      "model_name": "LayoutModel",
      "state": {
       "width": "190px"
      }
     },
     "adf11e7692a94456bab03a17d90a1b90": {
      "model_module": "@jupyter-widgets/base",
      "model_module_version": "1.2.0",
      "model_name": "LayoutModel",
      "state": {
       "overflow_x": "scroll"
      }
     },
     "ae42c20020cd4372b1ebebeb47f37a74": {
      "model_module": "@jupyter-widgets/controls",
      "model_module_version": "1.5.0",
      "model_name": "ButtonStyleModel",
      "state": {
       "button_color": "white"
      }
     },
     "ae75a1bfb96342c4adef5ba3aaf05743": {
      "model_module": "@jupyter-widgets/controls",
      "model_module_version": "1.5.0",
      "model_name": "DescriptionStyleModel",
      "state": {
       "description_width": ""
      }
     },
     "aedc2d6f4d834142ab3819f0b6fd7cd7": {
      "model_module": "@jupyter-widgets/base",
      "model_module_version": "1.2.0",
      "model_name": "LayoutModel",
      "state": {
       "overflow_x": "scroll"
      }
     },
     "afc46e72abf74342874d79117a69b327": {
      "model_module": "@jupyter-widgets/controls",
      "model_module_version": "1.5.0",
      "model_name": "HTMLModel",
      "state": {
       "layout": "IPY_MODEL_5866f0b88b514cfdb514d2dc970119dc",
       "style": "IPY_MODEL_fd8d7887d25b4ad6a0c789932bd26730",
       "value": "<font style='color:#34BC6E'>DONE</font>"
      }
     },
     "afdbf30fd9524013baac53b318dee83b": {
      "model_module": "@jupyter-widgets/controls",
      "model_module_version": "1.5.0",
      "model_name": "DescriptionStyleModel",
      "state": {
       "description_width": ""
      }
     },
     "afe08f68ea0d43dfb40eac5e9af7cada": {
      "model_module": "@jupyter-widgets/controls",
      "model_module_version": "1.5.0",
      "model_name": "DescriptionStyleModel",
      "state": {
       "description_width": ""
      }
     },
     "b05118c528384e28be30928f54ded1d9": {
      "model_module": "@jupyter-widgets/base",
      "model_module_version": "1.2.0",
      "model_name": "LayoutModel",
      "state": {
       "width": "95px"
      }
     },
     "b054807f956a42a58bc7fe30368f49ca": {
      "model_module": "@jupyter-widgets/base",
      "model_module_version": "1.2.0",
      "model_name": "LayoutModel",
      "state": {
       "overflow_x": "scroll"
      }
     },
     "b152104ac7774c73a30897aba97ffea5": {
      "model_module": "@jupyter-widgets/base",
      "model_module_version": "1.2.0",
      "model_name": "LayoutModel",
      "state": {
       "margin": "0px 5px 0px 0px",
       "width": "32px"
      }
     },
     "b1b3a342fcc748ad85e30ca7cd01c934": {
      "model_module": "@jupyter-widgets/base",
      "model_module_version": "1.2.0",
      "model_name": "LayoutModel",
      "state": {
       "width": "145px"
      }
     },
     "b23ffcb825974c83a9aaa0949adf7766": {
      "model_module": "@jupyter-widgets/base",
      "model_module_version": "1.2.0",
      "model_name": "LayoutModel",
      "state": {
       "margin": "0px 5px 0px 0px",
       "width": "32px"
      }
     },
     "b2a351317d0d49329224284c32021684": {
      "model_module": "@jupyter-widgets/controls",
      "model_module_version": "1.5.0",
      "model_name": "HTMLModel",
      "state": {
       "layout": "IPY_MODEL_2b752d37a6b145e0bceaedb3179c6954",
       "style": "IPY_MODEL_ff3dee9544fa49beaacb0538a2f436e5",
       "value": "62e659fca07edd7cf224625c"
      }
     },
     "b3ce9caf7c0a4a11bdd444589f61b5fe": {
      "model_module": "@jupyter-widgets/controls",
      "model_module_version": "1.5.0",
      "model_name": "DescriptionStyleModel",
      "state": {
       "description_width": ""
      }
     },
     "b3e5ed7646084e5db8d99bd8b5d6dc4e": {
      "model_module": "@jupyter-widgets/controls",
      "model_module_version": "1.5.0",
      "model_name": "HTMLModel",
      "state": {
       "layout": "IPY_MODEL_589cf345f3a148c4927210fb8039ec75",
       "style": "IPY_MODEL_afdbf30fd9524013baac53b318dee83b",
       "value": "62e689c35593a80712194982"
      }
     },
     "b509cfc3cc284183adbbe1b3eca30ae8": {
      "model_module": "@jupyter-widgets/base",
      "model_module_version": "1.2.0",
      "model_name": "LayoutModel",
      "state": {
       "width": "145px"
      }
     },
     "b5cbabbdd69f40d490475eb5c091995d": {
      "model_module": "@jupyter-widgets/base",
      "model_module_version": "1.2.0",
      "model_name": "LayoutModel",
      "state": {
       "margin": "0px 5px 0px 0px",
       "width": "32px"
      }
     },
     "b6b22254f8cb4f7685aff3d19b77048d": {
      "model_module": "@jupyter-widgets/controls",
      "model_module_version": "1.5.0",
      "model_name": "HTMLModel",
      "state": {
       "layout": "IPY_MODEL_36ef2dcfa41447418203e1c1f5aa4454",
       "style": "IPY_MODEL_52234b60037d4562968b7b6c1c2bc13a",
       "value": "<font style='color:#34BC6E'>DONE</font>"
      }
     },
     "b6c36794e2c24a5bb84d55a6062bbb29": {
      "model_module": "@jupyter-widgets/controls",
      "model_module_version": "1.5.0",
      "model_name": "HTMLModel",
      "state": {
       "layout": "IPY_MODEL_095b5cfb59dc4a41a6bccef3bc67779f",
       "style": "IPY_MODEL_70088ca476d84ab590121d9daf306e1f",
       "value": "-"
      }
     },
     "b92d77893b4d40579417574492504553": {
      "model_module": "@jupyter-widgets/controls",
      "model_module_version": "1.5.0",
      "model_name": "HTMLModel",
      "state": {
       "layout": "IPY_MODEL_6661ce4a672d4be0abc58cc0c67a09b3",
       "style": "IPY_MODEL_308bd118d46d496cb77cc147821a9d5b",
       "value": "<font style='color:#34BC6E'>DONE</font>"
      }
     },
     "b9430f5a334141beacdd5d78e0b38948": {
      "model_module": "@jupyter-widgets/base",
      "model_module_version": "1.2.0",
      "model_name": "LayoutModel",
      "state": {
       "max_width": "700px",
       "min_width": "700px"
      }
     },
     "b96c92ef225b483eae42c831ceed4eb9": {
      "model_module": "@jupyter-widgets/controls",
      "model_module_version": "1.5.0",
      "model_name": "DescriptionStyleModel",
      "state": {
       "description_width": ""
      }
     },
     "b9889993bba24de29921f279923188ff": {
      "model_module": "@jupyter-widgets/controls",
      "model_module_version": "1.5.0",
      "model_name": "DescriptionStyleModel",
      "state": {
       "description_width": ""
      }
     },
     "bb212a6e528346b99719f4d5d6f143d3": {
      "model_module": "@jupyter-widgets/controls",
      "model_module_version": "1.5.0",
      "model_name": "DescriptionStyleModel",
      "state": {
       "description_width": ""
      }
     },
     "bc68fb53945541c7a504cd74a4f3df59": {
      "model_module": "@jupyter-widgets/base",
      "model_module_version": "1.2.0",
      "model_name": "LayoutModel",
      "state": {
       "max_width": "700px",
       "min_width": "700px"
      }
     },
     "bd64403c00064b7a94a4f28e68410538": {
      "model_module": "@jupyter-widgets/controls",
      "model_module_version": "1.5.0",
      "model_name": "HTMLModel",
      "state": {
       "layout": "IPY_MODEL_b05118c528384e28be30928f54ded1d9",
       "style": "IPY_MODEL_ea632c3956b44ab786052d43e99dfe7a",
       "value": "<h5>Status</h5>"
      }
     },
     "bf1f628c0b64465896356f08dd9a2b13": {
      "model_module": "@jupyter-widgets/base",
      "model_module_version": "1.2.0",
      "model_name": "LayoutModel",
      "state": {
       "max_width": "700px",
       "min_width": "700px"
      }
     },
     "bfb62cd773534332b3338da68278538d": {
      "model_module": "@jupyter-widgets/base",
      "model_module_version": "1.2.0",
      "model_name": "LayoutModel",
      "state": {
       "width": "190px"
      }
     },
     "c073fb5a561f4e929454c19eb26db510": {
      "model_module": "@jupyter-widgets/controls",
      "model_module_version": "1.5.0",
      "model_name": "DescriptionStyleModel",
      "state": {
       "description_width": ""
      }
     },
     "c0ca61d962964066a7910703318372c5": {
      "model_module": "@jupyter-widgets/controls",
      "model_module_version": "1.5.0",
      "model_name": "HTMLModel",
      "state": {
       "layout": "IPY_MODEL_21bc9170403b4e238420efd574dbe489",
       "style": "IPY_MODEL_488d440fd7864be79d999491f5459ab0",
       "value": "-"
      }
     },
     "c15d31e7524c4b9c844d66189e4d8222": {
      "model_module": "@jupyter-widgets/controls",
      "model_module_version": "1.5.0",
      "model_name": "DescriptionStyleModel",
      "state": {
       "description_width": ""
      }
     },
     "c44604d6254546cdb6564b5cdaf4a3cf": {
      "model_module": "@jupyter-widgets/base",
      "model_module_version": "1.2.0",
      "model_name": "LayoutModel",
      "state": {
       "width": "145px"
      }
     },
     "c533b5501071438db178d3848c1159c8": {
      "model_module": "@jupyter-widgets/base",
      "model_module_version": "1.2.0",
      "model_name": "LayoutModel",
      "state": {
       "width": "190px"
      }
     },
     "c8cc0097d3f44565a444c3c199f7389e": {
      "model_module": "@jupyter-widgets/controls",
      "model_module_version": "1.5.0",
      "model_name": "DescriptionStyleModel",
      "state": {
       "description_width": ""
      }
     },
     "c9a9b2384e084c82b441e4967799b13c": {
      "model_module": "@jupyter-widgets/base",
      "model_module_version": "1.2.0",
      "model_name": "LayoutModel",
      "state": {
       "width": "95px"
      }
     },
     "cb16cd6d3e5c4fe6a24b49faafd45380": {
      "model_module": "@jupyter-widgets/controls",
      "model_module_version": "1.5.0",
      "model_name": "HTMLModel",
      "state": {
       "layout": "IPY_MODEL_09540c893cd745cfa83f676f4e7ff3e7",
       "style": "IPY_MODEL_3b489268293b439d81ecfb74c6756b69",
       "value": "job has successfully run"
      }
     },
     "cb6f8819c44e4db69bc9eb0bdbc22d68": {
      "model_module": "@jupyter-widgets/controls",
      "model_module_version": "1.5.0",
      "model_name": "ButtonModel",
      "state": {
       "icon": "close",
       "layout": "IPY_MODEL_2bfa336e75d542589216fe28843f958d",
       "style": "IPY_MODEL_1ccec5114f4b425186e48066459215a0"
      }
     },
     "cb8f202c76e64f988460d9de7d30d9c6": {
      "model_module": "@jupyter-widgets/controls",
      "model_module_version": "1.5.0",
      "model_name": "DescriptionStyleModel",
      "state": {
       "description_width": ""
      }
     },
     "cc9e4845d51741deb6ae809cf4b260f0": {
      "model_module": "@jupyter-widgets/controls",
      "model_module_version": "1.5.0",
      "model_name": "DescriptionStyleModel",
      "state": {
       "description_width": ""
      }
     },
     "cd3f70b62a064f6ea46aa0bc69bf0464": {
      "model_module": "@jupyter-widgets/controls",
      "model_module_version": "1.5.0",
      "model_name": "HTMLModel",
      "state": {
       "layout": "IPY_MODEL_cddbb3c3ddcb4fe0af1c7ca30e3b39c0",
       "style": "IPY_MODEL_cb8f202c76e64f988460d9de7d30d9c6",
       "value": "ibmq_manila"
      }
     },
     "cddbb3c3ddcb4fe0af1c7ca30e3b39c0": {
      "model_module": "@jupyter-widgets/base",
      "model_module_version": "1.2.0",
      "model_name": "LayoutModel",
      "state": {
       "width": "145px"
      }
     },
     "cf23fa5c387649e39963d25eff8d1619": {
      "model_module": "@jupyter-widgets/base",
      "model_module_version": "1.2.0",
      "model_name": "LayoutModel",
      "state": {
       "margin": "0px 5px 0px 0px",
       "width": "32px"
      }
     },
     "d08e57f91378444b8789c1bad6b4cc3c": {
      "model_module": "@jupyter-widgets/controls",
      "model_module_version": "1.5.0",
      "model_name": "ButtonModel",
      "state": {
       "icon": "close",
       "layout": "IPY_MODEL_466855ceb11a4c4890d8aa6f0070c47a",
       "style": "IPY_MODEL_ae42c20020cd4372b1ebebeb47f37a74"
      }
     },
     "d5b50bfd18c24f18be5b409db183e0fb": {
      "model_module": "@jupyter-widgets/base",
      "model_module_version": "1.2.0",
      "model_name": "LayoutModel",
      "state": {
       "width": "145px"
      }
     },
     "d5b6692335f14b68be773fd3d9ccf650": {
      "model_module": "@jupyter-widgets/base",
      "model_module_version": "1.2.0",
      "model_name": "LayoutModel",
      "state": {
       "width": "70px"
      }
     },
     "d5f9c5c6813b495fbaa0a860e0f28faf": {
      "model_module": "@jupyter-widgets/base",
      "model_module_version": "1.2.0",
      "model_name": "LayoutModel",
      "state": {
       "overflow_x": "scroll"
      }
     },
     "d64e4a2d11c74ffda9d63d7611d67e81": {
      "model_module": "@jupyter-widgets/controls",
      "model_module_version": "1.5.0",
      "model_name": "HTMLModel",
      "state": {
       "layout": "IPY_MODEL_1a99868a4bd944e982882add9a173a9b",
       "style": "IPY_MODEL_423acbedad0b4e54ac3d6070b2f63437",
       "value": "ibmq_manila"
      }
     },
     "d6647b9a35784976a0718830972e8e80": {
      "model_module": "@jupyter-widgets/controls",
      "model_module_version": "1.5.0",
      "model_name": "HTMLModel",
      "state": {
       "layout": "IPY_MODEL_da4b2089d82e45dab52316a75622df0c",
       "style": "IPY_MODEL_26208050434d48b0b30412dc7a92e8d2",
       "value": "<font style='color:#34BC6E'>DONE</font>"
      }
     },
     "d6a462af6b154d92bed9a665c9c97cd2": {
      "model_module": "@jupyter-widgets/controls",
      "model_module_version": "1.5.0",
      "model_name": "ButtonModel",
      "state": {
       "icon": "close",
       "layout": "IPY_MODEL_413f578865b44c289edb6e3243282b7b",
       "style": "IPY_MODEL_29b7d16a83154e28bb76507e79adb640"
      }
     },
     "d71177dda28e4b6eb78aab6fc5c68c1b": {
      "model_module": "@jupyter-widgets/controls",
      "model_module_version": "1.5.0",
      "model_name": "DescriptionStyleModel",
      "state": {
       "description_width": ""
      }
     },
     "da4b2089d82e45dab52316a75622df0c": {
      "model_module": "@jupyter-widgets/base",
      "model_module_version": "1.2.0",
      "model_name": "LayoutModel",
      "state": {
       "width": "95px"
      }
     },
     "da6ab47a70da4e0cb36f55ad3cf6d85f": {
      "model_module": "@jupyter-widgets/controls",
      "model_module_version": "1.5.0",
      "model_name": "HBoxModel",
      "state": {
       "children": [
        "IPY_MODEL_f82e8db389964e11bae192d52b666e52",
        "IPY_MODEL_b3e5ed7646084e5db8d99bd8b5d6dc4e",
        "IPY_MODEL_d64e4a2d11c74ffda9d63d7611d67e81",
        "IPY_MODEL_7e9c2671c31247009d259f27490f6f89",
        "IPY_MODEL_94684af2a8d5464ba9341782c8afab54",
        "IPY_MODEL_e5787e38473841cbb95ed248e8aa73f2"
       ],
       "layout": "IPY_MODEL_bf1f628c0b64465896356f08dd9a2b13"
      }
     },
     "dabf107679374c76a42db2358b07beb9": {
      "model_module": "@jupyter-widgets/base",
      "model_module_version": "1.2.0",
      "model_name": "LayoutModel",
      "state": {
       "width": "70px"
      }
     },
     "ddb4efb96aea4faa9a91ff966cc3a585": {
      "model_module": "@jupyter-widgets/base",
      "model_module_version": "1.2.0",
      "model_name": "LayoutModel",
      "state": {
       "max_width": "700px",
       "min_width": "700px"
      }
     },
     "df9aa258741b4ac5ae2f567add38fb7c": {
      "model_module": "@jupyter-widgets/controls",
      "model_module_version": "1.5.0",
      "model_name": "ButtonStyleModel",
      "state": {
       "button_color": "white"
      }
     },
     "e0d96a602e0a4f1c96b48f28b92f9d8b": {
      "model_module": "@jupyter-widgets/controls",
      "model_module_version": "1.5.0",
      "model_name": "HTMLModel",
      "state": {
       "layout": "IPY_MODEL_aedc2d6f4d834142ab3819f0b6fd7cd7",
       "style": "IPY_MODEL_2d52a0503a7c474dbadf2e9654335e9a",
       "value": "job has successfully run"
      }
     },
     "e110b44b561444d591fee8c76dd98a4f": {
      "model_module": "@jupyter-widgets/controls",
      "model_module_version": "1.5.0",
      "model_name": "ButtonModel",
      "state": {
       "icon": "close",
       "layout": "IPY_MODEL_09d4b03aabff4c3d8d8b3304208876b1",
       "style": "IPY_MODEL_df9aa258741b4ac5ae2f567add38fb7c"
      }
     },
     "e22a9b8974094178be8d7db523e659c1": {
      "model_module": "@jupyter-widgets/controls",
      "model_module_version": "1.5.0",
      "model_name": "DescriptionStyleModel",
      "state": {
       "description_width": ""
      }
     },
     "e2437b93e5134ca1afc3da516e63708d": {
      "model_module": "@jupyter-widgets/controls",
      "model_module_version": "1.5.0",
      "model_name": "DescriptionStyleModel",
      "state": {
       "description_width": ""
      }
     },
     "e4973772c28f409589f7bb8f7214336b": {
      "model_module": "@jupyter-widgets/controls",
      "model_module_version": "1.5.0",
      "model_name": "DescriptionStyleModel",
      "state": {
       "description_width": ""
      }
     },
     "e5787e38473841cbb95ed248e8aa73f2": {
      "model_module": "@jupyter-widgets/controls",
      "model_module_version": "1.5.0",
      "model_name": "HTMLModel",
      "state": {
       "layout": "IPY_MODEL_f7e22f99696848e4897b3dbd795f9fb3",
       "style": "IPY_MODEL_6a154a8493444e5c87fe5f8c2e9047d0",
       "value": "job has successfully run"
      }
     },
     "e5de1f36c4ab41488b7085a18d13bde0": {
      "model_module": "@jupyter-widgets/controls",
      "model_module_version": "1.5.0",
      "model_name": "DescriptionStyleModel",
      "state": {
       "description_width": ""
      }
     },
     "e6045540105a43b8b8a17e74f23bd084": {
      "model_module": "@jupyter-widgets/controls",
      "model_module_version": "1.5.0",
      "model_name": "DescriptionStyleModel",
      "state": {
       "description_width": ""
      }
     },
     "e63d8826ea2f45c4ab32fb38c29c7dd7": {
      "model_module": "@jupyter-widgets/base",
      "model_module_version": "1.2.0",
      "model_name": "LayoutModel",
      "state": {
       "width": "190px"
      }
     },
     "e74c65f5c96e42d3b4dc583e351ad578": {
      "model_module": "@jupyter-widgets/base",
      "model_module_version": "1.2.0",
      "model_name": "LayoutModel",
      "state": {
       "margin": "0px 5px 0px 0px",
       "width": "32px"
      }
     },
     "e7ec0aa15dd048e881e445fde0d6fc64": {
      "model_module": "@jupyter-widgets/controls",
      "model_module_version": "1.5.0",
      "model_name": "HBoxModel",
      "state": {
       "children": [
        "IPY_MODEL_e110b44b561444d591fee8c76dd98a4f",
        "IPY_MODEL_71b6499de0cc48928ae3a2d2a8849768",
        "IPY_MODEL_860d42824f9c461d89dab6a6d8e27f05",
        "IPY_MODEL_3e3768bb5b03443bb79fca78298d7367",
        "IPY_MODEL_5f709517c859416ba8f9020f58b5d413",
        "IPY_MODEL_f27b9941b5584bd59945e972032247b8"
       ],
       "layout": "IPY_MODEL_b9430f5a334141beacdd5d78e0b38948"
      }
     },
     "e830f2e6ad5b404098c302b3075ced78": {
      "model_module": "@jupyter-widgets/controls",
      "model_module_version": "1.5.0",
      "model_name": "HTMLModel",
      "state": {
       "layout": "IPY_MODEL_092c19925169400f9d78412ebe722d5d",
       "style": "IPY_MODEL_bb212a6e528346b99719f4d5d6f143d3",
       "value": "ibmq_manila"
      }
     },
     "ea632c3956b44ab786052d43e99dfe7a": {
      "model_module": "@jupyter-widgets/controls",
      "model_module_version": "1.5.0",
      "model_name": "DescriptionStyleModel",
      "state": {
       "description_width": ""
      }
     },
     "ec12354291654aed891398774951b28d": {
      "model_module": "@jupyter-widgets/controls",
      "model_module_version": "1.5.0",
      "model_name": "ButtonModel",
      "state": {
       "button_style": "primary",
       "description": "Clear",
       "layout": "IPY_MODEL_2522d4f21a5d4366b184629f5a3431b5",
       "style": "IPY_MODEL_3855a7275b4444fea4b6c6bff16b4f05"
      }
     },
     "eddf1fce949642adad74823ff9f6109f": {
      "model_module": "@jupyter-widgets/base",
      "model_module_version": "1.2.0",
      "model_name": "LayoutModel",
      "state": {
       "overflow_x": "scroll"
      }
     },
     "ef2711cad5624b8a8208cfc05cc4e7bc": {
      "model_module": "@jupyter-widgets/controls",
      "model_module_version": "1.5.0",
      "model_name": "DescriptionStyleModel",
      "state": {
       "description_width": ""
      }
     },
     "f131eb82208041b18642f18274756d83": {
      "model_module": "@jupyter-widgets/controls",
      "model_module_version": "1.5.0",
      "model_name": "ButtonModel",
      "state": {
       "icon": "close",
       "layout": "IPY_MODEL_b152104ac7774c73a30897aba97ffea5",
       "style": "IPY_MODEL_451fa30e8afa4e42a0928be997c5065d"
      }
     },
     "f190f007fbd3409e8042cc9dd30e3645": {
      "model_module": "@jupyter-widgets/base",
      "model_module_version": "1.2.0",
      "model_name": "LayoutModel",
      "state": {
       "width": "145px"
      }
     },
     "f19836a67aeb414fb885b0be042ba165": {
      "model_module": "@jupyter-widgets/controls",
      "model_module_version": "1.5.0",
      "model_name": "HBoxModel",
      "state": {
       "children": [
        "IPY_MODEL_3e7c05a945ed4a86a6b371a9016c1005",
        "IPY_MODEL_fdedae9632fd4253a06cb17bd7d96278",
        "IPY_MODEL_8247b242947a4d19a2d03165e163ea79",
        "IPY_MODEL_6744a11461894fe8a9167fd6dd850145",
        "IPY_MODEL_880dc3297fec4af09b14fe40f9ae18d9",
        "IPY_MODEL_cb16cd6d3e5c4fe6a24b49faafd45380"
       ],
       "layout": "IPY_MODEL_608ae03a59364896a3d434645dd9bd74"
      }
     },
     "f1bcef50d35e437fba143a457d2fb787": {
      "model_module": "@jupyter-widgets/controls",
      "model_module_version": "1.5.0",
      "model_name": "GridBoxModel",
      "state": {
       "children": [
        "IPY_MODEL_ec12354291654aed891398774951b28d"
       ],
       "layout": "IPY_MODEL_6e7a74e98e52497899e77f4f577cc77b"
      }
     },
     "f27b9941b5584bd59945e972032247b8": {
      "model_module": "@jupyter-widgets/controls",
      "model_module_version": "1.5.0",
      "model_name": "HTMLModel",
      "state": {
       "layout": "IPY_MODEL_06a8c313a81c4b93b7dec6dd28236d68",
       "style": "IPY_MODEL_99ee6fba36b14afcb8e28da8db70021d",
       "value": "job has been cancelled"
      }
     },
     "f48fb1a010f341708f84f43401b953bf": {
      "model_module": "@jupyter-widgets/base",
      "model_module_version": "1.2.0",
      "model_name": "LayoutModel",
      "state": {
       "width": "95px"
      }
     },
     "f4dacd251d49482d9bcb9d8a79c3ca60": {
      "model_module": "@jupyter-widgets/base",
      "model_module_version": "1.2.0",
      "model_name": "LayoutModel",
      "state": {
       "width": "190px"
      }
     },
     "f6130acad99848299b294a3e45e85e97": {
      "model_module": "@jupyter-widgets/controls",
      "model_module_version": "1.5.0",
      "model_name": "HTMLModel",
      "state": {
       "layout": "IPY_MODEL_9b8061b088f84afbb2f3d807f9abbc25",
       "style": "IPY_MODEL_721d04f625584043ba3ecb4ca19f7581",
       "value": "-"
      }
     },
     "f72c1d59148a490c9c9bf8c42298fc22": {
      "model_module": "@jupyter-widgets/controls",
      "model_module_version": "1.5.0",
      "model_name": "DescriptionStyleModel",
      "state": {
       "description_width": ""
      }
     },
     "f7e22f99696848e4897b3dbd795f9fb3": {
      "model_module": "@jupyter-widgets/base",
      "model_module_version": "1.2.0",
      "model_name": "LayoutModel",
      "state": {
       "overflow_x": "scroll"
      }
     },
     "f82e8db389964e11bae192d52b666e52": {
      "model_module": "@jupyter-widgets/controls",
      "model_module_version": "1.5.0",
      "model_name": "ButtonModel",
      "state": {
       "icon": "close",
       "layout": "IPY_MODEL_0d9a1bcd7ef14ee59f7743846d4c866e",
       "style": "IPY_MODEL_382b27d928aa4c48ac21ad2b5423814c"
      }
     },
     "f8e2d353852e49a7b8a26e6022ff7e52": {
      "model_module": "@jupyter-widgets/controls",
      "model_module_version": "1.5.0",
      "model_name": "HTMLModel",
      "state": {
       "layout": "IPY_MODEL_94c89b14c3f348dba8bb0cd7ee9963a6",
       "style": "IPY_MODEL_cc9e4845d51741deb6ae809cf4b260f0",
       "value": "-"
      }
     },
     "f9de731554a44000b40e0d9463176986": {
      "model_module": "@jupyter-widgets/controls",
      "model_module_version": "1.5.0",
      "model_name": "HTMLModel",
      "state": {
       "layout": "IPY_MODEL_d5f9c5c6813b495fbaa0a860e0f28faf",
       "style": "IPY_MODEL_a4c93891b54642a6ba64dcd648b8d3f4",
       "value": "job has successfully run"
      }
     },
     "fa12c2b238cd4ea2913040061053afe0": {
      "model_module": "@jupyter-widgets/base",
      "model_module_version": "1.2.0",
      "model_name": "LayoutModel",
      "state": {
       "width": "70px"
      }
     },
     "facee557a3474ed1be6c70eaa0c383dc": {
      "model_module": "@jupyter-widgets/controls",
      "model_module_version": "1.5.0",
      "model_name": "HTMLModel",
      "state": {
       "layout": "IPY_MODEL_f48fb1a010f341708f84f43401b953bf",
       "style": "IPY_MODEL_7392913581074323b2514f7d3eb61108",
       "value": "<font style='color:#FFB000'>CANCELLED</font>"
      }
     },
     "faeb3fc4f923407eae1aedadb72b0ff5": {
      "model_module": "@jupyter-widgets/controls",
      "model_module_version": "1.5.0",
      "model_name": "DescriptionStyleModel",
      "state": {
       "description_width": ""
      }
     },
     "fb313dde8e5542008e18866826f61f92": {
      "model_module": "@jupyter-widgets/base",
      "model_module_version": "1.2.0",
      "model_name": "LayoutModel",
      "state": {
       "max_width": "700px",
       "min_width": "700px"
      }
     },
     "fc070ac5ae37451bb4e25bcea950eea0": {
      "model_module": "@jupyter-widgets/controls",
      "model_module_version": "1.5.0",
      "model_name": "ButtonStyleModel",
      "state": {
       "button_color": "white"
      }
     },
     "fc24318583514e4dbe6cbee967189954": {
      "model_module": "@jupyter-widgets/controls",
      "model_module_version": "1.5.0",
      "model_name": "DescriptionStyleModel",
      "state": {
       "description_width": ""
      }
     },
     "fc259daf73b74a07a9f286e5d68389e3": {
      "model_module": "@jupyter-widgets/controls",
      "model_module_version": "1.5.0",
      "model_name": "ButtonStyleModel",
      "state": {
       "button_color": "white"
      }
     },
     "fc6ba713e5ad4bfc925db976cb4dc764": {
      "model_module": "@jupyter-widgets/controls",
      "model_module_version": "1.5.0",
      "model_name": "HBoxModel",
      "state": {
       "children": [
        "IPY_MODEL_68f13fb492a24422b5fc8d9611fba607",
        "IPY_MODEL_159a4735587d4a4c80ccc373d77e35af",
        "IPY_MODEL_bd64403c00064b7a94a4f28e68410538",
        "IPY_MODEL_72751c8ac28643c3a9535749d106c6c7",
        "IPY_MODEL_a4fabd77ee6b4a19b6c2c376f9424f0e"
       ],
       "layout": "IPY_MODEL_364539ba1d3248de88c4f5cc432c2ec6"
      }
     },
     "fd774322157f4b29a5e54aa345479b1c": {
      "model_module": "@jupyter-widgets/base",
      "model_module_version": "1.2.0",
      "model_name": "LayoutModel",
      "state": {
       "overflow_x": "scroll"
      }
     },
     "fd8d7887d25b4ad6a0c789932bd26730": {
      "model_module": "@jupyter-widgets/controls",
      "model_module_version": "1.5.0",
      "model_name": "DescriptionStyleModel",
      "state": {
       "description_width": ""
      }
     },
     "fdedae9632fd4253a06cb17bd7d96278": {
      "model_module": "@jupyter-widgets/controls",
      "model_module_version": "1.5.0",
      "model_name": "HTMLModel",
      "state": {
       "layout": "IPY_MODEL_adadcc1dfbde4e59a5ca5819a7cb257e",
       "style": "IPY_MODEL_4632447a5d12455da23f892bbf2799b1",
       "value": "62e624a3ac90f71e10c85437"
      }
     },
     "ff3dee9544fa49beaacb0538a2f436e5": {
      "model_module": "@jupyter-widgets/controls",
      "model_module_version": "1.5.0",
      "model_name": "DescriptionStyleModel",
      "state": {
       "description_width": ""
      }
     },
     "ff6bc35b3a4846508cafc500f9b86b76": {
      "model_module": "@jupyter-widgets/controls",
      "model_module_version": "1.5.0",
      "model_name": "ButtonModel",
      "state": {
       "icon": "close",
       "layout": "IPY_MODEL_b5cbabbdd69f40d490475eb5c091995d",
       "style": "IPY_MODEL_9ee2d8b5f9354ec7b0dfb0745c5eaffd"
      }
     }
    },
    "version_major": 2,
    "version_minor": 0
   }
  }
 },
 "nbformat": 4,
 "nbformat_minor": 5
}
