{
 "cells": [
  {
   "cell_type": "code",
   "execution_count": 70,
   "id": "20d490df-9563-41b5-b6de-62cd50f59887",
   "metadata": {},
   "outputs": [
    {
     "name": "stderr",
     "output_type": "stream",
     "text": [
      "ibmqfactory.load_account:WARNING:2022-08-02 07:06:29,509: Credentials are already in use. The existing account in the session will be replaced.\n"
     ]
    }
   ],
   "source": [
    "import numpy as np\n",
    "\n",
    "# Importing standard Qiskit libraries\n",
    "from qiskit import QuantumCircuit, transpile, Aer, IBMQ\n",
    "from qiskit.tools.jupyter import *\n",
    "from qiskit.visualization import *\n",
    "from ibm_quantum_widgets import *\n",
    "from qiskit.providers.aer import QasmSimulator\n",
    "\n",
    "# Loading your IBM Quantum account(s)\n",
    "provider = IBMQ.load_account()"
   ]
  },
  {
   "cell_type": "code",
   "execution_count": 71,
   "id": "ad98d87d-bad4-4c8d-8d9d-da4b0f27036e",
   "metadata": {},
   "outputs": [],
   "source": [
    "import warnings\n",
    "warnings.filterwarnings('ignore')\n",
    "from qiskit.tools.jupyter import *"
   ]
  },
  {
   "cell_type": "code",
   "execution_count": 72,
   "id": "544132fc-8506-4619-9c49-a9f8278f7357",
   "metadata": {},
   "outputs": [],
   "source": [
    "cir = QuantumCircuit(2,2)"
   ]
  },
  {
   "cell_type": "code",
   "execution_count": 73,
   "id": "00875011-83ad-49ae-a285-e1eefc54d729",
   "metadata": {},
   "outputs": [
    {
     "name": "stderr",
     "output_type": "stream",
     "text": [
      "ibmqfactory.load_account:WARNING:2022-08-02 07:06:34,623: Credentials are already in use. The existing account in the session will be replaced.\n"
     ]
    }
   ],
   "source": [
    "from qiskit import IBMQ\n",
    "IBMQ.load_account()\n",
    "provider = IBMQ.get_provider(hub='ibm-q', group='open', project='main')\n",
    "backend = provider.get_backend('ibmq_manila')"
   ]
  },
  {
   "cell_type": "code",
   "execution_count": 74,
   "id": "c60b3ddd-ffe0-48ba-b74f-9ccff7d62701",
   "metadata": {},
   "outputs": [],
   "source": [
    "backend_config = backend.configuration()"
   ]
  },
  {
   "cell_type": "code",
   "execution_count": 75,
   "id": "db3dbb24-9837-4652-b8fe-6235564a2d2e",
   "metadata": {},
   "outputs": [
    {
     "name": "stdout",
     "output_type": "stream",
     "text": [
      "Sampling time: 0.2222222222222222 ns\n"
     ]
    }
   ],
   "source": [
    "dt = backend_config.dt\n",
    "print(f\"Sampling time: {dt*1e9} ns\")    # The configuration returns dt in seconds, so multiply by\n",
    "                                        # 1e9 to get nanoseconds"
   ]
  },
  {
   "cell_type": "code",
   "execution_count": 76,
   "id": "6c6cdcb7-e19d-4d21-a76d-a9a210e40374",
   "metadata": {},
   "outputs": [
    {
     "data": {
      "text/plain": [
       "{'acquire_alignment': 16,\n",
       " 'granularity': 16,\n",
       " 'min_length': 64,\n",
       " 'pulse_alignment': 1}"
      ]
     },
     "execution_count": 76,
     "metadata": {},
     "output_type": "execute_result"
    }
   ],
   "source": [
    "backend.configuration().timing_constraints"
   ]
  },
  {
   "cell_type": "code",
   "execution_count": 77,
   "id": "550cd807-2416-492b-bc56-ff05b89b47e6",
   "metadata": {},
   "outputs": [],
   "source": [
    "acquire_alignment = backend.configuration().timing_constraints['acquire_alignment']\n",
    "granularity = backend.configuration().timing_constraints['granularity']\n",
    "pulse_alignment = backend.configuration().timing_constraints['pulse_alignment']"
   ]
  },
  {
   "cell_type": "code",
   "execution_count": 78,
   "id": "948a712a-fca8-4678-b32e-5036ea8c9f8f",
   "metadata": {},
   "outputs": [
    {
     "name": "stdout",
     "output_type": "stream",
     "text": [
      "Least common multiple of acquire_alignment and pulse_alignment: 16\n"
     ]
    }
   ],
   "source": [
    "import numpy as np\n",
    "\n",
    "lcm = np.lcm(acquire_alignment, pulse_alignment)\n",
    "print(f\"Least common multiple of acquire_alignment and pulse_alignment: {lcm}\")"
   ]
  },
  {
   "cell_type": "code",
   "execution_count": 79,
   "id": "cec21486-dcb8-45d1-80f3-d349d2d084bd",
   "metadata": {},
   "outputs": [],
   "source": [
    "backend_defaults = backend.defaults()"
   ]
  },
  {
   "cell_type": "code",
   "execution_count": 80,
   "id": "f7385eed-6588-4615-8e95-6f97832b8829",
   "metadata": {},
   "outputs": [],
   "source": [
    "#Finding the qubit Frequency using a Frequency Sweep"
   ]
  },
  {
   "cell_type": "code",
   "execution_count": 81,
   "id": "4f1c8646-1b3f-496e-aaf1-2592c8cbc27d",
   "metadata": {},
   "outputs": [
    {
     "name": "stdout",
     "output_type": "stream",
     "text": [
      "Qubit 0 has an estimated frequency of 4.962285987813341 GHz.\n",
      "The sweep will go from 4.942285987813341 GHz to 4.982285987813341 GHz in steps of 1.0 MHz.\n"
     ]
    }
   ],
   "source": [
    "# unit conversion factors -> all backend properties returned in SI (Hz, sec, etc.)\n",
    "GHz = 1.0e9 # Gigahertz\n",
    "MHz = 1.0e6 # Megahertz\n",
    "us = 1.0e-6 # Microseconds\n",
    "ns = 1.0e-9 # Nanoseconds\n",
    "\n",
    "# We will find the qubit frequency for the following qubit.\n",
    "qubit = 0\n",
    "\n",
    "# The sweep will be centered around the estimated qubit frequency.\n",
    "center_frequency_Hz = backend_defaults.qubit_freq_est[qubit]        # The default frequency is given in Hz\n",
    "                                                                    # warning: this will change in a future release\n",
    "print(f\"Qubit {qubit} has an estimated frequency of {center_frequency_Hz / GHz} GHz.\")\n",
    "\n",
    "# scale factor to remove factors of 10 from the data\n",
    "scale_factor = 1e-7\n",
    "\n",
    "# We will sweep 40 MHz around the estimated frequency\n",
    "frequency_span_Hz = 40 * MHz\n",
    "# in steps of 1 MHz.\n",
    "frequency_step_Hz = 1 * MHz\n",
    "\n",
    "# We will sweep 20 MHz above and 20 MHz below the estimated frequency\n",
    "frequency_min = center_frequency_Hz - frequency_span_Hz / 2\n",
    "frequency_max = center_frequency_Hz + frequency_span_Hz / 2\n",
    "# Construct an np array of the frequencies for our experiment\n",
    "frequencies_GHz = np.arange(frequency_min / GHz, \n",
    "                            frequency_max / GHz, \n",
    "                            frequency_step_Hz / GHz)\n",
    "\n",
    "print(f\"The sweep will go from {frequency_min / GHz} GHz to {frequency_max / GHz} GHz \\\n",
    "in steps of {frequency_step_Hz / MHz} MHz.\")"
   ]
  },
  {
   "cell_type": "code",
   "execution_count": 82,
   "id": "d71dea9e-ee8e-4763-adf9-73f743649028",
   "metadata": {},
   "outputs": [],
   "source": [
    "def get_closest_multiple_of(vaule, base_number):\n",
    "    return int(vaule + base_number/2) - (int(vaule + base_number/2) % base_number)"
   ]
  },
  {
   "cell_type": "code",
   "execution_count": 83,
   "id": "aa9c4560-2d41-4ab2-a090-683f8efd336e",
   "metadata": {},
   "outputs": [],
   "source": [
    "# samples need to be multiples of 16\n",
    "def get_closest_multiple_of_16(num):\n",
    "    return get_closest_multiple_of(num, granularity)"
   ]
  },
  {
   "cell_type": "code",
   "execution_count": 84,
   "id": "4d44d6cb-e73c-4338-83cb-2861b4106da5",
   "metadata": {},
   "outputs": [],
   "source": [
    "# Convert seconds to dt\n",
    "def get_dt_from(sec):\n",
    "    return get_closest_multiple_of(sec/dt, lcm)"
   ]
  },
  {
   "cell_type": "code",
   "execution_count": 85,
   "id": "f0cc6b18-775b-4e6b-a910-e1567bad71b9",
   "metadata": {},
   "outputs": [],
   "source": [
    "from qiskit import pulse                  # This is where we access all of our Pulse features!\n",
    "from qiskit.circuit import Parameter      # This is Parameter Class for variable parameters.\n",
    "from qiskit.circuit import QuantumCircuit, Gate\n",
    "\n",
    "# Drive pulse parameters (us = microseconds)\n",
    "drive_sigma_sec = 0.015 * us                           # This determines the actual width of the gaussian\n",
    "drive_duration_sec = drive_sigma_sec * 8                # This is a truncating parameter, because gaussians don't have \n",
    "                                                        # a natural finite length\n",
    "drive_amp = 0.05\n",
    "\n",
    "# Create the base schedule\n",
    "# Start with drive pulse acting on the drive channel\n",
    "freq = Parameter('freq')\n",
    "with pulse.build(backend=backend, default_alignment='sequential', name='Frequency sweep') as sweep_sched:\n",
    "    drive_duration = get_closest_multiple_of_16(pulse.seconds_to_samples(drive_duration_sec))\n",
    "    drive_sigma = pulse.seconds_to_samples(drive_sigma_sec)\n",
    "    drive_chan = pulse.drive_channel(qubit)\n",
    "    pulse.set_frequency(freq, drive_chan)\n",
    "    # Drive pulse samples\n",
    "    pulse.play(pulse.Gaussian(duration=drive_duration,\n",
    "                              sigma=drive_sigma,\n",
    "                              amp=drive_amp,\n",
    "                              name='freq_sweep_excitation_pulse'), drive_chan)"
   ]
  },
  {
   "cell_type": "code",
   "execution_count": 86,
   "id": "f04a5ab9-81ca-4e09-b638-9c6ec4a5bac0",
   "metadata": {},
   "outputs": [],
   "source": [
    "sweep_gate = Gate(\"sweep\", 1, [freq])\n",
    "\n",
    "qc_sweep = QuantumCircuit(1, 1)\n",
    "\n",
    "qc_sweep.append(sweep_gate, [0])\n",
    "qc_sweep.measure(0, 0)\n",
    "qc_sweep.add_calibration(sweep_gate, (0,), sweep_sched, [freq])\n",
    "\n",
    "# Create the frequency settings for the sweep (MUST BE IN HZ)\n",
    "frequencies_Hz = frequencies_GHz*GHz\n",
    "exp_sweep_circs = [qc_sweep.assign_parameters({freq: f}, inplace=False) for f in frequencies_Hz]"
   ]
  },
  {
   "cell_type": "code",
   "execution_count": 87,
   "id": "bfd55ea7-da75-4399-b886-2bc6a6093dc6",
   "metadata": {},
   "outputs": [
    {
     "data": {
      "image/png": "[encoded data removed]",
      "text/plain": [
       "<Figure size 936x237.6 with 1 Axes>"
      ]
     },
     "execution_count": 87,
     "metadata": {},
     "output_type": "execute_result"
    }
   ],
   "source": [
    "from qiskit import schedule\n",
    "\n",
    "sweep_schedule = schedule(exp_sweep_circs[0], backend)\n",
    "sweep_schedule.draw(backend=backend)"
   ]
  },
  {
   "cell_type": "code",
   "execution_count": 88,
   "id": "8d586992-2db0-4600-8871-628b71358c3e",
   "metadata": {},
   "outputs": [],
   "source": [
    "num_shots_per_frequency = 1024\n",
    "\n",
    "job = backend.run(exp_sweep_circs, \n",
    "                  meas_level=1, \n",
    "                  meas_return='avg', \n",
    "                  shots=num_shots_per_frequency)"
   ]
  },
  {
   "cell_type": "code",
   "execution_count": 89,
   "id": "399e473b-535e-4504-aa15-a1da9fec046a",
   "metadata": {},
   "outputs": [
    {
     "name": "stdout",
     "output_type": "stream",
     "text": [
      "Job Status: job has successfully run\n"
     ]
    }
   ],
   "source": [
    "from qiskit.tools.monitor import job_monitor\n",
    "job_monitor(job)"
   ]
  },
  {
   "cell_type": "code",
   "execution_count": 90,
   "id": "71c52309-70ce-4639-980e-9def91e5b38e",
   "metadata": {},
   "outputs": [],
   "source": [
    "frequency_sweep_results = job.result(timeout=120) # timeout parameter set to 120 seconds"
   ]
  },
  {
   "cell_type": "code",
   "execution_count": 91,
   "id": "24627eba-80e1-4ff5-9bf0-2e439ba4c0b8",
   "metadata": {},
   "outputs": [
    {
     "data": {
      "image/png": "[encoded data removed]",
      "text/plain": [
       "<Figure size 432x288 with 1 Axes>"
      ]
     },
     "metadata": {
      "needs_background": "light"
     },
     "output_type": "display_data"
    }
   ],
   "source": [
    "import matplotlib.pyplot as plt\n",
    "\n",
    "sweep_values = []\n",
    "for i in range(len(frequency_sweep_results.results)):\n",
    "    # Get the results from the ith experiment\n",
    "    res = frequency_sweep_results.get_memory(i)*scale_factor\n",
    "    # Get the results for `qubit` from this experiment\n",
    "    sweep_values.append(res[qubit])\n",
    "\n",
    "plt.scatter(frequencies_GHz, np.real(sweep_values), color='black') # plot real part of sweep values\n",
    "plt.xlim([min(frequencies_GHz), max(frequencies_GHz)])\n",
    "plt.xlabel(\"Frequency [GHz]\")\n",
    "plt.ylabel(\"Measured signal [a.u.]\")\n",
    "plt.show()"
   ]
  },
  {
   "cell_type": "code",
   "execution_count": 92,
   "id": "7a042e54-a863-47ce-ab3e-1dc4d282382e",
   "metadata": {},
   "outputs": [],
   "source": [
    "from scipy.optimize import curve_fit\n",
    "\n",
    "def fit_function(x_values, y_values, function, init_params):\n",
    "    fitparams, conv = curve_fit(function, x_values, y_values, init_params)\n",
    "    y_fit = function(x_values, *fitparams)\n",
    "    \n",
    "    return fitparams, y_fit"
   ]
  },
  {
   "cell_type": "code",
   "execution_count": 93,
   "id": "6c4ea7d6-0713-4db2-b9b3-ffd6a0765bc8",
   "metadata": {},
   "outputs": [],
   "source": [
    "fit_params, y_fit = fit_function(frequencies_GHz,\n",
    "                                 np.real(sweep_values), \n",
    "                                 lambda x, A, q_freq, B, C: (A / np.pi) * (B / ((x - q_freq)**2 + B**2)) + C,\n",
    "                                 [1, 4.975, 1, -2] # initial parameters for curve_fit\n",
    "                                )"
   ]
  },
  {
   "cell_type": "code",
   "execution_count": 94,
   "id": "9a99f77b-0bc9-4f87-999d-e9b0d653264c",
   "metadata": {},
   "outputs": [
    {
     "data": {
      "image/png": "[encoded data removed]",
      "text/plain": [
       "<Figure size 432x288 with 1 Axes>"
      ]
     },
     "metadata": {
      "needs_background": "light"
     },
     "output_type": "display_data"
    }
   ],
   "source": [
    "plt.scatter(frequencies_GHz, np.real(sweep_values), color='black')\n",
    "plt.plot(frequencies_GHz, y_fit, color='red')\n",
    "plt.xlim([min(frequencies_GHz), max(frequencies_GHz)])\n",
    "\n",
    "plt.xlabel(\"Frequency [GHz]\")\n",
    "plt.ylabel(\"Measured Signal [a.u.]\")\n",
    "plt.show()"
   ]
  },
  {
   "cell_type": "code",
   "execution_count": 95,
   "id": "4b528b53-de18-495f-b948-75b4ace9aec5",
   "metadata": {},
   "outputs": [
    {
     "name": "stdout",
     "output_type": "stream",
     "text": [
      "We've updated our qubit frequency estimate from 4.96229 GHz to 4.96218 GHz.\n"
     ]
    }
   ],
   "source": [
    "A, rough_qubit_frequency, B, C = fit_params\n",
    "rough_qubit_frequency = rough_qubit_frequency*GHz # make sure qubit freq is in Hz\n",
    "print(f\"We've updated our qubit frequency estimate from \"\n",
    "      f\"{round(backend_defaults.qubit_freq_est[qubit] / GHz, 5)} GHz to {round(rough_qubit_frequency/GHz, 5)} GHz.\")"
   ]
  },
  {
   "cell_type": "code",
   "execution_count": 96,
   "id": "50e2b41b-bd65-4f36-af45-85e1f6c50a88",
   "metadata": {},
   "outputs": [],
   "source": [
    "#Calibrating and using a Pi Pulse"
   ]
  },
  {
   "cell_type": "code",
   "execution_count": 97,
   "id": "7ef38eff-47cf-4ca6-b0ca-440ec3a365dd",
   "metadata": {},
   "outputs": [],
   "source": [
    "#Calibrating  Pulses using a Rabi Experiment"
   ]
  },
  {
   "cell_type": "code",
   "execution_count": 98,
   "id": "572dceec-54fd-457f-99b7-6d35114a604d",
   "metadata": {},
   "outputs": [],
   "source": [
    "# This experiment uses these values from the previous experiment:\n",
    "# `qubit`,and\n",
    "# `rough_qubit_frequency`.\n",
    "\n",
    "# Rabi experiment parameters\n",
    "num_rabi_points = 50\n",
    "\n",
    "# Drive amplitude values to iterate over: 50 amplitudes evenly spaced from 0 to 0.75\n",
    "drive_amp_min = 0\n",
    "drive_amp_max = 0.75\n",
    "drive_amps = np.linspace(drive_amp_min, drive_amp_max, num_rabi_points)"
   ]
  },
  {
   "cell_type": "code",
   "execution_count": 99,
   "id": "a0dce3e7-3347-4348-96e6-1066249cd66a",
   "metadata": {},
   "outputs": [],
   "source": [
    "# Build the Rabi experiments:\n",
    "#    A drive pulse at the qubit frequency, followed by a measurement,\n",
    "#    where we vary the drive amplitude each time.\n",
    "\n",
    "drive_amp = Parameter('drive_amp')\n",
    "with pulse.build(backend=backend, default_alignment='sequential', name='Rabi Experiment') as rabi_sched:\n",
    "    drive_duration = get_closest_multiple_of_16(pulse.seconds_to_samples(drive_duration_sec))\n",
    "    drive_sigma = pulse.seconds_to_samples(drive_sigma_sec)\n",
    "    drive_chan = pulse.drive_channel(qubit)\n",
    "    pulse.set_frequency(rough_qubit_frequency, drive_chan)\n",
    "    pulse.play(pulse.Gaussian(duration=drive_duration,\n",
    "                              amp=drive_amp,\n",
    "                              sigma=drive_sigma,\n",
    "                              name='Rabi Pulse'), drive_chan)"
   ]
  },
  {
   "cell_type": "code",
   "execution_count": 100,
   "id": "320e3149-f34d-4322-a995-9bd396e8784e",
   "metadata": {},
   "outputs": [],
   "source": [
    "rabi_gate = Gate(\"rabi\", 1, [drive_amp])\n",
    "\n",
    "qc_rabi = QuantumCircuit(1, 1)\n",
    "\n",
    "qc_rabi.append(rabi_gate, [0])\n",
    "qc_rabi.measure(0, 0)\n",
    "qc_rabi.add_calibration(rabi_gate, (0,), rabi_sched, [drive_amp])\n",
    "\n",
    "exp_rabi_circs = [qc_rabi.assign_parameters({drive_amp: a}, inplace=False) for a in drive_amps]"
   ]
  },
  {
   "cell_type": "code",
   "execution_count": 101,
   "id": "8dd5fa0c-125d-46d7-98aa-57d45b2957a1",
   "metadata": {},
   "outputs": [
    {
     "data": {
      "image/png": "[encoded data removed]",
      "text/plain": [
       "<Figure size 936x237.6 with 1 Axes>"
      ]
     },
     "execution_count": 101,
     "metadata": {},
     "output_type": "execute_result"
    }
   ],
   "source": [
    "rabi_schedule = schedule(exp_rabi_circs[-1], backend)\n",
    "rabi_schedule.draw(backend=backend)"
   ]
  },
  {
   "cell_type": "code",
   "execution_count": 102,
   "id": "f558d9cc-a39d-4a3b-b977-aa77be0d4fa3",
   "metadata": {},
   "outputs": [
    {
     "name": "stdout",
     "output_type": "stream",
     "text": [
      "Job Status: job has successfully run\n"
     ]
    }
   ],
   "source": [
    "num_shots_per_point = 1024\n",
    "\n",
    "job = backend.run(exp_rabi_circs, \n",
    "                  meas_level=1, \n",
    "                  meas_return='avg', \n",
    "                  shots=num_shots_per_point)\n",
    "\n",
    "job_monitor(job)"
   ]
  },
  {
   "cell_type": "code",
   "execution_count": 103,
   "id": "1ee69999-0a65-4ee3-893a-91b848304f4a",
   "metadata": {},
   "outputs": [],
   "source": [
    "rabi_results = job.result(timeout=120)"
   ]
  },
  {
   "cell_type": "code",
   "execution_count": 104,
   "id": "3ac011ea-c511-41a8-8efd-af390d65b56d",
   "metadata": {},
   "outputs": [],
   "source": [
    "# center data around 0\n",
    "def baseline_remove(values):\n",
    "    return np.array(values) - np.mean(values)"
   ]
  },
  {
   "cell_type": "code",
   "execution_count": 105,
   "id": "fe02ce8f-d440-48f8-a6c9-78c20d29c344",
   "metadata": {},
   "outputs": [
    {
     "data": {
      "image/png": "[encoded data removed]",
      "text/plain": [
       "<Figure size 432x288 with 1 Axes>"
      ]
     },
     "metadata": {
      "needs_background": "light"
     },
     "output_type": "display_data"
    }
   ],
   "source": [
    "rabi_values = []\n",
    "for i in range(num_rabi_points):\n",
    "    # Get the results for `qubit` from the ith experiment\n",
    "    rabi_values.append(rabi_results.get_memory(i)[qubit] * scale_factor)\n",
    "\n",
    "rabi_values = np.real(baseline_remove(rabi_values))\n",
    "\n",
    "plt.xlabel(\"Drive amp [a.u.]\")\n",
    "plt.ylabel(\"Measured signal [a.u.]\")\n",
    "plt.scatter(drive_amps, rabi_values, color='black') # plot real part of Rabi values\n",
    "plt.show()"
   ]
  },
  {
   "cell_type": "code",
   "execution_count": 106,
   "id": "82890545-2aca-46e4-82ca-193d3d722cf6",
   "metadata": {},
   "outputs": [
    {
     "data": {
      "image/png": "[encoded data removed]",
      "text/plain": [
       "<Figure size 432x288 with 1 Axes>"
      ]
     },
     "metadata": {
      "needs_background": "light"
     },
     "output_type": "display_data"
    }
   ],
   "source": [
    "fit_params, y_fit = fit_function(drive_amps,\n",
    "                                 rabi_values, \n",
    "                                 lambda x, A, B, drive_period, phi: (A*np.cos(2*np.pi*x/drive_period - phi) + B),\n",
    "                                 [2, 0, 0.2, 0])\n",
    "\n",
    "plt.scatter(drive_amps, rabi_values, color='black')\n",
    "plt.plot(drive_amps, y_fit, color='red')\n",
    "\n",
    "drive_period = fit_params[2] # get period of rabi oscillation\n",
    "\n",
    "plt.axvline(drive_period/2, color='red', linestyle='--')\n",
    "plt.axvline(drive_period, color='red', linestyle='--')\n",
    "plt.annotate(\"\", xy=(drive_period, 0), xytext=(drive_period/2,0), arrowprops=dict(arrowstyle=\"<->\", color='red'))\n",
    "plt.annotate(\"$\\pi$\", xy=(drive_period/2-0.03, 0.1), color='red')\n",
    "\n",
    "plt.xlabel(\"Drive amp [a.u.]\", fontsize=15)\n",
    "plt.ylabel(\"Measured signal [a.u.]\", fontsize=15)\n",
    "plt.show()"
   ]
  },
  {
   "cell_type": "code",
   "execution_count": 107,
   "id": "fd1afe52-0150-4328-a6f7-218ed5a76601",
   "metadata": {},
   "outputs": [
    {
     "name": "stdout",
     "output_type": "stream",
     "text": [
      "Pi Amplitude = 0.09356038985538272\n"
     ]
    }
   ],
   "source": [
    "pi_amp = abs(drive_period / 2)\n",
    "print(f\"Pi Amplitude = {pi_amp}\")"
   ]
  },
  {
   "cell_type": "code",
   "execution_count": 108,
   "id": "f4cc33d9-ed8f-468c-a582-322fe164490e",
   "metadata": {},
   "outputs": [],
   "source": [
    "#Our Pi pulse!"
   ]
  },
  {
   "cell_type": "code",
   "execution_count": 109,
   "id": "03588f57-5394-4f89-870b-213f456626c0",
   "metadata": {},
   "outputs": [],
   "source": [
    "with pulse.build(backend) as pi_pulse:\n",
    "    drive_duration = get_closest_multiple_of_16(pulse.seconds_to_samples(drive_duration_sec))\n",
    "    drive_sigma = pulse.seconds_to_samples(drive_sigma_sec)\n",
    "    drive_chan = pulse.drive_channel(qubit)\n",
    "    pulse.play(pulse.Gaussian(duration=drive_duration,\n",
    "                              amp=pi_amp,\n",
    "                              sigma=drive_sigma,\n",
    "                              name='pi_pulse'), drive_chan)"
   ]
  },
  {
   "cell_type": "code",
   "execution_count": 110,
   "id": "bf81ffd4-d782-4e8f-801e-ce90961ab18b",
   "metadata": {},
   "outputs": [],
   "source": [
    "#Determining 0 vs 1"
   ]
  },
  {
   "cell_type": "code",
   "execution_count": 111,
   "id": "c809a8cf-37c2-4cd8-9229-deba9ee55a00",
   "metadata": {},
   "outputs": [
    {
     "data": {
      "text/plain": [
       "<qiskit.circuit.instructionset.InstructionSet at 0x7f05248749a0>"
      ]
     },
     "execution_count": 111,
     "metadata": {},
     "output_type": "execute_result"
    }
   ],
   "source": [
    "# Ground state \n",
    "qc_gnd = QuantumCircuit(1, 1)\n",
    "qc_gnd.measure(0, 0)"
   ]
  },
  {
   "cell_type": "code",
   "execution_count": 112,
   "id": "09f116fc-c86c-4b56-a3f1-9deb3a7011c8",
   "metadata": {},
   "outputs": [
    {
     "data": {
      "image/png": "[encoded data removed]",
      "text/plain": [
       "<Figure size 936x118.8 with 1 Axes>"
      ]
     },
     "execution_count": 112,
     "metadata": {},
     "output_type": "execute_result"
    }
   ],
   "source": [
    "gnd_schedule = schedule(qc_gnd, backend)\n",
    "gnd_schedule.draw(backend=backend)"
   ]
  },
  {
   "cell_type": "code",
   "execution_count": 113,
   "id": "ed2a8ab5-2db3-4249-8637-8506d48de9f5",
   "metadata": {},
   "outputs": [],
   "source": [
    "# Excited state\n",
    "with pulse.build(backend=backend, default_alignment='sequential', name='excited state') as exc_schedule:\n",
    "    drive_chan = pulse.drive_channel(qubit)\n",
    "    pulse.set_frequency(rough_qubit_frequency, drive_chan)\n",
    "    pulse.call(pi_pulse)"
   ]
  },
  {
   "cell_type": "code",
   "execution_count": 114,
   "id": "83a4ecbe-063b-4f88-9839-7b2d0a386f5c",
   "metadata": {},
   "outputs": [],
   "source": [
    "qc_exc = QuantumCircuit(1, 1)\n",
    "qc_exc.x(0)\n",
    "qc_exc.measure(0, 0)\n",
    "\n",
    "qc_exc.add_calibration(\"x\", (0,), exc_schedule, [])"
   ]
  },
  {
   "cell_type": "code",
   "execution_count": 115,
   "id": "7709cd84-37ac-408b-b2bf-b205d9aa7ae7",
   "metadata": {},
   "outputs": [
    {
     "data": {
      "image/png": "[encoded data removed]",
      "text/plain": [
       "<Figure size 936x237.6 with 1 Axes>"
      ]
     },
     "execution_count": 115,
     "metadata": {},
     "output_type": "execute_result"
    }
   ],
   "source": [
    "exec_schedule = schedule(qc_exc, backend)\n",
    "exec_schedule.draw(backend=backend)"
   ]
  },
  {
   "cell_type": "code",
   "execution_count": 116,
   "id": "15bc5058-aa04-4845-a7a2-283b9900aa63",
   "metadata": {},
   "outputs": [
    {
     "name": "stdout",
     "output_type": "stream",
     "text": [
      "Job Status: job has successfully run\n"
     ]
    }
   ],
   "source": [
    "# Execution settings\n",
    "num_shots = 1024\n",
    "\n",
    "job = backend.run([qc_gnd, qc_exc], \n",
    "                  meas_level=1, \n",
    "                  meas_return='single', \n",
    "                  shots=num_shots)\n",
    "\n",
    "job_monitor(job)"
   ]
  },
  {
   "cell_type": "code",
   "execution_count": 117,
   "id": "08b93699-6e15-463b-908a-c85a518a023e",
   "metadata": {},
   "outputs": [],
   "source": [
    "gnd_exc_results = job.result(timeout=120)"
   ]
  },
  {
   "cell_type": "code",
   "execution_count": 118,
   "id": "f681868d-fa31-4115-ba8e-45b26034aa07",
   "metadata": {},
   "outputs": [
    {
     "data": {
      "image/png": "[encoded data removed]",
      "text/plain": [
       "<Figure size 432x288 with 1 Axes>"
      ]
     },
     "metadata": {
      "needs_background": "light"
     },
     "output_type": "display_data"
    }
   ],
   "source": [
    "gnd_results = gnd_exc_results.get_memory(0)[:, qubit]*scale_factor\n",
    "exc_results = gnd_exc_results.get_memory(1)[:, qubit]*scale_factor\n",
    "\n",
    "plt.figure()\n",
    "\n",
    "# Plot all the results\n",
    "# All results from the ground state are plotted in blue\n",
    "plt.scatter(np.real(gnd_results), np.imag(gnd_results), \n",
    "                s=5, cmap='viridis', c='blue', alpha=0.5, label='state_0')\n",
    "# All results from the excited state are plotted in red\n",
    "plt.scatter(np.real(exc_results), np.imag(exc_results), \n",
    "                s=5, cmap='viridis', c='red', alpha=0.5, label='state_1')\n",
    "\n",
    "plt.axis('square')\n",
    "\n",
    "# Plot a large dot for the average result of the 0 and 1 states.\n",
    "mean_gnd = np.mean(gnd_results) # takes mean of both real and imaginary parts\n",
    "mean_exc = np.mean(exc_results)\n",
    "plt.scatter(np.real(mean_gnd), np.imag(mean_gnd), \n",
    "            s=200, cmap='viridis', c='black',alpha=1.0, label='state_0_mean')\n",
    "plt.scatter(np.real(mean_exc), np.imag(mean_exc), \n",
    "            s=200, cmap='viridis', c='black',alpha=1.0, label='state_1_mean')\n",
    "\n",
    "plt.ylabel('I [a.u.]', fontsize=15)\n",
    "plt.xlabel('Q [a.u.]', fontsize=15)\n",
    "plt.title(\"0-1 discrimination\", fontsize=15)\n",
    "\n",
    "plt.show()"
   ]
  },
  {
   "cell_type": "code",
   "execution_count": 119,
   "id": "20c5aa1a-4bc6-4ad9-9f05-7a2016e5850a",
   "metadata": {},
   "outputs": [],
   "source": [
    "import math\n",
    "\n",
    "def classify(point: complex):\n",
    "    \"\"\"Classify the given state as |0> or |1>.\"\"\"\n",
    "    def distance(a, b):\n",
    "        return math.sqrt((np.real(a) - np.real(b))**2 + (np.imag(a) - np.imag(b))**2)\n",
    "    return int(distance(point, mean_exc) < distance(point, mean_gnd))"
   ]
  },
  {
   "cell_type": "code",
   "execution_count": 51,
   "id": "daaab25f-2f0b-41e5-9c5c-89752aa09aec",
   "metadata": {},
   "outputs": [],
   "source": [
    "# Measuring T1 using Inversion Recovery"
   ]
  },
  {
   "cell_type": "code",
   "execution_count": 52,
   "id": "c733b889-27e5-4b43-abf2-ba33027a61df",
   "metadata": {},
   "outputs": [],
   "source": [
    "# T1 experiment parameters\n",
    "time_max_sec = 450 * us\n",
    "time_step_sec = 6.5 * us\n",
    "delay_times_sec = np.arange(1 * us, time_max_sec, time_step_sec)\n",
    "\n",
    "# We will use the same `pi_pulse` and qubit frequency that we calibrated and used before"
   ]
  },
  {
   "cell_type": "code",
   "execution_count": 53,
   "id": "379ecda7-4f14-4b72-9cb9-8196b5355085",
   "metadata": {},
   "outputs": [],
   "source": [
    "delay = Parameter('delay')\n",
    "qc_t1 = QuantumCircuit(1, 1)\n",
    "\n",
    "qc_t1.x(0)\n",
    "qc_t1.delay(delay, 0)\n",
    "qc_t1.measure(0, 0)\n",
    "qc_t1.add_calibration(\"x\", (0,), pi_pulse)\n",
    "\n",
    "exp_t1_circs = [qc_t1.assign_parameters({delay: get_dt_from(d)}, inplace=False) for d in delay_times_sec]"
   ]
  },
  {
   "cell_type": "code",
   "execution_count": 54,
   "id": "5c64d2ea-c2c0-460d-875e-eb63d1515946",
   "metadata": {},
   "outputs": [
    {
     "data": {
      "image/png": "[encoded data removed]",
      "text/plain": [
       "<Figure size 936x237.6 with 1 Axes>"
      ]
     },
     "execution_count": 54,
     "metadata": {},
     "output_type": "execute_result"
    }
   ],
   "source": [
    "sched_idx = -1\n",
    "t1_schedule = schedule(exp_t1_circs[sched_idx], backend)\n",
    "t1_schedule.draw(backend=backend)"
   ]
  },
  {
   "cell_type": "code",
   "execution_count": 55,
   "id": "f37b47a9-209e-4456-b8a3-2e151ea555f3",
   "metadata": {},
   "outputs": [
    {
     "name": "stdout",
     "output_type": "stream",
     "text": [
      "Job Status: job has successfully run\n"
     ]
    }
   ],
   "source": [
    "# Execution settings\n",
    "num_shots = 256\n",
    "\n",
    "job = backend.run(exp_t1_circs, \n",
    "                  meas_level=1, \n",
    "                  meas_return='single', \n",
    "                  shots=num_shots)\n",
    "\n",
    "job_monitor(job)"
   ]
  },
  {
   "cell_type": "code",
   "execution_count": 56,
   "id": "0db83d57-b235-48cd-9781-9d585ba1a020",
   "metadata": {},
   "outputs": [],
   "source": [
    "t1_results = job.result(timeout=120)"
   ]
  },
  {
   "cell_type": "code",
   "execution_count": 57,
   "id": "b6d369fc-af74-4e1d-8e62-9b8818a50a3f",
   "metadata": {},
   "outputs": [
    {
     "data": {
      "image/png": "[encoded data removed]",
      "text/plain": [
       "<Figure size 432x288 with 1 Axes>"
      ]
     },
     "metadata": {
      "needs_background": "light"
     },
     "output_type": "display_data"
    }
   ],
   "source": [
    "t1_values = []\n",
    "\n",
    "for i in range(len(delay_times_sec)):\n",
    "    iq_data = t1_results.get_memory(i)[:,qubit] * scale_factor\n",
    "    t1_values.append(sum(map(classify, iq_data)) / num_shots)\n",
    "\n",
    "plt.scatter(delay_times_sec/us, t1_values, color='black') \n",
    "plt.title(\"$T_1$ Experiment\", fontsize=15)\n",
    "plt.xlabel('Delay before measurement [$\\mu$s]', fontsize=15)\n",
    "plt.ylabel('Signal [a.u.]', fontsize=15)\n",
    "plt.show()"
   ]
  },
  {
   "cell_type": "code",
   "execution_count": 58,
   "id": "ed9a582a-0cbf-4075-a95d-45e69eb81ba5",
   "metadata": {},
   "outputs": [
    {
     "data": {
      "image/png": "[encoded data removed]",
      "text/plain": [
       "<Figure size 432x288 with 1 Axes>"
      ]
     },
     "metadata": {
      "needs_background": "light"
     },
     "output_type": "display_data"
    }
   ],
   "source": [
    "# Fit the data\n",
    "fit_params, y_fit = fit_function(delay_times_sec/us, t1_values, \n",
    "            lambda x, A, C, T1: (A * np.exp(-x / T1) + C),\n",
    "            [-3, 3, 100]\n",
    "            )\n",
    "\n",
    "_, _, T1 = fit_params\n",
    "\n",
    "plt.scatter(delay_times_sec/us, t1_values, color='black')\n",
    "plt.plot(delay_times_sec/us, y_fit, color='red', label=f\"T1 = {T1:.2f} us\")\n",
    "plt.xlim(0, np.max(delay_times_sec/us))\n",
    "plt.title(\"$T_1$ Experiment\", fontsize=15)\n",
    "plt.xlabel('Delay before measurement [$\\mu$s]', fontsize=15)\n",
    "plt.ylabel('Signal [a.u.]', fontsize=15)\n",
    "plt.legend()\n",
    "plt.show()"
   ]
  },
  {
   "cell_type": "code",
   "execution_count": 120,
   "id": "5c1f1516-8965-40ac-8aba-0c060870132a",
   "metadata": {},
   "outputs": [],
   "source": [
    "#Determining qubit Coherence"
   ]
  },
  {
   "cell_type": "code",
   "execution_count": 121,
   "id": "57fda703-5be8-4779-9ac7-fb3a3f4d1b7a",
   "metadata": {},
   "outputs": [],
   "source": [
    "#Measuring the qubit Frequency Precisely using a Ramsey Experiment"
   ]
  },
  {
   "cell_type": "code",
   "execution_count": 122,
   "id": "2d84fbd6-6820-4eab-9c93-3c130f7fcff1",
   "metadata": {},
   "outputs": [],
   "source": [
    "# Ramsey experiment parameters\n",
    "time_max_sec = 1.8 * us\n",
    "time_step_sec = 0.025 * us\n",
    "delay_times_sec = np.arange(0.1 * us, time_max_sec, time_step_sec)\n",
    "\n",
    "# Drive parameters\n",
    "# The drive amplitude for pi/2 is simply half the amplitude of the pi pulse\n",
    "drive_amp = pi_amp / 2\n",
    "\n",
    "# x_90 is a concise way to say pi_over_2; i.e., an X rotation of 90 degrees\n",
    "with pulse.build(backend) as x90_pulse:\n",
    "    drive_duration = get_closest_multiple_of_16(pulse.seconds_to_samples(drive_duration_sec))\n",
    "    drive_sigma = pulse.seconds_to_samples(drive_sigma_sec)\n",
    "    drive_chan = pulse.drive_channel(qubit)\n",
    "    pulse.play(pulse.Gaussian(duration=drive_duration,\n",
    "                              amp=drive_amp,\n",
    "                              sigma=drive_sigma,\n",
    "                              name='x90_pulse'), drive_chan)"
   ]
  },
  {
   "cell_type": "code",
   "execution_count": 123,
   "id": "b926ab6b-ebba-4981-ab0f-884ec2ef9345",
   "metadata": {},
   "outputs": [],
   "source": [
    "detuning_MHz = 2 \n",
    "ramsey_frequency = round(rough_qubit_frequency + detuning_MHz * MHz, 6) # need ramsey freq in Hz"
   ]
  },
  {
   "cell_type": "code",
   "execution_count": 124,
   "id": "01037065-28a0-4767-b0c4-af1ce48cae0a",
   "metadata": {},
   "outputs": [],
   "source": [
    "# create schedules for Ramsey experiment \n",
    "delay = Parameter('delay')\n",
    "with pulse.build(backend=backend, default_alignment='sequential', name=\"Ramsey delay Experiment\") as ramsey_schedule:\n",
    "    drive_chan = pulse.drive_channel(qubit)\n",
    "    pulse.set_frequency(ramsey_frequency, drive_chan)\n",
    "    pulse.call(x90_pulse)\n",
    "    pulse.delay(delay, drive_chan)\n",
    "    pulse.call(x90_pulse)"
   ]
  },
  {
   "cell_type": "code",
   "execution_count": 125,
   "id": "338981c5-4b41-4b01-b5b1-5098cd73c76a",
   "metadata": {},
   "outputs": [],
   "source": [
    "ramsey_gate = Gate(\"ramsey\", 1, [delay])\n",
    "\n",
    "qc_ramsey = QuantumCircuit(1, 1)\n",
    "\n",
    "qc_ramsey.append(ramsey_gate, [0])\n",
    "qc_ramsey.measure(0, 0)\n",
    "qc_ramsey.add_calibration(ramsey_gate, (0,), ramsey_schedule, [delay])\n",
    "\n",
    "exp_ramsey_circs = [qc_ramsey.assign_parameters({delay: get_dt_from(d)}, inplace=False) for d in delay_times_sec]"
   ]
  },
  {
   "cell_type": "code",
   "execution_count": 126,
   "id": "d2fc08f6-c4f5-49d4-b758-6ab21f56685a",
   "metadata": {},
   "outputs": [
    {
     "data": {
      "image/png": "[encoded data removed]",
      "text/plain": [
       "<Figure size 936x237.6 with 1 Axes>"
      ]
     },
     "execution_count": 126,
     "metadata": {},
     "output_type": "execute_result"
    }
   ],
   "source": [
    "ramsey_schedule = schedule(exp_ramsey_circs[2], backend)\n",
    "ramsey_schedule.draw(backend=backend)"
   ]
  },
  {
   "cell_type": "code",
   "execution_count": 127,
   "id": "f44af23e-0c18-4b69-bfbd-dcb6b9cd3020",
   "metadata": {},
   "outputs": [
    {
     "name": "stdout",
     "output_type": "stream",
     "text": [
      "Job Status: job has successfully run\n"
     ]
    }
   ],
   "source": [
    "# Execution settings\n",
    "num_shots = 256\n",
    "\n",
    "job = backend.run(exp_ramsey_circs, \n",
    "                  meas_level=1, \n",
    "                  meas_return='single', \n",
    "                  shots=num_shots)\n",
    "\n",
    "job_monitor(job)"
   ]
  },
  {
   "cell_type": "code",
   "execution_count": 128,
   "id": "eac48e11-e5eb-41de-aeaf-c393bc33810a",
   "metadata": {},
   "outputs": [],
   "source": [
    "ramsey_results = job.result(timeout=120)"
   ]
  },
  {
   "cell_type": "code",
   "execution_count": 129,
   "id": "43fc77c6-b521-4616-8f01-a9ef2e180d80",
   "metadata": {},
   "outputs": [
    {
     "data": {
      "image/png": "[encoded data removed]",
      "text/plain": [
       "<Figure size 432x288 with 1 Axes>"
      ]
     },
     "metadata": {
      "needs_background": "light"
     },
     "output_type": "display_data"
    }
   ],
   "source": [
    "ramsey_values = []\n",
    "\n",
    "for i in range(len(delay_times_sec)):\n",
    "    iq_data = ramsey_results.get_memory(i)[:,qubit] * scale_factor\n",
    "    ramsey_values.append(sum(map(classify, iq_data)) / num_shots)\n",
    "    \n",
    "plt.scatter(delay_times_sec/us, np.real(ramsey_values), color='black')\n",
    "plt.xlim(0, np.max(delay_times_sec/us))\n",
    "plt.title(\"Ramsey Experiment\", fontsize=15)\n",
    "plt.xlabel('Delay between X90 pulses [$\\mu$s]', fontsize=15)\n",
    "plt.ylabel('Measured Signal [a.u.]', fontsize=15)\n",
    "plt.show()"
   ]
  },
  {
   "cell_type": "code",
   "execution_count": 130,
   "id": "5799fd28-05ed-4f54-b7d6-9fad86dcd7cb",
   "metadata": {},
   "outputs": [
    {
     "data": {
      "image/png": "[encoded data removed]",
      "text/plain": [
       "<Figure size 432x288 with 1 Axes>"
      ]
     },
     "metadata": {
      "needs_background": "light"
     },
     "output_type": "display_data"
    }
   ],
   "source": [
    "fit_params, y_fit = fit_function(delay_times_sec/us, np.real(ramsey_values),\n",
    "                                 lambda x, A, del_f_MHz, C, B: (\n",
    "                                          A * np.cos(2*np.pi*del_f_MHz*x - C) + B\n",
    "                                         ),\n",
    "                                 [1, 4, 0, 0.3]\n",
    "                                )\n",
    "\n",
    "# Off-resonance component\n",
    "_, del_f_MHz, _, _, = fit_params # freq is MHz since times in us\n",
    "\n",
    "plt.scatter(delay_times_sec/us, np.real(ramsey_values), color='black')\n",
    "plt.plot(delay_times_sec/us, y_fit, color='red', label=f\"df = {del_f_MHz:.2f} MHz\")\n",
    "plt.xlim(0, np.max(delay_times_sec/us))\n",
    "plt.xlabel('Delay between X90 pulses [$\\mu$s]', fontsize=15)\n",
    "plt.ylabel('Measured Signal [a.u.]', fontsize=15)\n",
    "plt.title('Ramsey Experiment', fontsize=15)\n",
    "plt.legend()\n",
    "plt.show()"
   ]
  },
  {
   "cell_type": "code",
   "execution_count": 139,
   "id": "28c643e9-4e05-47da-a050-69e5dacad0ce",
   "metadata": {},
   "outputs": [
    {
     "name": "stdout",
     "output_type": "stream",
     "text": [
      "Our updated qubit frequency is now 4.96037 GHz. It used to be 4.962176 GHz\n"
     ]
    }
   ],
   "source": [
    "precise_qubit_freq = rough_qubit_frequency + (detuning_MHz - del_f_MHz) * MHz # get new freq in Hz\n",
    "print(f\"Our updated qubit frequency is now {round(precise_qubit_freq/GHz, 6)} GHz. \"\n",
    "      f\"It used to be {round(rough_qubit_frequency / GHz, 6)} GHz\")"
   ]
  },
  {
   "cell_type": "code",
   "execution_count": 140,
   "id": "68f66d5d-a5ff-4d66-9f48-60b20b6d0c86",
   "metadata": {},
   "outputs": [],
   "source": [
    "# create schedules for Ramsey experiment \n",
    "delay = Parameter('delay')\n",
    "with pulse.build(backend=backend, default_alignment='sequential', name=\"Ramsey delay Experiment\") as ramsey_schedule:\n",
    "    drive_chan = pulse.drive_channel(qubit)\n",
    "    pulse.set_frequency(precise_qubit_freq, drive_chan)\n",
    "    pulse.call(x90_pulse)\n",
    "    pulse.delay(delay, drive_chan)\n",
    "    pulse.call(x90_pulse)"
   ]
  },
  {
   "cell_type": "code",
   "execution_count": 141,
   "id": "e02290ae-178c-4312-9890-0563f77f06ba",
   "metadata": {},
   "outputs": [],
   "source": [
    "ramsey_gate = Gate(\"ramsey\", 1, [delay])\n",
    "\n",
    "qc_ramsey = QuantumCircuit(1, 1)\n",
    "\n",
    "qc_ramsey.append(ramsey_gate, [0])\n",
    "qc_ramsey.measure(0, 0)\n",
    "qc_ramsey.add_calibration(ramsey_gate, (0,), ramsey_schedule, [delay])\n",
    "\n",
    "exp_ramsey_circs = [qc_ramsey.assign_parameters({delay: get_dt_from(d)}, inplace=False) for d in delay_times_sec]"
   ]
  },
  {
   "cell_type": "code",
   "execution_count": 142,
   "id": "5682f4b2-f0fd-47e1-bdbc-e88dcd2ab104",
   "metadata": {},
   "outputs": [
    {
     "data": {
      "image/png": "[encoded data removed]",
      "text/plain": [
       "<Figure size 936x237.6 with 1 Axes>"
      ]
     },
     "execution_count": 142,
     "metadata": {},
     "output_type": "execute_result"
    }
   ],
   "source": [
    "ramsey_schedule = schedule(exp_ramsey_circs[2], backend)\n",
    "ramsey_schedule.draw(backend=backend)"
   ]
  },
  {
   "cell_type": "code",
   "execution_count": 143,
   "id": "05e5fa07-d71c-4e63-a7f5-abf56f2354d5",
   "metadata": {},
   "outputs": [
    {
     "name": "stdout",
     "output_type": "stream",
     "text": [
      "Job Status: job has successfully run\n"
     ]
    }
   ],
   "source": [
    "# Execution settings\n",
    "num_shots = 256\n",
    "\n",
    "job = backend.run(exp_ramsey_circs, \n",
    "                  meas_level=1, \n",
    "                  meas_return='single', \n",
    "                  shots=num_shots)\n",
    "\n",
    "job_monitor(job)"
   ]
  },
  {
   "cell_type": "code",
   "execution_count": 144,
   "id": "eb0e5ba1-1c73-4ce0-a64f-21a41e41c0f9",
   "metadata": {},
   "outputs": [],
   "source": [
    "ramsey_results = job.result(timeout=120)"
   ]
  },
  {
   "cell_type": "code",
   "execution_count": 145,
   "id": "994a6f5d-0aea-42b7-aca7-3b69adc07a2d",
   "metadata": {},
   "outputs": [
    {
     "data": {
      "image/png": "[encoded data removed]",
      "text/plain": [
       "<Figure size 432x288 with 1 Axes>"
      ]
     },
     "metadata": {
      "needs_background": "light"
     },
     "output_type": "display_data"
    }
   ],
   "source": [
    "ramsey_values = []\n",
    "\n",
    "for i in range(len(delay_times_sec)):\n",
    "    iq_data = ramsey_results.get_memory(i)[:,qubit] * scale_factor\n",
    "    ramsey_values.append(sum(map(classify, iq_data)) / num_shots)\n",
    "    \n",
    "plt.scatter(delay_times_sec/us, np.real(ramsey_values), color='black')\n",
    "plt.xlim(0, np.max(delay_times_sec/us))\n",
    "plt.title(\"Ramsey Experiment With Precise Frequency \", fontsize=15)\n",
    "plt.xlabel('Delay between X90 pulses [$\\mu$s]', fontsize=15)\n",
    "plt.ylabel('Measured Signal [a.u.]', fontsize=15)\n",
    "plt.show()"
   ]
  },
  {
   "cell_type": "code",
   "execution_count": 146,
   "id": "d5ea2b7f-ca60-4149-a075-37804c1a86ae",
   "metadata": {},
   "outputs": [
    {
     "data": {
      "image/png": "[encoded data removed]",
      "text/plain": [
       "<Figure size 432x288 with 1 Axes>"
      ]
     },
     "metadata": {
      "needs_background": "light"
     },
     "output_type": "display_data"
    }
   ],
   "source": [
    "fit_params, y_fit = fit_function(delay_times_sec/us, np.real(ramsey_values),\n",
    "                                 lambda x, A, del_f_MHz, C, B: (\n",
    "                                          A * np.cos(2*np.pi*del_f_MHz*x - C) + B\n",
    "                                         ),\n",
    "                                 [1, 4, 0, 0.3]\n",
    "                                )\n",
    "\n",
    "# Off-resonance component\n",
    "_, del_f_MHz, _, _, = fit_params # freq is MHz since times in us\n",
    "\n",
    "plt.scatter(delay_times_sec/us, np.real(ramsey_values), color='black')\n",
    "plt.plot(delay_times_sec/us, y_fit, color='red', label=f\"df = {del_f_MHz:.2f} MHz\")\n",
    "plt.xlim(0, np.max(delay_times_sec/us))\n",
    "plt.xlabel('Delay between X90 pulses [$\\mu$s]', fontsize=15)\n",
    "plt.ylabel('Measured Signal [a.u.]', fontsize=15)\n",
    "plt.title('Ramsey Experiment', fontsize=15)\n",
    "plt.legend()\n",
    "plt.show()"
   ]
  },
  {
   "cell_type": "code",
   "execution_count": 147,
   "id": "27ef4613-2f21-42fe-90d3-7c07e08b224f",
   "metadata": {},
   "outputs": [],
   "source": [
    "detuning_MHz = 2 \n",
    "ramsey_frequency = round(precise_qubit_freq + detuning_MHz * MHz, 6) # need ramsey freq in Hz"
   ]
  },
  {
   "cell_type": "code",
   "execution_count": 148,
   "id": "4f745fd7-6175-4d20-b4a2-6c424040390a",
   "metadata": {},
   "outputs": [],
   "source": [
    "# create schedules for Ramsey experiment \n",
    "delay = Parameter('delay')\n",
    "with pulse.build(backend=backend, default_alignment='sequential', name=\"Ramsey delay Experiment\") as ramsey_schedule:\n",
    "    drive_chan = pulse.drive_channel(qubit)\n",
    "    pulse.set_frequency(ramsey_frequency, drive_chan)\n",
    "    pulse.call(x90_pulse)\n",
    "    pulse.delay(delay, drive_chan)\n",
    "    pulse.call(x90_pulse)"
   ]
  },
  {
   "cell_type": "code",
   "execution_count": 149,
   "id": "c3309594-fc2c-427a-aa8d-78362664b783",
   "metadata": {},
   "outputs": [],
   "source": [
    "ramsey_gate = Gate(\"ramsey\", 1, [delay])\n",
    "\n",
    "qc_ramsey = QuantumCircuit(1, 1)\n",
    "\n",
    "qc_ramsey.append(ramsey_gate, [0])\n",
    "qc_ramsey.measure(0, 0)\n",
    "qc_ramsey.add_calibration(ramsey_gate, (0,), ramsey_schedule, [delay])\n",
    "\n",
    "exp_ramsey_circs = [qc_ramsey.assign_parameters({delay: get_dt_from(d)}, inplace=False) for d in delay_times_sec]"
   ]
  },
  {
   "cell_type": "code",
   "execution_count": 150,
   "id": "2eb458f1-68df-49c4-a90f-75c62086cb72",
   "metadata": {},
   "outputs": [
    {
     "data": {
      "image/png": "[encoded data removed]",
      "text/plain": [
       "<Figure size 936x237.6 with 1 Axes>"
      ]
     },
     "execution_count": 150,
     "metadata": {},
     "output_type": "execute_result"
    }
   ],
   "source": [
    "ramsey_schedule = schedule(exp_ramsey_circs[2], backend)\n",
    "ramsey_schedule.draw(backend=backend)"
   ]
  },
  {
   "cell_type": "code",
   "execution_count": 151,
   "id": "7653db39-542a-4baa-9c63-3e34daf846fe",
   "metadata": {},
   "outputs": [
    {
     "name": "stdout",
     "output_type": "stream",
     "text": [
      "Job Status: job has successfully run\n"
     ]
    }
   ],
   "source": [
    "# Execution settings\n",
    "num_shots = 256\n",
    "\n",
    "job = backend.run(exp_ramsey_circs, \n",
    "                  meas_level=1, \n",
    "                  meas_return='single', \n",
    "                  shots=num_shots)\n",
    "\n",
    "job_monitor(job)"
   ]
  },
  {
   "cell_type": "code",
   "execution_count": 152,
   "id": "5b691c82-3c89-4b72-a334-d8775634aecc",
   "metadata": {},
   "outputs": [
    {
     "data": {
      "image/png": "[encoded data removed]",
      "text/plain": [
       "<Figure size 432x288 with 1 Axes>"
      ]
     },
     "metadata": {
      "needs_background": "light"
     },
     "output_type": "display_data"
    }
   ],
   "source": [
    "ramsey_values = []\n",
    "\n",
    "for i in range(len(delay_times_sec)):\n",
    "    iq_data = ramsey_results.get_memory(i)[:,qubit] * scale_factor\n",
    "    ramsey_values.append(sum(map(classify, iq_data)) / num_shots)\n",
    "    \n",
    "plt.scatter(delay_times_sec/us, np.real(ramsey_values), color='black')\n",
    "plt.xlim(0, np.max(delay_times_sec/us))\n",
    "plt.title(\"Ramsey Experiment With Precise Frequency \", fontsize=15)\n",
    "plt.xlabel('Delay between X90 pulses [$\\mu$s]', fontsize=15)\n",
    "plt.ylabel('Measured Signal [a.u.]', fontsize=15)\n",
    "plt.show()"
   ]
  },
  {
   "cell_type": "code",
   "execution_count": 153,
   "id": "a7b3c811-3870-4e36-88cf-a234d214eeea",
   "metadata": {},
   "outputs": [
    {
     "data": {
      "image/png": "[encoded data removed]",
      "text/plain": [
       "<Figure size 432x288 with 1 Axes>"
      ]
     },
     "metadata": {
      "needs_background": "light"
     },
     "output_type": "display_data"
    }
   ],
   "source": [
    "fit_params, y_fit = fit_function(delay_times_sec/us, np.real(ramsey_values),\n",
    "                                 lambda x, A, del_f_MHz, C, B: (\n",
    "                                          A * np.cos(2*np.pi*del_f_MHz*x - C) + B\n",
    "                                         ),\n",
    "                                 [1, 4, 0, 0.3]\n",
    "                                )\n",
    "\n",
    "# Off-resonance component\n",
    "_, del_f_MHz, _, _, = fit_params # freq is MHz since times in us\n",
    "\n",
    "plt.scatter(delay_times_sec/us, np.real(ramsey_values), color='black')\n",
    "plt.plot(delay_times_sec/us, y_fit, color='red', label=f\"df = {del_f_MHz:.2f} MHz\")\n",
    "plt.xlim(0, np.max(delay_times_sec/us))\n",
    "plt.xlabel('Delay between X90 pulses [$\\mu$s]', fontsize=15)\n",
    "plt.ylabel('Measured Signal [a.u.]', fontsize=15)\n",
    "plt.title('Ramsey Experiment', fontsize=15)\n",
    "plt.legend()\n",
    "plt.show()"
   ]
  },
  {
   "cell_type": "code",
   "execution_count": 154,
   "id": "3b681e23-9bed-4792-97ab-c0c608e8d7b4",
   "metadata": {},
   "outputs": [],
   "source": [
    "###"
   ]
  },
  {
   "cell_type": "code",
   "execution_count": 71,
   "id": "4a0d50e3-c00b-4c03-a9b1-3ca45efc8c24",
   "metadata": {},
   "outputs": [],
   "source": [
    "# T2 experiment parameters\n",
    "tau_max_sec = 200 * us\n",
    "tau_step_sec = 4 * us\n",
    "delay_times_sec = np.arange(2 * us, tau_max_sec, tau_step_sec)\n",
    "\n",
    "# We will use the pi_pulse and x90_pulse from previous experiments"
   ]
  },
  {
   "cell_type": "code",
   "execution_count": 72,
   "id": "dd73de92-43b0-4e84-a571-434efff25192",
   "metadata": {},
   "outputs": [],
   "source": [
    "delay = Parameter('delay')\n",
    "with pulse.build(backend=backend, default_alignment='sequential', name=\"T2 delay Experiment\") as t2_schedule:\n",
    "    drive_chan = pulse.drive_channel(qubit)\n",
    "    pulse.set_frequency(precise_qubit_freq, drive_chan)\n",
    "    pulse.call(x90_pulse)\n",
    "    pulse.delay(delay, drive_chan)\n",
    "    pulse.call(pi_pulse)\n",
    "    pulse.delay(delay, drive_chan)\n",
    "    pulse.call(x90_pulse)"
   ]
  },
  {
   "cell_type": "code",
   "execution_count": 73,
   "id": "7eb5f6f5-f11f-4426-8746-e3e68c279f6d",
   "metadata": {},
   "outputs": [],
   "source": [
    "t2_gate = Gate(\"t2\", 1, [delay])\n",
    "\n",
    "qc_t2 = QuantumCircuit(1, 1)\n",
    "\n",
    "qc_t2.append(t2_gate, [0])\n",
    "qc_t2.measure(0, 0)\n",
    "qc_t2.add_calibration(t2_gate, (0,), t2_schedule, [delay])\n",
    "\n",
    "exp_t2_circs = [qc_t2.assign_parameters({delay: get_dt_from(d)}, inplace=False) for d in delay_times_sec]"
   ]
  },
  {
   "cell_type": "code",
   "execution_count": 74,
   "id": "9d0c2a4b-9a80-473b-89cc-6abb142a12ed",
   "metadata": {},
   "outputs": [
    {
     "data": {
      "image/png": "[encoded data removed]",
      "text/plain": [
       "<Figure size 936x237.6 with 1 Axes>"
      ]
     },
     "execution_count": 74,
     "metadata": {},
     "output_type": "execute_result"
    }
   ],
   "source": [
    "t2_schedule = schedule(exp_t2_circs[-1], backend)\n",
    "t2_schedule.draw(backend=backend)"
   ]
  },
  {
   "cell_type": "code",
   "execution_count": 75,
   "id": "18684b7b-363b-4361-8971-c76842942009",
   "metadata": {},
   "outputs": [
    {
     "name": "stdout",
     "output_type": "stream",
     "text": [
      "Job Status: job has successfully run\n"
     ]
    }
   ],
   "source": [
    "# Execution settings\n",
    "num_shots_per_point = 512\n",
    "\n",
    "job = backend.run(exp_t2_circs,\n",
    "                  meas_level=1,\n",
    "                  meas_return='single',\n",
    "                  shots=num_shots_per_point)\n",
    "\n",
    "job_monitor(job)"
   ]
  },
  {
   "cell_type": "code",
   "execution_count": 76,
   "id": "7b624174-cc03-4a38-9c29-0e1015391e30",
   "metadata": {},
   "outputs": [],
   "source": [
    "t2_results = job.result(timeout=120)"
   ]
  },
  {
   "cell_type": "code",
   "execution_count": 77,
   "id": "99a22c01-f6a1-4b89-8d60-23b1cf254019",
   "metadata": {},
   "outputs": [
    {
     "data": {
      "image/png": "[encoded data removed]",
      "text/plain": [
       "<Figure size 432x288 with 1 Axes>"
      ]
     },
     "metadata": {
      "needs_background": "light"
     },
     "output_type": "display_data"
    }
   ],
   "source": [
    "t2_values = []\n",
    "\n",
    "for i in range(len(delay_times_sec)):\n",
    "    iq_data = t2_results.get_memory(i)[:,qubit] * scale_factor\n",
    "    t2_values.append(sum(map(classify, iq_data)) / num_shots_per_point)\n",
    "\n",
    "plt.scatter(2*delay_times_sec/us, t2_values, color='black')\n",
    "plt.xlabel('Delay between X90 pulse and $\\pi$ pulse [$\\mu$s]', fontsize=15)\n",
    "plt.ylabel('Measured Signal [a.u.]', fontsize=15)\n",
    "plt.title('Hahn Echo Experiment', fontsize=15)\n",
    "plt.show()"
   ]
  },
  {
   "cell_type": "code",
   "execution_count": 78,
   "id": "d80449a3-37e1-4421-9d82-6cd7fb50328e",
   "metadata": {},
   "outputs": [
    {
     "name": "stdout",
     "output_type": "stream",
     "text": [
      "\n"
     ]
    },
    {
     "data": {
      "image/png": "[encoded data removed]",
      "text/plain": [
       "<Figure size 432x288 with 1 Axes>"
      ]
     },
     "metadata": {
      "needs_background": "light"
     },
     "output_type": "display_data"
    }
   ],
   "source": [
    "fit_params, y_fit = fit_function(2*delay_times_sec/us, t2_values,\n",
    "             lambda x, A, B, T2: (A * np.exp(-x / T2) + B),\n",
    "             [-3, 0, 100])\n",
    "\n",
    "_, _, T2 = fit_params\n",
    "print()\n",
    "\n",
    "plt.scatter(2*delay_times_sec/us, t2_values, color='black')\n",
    "plt.plot(2*delay_times_sec/us, y_fit, color='red', label=f\"T2 = {T2:.2f} us\")\n",
    "plt.xlim(0, np.max(2*delay_times_sec/us))\n",
    "plt.xlabel('Delay between X90 pulse and $\\pi$ pulse [$\\mu$s]', fontsize=15)\n",
    "plt.ylabel('Measured Signal [a.u.]', fontsize=15)\n",
    "plt.title('Hahn Echo Experiment', fontsize=15)\n",
    "plt.legend()\n",
    "plt.show()"
   ]
  },
  {
   "cell_type": "code",
   "execution_count": 79,
   "id": "85b806c6-5edf-417a-ba0a-bb4db0c24412",
   "metadata": {},
   "outputs": [
    {
     "name": "stdout",
     "output_type": "stream",
     "text": [
      "Total time ranges from 2.0 to 354.0 us\n"
     ]
    }
   ],
   "source": [
    "# DD experiment parameters\n",
    "tau_sec_min = 1 * us\n",
    "tau_sec_max = 180 * us\n",
    "tau_step_sec = 4 * us\n",
    "taus_sec = np.arange(tau_sec_min, tau_sec_max, tau_step_sec)\n",
    "\n",
    "num_sequence = 1 # apply 1 sequence\n",
    "print(f\"Total time ranges from {2.*num_sequence*taus_sec[0] / us} to {2.*num_sequence*taus_sec[-1] / us} us\")"
   ]
  },
  {
   "cell_type": "code",
   "execution_count": 80,
   "id": "62197791-626d-4079-8fd3-ae7df1a661f5",
   "metadata": {},
   "outputs": [],
   "source": [
    "delay = Parameter('delay')\n",
    "with pulse.build(backend=backend, default_alignment='sequential', name=\"T2DD delay Experiment\") as T2DD_schedule:\n",
    "    drive_chan = pulse.drive_channel(qubit)\n",
    "    pulse.set_frequency(precise_qubit_freq, drive_chan)\n",
    "    pulse.call(x90_pulse)\n",
    "    pulse.delay(delay/2, drive_chan)\n",
    "    for loop_counts in range(num_sequence):\n",
    "        pulse.call(pi_pulse)\n",
    "        pulse.delay(delay, drive_chan)\n",
    "        with pulse.phase_offset(np.pi/2, pulse.drive_channel(qubit)):\n",
    "            pulse.call(pi_pulse)\n",
    "        pulse.delay(delay, drive_chan)\n",
    "        pulse.call(pi_pulse)\n",
    "        pulse.delay(delay, drive_chan)\n",
    "        with pulse.phase_offset(np.pi/2, pulse.drive_channel(qubit)):\n",
    "            pulse.call(pi_pulse)\n",
    "        if loop_counts != num_sequence-1:\n",
    "            pulse.delay(delay, drive_chan)\n",
    "    pulse.delay(delay/2, drive_chan)\n",
    "    pulse.call(x90_pulse)"
   ]
  },
  {
   "cell_type": "code",
   "execution_count": 81,
   "id": "9305b8b1-0b87-4a73-b4ed-4e8625b3dc7b",
   "metadata": {},
   "outputs": [],
   "source": [
    "T2DD_gate = Gate(\"T2DD\", 1, [delay])\n",
    "\n",
    "qc_T2DD = QuantumCircuit(1, 1)\n",
    "\n",
    "qc_T2DD.append(T2DD_gate, [0])\n",
    "qc_T2DD.measure(0, 0)\n",
    "qc_T2DD.add_calibration(T2DD_gate, (0,), T2DD_schedule, [delay])\n",
    "\n",
    "exp_T2DD_circs = [qc_T2DD.assign_parameters({delay: get_dt_from(d)}, inplace=False) for d in taus_sec]"
   ]
  },
  {
   "cell_type": "code",
   "execution_count": 82,
   "id": "f4b2f9d5-9d42-49bb-a15f-480b7a4c74b8",
   "metadata": {},
   "outputs": [
    {
     "data": {
      "image/png": "[encoded data removed]",
      "text/plain": [
       "<Figure size 936x237.6 with 1 Axes>"
      ]
     },
     "execution_count": 82,
     "metadata": {},
     "output_type": "execute_result"
    }
   ],
   "source": [
    "T2DD_schedule = schedule(exp_T2DD_circs[-1], backend)\n",
    "T2DD_schedule.draw(backend=backend)"
   ]
  },
  {
   "cell_type": "code",
   "execution_count": 83,
   "id": "aa9bd078-3e0a-4f65-819a-bafb55046191",
   "metadata": {},
   "outputs": [
    {
     "name": "stdout",
     "output_type": "stream",
     "text": [
      "Job Status: job has successfully run\n"
     ]
    }
   ],
   "source": [
    "num_shots_per_point = 1024\n",
    "\n",
    "job = backend.run(exp_T2DD_circs,\n",
    "                  meas_level=1,\n",
    "                  meas_return='single',\n",
    "                  shots=num_shots_per_point)\n",
    "\n",
    "\n",
    "job_monitor(job)"
   ]
  },
  {
   "cell_type": "code",
   "execution_count": 84,
   "id": "72d0a8a4-f497-4aab-8e73-5a84644045bb",
   "metadata": {},
   "outputs": [],
   "source": [
    "T2DD_results = job.result(timeout=120)"
   ]
  },
  {
   "cell_type": "code",
   "execution_count": 85,
   "id": "7d46a3b7-7cc4-4eb2-9d2d-e506486a06cd",
   "metadata": {},
   "outputs": [
    {
     "data": {
      "image/png": "[encoded data removed]",
      "text/plain": [
       "<Figure size 432x288 with 1 Axes>"
      ]
     },
     "metadata": {
      "needs_background": "light"
     },
     "output_type": "display_data"
    }
   ],
   "source": [
    "times_sec = 4*num_sequence*taus_sec\n",
    "DD_values = []\n",
    "\n",
    "for i in range(len(times_sec)):\n",
    "    iq_data = T2DD_results.get_memory(i)[:,qubit] * scale_factor\n",
    "    DD_values.append(sum(map(classify, iq_data)) / num_shots_per_point)\n",
    "\n",
    "plt.scatter(times_sec/us, DD_values, color='black')\n",
    "plt.xlim(0, np.max(times_sec/us))\n",
    "plt.xlabel('Total time before measurement [$\\mu$s]', fontsize=15)\n",
    "plt.ylabel('Measured Signal [a.u.]', fontsize=15)\n",
    "plt.title('Dynamical Decoupling Experiment', fontsize=15)\n",
    "plt.show()"
   ]
  },
  {
   "cell_type": "code",
   "execution_count": 86,
   "id": "918c2a93-e154-49dc-bb99-6e68bb8e0b44",
   "metadata": {},
   "outputs": [
    {
     "data": {
      "image/png": "[encoded data removed]",
      "text/plain": [
       "<Figure size 432x288 with 1 Axes>"
      ]
     },
     "metadata": {
      "needs_background": "light"
     },
     "output_type": "display_data"
    }
   ],
   "source": [
    "# Fit the data\n",
    "fit_func = lambda x, A, B, T2DD: (A * np.exp(-x / T2DD) + B)\n",
    "fitparams, conv = curve_fit(fit_func, times_sec/us, DD_values, [3.5, 0.8, 150])\n",
    "\n",
    "_, _, T2DD = fitparams\n",
    "plt.scatter(times_sec/us, DD_values, color='black')\n",
    "plt.plot(times_sec/us, fit_func(times_sec/us, *fitparams), color='red', label=f\"T2DD = {T2DD:.2f} us\")\n",
    "plt.xlim([0, np.max(times_sec/us)])\n",
    "plt.xlabel('Total time before measurement [$\\mu$s]', fontsize=15)\n",
    "plt.ylabel('Measured Signal [a.u.]', fontsize=15)\n",
    "plt.title('Dynamical Decoupling Experiment', fontsize=15)\n",
    "plt.legend()\n",
    "plt.show()"
   ]
  },
  {
   "cell_type": "code",
   "execution_count": 89,
   "id": "94194b20-e016-41d1-859d-b0f2fb8c0352",
   "metadata": {},
   "outputs": [],
   "source": [
    "### Prueba "
   ]
  },
  {
   "cell_type": "code",
   "execution_count": 90,
   "id": "d11a6482-6f5e-430b-a3d9-5300ea032246",
   "metadata": {},
   "outputs": [],
   "source": [
    "# Ramsey experiment parameters\n",
    "time_max_sec = 1.8 * us\n",
    "time_step_sec = 0.025 * us\n",
    "delay_times_sec = np.arange(0.1 * us, time_max_sec, time_step_sec)\n",
    "\n",
    "# Drive parameters\n",
    "# The drive amplitude for pi/2 is simply half the amplitude of the pi pulse\n",
    "drive_amp = pi_amp / 2\n",
    "\n",
    "# x_90 is a concise way to say pi_over_2; i.e., an X rotation of 90 degrees\n",
    "with pulse.build(backend) as x90_pulse:\n",
    "    drive_duration = get_closest_multiple_of_16(pulse.seconds_to_samples(drive_duration_sec))\n",
    "    drive_sigma = pulse.seconds_to_samples(drive_sigma_sec)\n",
    "    drive_chan = pulse.drive_channel(qubit)\n",
    "    pulse.play(pulse.Gaussian(duration=drive_duration,\n",
    "                              amp=drive_amp,\n",
    "                              sigma=drive_sigma,\n",
    "                              name='x90_pulse'), drive_chan)"
   ]
  },
  {
   "cell_type": "code",
   "execution_count": 96,
   "id": "7b63bfe0-001e-481a-b385-fc7264a3e31d",
   "metadata": {},
   "outputs": [],
   "source": [
    "detuning_MHz = 2 \n",
    "ramsey_frequency = round(precise_qubit_freq + detuning_MHz * MHz, 6) # need ramsey freq in Hz"
   ]
  },
  {
   "cell_type": "code",
   "execution_count": 97,
   "id": "c23938c3-d872-4e90-9572-2b914f8a992b",
   "metadata": {},
   "outputs": [],
   "source": [
    "# create schedules for Ramsey experiment \n",
    "delay = Parameter('delay')\n",
    "with pulse.build(backend=backend, default_alignment='sequential', name=\"Ramsey delay Experiment\") as ramsey_schedule:\n",
    "    drive_chan = pulse.drive_channel(qubit)\n",
    "    pulse.set_frequency(ramsey_frequency, drive_chan)\n",
    "    pulse.call(x90_pulse)\n",
    "    pulse.delay(delay, drive_chan)\n",
    "    pulse.call(x90_pulse)"
   ]
  },
  {
   "cell_type": "code",
   "execution_count": 98,
   "id": "329ab788-3995-4c04-bd7d-f8dd97c44374",
   "metadata": {},
   "outputs": [],
   "source": [
    "ramsey_gate = Gate(\"ramsey\", 1, [delay])\n",
    "\n",
    "qc_ramsey = QuantumCircuit(1, 1)\n",
    "\n",
    "qc_ramsey.append(ramsey_gate, [0])\n",
    "qc_ramsey.measure(0, 0)\n",
    "qc_ramsey.add_calibration(ramsey_gate, (0,), ramsey_schedule, [delay])\n",
    "\n",
    "exp_ramsey_circs = [qc_ramsey.assign_parameters({delay: get_dt_from(d)}, inplace=False) for d in delay_times_sec]"
   ]
  },
  {
   "cell_type": "code",
   "execution_count": 99,
   "id": "a48d5851-b6dc-4900-8e76-949abe77d297",
   "metadata": {},
   "outputs": [
    {
     "data": {
      "image/png": "[encoded data removed]",
      "text/plain": [
       "<Figure size 936x237.6 with 1 Axes>"
      ]
     },
     "execution_count": 99,
     "metadata": {},
     "output_type": "execute_result"
    }
   ],
   "source": [
    "ramsey_schedule = schedule(exp_ramsey_circs[2], backend)\n",
    "ramsey_schedule.draw(backend=backend)"
   ]
  },
  {
   "cell_type": "code",
   "execution_count": 100,
   "id": "a1bd9a7c-2e3c-41c8-8e27-4da228566833",
   "metadata": {},
   "outputs": [
    {
     "name": "stdout",
     "output_type": "stream",
     "text": [
      "Job Status: job has successfully run\n"
     ]
    }
   ],
   "source": [
    "# Execution settings\n",
    "num_shots = 256\n",
    "\n",
    "job = backend.run(exp_ramsey_circs, \n",
    "                  meas_level=1, \n",
    "                  meas_return='single', \n",
    "                  shots=num_shots)\n",
    "\n",
    "job_monitor(job)"
   ]
  },
  {
   "cell_type": "code",
   "execution_count": 101,
   "id": "5531eebc-53a6-4582-926e-39c0c9cd24fe",
   "metadata": {},
   "outputs": [],
   "source": [
    "ramsey_results = job.result(timeout=120)"
   ]
  },
  {
   "cell_type": "code",
   "execution_count": 102,
   "id": "acfb3ff0-770d-4df0-ae2b-6eaed7ece421",
   "metadata": {},
   "outputs": [
    {
     "data": {
      "image/png": "[encoded data removed]",
      "text/plain": [
       "<Figure size 432x288 with 1 Axes>"
      ]
     },
     "metadata": {
      "needs_background": "light"
     },
     "output_type": "display_data"
    }
   ],
   "source": [
    "ramsey_values = []\n",
    "\n",
    "for i in range(len(delay_times_sec)):\n",
    "    iq_data = ramsey_results.get_memory(i)[:,qubit] * scale_factor\n",
    "    ramsey_values.append(sum(map(classify, iq_data)) / num_shots)\n",
    "    \n",
    "plt.scatter(delay_times_sec/us, np.real(ramsey_values), color='black')\n",
    "plt.xlim(0, np.max(delay_times_sec/us))\n",
    "plt.title(\"Ramsey Experiment\", fontsize=15)\n",
    "plt.xlabel('Delay between X90 pulses [$\\mu$s]', fontsize=15)\n",
    "plt.ylabel('Measured Signal [a.u.]', fontsize=15)\n",
    "plt.show()"
   ]
  },
  {
   "cell_type": "code",
   "execution_count": 103,
   "id": "89698c13-a7a1-4f14-b929-56a3485bd152",
   "metadata": {},
   "outputs": [],
   "source": [
    "qubit2=1"
   ]
  },
  {
   "cell_type": "code",
   "execution_count": 104,
   "id": "1ab376d0-901d-4cd7-b093-e9ea4a71c471",
   "metadata": {},
   "outputs": [],
   "source": [
    "# Ramsey experiment parameters\n",
    "time_max_sec = 1.8 * us\n",
    "time_step_sec = 0.025 * us\n",
    "delay_times_sec = np.arange(0.1 * us, time_max_sec, time_step_sec)\n",
    "\n",
    "# Drive parameters\n",
    "# The drive amplitude for pi/2 is simply half the amplitude of the pi pulse\n",
    "drive_amp = pi_amp / 2\n",
    "\n",
    "# x_90 is a concise way to say pi_over_2; i.e., an X rotation of 90 degrees\n",
    "with pulse.build(backend) as x90_pulse:\n",
    "    drive_duration = get_closest_multiple_of_16(pulse.seconds_to_samples(drive_duration_sec))\n",
    "    drive_sigma = pulse.seconds_to_samples(drive_sigma_sec)\n",
    "    drive_chan = pulse.drive_channel(qubit)\n",
    "    pulse.play(pulse.Gaussian(duration=drive_duration,\n",
    "                              amp=drive_amp,\n",
    "                              sigma=drive_sigma,\n",
    "                              name='x90_pulse'), drive_chan)\n",
    "    \n",
    "with pulse.build(backend) as x90_pulse_2:\n",
    "    drive_duration = get_closest_multiple_of_16(pulse.seconds_to_samples(drive_duration_sec))\n",
    "    drive_sigma = pulse.seconds_to_samples(drive_sigma_sec)\n",
    "    drive_chan = pulse.drive_channel(qubit2)\n",
    "    pulse.play(pulse.Gaussian(duration=drive_duration,\n",
    "                              amp=drive_amp,\n",
    "                              sigma=drive_sigma,\n",
    "                              name='x90_pulse'), drive_chan)"
   ]
  },
  {
   "cell_type": "code",
   "execution_count": 108,
   "id": "31dff096-3a18-43d8-8ad4-ba9a5444ae76",
   "metadata": {},
   "outputs": [],
   "source": [
    "detuning_MHz = 2 \n",
    "ramsey_frequency = round(precise_qubit_freq + detuning_MHz * MHz, 6) # need ramsey freq in Hz"
   ]
  },
  {
   "cell_type": "code",
   "execution_count": 109,
   "id": "5b18ffe7-e60c-4560-98ee-2bc78229f882",
   "metadata": {},
   "outputs": [],
   "source": [
    "# create schedules for Ramsey experiment \n",
    "\n",
    "delay = Parameter('delay')\n",
    "with pulse.build(backend=backend, default_alignment='sequential', name=\"Ramsey delay Experiment\") as ramsey_schedule:\n",
    "    drive_chan = pulse.drive_channel(qubit)\n",
    "    pulse.set_frequency(ramsey_frequency, drive_chan)\n",
    "    with pulse.align_left():\n",
    "        pulse.call(x90_pulse)\n",
    "        pulse.call(x90_pulse_2)\n",
    "    pulse.delay(delay, drive_chan)\n",
    "    pulse.call(x90_pulse)"
   ]
  },
  {
   "cell_type": "code",
   "execution_count": 110,
   "id": "be9477ff-715e-4349-b2c3-76f9f6012e68",
   "metadata": {},
   "outputs": [],
   "source": [
    "ramsey_gate = Gate(\"ramsey\", 1, [delay])\n",
    "\n",
    "qc_ramsey = QuantumCircuit(2, 2)\n",
    "\n",
    "qc_ramsey.append(ramsey_gate, [0])\n",
    "qc_ramsey.measure(0,0)\n",
    "qc_ramsey.add_calibration(ramsey_gate, (0,), ramsey_schedule, [delay])\n",
    "\n",
    "exp_ramsey_circs = [qc_ramsey.assign_parameters({delay: get_dt_from(d)}, inplace=False) for d in delay_times_sec]"
   ]
  },
  {
   "cell_type": "code",
   "execution_count": 111,
   "id": "d0fc79ca-f230-4832-bd43-178f4c13936c",
   "metadata": {},
   "outputs": [
    {
     "data": {
      "image/png": "[encoded data removed]",
      "text/plain": [
       "<Figure size 936x356.4 with 1 Axes>"
      ]
     },
     "execution_count": 111,
     "metadata": {},
     "output_type": "execute_result"
    }
   ],
   "source": [
    "ramsey_schedule = schedule(exp_ramsey_circs[2], backend)\n",
    "ramsey_schedule.draw(backend=backend)"
   ]
  },
  {
   "cell_type": "code",
   "execution_count": 112,
   "id": "86deb5ad-626a-4afa-a062-edd38eb3ebdb",
   "metadata": {},
   "outputs": [
    {
     "name": "stdout",
     "output_type": "stream",
     "text": [
      "Job Status: job has successfully run\n"
     ]
    }
   ],
   "source": [
    "# Execution settings\n",
    "num_shots = 256\n",
    "\n",
    "job = backend.run(exp_ramsey_circs, \n",
    "                  meas_level=1, \n",
    "                  meas_return='single', \n",
    "                  shots=num_shots)\n",
    "\n",
    "job_monitor(job)"
   ]
  },
  {
   "cell_type": "code",
   "execution_count": 113,
   "id": "7506853a-ff0c-44ae-9bc1-c113b0eae273",
   "metadata": {},
   "outputs": [],
   "source": [
    "ramsey_results = job.result(timeout=120)"
   ]
  },
  {
   "cell_type": "code",
   "execution_count": 114,
   "id": "902294de-491d-40f5-b01a-3c221fab0479",
   "metadata": {},
   "outputs": [
    {
     "data": {
      "image/png": "[encoded data removed]",
      "text/plain": [
       "<Figure size 432x288 with 1 Axes>"
      ]
     },
     "metadata": {
      "needs_background": "light"
     },
     "output_type": "display_data"
    }
   ],
   "source": [
    "ramsey_values = []\n",
    "\n",
    "for i in range(len(delay_times_sec)):\n",
    "    iq_data = ramsey_results.get_memory(i)[:,qubit] * scale_factor\n",
    "    ramsey_values.append(sum(map(classify, iq_data)) / num_shots)\n",
    "    \n",
    "plt.scatter(delay_times_sec/us, np.real(ramsey_values), color='black')\n",
    "plt.xlim(0, np.max(delay_times_sec/us))\n",
    "plt.title(\"Ramsey Experiment With Neighbor Qubit Excitated \", fontsize=15)\n",
    "plt.xlabel('Delay between X90 pulses [$\\mu$s]', fontsize=15)\n",
    "plt.ylabel('Measured Signal [a.u.]', fontsize=15)\n",
    "plt.show()"
   ]
  },
  {
   "cell_type": "code",
   "execution_count": null,
   "id": "b8c8f0f7-81c0-4334-86e7-6b0bebe5dddd",
   "metadata": {},
   "outputs": [],
   "source": []
  }
 ],
 "metadata": {
  "kernelspec": {
   "display_name": "Python 3 (ipykernel)",
   "language": "python",
   "name": "python3"
  },
  "language_info": {
   "codemirror_mode": {
    "name": "ipython",
    "version": 3
   },
   "file_extension": ".py",
   "mimetype": "text/x-python",
   "name": "python",
   "nbconvert_exporter": "python",
   "pygments_lexer": "ipython3",
   "version": "3.8.13"
  },
  "widgets": {
   "application/vnd.jupyter.widget-state+json": {
    "state": {
     "017b12f3a7b14c868387266e0f17314d": {
      "model_module": "@jupyter-widgets/controls",
      "model_module_version": "1.5.0",
      "model_name": "HTMLModel",
      "state": {
       "layout": "IPY_MODEL_4f1853f0e7f2470a8f312a13d2cea2fc",
       "style": "IPY_MODEL_601579979d944c72bc64c769e386346c",
       "value": "<font style='color:#34BC6E'>DONE</font>"
      }
     },
     "0276c475cf5f4f1eb4e1d24005dad1be": {
      "model_module": "@jupyter-widgets/controls",
      "model_module_version": "1.5.0",
      "model_name": "HTMLModel",
      "state": {
       "layout": "IPY_MODEL_54a6b8a1c9924bce8f0abdee2adc0b1a",
       "style": "IPY_MODEL_66124a86e1214d289d5bdf6d3c812bb1",
       "value": "job has successfully run"
      }
     },
     "03fdcf24db5c43819f14fc48e1ab8560": {
      "model_module": "@jupyter-widgets/base",
      "model_module_version": "1.2.0",
      "model_name": "LayoutModel",
      "state": {
       "width": "190px"
      }
     },
     "05cc3edcb77440cdbdf6572955d2ab38": {
      "model_module": "@jupyter-widgets/controls",
      "model_module_version": "1.5.0",
      "model_name": "HTMLModel",
      "state": {
       "layout": "IPY_MODEL_b1be05d5148647d78dae6442caa61027",
       "style": "IPY_MODEL_acf69c346e244309a59c7995bade71b3",
       "value": "<font style='color:#34BC6E'>DONE</font>"
      }
     },
     "071c5ee1cdfc476eb39b6dbfb3ff235b": {
      "model_module": "@jupyter-widgets/controls",
      "model_module_version": "1.5.0",
      "model_name": "HTMLModel",
      "state": {
       "layout": "IPY_MODEL_c26251bc45dd47b599c1c0d68e92e88c",
       "style": "IPY_MODEL_350682fb27f84a1896635bbf29d6ca2e",
       "value": "<font style='color:#34BC6E'>DONE</font>"
      }
     },
     "077b46bbb79a49798bd7d28c0f75c67c": {
      "model_module": "@jupyter-widgets/controls",
      "model_module_version": "1.5.0",
      "model_name": "DescriptionStyleModel",
      "state": {
       "description_width": ""
      }
     },
     "08e8eb968ed841e0afa7cb3c6021d2d5": {
      "model_module": "@jupyter-widgets/controls",
      "model_module_version": "1.5.0",
      "model_name": "ButtonStyleModel",
      "state": {
       "button_color": "white"
      }
     },
     "08ee57ee2a44417e945b563df2df8469": {
      "model_module": "@jupyter-widgets/controls",
      "model_module_version": "1.5.0",
      "model_name": "ButtonModel",
      "state": {
       "icon": "close",
       "layout": "IPY_MODEL_4112f4b56794469a9436fd9819e188be",
       "style": "IPY_MODEL_ceb0e0a172144019bf241bc5175d53db"
      }
     },
     "0c500c9cce94416089b43b943bce049a": {
      "model_module": "@jupyter-widgets/base",
      "model_module_version": "1.2.0",
      "model_name": "LayoutModel",
      "state": {
       "overflow_x": "scroll"
      }
     },
     "0cb7e1d1f1604b7abb59f2568cd422dd": {
      "model_module": "@jupyter-widgets/base",
      "model_module_version": "1.2.0",
      "model_name": "LayoutModel",
      "state": {
       "overflow_x": "scroll"
      }
     },
     "0d619653ac784713a40ff98e071e89a2": {
      "model_module": "@jupyter-widgets/controls",
      "model_module_version": "1.5.0",
      "model_name": "HTMLModel",
      "state": {
       "layout": "IPY_MODEL_d3b94f8b32a34e8eadb7d359d217645b",
       "style": "IPY_MODEL_f89cc9ee4f1a474fa01375b71e71ef4f",
       "value": "<font style='color:#34BC6E'>DONE</font>"
      }
     },
     "0e722ba2b95c4077b4c12b762cea94c9": {
      "model_module": "@jupyter-widgets/controls",
      "model_module_version": "1.5.0",
      "model_name": "DescriptionStyleModel",
      "state": {
       "description_width": ""
      }
     },
     "0ebb71e1e34d41878600640691f6f09f": {
      "model_module": "@jupyter-widgets/controls",
      "model_module_version": "1.5.0",
      "model_name": "DescriptionStyleModel",
      "state": {
       "description_width": ""
      }
     },
     "0ee29d8e5b084f12acd49175d98a419b": {
      "model_module": "@jupyter-widgets/base",
      "model_module_version": "1.2.0",
      "model_name": "LayoutModel",
      "state": {
       "width": "70px"
      }
     },
     "0ff047b541084962aa6b617b0759d1e1": {
      "model_module": "@jupyter-widgets/base",
      "model_module_version": "1.2.0",
      "model_name": "LayoutModel",
      "state": {
       "width": "145px"
      }
     },
     "102de4727c5747b79d490e1c0fd94472": {
      "model_module": "@jupyter-widgets/base",
      "model_module_version": "1.2.0",
      "model_name": "LayoutModel",
      "state": {
       "width": "145px"
      }
     },
     "10434c907a354be09452e5f3f46bcf2a": {
      "model_module": "@jupyter-widgets/controls",
      "model_module_version": "1.5.0",
      "model_name": "DescriptionStyleModel",
      "state": {
       "description_width": ""
      }
     },
     "1127cc05d0024806ab6fe5d45243803b": {
      "model_module": "@jupyter-widgets/base",
      "model_module_version": "1.2.0",
      "model_name": "LayoutModel",
      "state": {
       "width": "145px"
      }
     },
     "11b22de92b2245219ae08e0b77037876": {
      "model_module": "@jupyter-widgets/controls",
      "model_module_version": "1.5.0",
      "model_name": "DescriptionStyleModel",
      "state": {
       "description_width": ""
      }
     },
     "12d003c98f4f44d58f29c94fa9b4b093": {
      "model_module": "@jupyter-widgets/controls",
      "model_module_version": "1.5.0",
      "model_name": "ButtonStyleModel",
      "state": {
       "button_color": "white"
      }
     },
     "13b70d09cda741069ffac80c190fe35c": {
      "model_module": "@jupyter-widgets/base",
      "model_module_version": "1.2.0",
      "model_name": "LayoutModel",
      "state": {
       "margin": "0px 5px 0px 0px",
       "width": "32px"
      }
     },
     "13e6d50e665043dd855e36c878d7a1a7": {
      "model_module": "@jupyter-widgets/controls",
      "model_module_version": "1.5.0",
      "model_name": "DescriptionStyleModel",
      "state": {
       "description_width": ""
      }
     },
     "14d396f01c164799af0d2dbee1f051a2": {
      "model_module": "@jupyter-widgets/controls",
      "model_module_version": "1.5.0",
      "model_name": "DescriptionStyleModel",
      "state": {
       "description_width": ""
      }
     },
     "15855be7b40c4ae5b6a1bee09d6788ee": {
      "model_module": "@jupyter-widgets/controls",
      "model_module_version": "1.5.0",
      "model_name": "ButtonModel",
      "state": {
       "icon": "close",
       "layout": "IPY_MODEL_3edecf3cba9c4ed8b048a7c1c2101465",
       "style": "IPY_MODEL_e66041aad7b54c51943b7584063549bc"
      }
     },
     "1995c44f6e5f4d4c878ab67c3da5bdcc": {
      "model_module": "@jupyter-widgets/controls",
      "model_module_version": "1.5.0",
      "model_name": "DescriptionStyleModel",
      "state": {
       "description_width": ""
      }
     },
     "1a611848bc194deb8acfe07cb7a9e9d8": {
      "model_module": "@jupyter-widgets/base",
      "model_module_version": "1.2.0",
      "model_name": "LayoutModel",
      "state": {
       "margin": "0px 5px 0px 0px",
       "width": "32px"
      }
     },
     "1ac1b0478dcf4ea6873d417768a7ea70": {
      "model_module": "@jupyter-widgets/controls",
      "model_module_version": "1.5.0",
      "model_name": "ButtonStyleModel",
      "state": {
       "button_color": "white"
      }
     },
     "1ad5355d3960466eb950ed993a55c93e": {
      "model_module": "@jupyter-widgets/controls",
      "model_module_version": "1.5.0",
      "model_name": "HTMLModel",
      "state": {
       "layout": "IPY_MODEL_36225189c4c94e9b816e85c4834e407a",
       "style": "IPY_MODEL_a3b2d68e4942408d866e3210e32266ba",
       "value": "62e84d235593a8c119195499"
      }
     },
     "1b89d19a3bbb46cd8ebc7f4e75d229b3": {
      "model_module": "@jupyter-widgets/controls",
      "model_module_version": "1.5.0",
      "model_name": "ButtonStyleModel",
      "state": {
       "button_color": "white"
      }
     },
     "1cd706700d944b8e9aa418198d4e8387": {
      "model_module": "@jupyter-widgets/base",
      "model_module_version": "1.2.0",
      "model_name": "LayoutModel",
      "state": {
       "width": "70px"
      }
     },
     "1cece30eb2534c999bd5ce570671081a": {
      "model_module": "@jupyter-widgets/controls",
      "model_module_version": "1.5.0",
      "model_name": "ButtonStyleModel",
      "state": {
       "button_color": "white"
      }
     },
     "1e4e33a0dfc3419aa366e7c02be3664b": {
      "model_module": "@jupyter-widgets/base",
      "model_module_version": "1.2.0",
      "model_name": "LayoutModel",
      "state": {
       "max_width": "700px",
       "min_width": "700px"
      }
     },
     "1e8f899de75b414e873eae909d2eabe5": {
      "model_module": "@jupyter-widgets/base",
      "model_module_version": "1.2.0",
      "model_name": "LayoutModel",
      "state": {
       "width": "145px"
      }
     },
     "1e93f057eb60429e8af7d88a89afd78a": {
      "model_module": "@jupyter-widgets/controls",
      "model_module_version": "1.5.0",
      "model_name": "HTMLModel",
      "state": {
       "layout": "IPY_MODEL_0ff047b541084962aa6b617b0759d1e1",
       "style": "IPY_MODEL_077b46bbb79a49798bd7d28c0f75c67c",
       "value": "ibmq_manila"
      }
     },
     "20c66a654465455cab07f01dfb245a85": {
      "model_module": "@jupyter-widgets/controls",
      "model_module_version": "1.5.0",
      "model_name": "HTMLModel",
      "state": {
       "layout": "IPY_MODEL_fd1c2a96ca404b0899ca3cf944039045",
       "style": "IPY_MODEL_e9f1c47e576d44f394f71ddcea6c0753",
       "value": "-"
      }
     },
     "20eb16f2546f4de2981b6fc8439d8de5": {
      "model_module": "@jupyter-widgets/base",
      "model_module_version": "1.2.0",
      "model_name": "LayoutModel",
      "state": {
       "margin": "0px 5px 0px 0px",
       "width": "32px"
      }
     },
     "213aa87c1dbe40a0930367ceb1a36ffe": {
      "model_module": "@jupyter-widgets/base",
      "model_module_version": "1.2.0",
      "model_name": "LayoutModel",
      "state": {
       "width": "70px"
      }
     },
     "219144eee2bf49d69cc548d73ecffe0b": {
      "model_module": "@jupyter-widgets/controls",
      "model_module_version": "1.5.0",
      "model_name": "HTMLModel",
      "state": {
       "layout": "IPY_MODEL_b06aa1151f4a4089b5aa10a75d18fe48",
       "style": "IPY_MODEL_be806f48234f409daec0f28d516b0e0e",
       "value": "-"
      }
     },
     "219b67388c2d436d9f47a563f81d85f8": {
      "model_module": "@jupyter-widgets/controls",
      "model_module_version": "1.5.0",
      "model_name": "DescriptionStyleModel",
      "state": {
       "description_width": ""
      }
     },
     "21a2aef41066402e859030bdef7a4bde": {
      "model_module": "@jupyter-widgets/controls",
      "model_module_version": "1.5.0",
      "model_name": "DescriptionStyleModel",
      "state": {
       "description_width": ""
      }
     },
     "21b5558c862d44db93269fd9fdf78165": {
      "model_module": "@jupyter-widgets/controls",
      "model_module_version": "1.5.0",
      "model_name": "DescriptionStyleModel",
      "state": {
       "description_width": ""
      }
     },
     "21bb73115dc04565b8f595097cbc5797": {
      "model_module": "@jupyter-widgets/base",
      "model_module_version": "1.2.0",
      "model_name": "LayoutModel",
      "state": {
       "width": "145px"
      }
     },
     "221b4b4851804f688bb86a83a190ec86": {
      "model_module": "@jupyter-widgets/controls",
      "model_module_version": "1.5.0",
      "model_name": "HBoxModel",
      "state": {
       "children": [
        "IPY_MODEL_df5145dcc6064aeaac4194440715ec6a",
        "IPY_MODEL_1ad5355d3960466eb950ed993a55c93e",
        "IPY_MODEL_ec20d4d0376c4706a5a5c02f1e8fdf49",
        "IPY_MODEL_3394438fa2194bb9adf26171e3ad6bd7",
        "IPY_MODEL_dfbe0af0eed74b339852d44f1450d2d1",
        "IPY_MODEL_6bb78e05583d4a209f32e53a3a928dd4"
       ],
       "layout": "IPY_MODEL_ec3102dfb65140c88133d332d19c2be1"
      }
     },
     "22c54174d69f4b6dbcc3f1336650eb69": {
      "model_module": "@jupyter-widgets/controls",
      "model_module_version": "1.5.0",
      "model_name": "DescriptionStyleModel",
      "state": {
       "description_width": ""
      }
     },
     "22efa5d10c984dcd8878b4a751827bbb": {
      "model_module": "@jupyter-widgets/controls",
      "model_module_version": "1.5.0",
      "model_name": "HTMLModel",
      "state": {
       "layout": "IPY_MODEL_532ef0500eb44229a4b6e1344c26f828",
       "style": "IPY_MODEL_4391ee13fdee40eeba80ac06b1461c84",
       "value": "<p style='font-family: IBM Plex Sans, Arial, Helvetica, sans-serif; font-size: 20px; font-weight: medium;'>Circuit Properties</p>"
      }
     },
     "231f9e4bd3e14d97b221081953f2b77d": {
      "model_module": "@jupyter-widgets/controls",
      "model_module_version": "1.5.0",
      "model_name": "DescriptionStyleModel",
      "state": {
       "description_width": ""
      }
     },
     "235a29bca2d541eba766d78658752d6e": {
      "model_module": "@jupyter-widgets/controls",
      "model_module_version": "1.5.0",
      "model_name": "HTMLModel",
      "state": {
       "layout": "IPY_MODEL_d88f9393170e431f9307ae7bb2fa32ec",
       "style": "IPY_MODEL_8bf382819b0640f6baf4a074389a78c2",
       "value": "<h5>Job ID</h5>"
      }
     },
     "24143796c368430aa501342d94ef4fac": {
      "model_module": "@jupyter-widgets/base",
      "model_module_version": "1.2.0",
      "model_name": "LayoutModel",
      "state": {
       "max_width": "700px",
       "min_width": "700px"
      }
     },
     "24e5ee07c0d342e496a6154113e09d41": {
      "model_module": "@jupyter-widgets/base",
      "model_module_version": "1.2.0",
      "model_name": "LayoutModel",
      "state": {
       "margin": "0px 5px 0px 0px",
       "width": "32px"
      }
     },
     "25092a38087449c5bf253c2c70862daa": {
      "model_module": "@jupyter-widgets/controls",
      "model_module_version": "1.5.0",
      "model_name": "HTMLModel",
      "state": {
       "layout": "IPY_MODEL_1127cc05d0024806ab6fe5d45243803b",
       "style": "IPY_MODEL_76dde4a1bb694651bab19cb9ecf277e6",
       "value": "ibmq_manila"
      }
     },
     "2664ed84d5174e7297cb85e41c095b16": {
      "model_module": "@jupyter-widgets/controls",
      "model_module_version": "1.5.0",
      "model_name": "ButtonModel",
      "state": {
       "icon": "close",
       "layout": "IPY_MODEL_763a6dd5c0244463889aa632d860bc02",
       "style": "IPY_MODEL_1ac1b0478dcf4ea6873d417768a7ea70"
      }
     },
     "27f6fcfb92a14de5a436b2c48498eef4": {
      "model_module": "@jupyter-widgets/base",
      "model_module_version": "1.2.0",
      "model_name": "LayoutModel",
      "state": {
       "width": "190px"
      }
     },
     "2828f41c678f4974b58b28cf227a3bb4": {
      "model_module": "@jupyter-widgets/controls",
      "model_module_version": "1.5.0",
      "model_name": "HTMLModel",
      "state": {
       "layout": "IPY_MODEL_8d0df4afef0f4bd1a63a8d9cbf21b12c",
       "style": "IPY_MODEL_c83d5db0e9684d77ad6e47113cb7b3d6",
       "value": "job has successfully run"
      }
     },
     "284e3e1f48a84b0788fd9d62921c364f": {
      "model_module": "@jupyter-widgets/controls",
      "model_module_version": "1.5.0",
      "model_name": "DescriptionStyleModel",
      "state": {
       "description_width": ""
      }
     },
     "28b7c9b7a0db428f92081524043e73a0": {
      "model_module": "@jupyter-widgets/base",
      "model_module_version": "1.2.0",
      "model_name": "LayoutModel",
      "state": {
       "width": "190px"
      }
     },
     "2e873c732e474f339b36faa6da3247a7": {
      "model_module": "@jupyter-widgets/base",
      "model_module_version": "1.2.0",
      "model_name": "LayoutModel",
      "state": {
       "overflow_x": "scroll"
      }
     },
     "2f20eafbfc084cc6916e7c4658be66ef": {
      "model_module": "@jupyter-widgets/controls",
      "model_module_version": "1.5.0",
      "model_name": "DescriptionStyleModel",
      "state": {
       "description_width": ""
      }
     },
     "31c644ca94e94862977242a29768e6ff": {
      "model_module": "@jupyter-widgets/controls",
      "model_module_version": "1.5.0",
      "model_name": "HTMLModel",
      "state": {
       "layout": "IPY_MODEL_a15caac15f294ee3bbad2b437b830f9c",
       "style": "IPY_MODEL_91c360b70b674b8f9addb649f4bbb94d",
       "value": "<font style='color:#34BC6E'>DONE</font>"
      }
     },
     "335c93d973f647db816a04dcd672efcc": {
      "model_module": "@jupyter-widgets/base",
      "model_module_version": "1.2.0",
      "model_name": "LayoutModel",
      "state": {
       "width": "70px"
      }
     },
     "3394438fa2194bb9adf26171e3ad6bd7": {
      "model_module": "@jupyter-widgets/controls",
      "model_module_version": "1.5.0",
      "model_name": "HTMLModel",
      "state": {
       "layout": "IPY_MODEL_8f24756412b34dfdb16466fd869c1590",
       "style": "IPY_MODEL_c0b1257ad32848efa59778fc7d7917b2",
       "value": "<font style='color:#34BC6E'>DONE</font>"
      }
     },
     "350682fb27f84a1896635bbf29d6ca2e": {
      "model_module": "@jupyter-widgets/controls",
      "model_module_version": "1.5.0",
      "model_name": "DescriptionStyleModel",
      "state": {
       "description_width": ""
      }
     },
     "36225189c4c94e9b816e85c4834e407a": {
      "model_module": "@jupyter-widgets/base",
      "model_module_version": "1.2.0",
      "model_name": "LayoutModel",
      "state": {
       "width": "190px"
      }
     },
     "3699857a8d3b4bd5a34330d238099c8e": {
      "model_module": "@jupyter-widgets/controls",
      "model_module_version": "1.5.0",
      "model_name": "ButtonModel",
      "state": {
       "icon": "close",
       "layout": "IPY_MODEL_99c3a31b821743f9830423196105b198",
       "style": "IPY_MODEL_1b89d19a3bbb46cd8ebc7f4e75d229b3"
      }
     },
     "36ab06c9c58a4ec192cbc7027889f9a9": {
      "model_module": "@jupyter-widgets/controls",
      "model_module_version": "1.5.0",
      "model_name": "HBoxModel",
      "state": {
       "children": [
        "IPY_MODEL_5700bf937cca464e9a4e45fc2b56aab9",
        "IPY_MODEL_87ec05df8ff14db3b528d5cd024c87b5",
        "IPY_MODEL_921a8dabe2d746dbbb8c77f2c78a79db",
        "IPY_MODEL_4d891be6759d4ae9bdb0a2454a539d07",
        "IPY_MODEL_b9ed828a8c2044e19ec1bfc5eb031e9d",
        "IPY_MODEL_0276c475cf5f4f1eb4e1d24005dad1be"
       ],
       "layout": "IPY_MODEL_f9294483762544d38c9f4bee22d91a4d"
      }
     },
     "3b476075f53d4883b3b14488afc2a4e1": {
      "model_module": "@jupyter-widgets/base",
      "model_module_version": "1.2.0",
      "model_name": "LayoutModel",
      "state": {
       "margin": "0px 5px 0px 0px",
       "width": "32px"
      }
     },
     "3c2347d7614645b6997015639b74d67e": {
      "model_module": "@jupyter-widgets/controls",
      "model_module_version": "1.5.0",
      "model_name": "DescriptionStyleModel",
      "state": {
       "description_width": ""
      }
     },
     "3edecf3cba9c4ed8b048a7c1c2101465": {
      "model_module": "@jupyter-widgets/base",
      "model_module_version": "1.2.0",
      "model_name": "LayoutModel",
      "state": {
       "margin": "0px 5px 0px 0px",
       "width": "32px"
      }
     },
     "3f09d0c01b514aa89f67dab5551ac279": {
      "model_module": "@jupyter-widgets/controls",
      "model_module_version": "1.5.0",
      "model_name": "DescriptionStyleModel",
      "state": {
       "description_width": ""
      }
     },
     "3f1ed2e01ce849ea9ba0c51bc799a1e2": {
      "model_module": "@jupyter-widgets/controls",
      "model_module_version": "1.5.0",
      "model_name": "ButtonModel",
      "state": {
       "icon": "close",
       "layout": "IPY_MODEL_6e13f557b92647ee80f4d3af8ba109f5",
       "style": "IPY_MODEL_5dec4d025cf846c4a06007fcd3788a0d"
      }
     },
     "3ff3894635d747e7a3f4b3f41bc191dc": {
      "model_module": "@jupyter-widgets/base",
      "model_module_version": "1.2.0",
      "model_name": "LayoutModel",
      "state": {
       "width": "95px"
      }
     },
     "403a0dcf90e3424fbf495fb7e1a217b6": {
      "model_module": "@jupyter-widgets/base",
      "model_module_version": "1.2.0",
      "model_name": "LayoutModel",
      "state": {
       "max_width": "700px",
       "min_width": "700px"
      }
     },
     "40eb99a50ca04b199d1c4ad092017a57": {
      "model_module": "@jupyter-widgets/base",
      "model_module_version": "1.2.0",
      "model_name": "LayoutModel",
      "state": {
       "width": "190px"
      }
     },
     "4112f4b56794469a9436fd9819e188be": {
      "model_module": "@jupyter-widgets/base",
      "model_module_version": "1.2.0",
      "model_name": "LayoutModel",
      "state": {
       "margin": "0px 5px 0px 0px",
       "width": "32px"
      }
     },
     "425eb3ebdf9f4d5b89ff722a88eabf3e": {
      "model_module": "@jupyter-widgets/controls",
      "model_module_version": "1.5.0",
      "model_name": "HTMLModel",
      "state": {
       "layout": "IPY_MODEL_efa4c4916a954e9ebda1c9a393658d19",
       "style": "IPY_MODEL_77f2fdfd37234d6c917c3d40a859f1b3",
       "value": "-"
      }
     },
     "42d86e4fc75c44bd91ee3ea54383f720": {
      "model_module": "@jupyter-widgets/controls",
      "model_module_version": "1.5.0",
      "model_name": "HTMLModel",
      "state": {
       "layout": "IPY_MODEL_5c25c62ccbfa477ca3d88642bf2f26a3",
       "style": "IPY_MODEL_43356b84abb14ba79be2bd14ece9d239",
       "value": "-"
      }
     },
     "42eee2ecf14e46cf87a84de76da470da": {
      "model_module": "@jupyter-widgets/controls",
      "model_module_version": "1.5.0",
      "model_name": "HTMLModel",
      "state": {
       "layout": "IPY_MODEL_27f6fcfb92a14de5a436b2c48498eef4",
       "style": "IPY_MODEL_10434c907a354be09452e5f3f46bcf2a",
       "value": "62e8db3422b5f508af5688d5"
      }
     },
     "43356b84abb14ba79be2bd14ece9d239": {
      "model_module": "@jupyter-widgets/controls",
      "model_module_version": "1.5.0",
      "model_name": "DescriptionStyleModel",
      "state": {
       "description_width": ""
      }
     },
     "434bb88a1a9f4623b5815a84682f3566": {
      "model_module": "@jupyter-widgets/controls",
      "model_module_version": "1.5.0",
      "model_name": "DescriptionStyleModel",
      "state": {
       "description_width": ""
      }
     },
     "4391ee13fdee40eeba80ac06b1461c84": {
      "model_module": "@jupyter-widgets/controls",
      "model_module_version": "1.5.0",
      "model_name": "DescriptionStyleModel",
      "state": {
       "description_width": ""
      }
     },
     "44114f1323ad46a3b0261ccdc44e4a44": {
      "model_module": "@jupyter-widgets/base",
      "model_module_version": "1.2.0",
      "model_name": "LayoutModel",
      "state": {
       "width": "190px"
      }
     },
     "45c884c9d6c74bb5a5522c4e2ca71d88": {
      "model_module": "@jupyter-widgets/controls",
      "model_module_version": "1.5.0",
      "model_name": "HBoxModel",
      "state": {
       "children": [
        "IPY_MODEL_15855be7b40c4ae5b6a1bee09d6788ee",
        "IPY_MODEL_5736d7029ff44a2d83d3b01fa421f9aa",
        "IPY_MODEL_51ec58682cce41c6afbb6c30ef2e897e",
        "IPY_MODEL_65f5f163851141cb9d8f21424e0d7444",
        "IPY_MODEL_ac4f7e2036744d25bd640292b33461fb",
        "IPY_MODEL_75aa0edd3d744fa7820b7ba517cc88b3"
       ],
       "layout": "IPY_MODEL_499930beb1c74ccaac41ef41fee6b6b9"
      }
     },
     "4670f348a53d407bbfadf97fec4fe619": {
      "model_module": "@jupyter-widgets/controls",
      "model_module_version": "1.5.0",
      "model_name": "HTMLModel",
      "state": {
       "layout": "IPY_MODEL_aacca35d1ef440d49387d4df777a17a1",
       "style": "IPY_MODEL_957e29b574714a9c9345c63faa259604",
       "value": "ibmq_manila"
      }
     },
     "471c027f0fbf483198421c3dd2ec695e": {
      "model_module": "@jupyter-widgets/controls",
      "model_module_version": "1.5.0",
      "model_name": "DescriptionStyleModel",
      "state": {
       "description_width": ""
      }
     },
     "499930beb1c74ccaac41ef41fee6b6b9": {
      "model_module": "@jupyter-widgets/base",
      "model_module_version": "1.2.0",
      "model_name": "LayoutModel",
      "state": {
       "max_width": "700px",
       "min_width": "700px"
      }
     },
     "49b87e9d7e544d7d97bccd518960bbf9": {
      "model_module": "@jupyter-widgets/base",
      "model_module_version": "1.2.0",
      "model_name": "LayoutModel",
      "state": {
       "width": "145px"
      }
     },
     "49d19720d69047eab542fd2eefef91b0": {
      "model_module": "@jupyter-widgets/base",
      "model_module_version": "1.2.0",
      "model_name": "LayoutModel",
      "state": {
       "max_width": "700px",
       "min_width": "700px"
      }
     },
     "4af9ba85dac84e2e918a0171d24f2e5f": {
      "model_module": "@jupyter-widgets/controls",
      "model_module_version": "1.5.0",
      "model_name": "HTMLModel",
      "state": {
       "layout": "IPY_MODEL_0ee29d8e5b084f12acd49175d98a419b",
       "style": "IPY_MODEL_0e722ba2b95c4077b4c12b762cea94c9",
       "value": "-"
      }
     },
     "4c2062e688c24b2bae4fb65e73dd7c69": {
      "model_module": "@jupyter-widgets/controls",
      "model_module_version": "1.5.0",
      "model_name": "DescriptionStyleModel",
      "state": {
       "description_width": ""
      }
     },
     "4d891be6759d4ae9bdb0a2454a539d07": {
      "model_module": "@jupyter-widgets/controls",
      "model_module_version": "1.5.0",
      "model_name": "HTMLModel",
      "state": {
       "layout": "IPY_MODEL_3ff3894635d747e7a3f4b3f41bc191dc",
       "style": "IPY_MODEL_98021b4e70d14d6ea0b87daed5285214",
       "value": "<font style='color:#34BC6E'>DONE</font>"
      }
     },
     "4ddb2fab34ae4be58c8d975ec508fba2": {
      "model_module": "@jupyter-widgets/controls",
      "model_module_version": "1.5.0",
      "model_name": "DescriptionStyleModel",
      "state": {
       "description_width": ""
      }
     },
     "4f1853f0e7f2470a8f312a13d2cea2fc": {
      "model_module": "@jupyter-widgets/base",
      "model_module_version": "1.2.0",
      "model_name": "LayoutModel",
      "state": {
       "width": "95px"
      }
     },
     "4f24df9bdf4a4ca3a2c19d58f4baac2e": {
      "model_module": "@jupyter-widgets/controls",
      "model_module_version": "1.5.0",
      "model_name": "DescriptionStyleModel",
      "state": {
       "description_width": ""
      }
     },
     "4fc1e23787d848d58907188f8696baea": {
      "model_module": "@jupyter-widgets/base",
      "model_module_version": "1.2.0",
      "model_name": "LayoutModel",
      "state": {
       "width": "70px"
      }
     },
     "507b3e6078d5448a8760008ca63228f8": {
      "model_module": "@jupyter-widgets/controls",
      "model_module_version": "1.5.0",
      "model_name": "DescriptionStyleModel",
      "state": {
       "description_width": ""
      }
     },
     "51067181224140609ea0ba8913326751": {
      "model_module": "@jupyter-widgets/controls",
      "model_module_version": "1.5.0",
      "model_name": "HBoxModel",
      "state": {
       "children": [
        "IPY_MODEL_cf2a163226d947a3a9042cc558269ff7",
        "IPY_MODEL_629eae9132844b0b8c392bb99fd196f9",
        "IPY_MODEL_b12d9c4f2716411e97bedc3e9b67a126",
        "IPY_MODEL_97ab684b4d284aab9b1c00d68f49606f",
        "IPY_MODEL_60acfa30e12341888e5e725beeff5a18",
        "IPY_MODEL_c1a8d9dd731c4fa8a63777f28af794f9"
       ],
       "layout": "IPY_MODEL_d8d0916582de496bbf1b9d5bef9f7407"
      }
     },
     "51ec58682cce41c6afbb6c30ef2e897e": {
      "model_module": "@jupyter-widgets/controls",
      "model_module_version": "1.5.0",
      "model_name": "HTMLModel",
      "state": {
       "layout": "IPY_MODEL_86c28cf7630548d3aebd4be3cf1a9252",
       "style": "IPY_MODEL_0ebb71e1e34d41878600640691f6f09f",
       "value": "ibmq_manila"
      }
     },
     "5249b1f592f5457d96ffd37f732beb81": {
      "model_module": "@jupyter-widgets/controls",
      "model_module_version": "1.5.0",
      "model_name": "DescriptionStyleModel",
      "state": {
       "description_width": ""
      }
     },
     "532ef0500eb44229a4b6e1344c26f828": {
      "model_module": "@jupyter-widgets/base",
      "model_module_version": "1.2.0",
      "model_name": "LayoutModel",
      "state": {
       "margin": "0px 0px 10px 0px"
      }
     },
     "536044d840f940709efe22817997d4fd": {
      "model_module": "@jupyter-widgets/controls",
      "model_module_version": "1.5.0",
      "model_name": "ButtonModel",
      "state": {
       "button_style": "primary",
       "description": "Clear",
       "layout": "IPY_MODEL_6f031168e4ee4f4e851a86ecca7de041",
       "style": "IPY_MODEL_b640a93477184bf5b96f02505f062fe6"
      }
     },
     "53bc86d68c824a5584dd6afa5bce0a6a": {
      "model_module": "@jupyter-widgets/controls",
      "model_module_version": "1.5.0",
      "model_name": "ButtonStyleModel",
      "state": {
       "button_color": "white"
      }
     },
     "54a6b8a1c9924bce8f0abdee2adc0b1a": {
      "model_module": "@jupyter-widgets/base",
      "model_module_version": "1.2.0",
      "model_name": "LayoutModel",
      "state": {
       "overflow_x": "scroll"
      }
     },
     "568f353b86974d8e90117c0295047858": {
      "model_module": "@jupyter-widgets/base",
      "model_module_version": "1.2.0",
      "model_name": "LayoutModel",
      "state": {
       "max_width": "700px",
       "min_width": "700px"
      }
     },
     "5700bf937cca464e9a4e45fc2b56aab9": {
      "model_module": "@jupyter-widgets/controls",
      "model_module_version": "1.5.0",
      "model_name": "ButtonModel",
      "state": {
       "icon": "close",
       "layout": "IPY_MODEL_1a611848bc194deb8acfe07cb7a9e9d8",
       "style": "IPY_MODEL_1cece30eb2534c999bd5ce570671081a"
      }
     },
     "5736d7029ff44a2d83d3b01fa421f9aa": {
      "model_module": "@jupyter-widgets/controls",
      "model_module_version": "1.5.0",
      "model_name": "HTMLModel",
      "state": {
       "layout": "IPY_MODEL_cdd2c870e60d40968789f4c1e994fdb2",
       "style": "IPY_MODEL_83f7d96666c448679c0bbd827ed4d3af",
       "value": "62e845e8a07eddc126246e1f"
      }
     },
     "57bebfd72cf34472a47d2816268e506f": {
      "model_module": "@jupyter-widgets/base",
      "model_module_version": "1.2.0",
      "model_name": "LayoutModel",
      "state": {
       "margin": "0px 0px 0px 37px",
       "width": "600px"
      }
     },
     "58920b85aa5645d0aa4b85961682ef0e": {
      "model_module": "@jupyter-widgets/base",
      "model_module_version": "1.2.0",
      "model_name": "LayoutModel",
      "state": {
       "width": "70px"
      }
     },
     "5a9bd1fe949d4b30b157ae722d80baa5": {
      "model_module": "@jupyter-widgets/controls",
      "model_module_version": "1.5.0",
      "model_name": "DescriptionStyleModel",
      "state": {
       "description_width": ""
      }
     },
     "5b1b618722a24f53a35da2ce667f959a": {
      "model_module": "@jupyter-widgets/controls",
      "model_module_version": "1.5.0",
      "model_name": "DescriptionStyleModel",
      "state": {
       "description_width": ""
      }
     },
     "5b4b94781f1e43fe99e9c43903211b78": {
      "model_module": "@jupyter-widgets/controls",
      "model_module_version": "1.5.0",
      "model_name": "DescriptionStyleModel",
      "state": {
       "description_width": ""
      }
     },
     "5ba4f7dbdb814828a392bff97f51a4fa": {
      "model_module": "@jupyter-widgets/controls",
      "model_module_version": "1.5.0",
      "model_name": "HTMLModel",
      "state": {
       "layout": "IPY_MODEL_4fc1e23787d848d58907188f8696baea",
       "style": "IPY_MODEL_f1c29ff97fe54a4bb304f3d61b3652da",
       "value": "-"
      }
     },
     "5c25c62ccbfa477ca3d88642bf2f26a3": {
      "model_module": "@jupyter-widgets/base",
      "model_module_version": "1.2.0",
      "model_name": "LayoutModel",
      "state": {
       "width": "70px"
      }
     },
     "5c2f72fe37de40b5a518f823b1fa466f": {
      "model_module": "@jupyter-widgets/controls",
      "model_module_version": "1.5.0",
      "model_name": "DescriptionStyleModel",
      "state": {
       "description_width": ""
      }
     },
     "5daea68245af465296270486b06846c2": {
      "model_module": "@jupyter-widgets/controls",
      "model_module_version": "1.5.0",
      "model_name": "DescriptionStyleModel",
      "state": {
       "description_width": ""
      }
     },
     "5dec4d025cf846c4a06007fcd3788a0d": {
      "model_module": "@jupyter-widgets/controls",
      "model_module_version": "1.5.0",
      "model_name": "ButtonStyleModel",
      "state": {
       "button_color": "white"
      }
     },
     "601579979d944c72bc64c769e386346c": {
      "model_module": "@jupyter-widgets/controls",
      "model_module_version": "1.5.0",
      "model_name": "DescriptionStyleModel",
      "state": {
       "description_width": ""
      }
     },
     "60acfa30e12341888e5e725beeff5a18": {
      "model_module": "@jupyter-widgets/controls",
      "model_module_version": "1.5.0",
      "model_name": "HTMLModel",
      "state": {
       "layout": "IPY_MODEL_eb21a4c1bfd94cf4ba1ba59e5bcba672",
       "style": "IPY_MODEL_3c2347d7614645b6997015639b74d67e",
       "value": "-"
      }
     },
     "60e686f8191d4cd59076296d034e578c": {
      "model_module": "@jupyter-widgets/controls",
      "model_module_version": "1.5.0",
      "model_name": "HTMLModel",
      "state": {
       "layout": "IPY_MODEL_44114f1323ad46a3b0261ccdc44e4a44",
       "style": "IPY_MODEL_21b5558c862d44db93269fd9fdf78165",
       "value": "62e8e47158920a37cd4e0abb"
      }
     },
     "629eae9132844b0b8c392bb99fd196f9": {
      "model_module": "@jupyter-widgets/controls",
      "model_module_version": "1.5.0",
      "model_name": "HTMLModel",
      "state": {
       "layout": "IPY_MODEL_def38e730dc943b4a355e3d5f282d6a7",
       "style": "IPY_MODEL_6f1ab7e0599a4804b90fb502f9ebf87e",
       "value": "62e909483e2c28ea93bd52cd"
      }
     },
     "6338716d87544d2a88fa9e1382970f88": {
      "model_module": "@jupyter-widgets/controls",
      "model_module_version": "1.5.0",
      "model_name": "HTMLModel",
      "state": {
       "layout": "IPY_MODEL_0cb7e1d1f1604b7abb59f2568cd422dd",
       "style": "IPY_MODEL_471c027f0fbf483198421c3dd2ec695e",
       "value": "job has successfully run"
      }
     },
     "64f1fac9ae45446ba1dec6a3038c5c46": {
      "model_module": "@jupyter-widgets/controls",
      "model_module_version": "1.5.0",
      "model_name": "DescriptionStyleModel",
      "state": {
       "description_width": ""
      }
     },
     "65171cfade40483d93abca5a6fc1a9a6": {
      "model_module": "@jupyter-widgets/controls",
      "model_module_version": "1.5.0",
      "model_name": "HTMLModel",
      "state": {
       "layout": "IPY_MODEL_f791a2c235504bedb9c96649b5c1e46f",
       "style": "IPY_MODEL_284e3e1f48a84b0788fd9d62921c364f",
       "value": "job has successfully run"
      }
     },
     "65c0c0ea993543c980bf760b01896d03": {
      "model_module": "@jupyter-widgets/controls",
      "model_module_version": "1.5.0",
      "model_name": "ButtonModel",
      "state": {
       "icon": "close",
       "layout": "IPY_MODEL_24e5ee07c0d342e496a6154113e09d41",
       "style": "IPY_MODEL_08e8eb968ed841e0afa7cb3c6021d2d5"
      }
     },
     "65f5f163851141cb9d8f21424e0d7444": {
      "model_module": "@jupyter-widgets/controls",
      "model_module_version": "1.5.0",
      "model_name": "HTMLModel",
      "state": {
       "layout": "IPY_MODEL_6c592ebff67e48aca14af3b27073ac00",
       "style": "IPY_MODEL_ba929b97cb9b4476b35fda61b7e95064",
       "value": "<font style='color:#34BC6E'>DONE</font>"
      }
     },
     "660b62d00b8441deb9cfff9e7eaa7778": {
      "model_module": "@jupyter-widgets/base",
      "model_module_version": "1.2.0",
      "model_name": "LayoutModel",
      "state": {
       "width": "70px"
      }
     },
     "66124a86e1214d289d5bdf6d3c812bb1": {
      "model_module": "@jupyter-widgets/controls",
      "model_module_version": "1.5.0",
      "model_name": "DescriptionStyleModel",
      "state": {
       "description_width": ""
      }
     },
     "665f8719d967436083d5d9baa2918bdd": {
      "model_module": "@jupyter-widgets/controls",
      "model_module_version": "1.5.0",
      "model_name": "DescriptionStyleModel",
      "state": {
       "description_width": ""
      }
     },
     "66f3313017764471877c1202882fdfc7": {
      "model_module": "@jupyter-widgets/controls",
      "model_module_version": "1.5.0",
      "model_name": "HTMLModel",
      "state": {
       "layout": "IPY_MODEL_a848970755094b90b8763217d6b4c5c6",
       "style": "IPY_MODEL_6dfae30f25bc4d299ac517adbabe3c5b",
       "value": "<h5>Queue</h5>"
      }
     },
     "6bb78e05583d4a209f32e53a3a928dd4": {
      "model_module": "@jupyter-widgets/controls",
      "model_module_version": "1.5.0",
      "model_name": "HTMLModel",
      "state": {
       "layout": "IPY_MODEL_6d03b865896c4989a39faf20d08b5b55",
       "style": "IPY_MODEL_ffdca6650b21413da05e7e54ee060463",
       "value": "job has successfully run"
      }
     },
     "6c592ebff67e48aca14af3b27073ac00": {
      "model_module": "@jupyter-widgets/base",
      "model_module_version": "1.2.0",
      "model_name": "LayoutModel",
      "state": {
       "width": "95px"
      }
     },
     "6d03b865896c4989a39faf20d08b5b55": {
      "model_module": "@jupyter-widgets/base",
      "model_module_version": "1.2.0",
      "model_name": "LayoutModel",
      "state": {
       "overflow_x": "scroll"
      }
     },
     "6d9e07afea3d4332902239fa6a269049": {
      "model_module": "@jupyter-widgets/base",
      "model_module_version": "1.2.0",
      "model_name": "LayoutModel",
      "state": {
       "width": "145px"
      }
     },
     "6dfae30f25bc4d299ac517adbabe3c5b": {
      "model_module": "@jupyter-widgets/controls",
      "model_module_version": "1.5.0",
      "model_name": "DescriptionStyleModel",
      "state": {
       "description_width": ""
      }
     },
     "6e13e9f35db747258a23133753727bd4": {
      "model_module": "@jupyter-widgets/base",
      "model_module_version": "1.2.0",
      "model_name": "LayoutModel",
      "state": {
       "width": "95px"
      }
     },
     "6e13f557b92647ee80f4d3af8ba109f5": {
      "model_module": "@jupyter-widgets/base",
      "model_module_version": "1.2.0",
      "model_name": "LayoutModel",
      "state": {
       "margin": "0px 5px 0px 0px",
       "width": "32px"
      }
     },
     "6f031168e4ee4f4e851a86ecca7de041": {
      "model_module": "@jupyter-widgets/base",
      "model_module_version": "1.2.0",
      "model_name": "LayoutModel",
      "state": {
       "grid_area": "right",
       "padding": "0px 0px 0px 0px",
       "width": "70px"
      }
     },
     "6f1ab7e0599a4804b90fb502f9ebf87e": {
      "model_module": "@jupyter-widgets/controls",
      "model_module_version": "1.5.0",
      "model_name": "DescriptionStyleModel",
      "state": {
       "description_width": ""
      }
     },
     "6f33265361cf4251aebd30a933583355": {
      "model_module": "@jupyter-widgets/controls",
      "model_module_version": "1.5.0",
      "model_name": "HTMLModel",
      "state": {
       "layout": "IPY_MODEL_49b87e9d7e544d7d97bccd518960bbf9",
       "style": "IPY_MODEL_8c52f22a15c3460aa83dc8394d967d84",
       "value": "ibmq_manila"
      }
     },
     "6f60040b801447e2a10ed381e446eb23": {
      "model_module": "@jupyter-widgets/controls",
      "model_module_version": "1.5.0",
      "model_name": "HBoxModel",
      "state": {
       "children": [
        "IPY_MODEL_3f1ed2e01ce849ea9ba0c51bc799a1e2",
        "IPY_MODEL_715239305e734c10b09389903433d535",
        "IPY_MODEL_25092a38087449c5bf253c2c70862daa",
        "IPY_MODEL_017b12f3a7b14c868387266e0f17314d",
        "IPY_MODEL_42d86e4fc75c44bd91ee3ea54383f720",
        "IPY_MODEL_fe994f3325e3472ca73e030e0d3130a8"
       ],
       "layout": "IPY_MODEL_24143796c368430aa501342d94ef4fac"
      }
     },
     "6f7b7d0c2c974615a5de7751341d633f": {
      "model_module": "@jupyter-widgets/base",
      "model_module_version": "1.2.0",
      "model_name": "LayoutModel",
      "state": {
       "overflow_x": "scroll"
      }
     },
     "70327f1557df41cc8ddda24a13433135": {
      "model_module": "@jupyter-widgets/controls",
      "model_module_version": "1.5.0",
      "model_name": "HTMLModel",
      "state": {
       "layout": "IPY_MODEL_1e8f899de75b414e873eae909d2eabe5",
       "style": "IPY_MODEL_4ddb2fab34ae4be58c8d975ec508fba2",
       "value": "<h5>Backend</h5>"
      }
     },
     "715239305e734c10b09389903433d535": {
      "model_module": "@jupyter-widgets/controls",
      "model_module_version": "1.5.0",
      "model_name": "HTMLModel",
      "state": {
       "layout": "IPY_MODEL_b5d05aa1b0a54aa3b9f6558b8cb789a8",
       "style": "IPY_MODEL_3f09d0c01b514aa89f67dab5551ac279",
       "value": "62e849b85923b615115f6cd0"
      }
     },
     "7226a19214724c97bf6837254cd2ef87": {
      "model_module": "@jupyter-widgets/base",
      "model_module_version": "1.2.0",
      "model_name": "LayoutModel",
      "state": {
       "overflow_x": "scroll"
      }
     },
     "75aa0edd3d744fa7820b7ba517cc88b3": {
      "model_module": "@jupyter-widgets/controls",
      "model_module_version": "1.5.0",
      "model_name": "HTMLModel",
      "state": {
       "layout": "IPY_MODEL_7226a19214724c97bf6837254cd2ef87",
       "style": "IPY_MODEL_2f20eafbfc084cc6916e7c4658be66ef",
       "value": "job has successfully run"
      }
     },
     "75d3f007c92c4c48a5da2f80a212a602": {
      "model_module": "@jupyter-widgets/controls",
      "model_module_version": "1.5.0",
      "model_name": "HTMLModel",
      "state": {
       "layout": "IPY_MODEL_eaee7a66f812479b8032b4747138bbb7",
       "style": "IPY_MODEL_5249b1f592f5457d96ffd37f732beb81",
       "value": "ibmq_manila"
      }
     },
     "763a6dd5c0244463889aa632d860bc02": {
      "model_module": "@jupyter-widgets/base",
      "model_module_version": "1.2.0",
      "model_name": "LayoutModel",
      "state": {
       "margin": "0px 5px 0px 0px",
       "width": "32px"
      }
     },
     "76dde4a1bb694651bab19cb9ecf277e6": {
      "model_module": "@jupyter-widgets/controls",
      "model_module_version": "1.5.0",
      "model_name": "DescriptionStyleModel",
      "state": {
       "description_width": ""
      }
     },
     "77f2fdfd37234d6c917c3d40a859f1b3": {
      "model_module": "@jupyter-widgets/controls",
      "model_module_version": "1.5.0",
      "model_name": "DescriptionStyleModel",
      "state": {
       "description_width": ""
      }
     },
     "796140d4c92a42e893e46dc7dbad1ec5": {
      "model_module": "@jupyter-widgets/base",
      "model_module_version": "1.2.0",
      "model_name": "LayoutModel",
      "state": {
       "width": "95px"
      }
     },
     "7b3629b40d9b45eb8746e10364d8d15b": {
      "model_module": "@jupyter-widgets/controls",
      "model_module_version": "1.5.0",
      "model_name": "HTMLModel",
      "state": {
       "layout": "IPY_MODEL_6e13e9f35db747258a23133753727bd4",
       "style": "IPY_MODEL_5daea68245af465296270486b06846c2",
       "value": "<font style='color:#34BC6E'>DONE</font>"
      }
     },
     "7f0bf932f40d4283994fe830c88f8c7c": {
      "model_module": "@jupyter-widgets/controls",
      "model_module_version": "1.5.0",
      "model_name": "HBoxModel",
      "state": {
       "children": [
        "IPY_MODEL_bd8b2e58d2914a2293267f24587a37f5",
        "IPY_MODEL_aa3db8a8cc084f50963680fa09e763b4",
        "IPY_MODEL_4670f348a53d407bbfadf97fec4fe619",
        "IPY_MODEL_0d619653ac784713a40ff98e071e89a2",
        "IPY_MODEL_5ba4f7dbdb814828a392bff97f51a4fa",
        "IPY_MODEL_2828f41c678f4974b58b28cf227a3bb4"
       ],
       "layout": "IPY_MODEL_49d19720d69047eab542fd2eefef91b0"
      }
     },
     "8154cde055704aa5b45f90d322352de2": {
      "model_module": "@jupyter-widgets/controls",
      "model_module_version": "1.5.0",
      "model_name": "HTMLModel",
      "state": {
       "layout": "IPY_MODEL_28b7c9b7a0db428f92081524043e73a0",
       "style": "IPY_MODEL_5a9bd1fe949d4b30b157ae722d80baa5",
       "value": "62e8cd06f64a3954f336de5e"
      }
     },
     "83d24224438844c5a3ab26854afcf288": {
      "model_module": "@jupyter-widgets/controls",
      "model_module_version": "1.5.0",
      "model_name": "HBoxModel",
      "state": {
       "children": [
        "IPY_MODEL_2664ed84d5174e7297cb85e41c095b16",
        "IPY_MODEL_60e686f8191d4cd59076296d034e578c",
        "IPY_MODEL_e2af824a68404bfbb633dfe4e3c3e36a",
        "IPY_MODEL_071c5ee1cdfc476eb39b6dbfb3ff235b",
        "IPY_MODEL_4af9ba85dac84e2e918a0171d24f2e5f",
        "IPY_MODEL_d7902addf1754c9094ecbe51fce274d2"
       ],
       "layout": "IPY_MODEL_568f353b86974d8e90117c0295047858"
      }
     },
     "83f7d96666c448679c0bbd827ed4d3af": {
      "model_module": "@jupyter-widgets/controls",
      "model_module_version": "1.5.0",
      "model_name": "DescriptionStyleModel",
      "state": {
       "description_width": ""
      }
     },
     "84a446a02fc9444a9fb2e53cfbf34ec4": {
      "model_module": "@jupyter-widgets/base",
      "model_module_version": "1.2.0",
      "model_name": "LayoutModel",
      "state": {
       "max_width": "700px",
       "min_width": "700px"
      }
     },
     "86c28cf7630548d3aebd4be3cf1a9252": {
      "model_module": "@jupyter-widgets/base",
      "model_module_version": "1.2.0",
      "model_name": "LayoutModel",
      "state": {
       "width": "145px"
      }
     },
     "87ec05df8ff14db3b528d5cd024c87b5": {
      "model_module": "@jupyter-widgets/controls",
      "model_module_version": "1.5.0",
      "model_name": "HTMLModel",
      "state": {
       "layout": "IPY_MODEL_40eb99a50ca04b199d1c4ad092017a57",
       "style": "IPY_MODEL_22c54174d69f4b6dbcc3f1336650eb69",
       "value": "62e8c042fb9fa1e28fa34bea"
      }
     },
     "8bf382819b0640f6baf4a074389a78c2": {
      "model_module": "@jupyter-widgets/controls",
      "model_module_version": "1.5.0",
      "model_name": "DescriptionStyleModel",
      "state": {
       "description_width": ""
      }
     },
     "8c3b41d0da2d46ae889729ccfaae5eae": {
      "model_module": "@jupyter-widgets/controls",
      "model_module_version": "1.5.0",
      "model_name": "DescriptionStyleModel",
      "state": {
       "description_width": ""
      }
     },
     "8c52f22a15c3460aa83dc8394d967d84": {
      "model_module": "@jupyter-widgets/controls",
      "model_module_version": "1.5.0",
      "model_name": "DescriptionStyleModel",
      "state": {
       "description_width": ""
      }
     },
     "8d0df4afef0f4bd1a63a8d9cbf21b12c": {
      "model_module": "@jupyter-widgets/base",
      "model_module_version": "1.2.0",
      "model_name": "LayoutModel",
      "state": {
       "overflow_x": "scroll"
      }
     },
     "8f24756412b34dfdb16466fd869c1590": {
      "model_module": "@jupyter-widgets/base",
      "model_module_version": "1.2.0",
      "model_name": "LayoutModel",
      "state": {
       "width": "95px"
      }
     },
     "9015df7382d945fa89840f1e4a92677e": {
      "model_module": "@jupyter-widgets/controls",
      "model_module_version": "1.5.0",
      "model_name": "HTMLModel",
      "state": {
       "layout": "IPY_MODEL_03fdcf24db5c43819f14fc48e1ab8560",
       "style": "IPY_MODEL_dddc60de8b244532932fc6f0484494ee",
       "value": "62e8ea92a07edd314b2471fc"
      }
     },
     "9038d777d7404078898e018e05bf8055": {
      "model_module": "@jupyter-widgets/controls",
      "model_module_version": "1.5.0",
      "model_name": "ButtonStyleModel",
      "state": {
       "button_color": "white"
      }
     },
     "91c360b70b674b8f9addb649f4bbb94d": {
      "model_module": "@jupyter-widgets/controls",
      "model_module_version": "1.5.0",
      "model_name": "DescriptionStyleModel",
      "state": {
       "description_width": ""
      }
     },
     "91e0c42957ac44968de665332e5f7645": {
      "model_module": "@jupyter-widgets/base",
      "model_module_version": "1.2.0",
      "model_name": "LayoutModel",
      "state": {
       "width": "145px"
      }
     },
     "921a8dabe2d746dbbb8c77f2c78a79db": {
      "model_module": "@jupyter-widgets/controls",
      "model_module_version": "1.5.0",
      "model_name": "HTMLModel",
      "state": {
       "layout": "IPY_MODEL_21bb73115dc04565b8f595097cbc5797",
       "style": "IPY_MODEL_64f1fac9ae45446ba1dec6a3038c5c46",
       "value": "ibmq_manila"
      }
     },
     "9386fe5f7c3849ee96fb0b2c5718c990": {
      "model_module": "@jupyter-widgets/controls",
      "model_module_version": "1.5.0",
      "model_name": "HBoxModel",
      "state": {
       "children": [
        "IPY_MODEL_96f4e798a60144c1b368310cd99e1909",
        "IPY_MODEL_42eee2ecf14e46cf87a84de76da470da",
        "IPY_MODEL_1e93f057eb60429e8af7d88a89afd78a",
        "IPY_MODEL_f0cbe8727dba4c4dab792096eae35c5f",
        "IPY_MODEL_b989e116f3944894b6a34b092e82f406",
        "IPY_MODEL_65171cfade40483d93abca5a6fc1a9a6"
       ],
       "layout": "IPY_MODEL_1e4e33a0dfc3419aa366e7c02be3664b"
      }
     },
     "9453727c40ca40738a4edfffdfd1db03": {
      "model_module": "@jupyter-widgets/base",
      "model_module_version": "1.2.0",
      "model_name": "LayoutModel",
      "state": {
       "width": "95px"
      }
     },
     "945ef0577c1849bab42cf698c0f5c8d6": {
      "model_module": "@jupyter-widgets/controls",
      "model_module_version": "1.5.0",
      "model_name": "HTMLModel",
      "state": {
       "layout": "IPY_MODEL_58920b85aa5645d0aa4b85961682ef0e",
       "style": "IPY_MODEL_507b3e6078d5448a8760008ca63228f8",
       "value": "-"
      }
     },
     "953986b090484bc68805b57b59a0b06c": {
      "model_module": "@jupyter-widgets/controls",
      "model_module_version": "1.5.0",
      "model_name": "DescriptionStyleModel",
      "state": {
       "description_width": ""
      }
     },
     "957e29b574714a9c9345c63faa259604": {
      "model_module": "@jupyter-widgets/controls",
      "model_module_version": "1.5.0",
      "model_name": "DescriptionStyleModel",
      "state": {
       "description_width": ""
      }
     },
     "96f4e798a60144c1b368310cd99e1909": {
      "model_module": "@jupyter-widgets/controls",
      "model_module_version": "1.5.0",
      "model_name": "ButtonModel",
      "state": {
       "icon": "close",
       "layout": "IPY_MODEL_3b476075f53d4883b3b14488afc2a4e1",
       "style": "IPY_MODEL_fe6b24ff17244176a2cebff49eea5fc6"
      }
     },
     "97ab684b4d284aab9b1c00d68f49606f": {
      "model_module": "@jupyter-widgets/controls",
      "model_module_version": "1.5.0",
      "model_name": "HTMLModel",
      "state": {
       "layout": "IPY_MODEL_994f60dff1cd40dea586decba369d43e",
       "style": "IPY_MODEL_5b4b94781f1e43fe99e9c43903211b78",
       "value": "<font style='color:#34BC6E'>DONE</font>"
      }
     },
     "98021b4e70d14d6ea0b87daed5285214": {
      "model_module": "@jupyter-widgets/controls",
      "model_module_version": "1.5.0",
      "model_name": "DescriptionStyleModel",
      "state": {
       "description_width": ""
      }
     },
     "994f60dff1cd40dea586decba369d43e": {
      "model_module": "@jupyter-widgets/base",
      "model_module_version": "1.2.0",
      "model_name": "LayoutModel",
      "state": {
       "width": "95px"
      }
     },
     "99c3a31b821743f9830423196105b198": {
      "model_module": "@jupyter-widgets/base",
      "model_module_version": "1.2.0",
      "model_name": "LayoutModel",
      "state": {
       "margin": "0px 5px 0px 0px",
       "width": "32px"
      }
     },
     "99cdcabe891f47cdba7998dffb2e0328": {
      "model_module": "@jupyter-widgets/controls",
      "model_module_version": "1.5.0",
      "model_name": "HBoxModel",
      "state": {
       "children": [
        "IPY_MODEL_bbb533b7d0184a59bf478c47eb82e536",
        "IPY_MODEL_c971de2d100c4da283038a85d33aa303",
        "IPY_MODEL_bce6d0d777194e8ba88ae7fb6abbd467",
        "IPY_MODEL_31c644ca94e94862977242a29768e6ff",
        "IPY_MODEL_20c66a654465455cab07f01dfb245a85",
        "IPY_MODEL_c4daf94a562a4d6d9b85995fd2fa562f"
       ],
       "layout": "IPY_MODEL_e4b8ad85483f472da52a7f80e94e27ab"
      }
     },
     "9b2323f1d667428eb0c9159082b1a367": {
      "model_module": "@jupyter-widgets/controls",
      "model_module_version": "1.5.0",
      "model_name": "GridBoxModel",
      "state": {
       "children": [
        "IPY_MODEL_536044d840f940709efe22817997d4fd"
       ],
       "layout": "IPY_MODEL_9b4fc71cc3d14305908238f42e39ea93"
      }
     },
     "9b4fc71cc3d14305908238f42e39ea93": {
      "model_module": "@jupyter-widgets/base",
      "model_module_version": "1.2.0",
      "model_name": "LayoutModel",
      "state": {
       "grid_template_areas": "\n                                       \". . . . right \"\n                                        ",
       "grid_template_columns": "20% 20% 20% 20% 20%",
       "width": "100%"
      }
     },
     "9dab6faaa4a84673804938561c922d59": {
      "model_module": "@jupyter-widgets/base",
      "model_module_version": "1.2.0",
      "model_name": "LayoutModel",
      "state": {
       "margin": "0px 5px 0px 0px",
       "width": "32px"
      }
     },
     "9fa83f3254004b028914b47f8f7472c5": {
      "model_module": "@jupyter-widgets/controls",
      "model_module_version": "1.5.0",
      "model_name": "ButtonStyleModel",
      "state": {
       "button_color": "white"
      }
     },
     "a15caac15f294ee3bbad2b437b830f9c": {
      "model_module": "@jupyter-widgets/base",
      "model_module_version": "1.2.0",
      "model_name": "LayoutModel",
      "state": {
       "width": "95px"
      }
     },
     "a3b2d68e4942408d866e3210e32266ba": {
      "model_module": "@jupyter-widgets/controls",
      "model_module_version": "1.5.0",
      "model_name": "DescriptionStyleModel",
      "state": {
       "description_width": ""
      }
     },
     "a3bb90b04534457fab5c4ef750d8243c": {
      "model_module": "@jupyter-widgets/base",
      "model_module_version": "1.2.0",
      "model_name": "LayoutModel",
      "state": {
       "width": "190px"
      }
     },
     "a597534e71154e4192880f386d3c1a55": {
      "model_module": "@jupyter-widgets/base",
      "model_module_version": "1.2.0",
      "model_name": "LayoutModel",
      "state": {
       "overflow_x": "scroll"
      }
     },
     "a848970755094b90b8763217d6b4c5c6": {
      "model_module": "@jupyter-widgets/base",
      "model_module_version": "1.2.0",
      "model_name": "LayoutModel",
      "state": {
       "width": "70px"
      }
     },
     "a8e0455414154c2d88f775cd9026b3ea": {
      "model_module": "@jupyter-widgets/base",
      "model_module_version": "1.2.0",
      "model_name": "LayoutModel",
      "state": {
       "width": "145px"
      }
     },
     "aa3db8a8cc084f50963680fa09e763b4": {
      "model_module": "@jupyter-widgets/controls",
      "model_module_version": "1.5.0",
      "model_name": "HTMLModel",
      "state": {
       "layout": "IPY_MODEL_bb3572c5e4154016b3994709eedd57ba",
       "style": "IPY_MODEL_231f9e4bd3e14d97b221081953f2b77d",
       "value": "62e8594a15d0336ca6499e76"
      }
     },
     "aacca35d1ef440d49387d4df777a17a1": {
      "model_module": "@jupyter-widgets/base",
      "model_module_version": "1.2.0",
      "model_name": "LayoutModel",
      "state": {
       "width": "145px"
      }
     },
     "ac4f7e2036744d25bd640292b33461fb": {
      "model_module": "@jupyter-widgets/controls",
      "model_module_version": "1.5.0",
      "model_name": "HTMLModel",
      "state": {
       "layout": "IPY_MODEL_660b62d00b8441deb9cfff9e7eaa7778",
       "style": "IPY_MODEL_4c2062e688c24b2bae4fb65e73dd7c69",
       "value": "-"
      }
     },
     "acf69c346e244309a59c7995bade71b3": {
      "model_module": "@jupyter-widgets/controls",
      "model_module_version": "1.5.0",
      "model_name": "DescriptionStyleModel",
      "state": {
       "description_width": ""
      }
     },
     "ae8e201d4dd9449f9febeaa6dd9abd61": {
      "model_module": "@jupyter-widgets/controls",
      "model_module_version": "1.5.0",
      "model_name": "HTMLModel",
      "state": {
       "layout": "IPY_MODEL_ecc44d62f29c4532bf64155b72d2ebc5",
       "style": "IPY_MODEL_ff38a2887d7148a7ab8d8c97ad74cd26",
       "value": "62e8fc76a07edd1d5424725d"
      }
     },
     "b06aa1151f4a4089b5aa10a75d18fe48": {
      "model_module": "@jupyter-widgets/base",
      "model_module_version": "1.2.0",
      "model_name": "LayoutModel",
      "state": {
       "width": "70px"
      }
     },
     "b12d9c4f2716411e97bedc3e9b67a126": {
      "model_module": "@jupyter-widgets/controls",
      "model_module_version": "1.5.0",
      "model_name": "HTMLModel",
      "state": {
       "layout": "IPY_MODEL_a8e0455414154c2d88f775cd9026b3ea",
       "style": "IPY_MODEL_11b22de92b2245219ae08e0b77037876",
       "value": "ibmq_manila"
      }
     },
     "b1be05d5148647d78dae6442caa61027": {
      "model_module": "@jupyter-widgets/base",
      "model_module_version": "1.2.0",
      "model_name": "LayoutModel",
      "state": {
       "width": "95px"
      }
     },
     "b20da2e746b1401092db4f061ccdf776": {
      "model_module": "@jupyter-widgets/controls",
      "model_module_version": "1.5.0",
      "model_name": "HTMLModel",
      "state": {
       "layout": "IPY_MODEL_e2f50dbbe60041468a8c380723962551",
       "style": "IPY_MODEL_ba654626e8e64be98297d2cff8a468ea",
       "value": "<font style='color:#34BC6E'>DONE</font>"
      }
     },
     "b278cf91ae0f4926a4e121bd548d236d": {
      "model_module": "@jupyter-widgets/base",
      "model_module_version": "1.2.0",
      "model_name": "LayoutModel",
      "state": {
       "overflow_x": "scroll"
      }
     },
     "b483e8a367604463a4049492e7e6d018": {
      "model_module": "@jupyter-widgets/controls",
      "model_module_version": "1.5.0",
      "model_name": "DescriptionStyleModel",
      "state": {
       "description_width": ""
      }
     },
     "b5d05aa1b0a54aa3b9f6558b8cb789a8": {
      "model_module": "@jupyter-widgets/base",
      "model_module_version": "1.2.0",
      "model_name": "LayoutModel",
      "state": {
       "width": "190px"
      }
     },
     "b640a93477184bf5b96f02505f062fe6": {
      "model_module": "@jupyter-widgets/controls",
      "model_module_version": "1.5.0",
      "model_name": "ButtonStyleModel",
      "state": {}
     },
     "b92513ce8e5d41ab8b6889a8f85111b9": {
      "model_module": "@jupyter-widgets/controls",
      "model_module_version": "1.5.0",
      "model_name": "DescriptionStyleModel",
      "state": {
       "description_width": ""
      }
     },
     "b989e116f3944894b6a34b092e82f406": {
      "model_module": "@jupyter-widgets/controls",
      "model_module_version": "1.5.0",
      "model_name": "HTMLModel",
      "state": {
       "layout": "IPY_MODEL_213aa87c1dbe40a0930367ceb1a36ffe",
       "style": "IPY_MODEL_c9fec9691061476bb92fc9cba4e6bfdc",
       "value": "-"
      }
     },
     "b9ed828a8c2044e19ec1bfc5eb031e9d": {
      "model_module": "@jupyter-widgets/controls",
      "model_module_version": "1.5.0",
      "model_name": "HTMLModel",
      "state": {
       "layout": "IPY_MODEL_335c93d973f647db816a04dcd672efcc",
       "style": "IPY_MODEL_5c2f72fe37de40b5a518f823b1fa466f",
       "value": "-"
      }
     },
     "ba654626e8e64be98297d2cff8a468ea": {
      "model_module": "@jupyter-widgets/controls",
      "model_module_version": "1.5.0",
      "model_name": "DescriptionStyleModel",
      "state": {
       "description_width": ""
      }
     },
     "ba929b97cb9b4476b35fda61b7e95064": {
      "model_module": "@jupyter-widgets/controls",
      "model_module_version": "1.5.0",
      "model_name": "DescriptionStyleModel",
      "state": {
       "description_width": ""
      }
     },
     "bb3572c5e4154016b3994709eedd57ba": {
      "model_module": "@jupyter-widgets/base",
      "model_module_version": "1.2.0",
      "model_name": "LayoutModel",
      "state": {
       "width": "190px"
      }
     },
     "bbb533b7d0184a59bf478c47eb82e536": {
      "model_module": "@jupyter-widgets/controls",
      "model_module_version": "1.5.0",
      "model_name": "ButtonModel",
      "state": {
       "icon": "close",
       "layout": "IPY_MODEL_13b70d09cda741069ffac80c190fe35c",
       "style": "IPY_MODEL_53bc86d68c824a5584dd6afa5bce0a6a"
      }
     },
     "bcb86708905b48a3a1a24a1a8572911d": {
      "model_module": "@jupyter-widgets/controls",
      "model_module_version": "1.5.0",
      "model_name": "HTMLModel",
      "state": {
       "layout": "IPY_MODEL_9453727c40ca40738a4edfffdfd1db03",
       "style": "IPY_MODEL_5b1b618722a24f53a35da2ce667f959a",
       "value": "<h5>Status</h5>"
      }
     },
     "bce6d0d777194e8ba88ae7fb6abbd467": {
      "model_module": "@jupyter-widgets/controls",
      "model_module_version": "1.5.0",
      "model_name": "HTMLModel",
      "state": {
       "layout": "IPY_MODEL_6d9e07afea3d4332902239fa6a269049",
       "style": "IPY_MODEL_4f24df9bdf4a4ca3a2c19d58f4baac2e",
       "value": "ibmq_manila"
      }
     },
     "bd8b2e58d2914a2293267f24587a37f5": {
      "model_module": "@jupyter-widgets/controls",
      "model_module_version": "1.5.0",
      "model_name": "ButtonModel",
      "state": {
       "icon": "close",
       "layout": "IPY_MODEL_e49197c5c6b644f4ae7fbc574f3eaf25",
       "style": "IPY_MODEL_9038d777d7404078898e018e05bf8055"
      }
     },
     "be806f48234f409daec0f28d516b0e0e": {
      "model_module": "@jupyter-widgets/controls",
      "model_module_version": "1.5.0",
      "model_name": "DescriptionStyleModel",
      "state": {
       "description_width": ""
      }
     },
     "c0b1257ad32848efa59778fc7d7917b2": {
      "model_module": "@jupyter-widgets/controls",
      "model_module_version": "1.5.0",
      "model_name": "DescriptionStyleModel",
      "state": {
       "description_width": ""
      }
     },
     "c1a8d9dd731c4fa8a63777f28af794f9": {
      "model_module": "@jupyter-widgets/controls",
      "model_module_version": "1.5.0",
      "model_name": "HTMLModel",
      "state": {
       "layout": "IPY_MODEL_0c500c9cce94416089b43b943bce049a",
       "style": "IPY_MODEL_cbfe67a85da745379f833877e41c317c",
       "value": "job has successfully run"
      }
     },
     "c1f519e3f0cb4a31993f515221171698": {
      "model_module": "@jupyter-widgets/base",
      "model_module_version": "1.2.0",
      "model_name": "LayoutModel",
      "state": {
       "max_width": "700px",
       "min_width": "700px"
      }
     },
     "c26251bc45dd47b599c1c0d68e92e88c": {
      "model_module": "@jupyter-widgets/base",
      "model_module_version": "1.2.0",
      "model_name": "LayoutModel",
      "state": {
       "width": "95px"
      }
     },
     "c4daf94a562a4d6d9b85995fd2fa562f": {
      "model_module": "@jupyter-widgets/controls",
      "model_module_version": "1.5.0",
      "model_name": "HTMLModel",
      "state": {
       "layout": "IPY_MODEL_a597534e71154e4192880f386d3c1a55",
       "style": "IPY_MODEL_13e6d50e665043dd855e36c878d7a1a7",
       "value": "job has successfully run"
      }
     },
     "c520a2086f764535bdb375fda8e5db42": {
      "model_module": "@jupyter-widgets/controls",
      "model_module_version": "1.5.0",
      "model_name": "HTMLModel",
      "state": {
       "layout": "IPY_MODEL_cf1daf0c552a45ed88744b93f9a1ed6b",
       "style": "IPY_MODEL_21a2aef41066402e859030bdef7a4bde",
       "value": "<h5>Message</h5>"
      }
     },
     "c83d5db0e9684d77ad6e47113cb7b3d6": {
      "model_module": "@jupyter-widgets/controls",
      "model_module_version": "1.5.0",
      "model_name": "DescriptionStyleModel",
      "state": {
       "description_width": ""
      }
     },
     "c971de2d100c4da283038a85d33aa303": {
      "model_module": "@jupyter-widgets/controls",
      "model_module_version": "1.5.0",
      "model_name": "HTMLModel",
      "state": {
       "layout": "IPY_MODEL_a3bb90b04534457fab5c4ef750d8243c",
       "style": "IPY_MODEL_b483e8a367604463a4049492e7e6d018",
       "value": "62e8d343ac90f7923bc865d5"
      }
     },
     "c9fec9691061476bb92fc9cba4e6bfdc": {
      "model_module": "@jupyter-widgets/controls",
      "model_module_version": "1.5.0",
      "model_name": "DescriptionStyleModel",
      "state": {
       "description_width": ""
      }
     },
     "cbfe67a85da745379f833877e41c317c": {
      "model_module": "@jupyter-widgets/controls",
      "model_module_version": "1.5.0",
      "model_name": "DescriptionStyleModel",
      "state": {
       "description_width": ""
      }
     },
     "cdd2c870e60d40968789f4c1e994fdb2": {
      "model_module": "@jupyter-widgets/base",
      "model_module_version": "1.2.0",
      "model_name": "LayoutModel",
      "state": {
       "width": "190px"
      }
     },
     "ceb0e0a172144019bf241bc5175d53db": {
      "model_module": "@jupyter-widgets/controls",
      "model_module_version": "1.5.0",
      "model_name": "ButtonStyleModel",
      "state": {
       "button_color": "white"
      }
     },
     "cf1daf0c552a45ed88744b93f9a1ed6b": {
      "model_module": "@jupyter-widgets/base",
      "model_module_version": "1.2.0",
      "model_name": "LayoutModel",
      "state": {}
     },
     "cf2a163226d947a3a9042cc558269ff7": {
      "model_module": "@jupyter-widgets/controls",
      "model_module_version": "1.5.0",
      "model_name": "ButtonModel",
      "state": {
       "icon": "close",
       "layout": "IPY_MODEL_9dab6faaa4a84673804938561c922d59",
       "style": "IPY_MODEL_9fa83f3254004b028914b47f8f7472c5"
      }
     },
     "d06e8c672a1344eeb82c7ea94b5b489a": {
      "model_module": "@jupyter-widgets/controls",
      "model_module_version": "1.5.0",
      "model_name": "HBoxModel",
      "state": {
       "children": [
        "IPY_MODEL_08ee57ee2a44417e945b563df2df8469",
        "IPY_MODEL_8154cde055704aa5b45f90d322352de2",
        "IPY_MODEL_d8173e30ae5c49238b90ee7137d5bd18",
        "IPY_MODEL_05cc3edcb77440cdbdf6572955d2ab38",
        "IPY_MODEL_945ef0577c1849bab42cf698c0f5c8d6",
        "IPY_MODEL_dd6f9af8f3c94891bcd74dfaf702fb26"
       ],
       "layout": "IPY_MODEL_c1f519e3f0cb4a31993f515221171698"
      }
     },
     "d350c502e5f24ee691bec168a4c7e0a8": {
      "model_module": "@jupyter-widgets/controls",
      "model_module_version": "1.5.0",
      "model_name": "DescriptionStyleModel",
      "state": {
       "description_width": ""
      }
     },
     "d3b94f8b32a34e8eadb7d359d217645b": {
      "model_module": "@jupyter-widgets/base",
      "model_module_version": "1.2.0",
      "model_name": "LayoutModel",
      "state": {
       "width": "95px"
      }
     },
     "d7902addf1754c9094ecbe51fce274d2": {
      "model_module": "@jupyter-widgets/controls",
      "model_module_version": "1.5.0",
      "model_name": "HTMLModel",
      "state": {
       "layout": "IPY_MODEL_6f7b7d0c2c974615a5de7751341d633f",
       "style": "IPY_MODEL_953986b090484bc68805b57b59a0b06c",
       "value": "job has successfully run"
      }
     },
     "d8173e30ae5c49238b90ee7137d5bd18": {
      "model_module": "@jupyter-widgets/controls",
      "model_module_version": "1.5.0",
      "model_name": "HTMLModel",
      "state": {
       "layout": "IPY_MODEL_e22f9306648249e99ace1f81a1b2cce6",
       "style": "IPY_MODEL_d350c502e5f24ee691bec168a4c7e0a8",
       "value": "ibmq_manila"
      }
     },
     "d88f9393170e431f9307ae7bb2fa32ec": {
      "model_module": "@jupyter-widgets/base",
      "model_module_version": "1.2.0",
      "model_name": "LayoutModel",
      "state": {
       "width": "190px"
      }
     },
     "d8d0916582de496bbf1b9d5bef9f7407": {
      "model_module": "@jupyter-widgets/base",
      "model_module_version": "1.2.0",
      "model_name": "LayoutModel",
      "state": {
       "max_width": "700px",
       "min_width": "700px"
      }
     },
     "dd6f9af8f3c94891bcd74dfaf702fb26": {
      "model_module": "@jupyter-widgets/controls",
      "model_module_version": "1.5.0",
      "model_name": "HTMLModel",
      "state": {
       "layout": "IPY_MODEL_b278cf91ae0f4926a4e121bd548d236d",
       "style": "IPY_MODEL_8c3b41d0da2d46ae889729ccfaae5eae",
       "value": "job has successfully run"
      }
     },
     "dddc60de8b244532932fc6f0484494ee": {
      "model_module": "@jupyter-widgets/controls",
      "model_module_version": "1.5.0",
      "model_name": "DescriptionStyleModel",
      "state": {
       "description_width": ""
      }
     },
     "dec08045d13c4ed0b642270f3a45ae05": {
      "model_module": "@jupyter-widgets/controls",
      "model_module_version": "1.5.0",
      "model_name": "HBoxModel",
      "state": {
       "children": [
        "IPY_MODEL_3699857a8d3b4bd5a34330d238099c8e",
        "IPY_MODEL_9015df7382d945fa89840f1e4a92677e",
        "IPY_MODEL_6f33265361cf4251aebd30a933583355",
        "IPY_MODEL_b20da2e746b1401092db4f061ccdf776",
        "IPY_MODEL_219144eee2bf49d69cc548d73ecffe0b",
        "IPY_MODEL_6338716d87544d2a88fa9e1382970f88"
       ],
       "layout": "IPY_MODEL_403a0dcf90e3424fbf495fb7e1a217b6"
      }
     },
     "def38e730dc943b4a355e3d5f282d6a7": {
      "model_module": "@jupyter-widgets/base",
      "model_module_version": "1.2.0",
      "model_name": "LayoutModel",
      "state": {
       "width": "190px"
      }
     },
     "df5145dcc6064aeaac4194440715ec6a": {
      "model_module": "@jupyter-widgets/controls",
      "model_module_version": "1.5.0",
      "model_name": "ButtonModel",
      "state": {
       "icon": "close",
       "layout": "IPY_MODEL_20eb16f2546f4de2981b6fc8439d8de5",
       "style": "IPY_MODEL_12d003c98f4f44d58f29c94fa9b4b093"
      }
     },
     "dfbe0af0eed74b339852d44f1450d2d1": {
      "model_module": "@jupyter-widgets/controls",
      "model_module_version": "1.5.0",
      "model_name": "HTMLModel",
      "state": {
       "layout": "IPY_MODEL_1cd706700d944b8e9aa418198d4e8387",
       "style": "IPY_MODEL_434bb88a1a9f4623b5815a84682f3566",
       "value": "-"
      }
     },
     "e22f9306648249e99ace1f81a1b2cce6": {
      "model_module": "@jupyter-widgets/base",
      "model_module_version": "1.2.0",
      "model_name": "LayoutModel",
      "state": {
       "width": "145px"
      }
     },
     "e29681cdbd0d4bb788b310f34d188778": {
      "model_module": "@jupyter-widgets/controls",
      "model_module_version": "1.5.0",
      "model_name": "HTMLModel",
      "state": {
       "layout": "IPY_MODEL_f6a57d2af2f948329b938472165f8402",
       "style": "IPY_MODEL_219b67388c2d436d9f47a563f81d85f8",
       "value": "job has successfully run"
      }
     },
     "e2af824a68404bfbb633dfe4e3c3e36a": {
      "model_module": "@jupyter-widgets/controls",
      "model_module_version": "1.5.0",
      "model_name": "HTMLModel",
      "state": {
       "layout": "IPY_MODEL_102de4727c5747b79d490e1c0fd94472",
       "style": "IPY_MODEL_1995c44f6e5f4d4c878ab67c3da5bdcc",
       "value": "ibmq_manila"
      }
     },
     "e2f50dbbe60041468a8c380723962551": {
      "model_module": "@jupyter-widgets/base",
      "model_module_version": "1.2.0",
      "model_name": "LayoutModel",
      "state": {
       "width": "95px"
      }
     },
     "e49197c5c6b644f4ae7fbc574f3eaf25": {
      "model_module": "@jupyter-widgets/base",
      "model_module_version": "1.2.0",
      "model_name": "LayoutModel",
      "state": {
       "margin": "0px 5px 0px 0px",
       "width": "32px"
      }
     },
     "e4b8ad85483f472da52a7f80e94e27ab": {
      "model_module": "@jupyter-widgets/base",
      "model_module_version": "1.2.0",
      "model_name": "LayoutModel",
      "state": {
       "max_width": "700px",
       "min_width": "700px"
      }
     },
     "e66041aad7b54c51943b7584063549bc": {
      "model_module": "@jupyter-widgets/controls",
      "model_module_version": "1.5.0",
      "model_name": "ButtonStyleModel",
      "state": {
       "button_color": "white"
      }
     },
     "e9f1c47e576d44f394f71ddcea6c0753": {
      "model_module": "@jupyter-widgets/controls",
      "model_module_version": "1.5.0",
      "model_name": "DescriptionStyleModel",
      "state": {
       "description_width": ""
      }
     },
     "eaee7a66f812479b8032b4747138bbb7": {
      "model_module": "@jupyter-widgets/base",
      "model_module_version": "1.2.0",
      "model_name": "LayoutModel",
      "state": {
       "width": "145px"
      }
     },
     "eb21a4c1bfd94cf4ba1ba59e5bcba672": {
      "model_module": "@jupyter-widgets/base",
      "model_module_version": "1.2.0",
      "model_name": "LayoutModel",
      "state": {
       "width": "70px"
      }
     },
     "ec20d4d0376c4706a5a5c02f1e8fdf49": {
      "model_module": "@jupyter-widgets/controls",
      "model_module_version": "1.5.0",
      "model_name": "HTMLModel",
      "state": {
       "layout": "IPY_MODEL_91e0c42957ac44968de665332e5f7645",
       "style": "IPY_MODEL_665f8719d967436083d5d9baa2918bdd",
       "value": "ibmq_manila"
      }
     },
     "ec3102dfb65140c88133d332d19c2be1": {
      "model_module": "@jupyter-widgets/base",
      "model_module_version": "1.2.0",
      "model_name": "LayoutModel",
      "state": {
       "max_width": "700px",
       "min_width": "700px"
      }
     },
     "ecc44d62f29c4532bf64155b72d2ebc5": {
      "model_module": "@jupyter-widgets/base",
      "model_module_version": "1.2.0",
      "model_name": "LayoutModel",
      "state": {
       "width": "190px"
      }
     },
     "efa4c4916a954e9ebda1c9a393658d19": {
      "model_module": "@jupyter-widgets/base",
      "model_module_version": "1.2.0",
      "model_name": "LayoutModel",
      "state": {
       "width": "70px"
      }
     },
     "f0cbe8727dba4c4dab792096eae35c5f": {
      "model_module": "@jupyter-widgets/controls",
      "model_module_version": "1.5.0",
      "model_name": "HTMLModel",
      "state": {
       "layout": "IPY_MODEL_796140d4c92a42e893e46dc7dbad1ec5",
       "style": "IPY_MODEL_b92513ce8e5d41ab8b6889a8f85111b9",
       "value": "<font style='color:#34BC6E'>DONE</font>"
      }
     },
     "f1c29ff97fe54a4bb304f3d61b3652da": {
      "model_module": "@jupyter-widgets/controls",
      "model_module_version": "1.5.0",
      "model_name": "DescriptionStyleModel",
      "state": {
       "description_width": ""
      }
     },
     "f1de4297ea04469b9c483354e962c495": {
      "model_module": "@jupyter-widgets/controls",
      "model_module_version": "1.5.0",
      "model_name": "HBoxModel",
      "state": {
       "children": [
        "IPY_MODEL_235a29bca2d541eba766d78658752d6e",
        "IPY_MODEL_70327f1557df41cc8ddda24a13433135",
        "IPY_MODEL_bcb86708905b48a3a1a24a1a8572911d",
        "IPY_MODEL_66f3313017764471877c1202882fdfc7",
        "IPY_MODEL_c520a2086f764535bdb375fda8e5db42"
       ],
       "layout": "IPY_MODEL_57bebfd72cf34472a47d2816268e506f"
      }
     },
     "f6a57d2af2f948329b938472165f8402": {
      "model_module": "@jupyter-widgets/base",
      "model_module_version": "1.2.0",
      "model_name": "LayoutModel",
      "state": {
       "overflow_x": "scroll"
      }
     },
     "f791a2c235504bedb9c96649b5c1e46f": {
      "model_module": "@jupyter-widgets/base",
      "model_module_version": "1.2.0",
      "model_name": "LayoutModel",
      "state": {
       "overflow_x": "scroll"
      }
     },
     "f89cc9ee4f1a474fa01375b71e71ef4f": {
      "model_module": "@jupyter-widgets/controls",
      "model_module_version": "1.5.0",
      "model_name": "DescriptionStyleModel",
      "state": {
       "description_width": ""
      }
     },
     "f8ac870161f04c1f9a21fcb23ef6cd66": {
      "model_module": "@jupyter-widgets/controls",
      "model_module_version": "1.5.0",
      "model_name": "HBoxModel",
      "state": {
       "children": [
        "IPY_MODEL_65c0c0ea993543c980bf760b01896d03",
        "IPY_MODEL_ae8e201d4dd9449f9febeaa6dd9abd61",
        "IPY_MODEL_75d3f007c92c4c48a5da2f80a212a602",
        "IPY_MODEL_7b3629b40d9b45eb8746e10364d8d15b",
        "IPY_MODEL_425eb3ebdf9f4d5b89ff722a88eabf3e",
        "IPY_MODEL_e29681cdbd0d4bb788b310f34d188778"
       ],
       "layout": "IPY_MODEL_84a446a02fc9444a9fb2e53cfbf34ec4"
      }
     },
     "f9294483762544d38c9f4bee22d91a4d": {
      "model_module": "@jupyter-widgets/base",
      "model_module_version": "1.2.0",
      "model_name": "LayoutModel",
      "state": {
       "max_width": "700px",
       "min_width": "700px"
      }
     },
     "fd1c2a96ca404b0899ca3cf944039045": {
      "model_module": "@jupyter-widgets/base",
      "model_module_version": "1.2.0",
      "model_name": "LayoutModel",
      "state": {
       "width": "70px"
      }
     },
     "fe6b24ff17244176a2cebff49eea5fc6": {
      "model_module": "@jupyter-widgets/controls",
      "model_module_version": "1.5.0",
      "model_name": "ButtonStyleModel",
      "state": {
       "button_color": "white"
      }
     },
     "fe994f3325e3472ca73e030e0d3130a8": {
      "model_module": "@jupyter-widgets/controls",
      "model_module_version": "1.5.0",
      "model_name": "HTMLModel",
      "state": {
       "layout": "IPY_MODEL_2e873c732e474f339b36faa6da3247a7",
       "style": "IPY_MODEL_14d396f01c164799af0d2dbee1f051a2",
       "value": "job has successfully run"
      }
     },
     "ff38a2887d7148a7ab8d8c97ad74cd26": {
      "model_module": "@jupyter-widgets/controls",
      "model_module_version": "1.5.0",
      "model_name": "DescriptionStyleModel",
      "state": {
       "description_width": ""
      }
     },
     "ffdca6650b21413da05e7e54ee060463": {
      "model_module": "@jupyter-widgets/controls",
      "model_module_version": "1.5.0",
      "model_name": "DescriptionStyleModel",
      "state": {
       "description_width": ""
      }
     }
    },
    "version_major": 2,
    "version_minor": 0
   }
  }
 },
 "nbformat": 4,
 "nbformat_minor": 5
}
