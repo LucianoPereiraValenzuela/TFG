{
 "cells": [
  {
   "cell_type": "code",
   "execution_count": 1,
   "id": "20d490df-9563-41b5-b6de-62cd50f59887",
   "metadata": {},
   "outputs": [
    {
     "name": "stderr",
     "output_type": "stream",
     "text": [
      "<frozen importlib._bootstrap>:219: RuntimeWarning: scipy._lib.messagestream.MessageStream size changed, may indicate binary incompatibility. Expected 56 from C header, got 64 from PyObject\n"
     ]
    }
   ],
   "source": [
    "import numpy as np\n",
    "\n",
    "# Importing standard Qiskit libraries\n",
    "from qiskit import QuantumCircuit, transpile, Aer, IBMQ\n",
    "from qiskit.tools.jupyter import *\n",
    "from qiskit.visualization import *\n",
    "from ibm_quantum_widgets import *\n",
    "from qiskit.providers.aer import QasmSimulator\n",
    "\n",
    "# Loading your IBM Quantum account(s)\n",
    "provider = IBMQ.load_account()"
   ]
  },
  {
   "cell_type": "code",
   "execution_count": 2,
   "id": "ad98d87d-bad4-4c8d-8d9d-da4b0f27036e",
   "metadata": {},
   "outputs": [],
   "source": [
    "import warnings\n",
    "warnings.filterwarnings('ignore')\n",
    "from qiskit.tools.jupyter import *"
   ]
  },
  {
   "cell_type": "code",
   "execution_count": 3,
   "id": "00875011-83ad-49ae-a285-e1eefc54d729",
   "metadata": {},
   "outputs": [
    {
     "name": "stderr",
     "output_type": "stream",
     "text": [
      "ibmqfactory.load_account:WARNING:2022-07-30 21:31:33,309: Credentials are already in use. The existing account in the session will be replaced.\n"
     ]
    }
   ],
   "source": [
    "from qiskit import IBMQ\n",
    "IBMQ.load_account()\n",
    "provider = IBMQ.get_provider(hub='ibm-q', group='open', project='main')\n",
    "backend = provider.get_backend('ibmq_manila')"
   ]
  },
  {
   "cell_type": "code",
   "execution_count": 4,
   "id": "c60b3ddd-ffe0-48ba-b74f-9ccff7d62701",
   "metadata": {},
   "outputs": [],
   "source": [
    "backend_config = backend.configuration()"
   ]
  },
  {
   "cell_type": "code",
   "execution_count": 5,
   "id": "db3dbb24-9837-4652-b8fe-6235564a2d2e",
   "metadata": {},
   "outputs": [
    {
     "name": "stdout",
     "output_type": "stream",
     "text": [
      "Sampling time: 0.2222222222222222 ns\n"
     ]
    }
   ],
   "source": [
    "dt = backend_config.dt\n",
    "print(f\"Sampling time: {dt*1e9} ns\")    # The configuration returns dt in seconds, so multiply by\n",
    "                                        # 1e9 to get nanoseconds"
   ]
  },
  {
   "cell_type": "code",
   "execution_count": 6,
   "id": "6c6cdcb7-e19d-4d21-a76d-a9a210e40374",
   "metadata": {},
   "outputs": [
    {
     "data": {
      "text/plain": [
       "{'acquire_alignment': 16,\n",
       " 'granularity': 16,\n",
       " 'min_length': 64,\n",
       " 'pulse_alignment': 1}"
      ]
     },
     "execution_count": 6,
     "metadata": {},
     "output_type": "execute_result"
    }
   ],
   "source": [
    "backend.configuration().timing_constraints"
   ]
  },
  {
   "cell_type": "code",
   "execution_count": 7,
   "id": "550cd807-2416-492b-bc56-ff05b89b47e6",
   "metadata": {},
   "outputs": [],
   "source": [
    "acquire_alignment = backend.configuration().timing_constraints['acquire_alignment']\n",
    "granularity = backend.configuration().timing_constraints['granularity']\n",
    "pulse_alignment = backend.configuration().timing_constraints['pulse_alignment']"
   ]
  },
  {
   "cell_type": "code",
   "execution_count": 8,
   "id": "948a712a-fca8-4678-b32e-5036ea8c9f8f",
   "metadata": {},
   "outputs": [
    {
     "name": "stdout",
     "output_type": "stream",
     "text": [
      "Least common multiple of acquire_alignment and pulse_alignment: 16\n"
     ]
    }
   ],
   "source": [
    "import numpy as np\n",
    "\n",
    "lcm = np.lcm(acquire_alignment, pulse_alignment)\n",
    "print(f\"Least common multiple of acquire_alignment and pulse_alignment: {lcm}\")"
   ]
  },
  {
   "cell_type": "code",
   "execution_count": 9,
   "id": "cec21486-dcb8-45d1-80f3-d349d2d084bd",
   "metadata": {},
   "outputs": [],
   "source": [
    "backend_defaults = backend.defaults()"
   ]
  },
  {
   "cell_type": "code",
   "execution_count": 10,
   "id": "f7385eed-6588-4615-8e95-6f97832b8829",
   "metadata": {},
   "outputs": [],
   "source": [
    "#Finding the qubit Frequency using a Frequency Sweep"
   ]
  },
  {
   "cell_type": "code",
   "execution_count": 11,
   "id": "4f1c8646-1b3f-496e-aaf1-2592c8cbc27d",
   "metadata": {},
   "outputs": [
    {
     "name": "stdout",
     "output_type": "stream",
     "text": [
      "Qubit 0 has an estimated frequency of 4.962287357984293 GHz.\n",
      "The sweep will go from 4.942287357984293 GHz to 4.982287357984293 GHz in steps of 1.0 MHz.\n"
     ]
    }
   ],
   "source": [
    "# unit conversion factors -> all backend properties returned in SI (Hz, sec, etc.)\n",
    "GHz = 1.0e9 # Gigahertz\n",
    "MHz = 1.0e6 # Megahertz\n",
    "us = 1.0e-6 # Microseconds\n",
    "ns = 1.0e-9 # Nanoseconds\n",
    "\n",
    "# We will find the qubit frequency for the following qubit.\n",
    "qubit = 0\n",
    "\n",
    "# The sweep will be centered around the estimated qubit frequency.\n",
    "center_frequency_Hz = backend_defaults.qubit_freq_est[qubit]        # The default frequency is given in Hz\n",
    "                                                                    # warning: this will change in a future release\n",
    "print(f\"Qubit {qubit} has an estimated frequency of {center_frequency_Hz / GHz} GHz.\")\n",
    "\n",
    "# scale factor to remove factors of 10 from the data\n",
    "scale_factor = 1e-7\n",
    "\n",
    "# We will sweep 40 MHz around the estimated frequency\n",
    "frequency_span_Hz = 40 * MHz\n",
    "# in steps of 1 MHz.\n",
    "frequency_step_Hz = 1 * MHz\n",
    "\n",
    "# We will sweep 20 MHz above and 20 MHz below the estimated frequency\n",
    "frequency_min = center_frequency_Hz - frequency_span_Hz / 2\n",
    "frequency_max = center_frequency_Hz + frequency_span_Hz / 2\n",
    "# Construct an np array of the frequencies for our experiment\n",
    "frequencies_GHz = np.arange(frequency_min / GHz, \n",
    "                            frequency_max / GHz, \n",
    "                            frequency_step_Hz / GHz)\n",
    "\n",
    "print(f\"The sweep will go from {frequency_min / GHz} GHz to {frequency_max / GHz} GHz \\\n",
    "in steps of {frequency_step_Hz / MHz} MHz.\")"
   ]
  },
  {
   "cell_type": "code",
   "execution_count": 12,
   "id": "d71dea9e-ee8e-4763-adf9-73f743649028",
   "metadata": {},
   "outputs": [],
   "source": [
    "def get_closest_multiple_of(vaule, base_number):\n",
    "    return int(vaule + base_number/2) - (int(vaule + base_number/2) % base_number)"
   ]
  },
  {
   "cell_type": "code",
   "execution_count": 13,
   "id": "aa9c4560-2d41-4ab2-a090-683f8efd336e",
   "metadata": {},
   "outputs": [],
   "source": [
    "# samples need to be multiples of 16\n",
    "def get_closest_multiple_of_16(num):\n",
    "    return get_closest_multiple_of(num, granularity)"
   ]
  },
  {
   "cell_type": "code",
   "execution_count": 14,
   "id": "4d44d6cb-e73c-4338-83cb-2861b4106da5",
   "metadata": {},
   "outputs": [],
   "source": [
    "# Convert seconds to dt\n",
    "def get_dt_from(sec):\n",
    "    return get_closest_multiple_of(sec/dt, lcm)"
   ]
  },
  {
   "cell_type": "code",
   "execution_count": 15,
   "id": "f0cc6b18-775b-4e6b-a910-e1567bad71b9",
   "metadata": {},
   "outputs": [],
   "source": [
    "from qiskit import pulse                  # This is where we access all of our Pulse features!\n",
    "from qiskit.circuit import Parameter      # This is Parameter Class for variable parameters.\n",
    "from qiskit.circuit import QuantumCircuit, Gate\n",
    "\n",
    "# Drive pulse parameters (us = microseconds)\n",
    "drive_sigma_sec = 0.015 * us                           # This determines the actual width of the gaussian\n",
    "drive_duration_sec = drive_sigma_sec * 8                # This is a truncating parameter, because gaussians don't have \n",
    "                                                        # a natural finite length\n",
    "drive_amp = 0.05\n",
    "\n",
    "# Create the base schedule\n",
    "# Start with drive pulse acting on the drive channel\n",
    "freq = Parameter('freq')\n",
    "with pulse.build(backend=backend, default_alignment='sequential', name='Frequency sweep') as sweep_sched:\n",
    "    drive_duration = get_closest_multiple_of_16(pulse.seconds_to_samples(drive_duration_sec))\n",
    "    drive_sigma = pulse.seconds_to_samples(drive_sigma_sec)\n",
    "    drive_chan = pulse.drive_channel(qubit)\n",
    "    pulse.set_frequency(freq, drive_chan)\n",
    "    # Drive pulse samples\n",
    "    pulse.play(pulse.Gaussian(duration=drive_duration,\n",
    "                              sigma=drive_sigma,\n",
    "                              amp=drive_amp,\n",
    "                              name='freq_sweep_excitation_pulse'), drive_chan)"
   ]
  },
  {
   "cell_type": "code",
   "execution_count": 16,
   "id": "f04a5ab9-81ca-4e09-b638-9c6ec4a5bac0",
   "metadata": {},
   "outputs": [],
   "source": [
    "sweep_gate = Gate(\"sweep\", 1, [freq])\n",
    "\n",
    "qc_sweep = QuantumCircuit(1, 1)\n",
    "\n",
    "qc_sweep.append(sweep_gate, [0])\n",
    "qc_sweep.measure(0, 0)\n",
    "qc_sweep.add_calibration(sweep_gate, (0,), sweep_sched, [freq])\n",
    "\n",
    "# Create the frequency settings for the sweep (MUST BE IN HZ)\n",
    "frequencies_Hz = frequencies_GHz*GHz\n",
    "exp_sweep_circs = [qc_sweep.assign_parameters({freq: f}, inplace=False) for f in frequencies_Hz]"
   ]
  },
  {
   "cell_type": "code",
   "execution_count": 17,
   "id": "bfd55ea7-da75-4399-b886-2bc6a6093dc6",
   "metadata": {},
   "outputs": [
    {
     "data": {
      "image/png": "[encoded data removed]",
      "text/plain": [
       "<Figure size 936x237.6 with 1 Axes>"
      ]
     },
     "execution_count": 17,
     "metadata": {},
     "output_type": "execute_result"
    }
   ],
   "source": [
    "from qiskit import schedule\n",
    "\n",
    "sweep_schedule = schedule(exp_sweep_circs[0], backend)\n",
    "sweep_schedule.draw(backend=backend)"
   ]
  },
  {
   "cell_type": "code",
   "execution_count": 18,
   "id": "8d586992-2db0-4600-8871-628b71358c3e",
   "metadata": {},
   "outputs": [],
   "source": [
    "num_shots_per_frequency = 1024\n",
    "\n",
    "job = backend.run(exp_sweep_circs, \n",
    "                  meas_level=1, \n",
    "                  meas_return='avg', \n",
    "                  shots=num_shots_per_frequency)"
   ]
  },
  {
   "cell_type": "code",
   "execution_count": 19,
   "id": "399e473b-535e-4504-aa15-a1da9fec046a",
   "metadata": {},
   "outputs": [
    {
     "name": "stdout",
     "output_type": "stream",
     "text": [
      "Job Status: job has successfully run\n"
     ]
    }
   ],
   "source": [
    "from qiskit.tools.monitor import job_monitor\n",
    "job_monitor(job)"
   ]
  },
  {
   "cell_type": "code",
   "execution_count": 20,
   "id": "71c52309-70ce-4639-980e-9def91e5b38e",
   "metadata": {},
   "outputs": [],
   "source": [
    "frequency_sweep_results = job.result(timeout=120) # timeout parameter set to 120 seconds"
   ]
  },
  {
   "cell_type": "code",
   "execution_count": 21,
   "id": "24627eba-80e1-4ff5-9bf0-2e439ba4c0b8",
   "metadata": {},
   "outputs": [
    {
     "data": {
      "image/png": "[encoded data removed]",
      "text/plain": [
       "<Figure size 432x288 with 1 Axes>"
      ]
     },
     "metadata": {
      "needs_background": "light"
     },
     "output_type": "display_data"
    }
   ],
   "source": [
    "import matplotlib.pyplot as plt\n",
    "\n",
    "sweep_values = []\n",
    "for i in range(len(frequency_sweep_results.results)):\n",
    "    # Get the results from the ith experiment\n",
    "    res = frequency_sweep_results.get_memory(i)*scale_factor\n",
    "    # Get the results for `qubit` from this experiment\n",
    "    sweep_values.append(res[qubit])\n",
    "\n",
    "plt.scatter(frequencies_GHz, np.real(sweep_values), color='black') # plot real part of sweep values\n",
    "plt.xlim([min(frequencies_GHz), max(frequencies_GHz)])\n",
    "plt.xlabel(\"Frequency [GHz]\")\n",
    "plt.ylabel(\"Measured signal [a.u.]\")\n",
    "plt.show()"
   ]
  },
  {
   "cell_type": "code",
   "execution_count": 22,
   "id": "7a042e54-a863-47ce-ab3e-1dc4d282382e",
   "metadata": {},
   "outputs": [],
   "source": [
    "from scipy.optimize import curve_fit\n",
    "\n",
    "def fit_function(x_values, y_values, function, init_params):\n",
    "    fitparams, conv = curve_fit(function, x_values, y_values, init_params)\n",
    "    y_fit = function(x_values, *fitparams)\n",
    "    \n",
    "    return fitparams, y_fit"
   ]
  },
  {
   "cell_type": "code",
   "execution_count": 23,
   "id": "6c4ea7d6-0713-4db2-b9b3-ffd6a0765bc8",
   "metadata": {},
   "outputs": [],
   "source": [
    "fit_params, y_fit = fit_function(frequencies_GHz,\n",
    "                                 np.real(sweep_values), \n",
    "                                 lambda x, A, q_freq, B, C: (A / np.pi) * (B / ((x - q_freq)**2 + B**2)) + C,\n",
    "                                 [1, 4.975, 1, -2] # initial parameters for curve_fit\n",
    "                                )"
   ]
  },
  {
   "cell_type": "code",
   "execution_count": 24,
   "id": "9a99f77b-0bc9-4f87-999d-e9b0d653264c",
   "metadata": {},
   "outputs": [
    {
     "data": {
      "image/png": "[encoded data removed]",
      "text/plain": [
       "<Figure size 432x288 with 1 Axes>"
      ]
     },
     "metadata": {
      "needs_background": "light"
     },
     "output_type": "display_data"
    }
   ],
   "source": [
    "plt.scatter(frequencies_GHz, np.real(sweep_values), color='black')\n",
    "plt.plot(frequencies_GHz, y_fit, color='red')\n",
    "plt.xlim([min(frequencies_GHz), max(frequencies_GHz)])\n",
    "\n",
    "plt.xlabel(\"Frequency [GHz]\")\n",
    "plt.ylabel(\"Measured Signal [a.u.]\")\n",
    "plt.show()"
   ]
  },
  {
   "cell_type": "code",
   "execution_count": 25,
   "id": "4b528b53-de18-495f-b948-75b4ace9aec5",
   "metadata": {},
   "outputs": [
    {
     "name": "stdout",
     "output_type": "stream",
     "text": [
      "We've updated our qubit frequency estimate from 4.96229 GHz to 4.96221 GHz.\n"
     ]
    }
   ],
   "source": [
    "A, rough_qubit_frequency, B, C = fit_params\n",
    "rough_qubit_frequency = rough_qubit_frequency*GHz # make sure qubit freq is in Hz\n",
    "print(f\"We've updated our qubit frequency estimate from \"\n",
    "      f\"{round(backend_defaults.qubit_freq_est[qubit] / GHz, 5)} GHz to {round(rough_qubit_frequency/GHz, 5)} GHz.\")"
   ]
  },
  {
   "cell_type": "code",
   "execution_count": 26,
   "id": "50e2b41b-bd65-4f36-af45-85e1f6c50a88",
   "metadata": {},
   "outputs": [],
   "source": [
    "#Calibrating and using a Pi Pulse"
   ]
  },
  {
   "cell_type": "code",
   "execution_count": 27,
   "id": "7ef38eff-47cf-4ca6-b0ca-440ec3a365dd",
   "metadata": {},
   "outputs": [],
   "source": [
    "#Calibrating  Pulses using a Rabi Experiment"
   ]
  },
  {
   "cell_type": "code",
   "execution_count": 28,
   "id": "572dceec-54fd-457f-99b7-6d35114a604d",
   "metadata": {},
   "outputs": [],
   "source": [
    "# This experiment uses these values from the previous experiment:\n",
    "# `qubit`,and\n",
    "# `rough_qubit_frequency`.\n",
    "\n",
    "# Rabi experiment parameters\n",
    "num_rabi_points = 50\n",
    "\n",
    "# Drive amplitude values to iterate over: 50 amplitudes evenly spaced from 0 to 0.75\n",
    "drive_amp_min = 0\n",
    "drive_amp_max = 0.75\n",
    "drive_amps = np.linspace(drive_amp_min, drive_amp_max, num_rabi_points)"
   ]
  },
  {
   "cell_type": "code",
   "execution_count": 29,
   "id": "a0dce3e7-3347-4348-96e6-1066249cd66a",
   "metadata": {},
   "outputs": [],
   "source": [
    "# Build the Rabi experiments:\n",
    "#    A drive pulse at the qubit frequency, followed by a measurement,\n",
    "#    where we vary the drive amplitude each time.\n",
    "\n",
    "drive_amp = Parameter('drive_amp')\n",
    "with pulse.build(backend=backend, default_alignment='sequential', name='Rabi Experiment') as rabi_sched:\n",
    "    drive_duration = get_closest_multiple_of_16(pulse.seconds_to_samples(drive_duration_sec))\n",
    "    drive_sigma = pulse.seconds_to_samples(drive_sigma_sec)\n",
    "    drive_chan = pulse.drive_channel(qubit)\n",
    "    pulse.set_frequency(rough_qubit_frequency, drive_chan)\n",
    "    pulse.play(pulse.Gaussian(duration=drive_duration,\n",
    "                              amp=drive_amp,\n",
    "                              sigma=drive_sigma,\n",
    "                              name='Rabi Pulse'), drive_chan)"
   ]
  },
  {
   "cell_type": "code",
   "execution_count": 30,
   "id": "320e3149-f34d-4322-a995-9bd396e8784e",
   "metadata": {},
   "outputs": [],
   "source": [
    "rabi_gate = Gate(\"rabi\", 1, [drive_amp])\n",
    "\n",
    "qc_rabi = QuantumCircuit(1, 1)\n",
    "\n",
    "qc_rabi.append(rabi_gate, [0])\n",
    "qc_rabi.measure(0, 0)\n",
    "qc_rabi.add_calibration(rabi_gate, (0,), rabi_sched, [drive_amp])\n",
    "\n",
    "exp_rabi_circs = [qc_rabi.assign_parameters({drive_amp: a}, inplace=False) for a in drive_amps]"
   ]
  },
  {
   "cell_type": "code",
   "execution_count": 31,
   "id": "8dd5fa0c-125d-46d7-98aa-57d45b2957a1",
   "metadata": {},
   "outputs": [
    {
     "data": {
      "image/png": "[encoded data removed]",
      "text/plain": [
       "<Figure size 936x237.6 with 1 Axes>"
      ]
     },
     "execution_count": 31,
     "metadata": {},
     "output_type": "execute_result"
    }
   ],
   "source": [
    "rabi_schedule = schedule(exp_rabi_circs[-1], backend)\n",
    "rabi_schedule.draw(backend=backend)"
   ]
  },
  {
   "cell_type": "code",
   "execution_count": 32,
   "id": "f558d9cc-a39d-4a3b-b977-aa77be0d4fa3",
   "metadata": {},
   "outputs": [
    {
     "name": "stdout",
     "output_type": "stream",
     "text": [
      "Job Status: job has successfully run\n"
     ]
    }
   ],
   "source": [
    "num_shots_per_point = 1024\n",
    "\n",
    "job = backend.run(exp_rabi_circs, \n",
    "                  meas_level=1, \n",
    "                  meas_return='avg', \n",
    "                  shots=num_shots_per_point)\n",
    "\n",
    "job_monitor(job)"
   ]
  },
  {
   "cell_type": "code",
   "execution_count": 33,
   "id": "1ee69999-0a65-4ee3-893a-91b848304f4a",
   "metadata": {},
   "outputs": [],
   "source": [
    "rabi_results = job.result(timeout=120)"
   ]
  },
  {
   "cell_type": "code",
   "execution_count": 34,
   "id": "3ac011ea-c511-41a8-8efd-af390d65b56d",
   "metadata": {},
   "outputs": [],
   "source": [
    "# center data around 0\n",
    "def baseline_remove(values):\n",
    "    return np.array(values) - np.mean(values)"
   ]
  },
  {
   "cell_type": "code",
   "execution_count": 35,
   "id": "fe02ce8f-d440-48f8-a6c9-78c20d29c344",
   "metadata": {},
   "outputs": [
    {
     "data": {
      "image/png": "[encoded data removed]",
      "text/plain": [
       "<Figure size 432x288 with 1 Axes>"
      ]
     },
     "metadata": {
      "needs_background": "light"
     },
     "output_type": "display_data"
    }
   ],
   "source": [
    "rabi_values = []\n",
    "for i in range(num_rabi_points):\n",
    "    # Get the results for `qubit` from the ith experiment\n",
    "    rabi_values.append(rabi_results.get_memory(i)[qubit] * scale_factor)\n",
    "\n",
    "rabi_values = np.real(baseline_remove(rabi_values))\n",
    "\n",
    "plt.xlabel(\"Drive amp [a.u.]\")\n",
    "plt.ylabel(\"Measured signal [a.u.]\")\n",
    "plt.scatter(drive_amps, rabi_values, color='black') # plot real part of Rabi values\n",
    "plt.show()"
   ]
  },
  {
   "cell_type": "code",
   "execution_count": 36,
   "id": "82890545-2aca-46e4-82ca-193d3d722cf6",
   "metadata": {},
   "outputs": [
    {
     "data": {
      "image/png": "[encoded data removed]",
      "text/plain": [
       "<Figure size 432x288 with 1 Axes>"
      ]
     },
     "metadata": {
      "needs_background": "light"
     },
     "output_type": "display_data"
    }
   ],
   "source": [
    "fit_params, y_fit = fit_function(drive_amps,\n",
    "                                 rabi_values, \n",
    "                                 lambda x, A, B, drive_period, phi: (A*np.cos(2*np.pi*x/drive_period - phi) + B),\n",
    "                                 [2, 0, 0.2, 0])\n",
    "\n",
    "plt.scatter(drive_amps, rabi_values, color='black')\n",
    "plt.plot(drive_amps, y_fit, color='red')\n",
    "\n",
    "drive_period = fit_params[2] # get period of rabi oscillation\n",
    "\n",
    "plt.axvline(drive_period/2, color='red', linestyle='--')\n",
    "plt.axvline(drive_period, color='red', linestyle='--')\n",
    "plt.annotate(\"\", xy=(drive_period, 0), xytext=(drive_period/2,0), arrowprops=dict(arrowstyle=\"<->\", color='red'))\n",
    "plt.annotate(\"$\\pi$\", xy=(drive_period/2-0.03, 0.1), color='red')\n",
    "\n",
    "plt.xlabel(\"Drive amp [a.u.]\", fontsize=15)\n",
    "plt.ylabel(\"Measured signal [a.u.]\", fontsize=15)\n",
    "plt.show()"
   ]
  },
  {
   "cell_type": "code",
   "execution_count": 37,
   "id": "fd1afe52-0150-4328-a6f7-218ed5a76601",
   "metadata": {},
   "outputs": [
    {
     "name": "stdout",
     "output_type": "stream",
     "text": [
      "Pi Amplitude = 0.0931388542336072\n"
     ]
    }
   ],
   "source": [
    "pi_amp = abs(drive_period / 2)\n",
    "print(f\"Pi Amplitude = {pi_amp}\")"
   ]
  },
  {
   "cell_type": "code",
   "execution_count": 38,
   "id": "f4cc33d9-ed8f-468c-a582-322fe164490e",
   "metadata": {},
   "outputs": [],
   "source": [
    "#Our Pi pulse!"
   ]
  },
  {
   "cell_type": "code",
   "execution_count": 39,
   "id": "03588f57-5394-4f89-870b-213f456626c0",
   "metadata": {},
   "outputs": [],
   "source": [
    "with pulse.build(backend) as pi_pulse:\n",
    "    drive_duration = get_closest_multiple_of_16(pulse.seconds_to_samples(drive_duration_sec))\n",
    "    drive_sigma = pulse.seconds_to_samples(drive_sigma_sec)\n",
    "    drive_chan = pulse.drive_channel(qubit)\n",
    "    pulse.play(pulse.Gaussian(duration=drive_duration,\n",
    "                              amp=pi_amp,\n",
    "                              sigma=drive_sigma,\n",
    "                              name='pi_pulse'), drive_chan)"
   ]
  },
  {
   "cell_type": "code",
   "execution_count": 40,
   "id": "bf81ffd4-d782-4e8f-801e-ce90961ab18b",
   "metadata": {},
   "outputs": [],
   "source": [
    "#Determining 0 vs 1"
   ]
  },
  {
   "cell_type": "code",
   "execution_count": 41,
   "id": "c809a8cf-37c2-4cd8-9229-deba9ee55a00",
   "metadata": {},
   "outputs": [
    {
     "data": {
      "text/plain": [
       "<qiskit.circuit.instructionset.InstructionSet at 0x7f41d4cd5b20>"
      ]
     },
     "execution_count": 41,
     "metadata": {},
     "output_type": "execute_result"
    }
   ],
   "source": [
    "# Ground state \n",
    "qc_gnd = QuantumCircuit(1, 1)\n",
    "qc_gnd.measure(0, 0)"
   ]
  },
  {
   "cell_type": "code",
   "execution_count": 42,
   "id": "09f116fc-c86c-4b56-a3f1-9deb3a7011c8",
   "metadata": {},
   "outputs": [
    {
     "data": {
      "image/png": "[encoded data removed]",
      "text/plain": [
       "<Figure size 936x118.8 with 1 Axes>"
      ]
     },
     "execution_count": 42,
     "metadata": {},
     "output_type": "execute_result"
    }
   ],
   "source": [
    "gnd_schedule = schedule(qc_gnd, backend)\n",
    "gnd_schedule.draw(backend=backend)"
   ]
  },
  {
   "cell_type": "code",
   "execution_count": 43,
   "id": "ed2a8ab5-2db3-4249-8637-8506d48de9f5",
   "metadata": {},
   "outputs": [],
   "source": [
    "# Excited state\n",
    "with pulse.build(backend=backend, default_alignment='sequential', name='excited state') as exc_schedule:\n",
    "    drive_chan = pulse.drive_channel(qubit)\n",
    "    pulse.set_frequency(rough_qubit_frequency, drive_chan)\n",
    "    pulse.call(pi_pulse)"
   ]
  },
  {
   "cell_type": "code",
   "execution_count": 44,
   "id": "83a4ecbe-063b-4f88-9839-7b2d0a386f5c",
   "metadata": {},
   "outputs": [],
   "source": [
    "qc_exc = QuantumCircuit(1, 1)\n",
    "qc_exc.x(0)\n",
    "qc_exc.measure(0, 0)\n",
    "\n",
    "qc_exc.add_calibration(\"x\", (0,), exc_schedule, [])"
   ]
  },
  {
   "cell_type": "code",
   "execution_count": 45,
   "id": "7709cd84-37ac-408b-b2bf-b205d9aa7ae7",
   "metadata": {},
   "outputs": [
    {
     "data": {
      "image/png": "[encoded data removed]",
      "text/plain": [
       "<Figure size 936x237.6 with 1 Axes>"
      ]
     },
     "execution_count": 45,
     "metadata": {},
     "output_type": "execute_result"
    }
   ],
   "source": [
    "exec_schedule = schedule(qc_exc, backend)\n",
    "exec_schedule.draw(backend=backend)"
   ]
  },
  {
   "cell_type": "code",
   "execution_count": 46,
   "id": "15bc5058-aa04-4845-a7a2-283b9900aa63",
   "metadata": {},
   "outputs": [
    {
     "name": "stdout",
     "output_type": "stream",
     "text": [
      "Job Status: job has successfully run\n"
     ]
    }
   ],
   "source": [
    "# Execution settings\n",
    "num_shots = 1024\n",
    "\n",
    "job = backend.run([qc_gnd, qc_exc], \n",
    "                  meas_level=1, \n",
    "                  meas_return='single', \n",
    "                  shots=num_shots)\n",
    "\n",
    "job_monitor(job)"
   ]
  },
  {
   "cell_type": "code",
   "execution_count": 47,
   "id": "08b93699-6e15-463b-908a-c85a518a023e",
   "metadata": {},
   "outputs": [],
   "source": [
    "gnd_exc_results = job.result(timeout=120)"
   ]
  },
  {
   "cell_type": "code",
   "execution_count": 48,
   "id": "f681868d-fa31-4115-ba8e-45b26034aa07",
   "metadata": {},
   "outputs": [
    {
     "data": {
      "image/png": "[encoded data removed]",
      "text/plain": [
       "<Figure size 432x288 with 1 Axes>"
      ]
     },
     "metadata": {
      "needs_background": "light"
     },
     "output_type": "display_data"
    }
   ],
   "source": [
    "gnd_results = gnd_exc_results.get_memory(0)[:, qubit]*scale_factor\n",
    "exc_results = gnd_exc_results.get_memory(1)[:, qubit]*scale_factor\n",
    "\n",
    "plt.figure()\n",
    "\n",
    "# Plot all the results\n",
    "# All results from the ground state are plotted in blue\n",
    "plt.scatter(np.real(gnd_results), np.imag(gnd_results), \n",
    "                s=5, cmap='viridis', c='blue', alpha=0.5, label='state_0')\n",
    "# All results from the excited state are plotted in red\n",
    "plt.scatter(np.real(exc_results), np.imag(exc_results), \n",
    "                s=5, cmap='viridis', c='red', alpha=0.5, label='state_1')\n",
    "\n",
    "plt.axis('square')\n",
    "\n",
    "# Plot a large dot for the average result of the 0 and 1 states.\n",
    "mean_gnd = np.mean(gnd_results) # takes mean of both real and imaginary parts\n",
    "mean_exc = np.mean(exc_results)\n",
    "plt.scatter(np.real(mean_gnd), np.imag(mean_gnd), \n",
    "            s=200, cmap='viridis', c='black',alpha=1.0, label='state_0_mean')\n",
    "plt.scatter(np.real(mean_exc), np.imag(mean_exc), \n",
    "            s=200, cmap='viridis', c='black',alpha=1.0, label='state_1_mean')\n",
    "\n",
    "plt.ylabel('I [a.u.]', fontsize=15)\n",
    "plt.xlabel('Q [a.u.]', fontsize=15)\n",
    "plt.title(\"0-1 discrimination\", fontsize=15)\n",
    "\n",
    "plt.show()"
   ]
  },
  {
   "cell_type": "code",
   "execution_count": 49,
   "id": "20c5aa1a-4bc6-4ad9-9f05-7a2016e5850a",
   "metadata": {},
   "outputs": [],
   "source": [
    "import math\n",
    "\n",
    "def classify(point: complex):\n",
    "    \"\"\"Classify the given state as |0> or |1>.\"\"\"\n",
    "    def distance(a, b):\n",
    "        return math.sqrt((np.real(a) - np.real(b))**2 + (np.imag(a) - np.imag(b))**2)\n",
    "    return int(distance(point, mean_exc) < distance(point, mean_gnd))"
   ]
  },
  {
   "cell_type": "code",
   "execution_count": 50,
   "id": "daaab25f-2f0b-41e5-9c5c-89752aa09aec",
   "metadata": {},
   "outputs": [],
   "source": [
    "# Measuring T1 using Inversion Recovery"
   ]
  },
  {
   "cell_type": "code",
   "execution_count": 51,
   "id": "c733b889-27e5-4b43-abf2-ba33027a61df",
   "metadata": {},
   "outputs": [],
   "source": [
    "# T1 experiment parameters\n",
    "time_max_sec = 450 * us\n",
    "time_step_sec = 6.5 * us\n",
    "delay_times_sec = np.arange(1 * us, time_max_sec, time_step_sec)\n",
    "\n",
    "# We will use the same `pi_pulse` and qubit frequency that we calibrated and used before"
   ]
  },
  {
   "cell_type": "code",
   "execution_count": 52,
   "id": "379ecda7-4f14-4b72-9cb9-8196b5355085",
   "metadata": {},
   "outputs": [],
   "source": [
    "delay = Parameter('delay')\n",
    "qc_t1 = QuantumCircuit(1, 1)\n",
    "\n",
    "qc_t1.x(0)\n",
    "qc_t1.delay(delay, 0)\n",
    "qc_t1.measure(0, 0)\n",
    "qc_t1.add_calibration(\"x\", (0,), pi_pulse)\n",
    "\n",
    "exp_t1_circs = [qc_t1.assign_parameters({delay: get_dt_from(d)}, inplace=False) for d in delay_times_sec]"
   ]
  },
  {
   "cell_type": "code",
   "execution_count": 53,
   "id": "5c64d2ea-c2c0-460d-875e-eb63d1515946",
   "metadata": {},
   "outputs": [
    {
     "data": {
      "image/png": "[encoded data removed]",
      "text/plain": [
       "<Figure size 936x237.6 with 1 Axes>"
      ]
     },
     "execution_count": 53,
     "metadata": {},
     "output_type": "execute_result"
    }
   ],
   "source": [
    "sched_idx = -1\n",
    "t1_schedule = schedule(exp_t1_circs[sched_idx], backend)\n",
    "t1_schedule.draw(backend=backend)"
   ]
  },
  {
   "cell_type": "code",
   "execution_count": 54,
   "id": "f37b47a9-209e-4456-b8a3-2e151ea555f3",
   "metadata": {},
   "outputs": [
    {
     "name": "stdout",
     "output_type": "stream",
     "text": [
      "Job Status: job has successfully run\n"
     ]
    }
   ],
   "source": [
    "# Execution settings\n",
    "num_shots = 256\n",
    "\n",
    "job = backend.run(exp_t1_circs, \n",
    "                  meas_level=1, \n",
    "                  meas_return='single', \n",
    "                  shots=num_shots)\n",
    "\n",
    "job_monitor(job)"
   ]
  },
  {
   "cell_type": "code",
   "execution_count": 55,
   "id": "0db83d57-b235-48cd-9781-9d585ba1a020",
   "metadata": {},
   "outputs": [],
   "source": [
    "t1_results = job.result(timeout=120)"
   ]
  },
  {
   "cell_type": "code",
   "execution_count": 56,
   "id": "b6d369fc-af74-4e1d-8e62-9b8818a50a3f",
   "metadata": {},
   "outputs": [
    {
     "data": {
      "image/png": "[encoded data removed]",
      "text/plain": [
       "<Figure size 432x288 with 1 Axes>"
      ]
     },
     "metadata": {
      "needs_background": "light"
     },
     "output_type": "display_data"
    }
   ],
   "source": [
    "t1_values = []\n",
    "\n",
    "for i in range(len(delay_times_sec)):\n",
    "    iq_data = t1_results.get_memory(i)[:,qubit] * scale_factor\n",
    "    t1_values.append(sum(map(classify, iq_data)) / num_shots)\n",
    "\n",
    "plt.scatter(delay_times_sec/us, t1_values, color='black') \n",
    "plt.title(\"$T_1$ Experiment\", fontsize=15)\n",
    "plt.xlabel('Delay before measurement [$\\mu$s]', fontsize=15)\n",
    "plt.ylabel('Signal [a.u.]', fontsize=15)\n",
    "plt.show()"
   ]
  },
  {
   "cell_type": "code",
   "execution_count": 57,
   "id": "ed9a582a-0cbf-4075-a95d-45e69eb81ba5",
   "metadata": {},
   "outputs": [
    {
     "data": {
      "image/png": "[encoded data removed]",
      "text/plain": [
       "<Figure size 432x288 with 1 Axes>"
      ]
     },
     "metadata": {
      "needs_background": "light"
     },
     "output_type": "display_data"
    }
   ],
   "source": [
    "# Fit the data\n",
    "fit_params, y_fit = fit_function(delay_times_sec/us, t1_values, \n",
    "            lambda x, A, C, T1: (A * np.exp(-x / T1) + C),\n",
    "            [-3, 3, 100]\n",
    "            )\n",
    "\n",
    "_, _, T1 = fit_params\n",
    "\n",
    "plt.scatter(delay_times_sec/us, t1_values, color='black')\n",
    "plt.plot(delay_times_sec/us, y_fit, color='red', label=f\"T1 = {T1:.2f} us\")\n",
    "plt.xlim(0, np.max(delay_times_sec/us))\n",
    "plt.title(\"$T_1$ Experiment\", fontsize=15)\n",
    "plt.xlabel('Delay before measurement [$\\mu$s]', fontsize=15)\n",
    "plt.ylabel('Signal [a.u.]', fontsize=15)\n",
    "plt.legend()\n",
    "plt.show()"
   ]
  },
  {
   "cell_type": "code",
   "execution_count": 58,
   "id": "5c1f1516-8965-40ac-8aba-0c060870132a",
   "metadata": {},
   "outputs": [],
   "source": [
    "#Determining qubit Coherence"
   ]
  },
  {
   "cell_type": "code",
   "execution_count": 59,
   "id": "57fda703-5be8-4779-9ac7-fb3a3f4d1b7a",
   "metadata": {},
   "outputs": [],
   "source": [
    "#Measuring the qubit Frequency Precisely using a Ramsey Experiment"
   ]
  },
  {
   "cell_type": "code",
   "execution_count": 60,
   "id": "2d84fbd6-6820-4eab-9c93-3c130f7fcff1",
   "metadata": {},
   "outputs": [],
   "source": [
    "# Ramsey experiment parameters\n",
    "time_max_sec = 1.8 * us\n",
    "time_step_sec = 0.025 * us\n",
    "delay_times_sec = np.arange(0.1 * us, time_max_sec, time_step_sec)\n",
    "\n",
    "# Drive parameters\n",
    "# The drive amplitude for pi/2 is simply half the amplitude of the pi pulse\n",
    "drive_amp = pi_amp / 2\n",
    "\n",
    "# x_90 is a concise way to say pi_over_2; i.e., an X rotation of 90 degrees\n",
    "with pulse.build(backend) as x90_pulse:\n",
    "    drive_duration = get_closest_multiple_of_16(pulse.seconds_to_samples(drive_duration_sec))\n",
    "    drive_sigma = pulse.seconds_to_samples(drive_sigma_sec)\n",
    "    drive_chan = pulse.drive_channel(qubit)\n",
    "    pulse.play(pulse.Gaussian(duration=drive_duration,\n",
    "                              amp=drive_amp,\n",
    "                              sigma=drive_sigma,\n",
    "                              name='x90_pulse'), drive_chan)"
   ]
  },
  {
   "cell_type": "code",
   "execution_count": 61,
   "id": "b926ab6b-ebba-4981-ab0f-884ec2ef9345",
   "metadata": {},
   "outputs": [],
   "source": [
    "detuning_MHz = 2 \n",
    "ramsey_frequency = round(rough_qubit_frequency + detuning_MHz * MHz, 6) # need ramsey freq in Hz"
   ]
  },
  {
   "cell_type": "code",
   "execution_count": 62,
   "id": "01037065-28a0-4767-b0c4-af1ce48cae0a",
   "metadata": {},
   "outputs": [],
   "source": [
    "# create schedules for Ramsey experiment \n",
    "delay = Parameter('delay')\n",
    "with pulse.build(backend=backend, default_alignment='sequential', name=\"Ramsey delay Experiment\") as ramsey_schedule:\n",
    "    drive_chan = pulse.drive_channel(qubit)\n",
    "    pulse.set_frequency(ramsey_frequency, drive_chan)\n",
    "    pulse.call(x90_pulse)\n",
    "    pulse.delay(delay, drive_chan)\n",
    "    pulse.call(x90_pulse)"
   ]
  },
  {
   "cell_type": "code",
   "execution_count": 63,
   "id": "338981c5-4b41-4b01-b5b1-5098cd73c76a",
   "metadata": {},
   "outputs": [],
   "source": [
    "ramsey_gate = Gate(\"ramsey\", 1, [delay])\n",
    "\n",
    "qc_ramsey = QuantumCircuit(1, 1)\n",
    "\n",
    "qc_ramsey.append(ramsey_gate, [0])\n",
    "qc_ramsey.measure(0, 0)\n",
    "qc_ramsey.add_calibration(ramsey_gate, (0,), ramsey_schedule, [delay])\n",
    "\n",
    "exp_ramsey_circs = [qc_ramsey.assign_parameters({delay: get_dt_from(d)}, inplace=False) for d in delay_times_sec]"
   ]
  },
  {
   "cell_type": "code",
   "execution_count": 64,
   "id": "d2fc08f6-c4f5-49d4-b758-6ab21f56685a",
   "metadata": {},
   "outputs": [
    {
     "data": {
      "image/png": "[encoded data removed]",
      "text/plain": [
       "<Figure size 936x237.6 with 1 Axes>"
      ]
     },
     "execution_count": 64,
     "metadata": {},
     "output_type": "execute_result"
    }
   ],
   "source": [
    "ramsey_schedule = schedule(exp_ramsey_circs[2], backend)\n",
    "ramsey_schedule.draw(backend=backend)"
   ]
  },
  {
   "cell_type": "code",
   "execution_count": 65,
   "id": "f44af23e-0c18-4b69-bfbd-dcb6b9cd3020",
   "metadata": {},
   "outputs": [
    {
     "name": "stdout",
     "output_type": "stream",
     "text": [
      "Job Status: job has successfully run\n"
     ]
    }
   ],
   "source": [
    "# Execution settings\n",
    "num_shots = 256\n",
    "\n",
    "job = backend.run(exp_ramsey_circs, \n",
    "                  meas_level=1, \n",
    "                  meas_return='single', \n",
    "                  shots=num_shots)\n",
    "\n",
    "job_monitor(job)"
   ]
  },
  {
   "cell_type": "code",
   "execution_count": 66,
   "id": "eac48e11-e5eb-41de-aeaf-c393bc33810a",
   "metadata": {},
   "outputs": [],
   "source": [
    "ramsey_results = job.result(timeout=120)"
   ]
  },
  {
   "cell_type": "code",
   "execution_count": 67,
   "id": "43fc77c6-b521-4616-8f01-a9ef2e180d80",
   "metadata": {},
   "outputs": [
    {
     "data": {
      "image/png": "[encoded data removed]",
      "text/plain": [
       "<Figure size 432x288 with 1 Axes>"
      ]
     },
     "metadata": {
      "needs_background": "light"
     },
     "output_type": "display_data"
    }
   ],
   "source": [
    "ramsey_values = []\n",
    "\n",
    "for i in range(len(delay_times_sec)):\n",
    "    iq_data = ramsey_results.get_memory(i)[:,qubit] * scale_factor\n",
    "    ramsey_values.append(sum(map(classify, iq_data)) / num_shots)\n",
    "    \n",
    "plt.scatter(delay_times_sec/us, np.real(ramsey_values), color='black')\n",
    "plt.xlim(0, np.max(delay_times_sec/us))\n",
    "plt.title(\"Ramsey Experiment\", fontsize=15)\n",
    "plt.xlabel('Delay between X90 pulses [$\\mu$s]', fontsize=15)\n",
    "plt.ylabel('Measured Signal [a.u.]', fontsize=15)\n",
    "plt.show()"
   ]
  },
  {
   "cell_type": "code",
   "execution_count": 68,
   "id": "5799fd28-05ed-4f54-b7d6-9fad86dcd7cb",
   "metadata": {},
   "outputs": [
    {
     "data": {
      "image/png": "[encoded data removed]",
      "text/plain": [
       "<Figure size 432x288 with 1 Axes>"
      ]
     },
     "metadata": {
      "needs_background": "light"
     },
     "output_type": "display_data"
    }
   ],
   "source": [
    "fit_params, y_fit = fit_function(delay_times_sec/us, np.real(ramsey_values),\n",
    "                                 lambda x, A, del_f_MHz, C, B: (\n",
    "                                          A * np.cos(2*np.pi*del_f_MHz*x - C) + B\n",
    "                                         ),\n",
    "                                 [1, 4, 0, 0.3]\n",
    "                                )\n",
    "\n",
    "# Off-resonance component\n",
    "_, del_f_MHz, _, _, = fit_params # freq is MHz since times in us\n",
    "\n",
    "plt.scatter(delay_times_sec/us, np.real(ramsey_values), color='black')\n",
    "plt.plot(delay_times_sec/us, y_fit, color='red', label=f\"df = {del_f_MHz:.2f} MHz\")\n",
    "plt.xlim(0, np.max(delay_times_sec/us))\n",
    "plt.xlabel('Delay between X90 pulses [$\\mu$s]', fontsize=15)\n",
    "plt.ylabel('Measured Signal [a.u.]', fontsize=15)\n",
    "plt.title('Ramsey Experiment', fontsize=15)\n",
    "plt.legend()\n",
    "plt.show()"
   ]
  },
  {
   "cell_type": "code",
   "execution_count": 69,
   "id": "28c643e9-4e05-47da-a050-69e5dacad0ce",
   "metadata": {},
   "outputs": [],
   "source": [
    "# Aquí probamos lo que nos dijo de hacerlo cerca de 4microseg que era donde se prdoudcía la caída, con saltos de 25ns"
   ]
  },
  {
   "cell_type": "code",
   "execution_count": 70,
   "id": "0da18b52-046d-4557-9e88-7969728d8779",
   "metadata": {},
   "outputs": [
    {
     "name": "stdout",
     "output_type": "stream",
     "text": [
      "Job Status: job has successfully run\n"
     ]
    },
    {
     "data": {
      "image/png": "[encoded data removed]",
      "text/plain": [
       "<Figure size 432x288 with 1 Axes>"
      ]
     },
     "metadata": {
      "needs_background": "light"
     },
     "output_type": "display_data"
    }
   ],
   "source": [
    "# Ramsey experiment parameters\n",
    "time_max_sec = 2.4 * us\n",
    "time_step_sec = 0.025 * us\n",
    "delay_times_sec = np.arange(0 * us, time_max_sec, time_step_sec)\n",
    "\n",
    "# Drive parameters\n",
    "# The drive amplitude for pi/2 is simply half the amplitude of the pi pulse\n",
    "drive_amp = pi_amp / 2\n",
    "\n",
    "# x_90 is a concise way to say pi_over_2; i.e., an X rotation of 90 degrees\n",
    "with pulse.build(backend) as x90_pulse:\n",
    "    drive_duration = get_closest_multiple_of_16(pulse.seconds_to_samples(drive_duration_sec))\n",
    "    drive_sigma = pulse.seconds_to_samples(drive_sigma_sec)\n",
    "    drive_chan = pulse.drive_channel(qubit)\n",
    "    pulse.play(pulse.Gaussian(duration=drive_duration,\n",
    "                              amp=drive_amp,\n",
    "                              sigma=drive_sigma,\n",
    "                              name='x90_pulse'), drive_chan)\n",
    "\n",
    "##\n",
    "\n",
    "detuning_MHz = 2 \n",
    "ramsey_frequency = round(rough_qubit_frequency + detuning_MHz * MHz, 6) # need ramsey freq in Hz\n",
    "\n",
    "##\n",
    "\n",
    "# create schedules for Ramsey experiment \n",
    "delay = Parameter('delay')\n",
    "with pulse.build(backend=backend, default_alignment='sequential', name=\"Ramsey delay Experiment\") as ramsey_schedule:\n",
    "    drive_chan = pulse.drive_channel(qubit)\n",
    "    pulse.set_frequency(ramsey_frequency, drive_chan)\n",
    "    pulse.call(x90_pulse)\n",
    "    pulse.delay(delay, drive_chan)\n",
    "    pulse.call(x90_pulse)\n",
    "\n",
    "##\n",
    "\n",
    "ramsey_gate = Gate(\"ramsey\", 1, [delay])\n",
    "\n",
    "qc_ramsey = QuantumCircuit(1, 1)\n",
    "\n",
    "qc_ramsey.append(ramsey_gate, [0])\n",
    "qc_ramsey.measure(0, 0)\n",
    "qc_ramsey.add_calibration(ramsey_gate, (0,), ramsey_schedule, [delay])\n",
    "\n",
    "exp_ramsey_circs = [qc_ramsey.assign_parameters({delay: get_dt_from(d)}, inplace=False) for d in delay_times_sec]\n",
    "\n",
    "##\n",
    "\n",
    "ramsey_schedule = schedule(exp_ramsey_circs[2], backend)\n",
    "ramsey_schedule.draw(backend=backend)\n",
    "\n",
    "##\n",
    "\n",
    "# Execution settings\n",
    "num_shots = 256\n",
    "\n",
    "job = backend.run(exp_ramsey_circs, \n",
    "                  meas_level=1, \n",
    "                  meas_return='single', \n",
    "                  shots=num_shots)\n",
    "\n",
    "job_monitor(job)\n",
    "\n",
    "##\n",
    "\n",
    "ramsey_results = job.result(timeout=120)\n",
    "\n",
    "##\n",
    "\n",
    "ramsey_values = []\n",
    "\n",
    "for i in range(len(delay_times_sec)):\n",
    "    iq_data = ramsey_results.get_memory(i)[:,qubit] * scale_factor\n",
    "    ramsey_values.append(sum(map(classify, iq_data)) / num_shots)\n",
    "    \n",
    "plt.scatter(delay_times_sec/us, np.real(ramsey_values), color='black')\n",
    "plt.xlim(0, np.max(delay_times_sec/us))\n",
    "plt.title(\"Ramsey Experiment\", fontsize=15)\n",
    "plt.xlabel('Delay between X90 pulses [$\\mu$s]', fontsize=15)\n",
    "plt.ylabel('Measured Signal [a.u.]', fontsize=15)\n",
    "plt.show()"
   ]
  },
  {
   "cell_type": "code",
   "execution_count": 71,
   "id": "6f0d5e7e-b344-4d14-9ae6-a2671c573457",
   "metadata": {},
   "outputs": [
    {
     "name": "stdout",
     "output_type": "stream",
     "text": [
      "Job Status: job has successfully run\n"
     ]
    },
    {
     "data": {
      "image/png": "[encoded data removed]",
      "text/plain": [
       "<Figure size 432x288 with 1 Axes>"
      ]
     },
     "metadata": {
      "needs_background": "light"
     },
     "output_type": "display_data"
    }
   ],
   "source": [
    "# Ramsey experiment parameters\n",
    "time_max_sec = 4.8 * us\n",
    "time_step_sec = 0.025 * us\n",
    "delay_times_sec = np.arange(2.4 * us, time_max_sec, time_step_sec)\n",
    "\n",
    "# Drive parameters\n",
    "# The drive amplitude for pi/2 is simply half the amplitude of the pi pulse\n",
    "drive_amp = pi_amp / 2\n",
    "\n",
    "# x_90 is a concise way to say pi_over_2; i.e., an X rotation of 90 degrees\n",
    "with pulse.build(backend) as x90_pulse:\n",
    "    drive_duration = get_closest_multiple_of_16(pulse.seconds_to_samples(drive_duration_sec))\n",
    "    drive_sigma = pulse.seconds_to_samples(drive_sigma_sec)\n",
    "    drive_chan = pulse.drive_channel(qubit)\n",
    "    pulse.play(pulse.Gaussian(duration=drive_duration,\n",
    "                              amp=drive_amp,\n",
    "                              sigma=drive_sigma,\n",
    "                              name='x90_pulse'), drive_chan)\n",
    "\n",
    "##\n",
    "\n",
    "detuning_MHz = 2 \n",
    "ramsey_frequency = round(rough_qubit_frequency + detuning_MHz * MHz, 6) # need ramsey freq in Hz\n",
    "\n",
    "##\n",
    "\n",
    "# create schedules for Ramsey experiment \n",
    "delay = Parameter('delay')\n",
    "with pulse.build(backend=backend, default_alignment='sequential', name=\"Ramsey delay Experiment\") as ramsey_schedule:\n",
    "    drive_chan = pulse.drive_channel(qubit)\n",
    "    pulse.set_frequency(ramsey_frequency, drive_chan)\n",
    "    pulse.call(x90_pulse)\n",
    "    pulse.delay(delay, drive_chan)\n",
    "    pulse.call(x90_pulse)\n",
    "\n",
    "##\n",
    "\n",
    "ramsey_gate = Gate(\"ramsey\", 1, [delay])\n",
    "\n",
    "qc_ramsey = QuantumCircuit(1, 1)\n",
    "\n",
    "qc_ramsey.append(ramsey_gate, [0])\n",
    "qc_ramsey.measure(0, 0)\n",
    "qc_ramsey.add_calibration(ramsey_gate, (0,), ramsey_schedule, [delay])\n",
    "\n",
    "exp_ramsey_circs = [qc_ramsey.assign_parameters({delay: get_dt_from(d)}, inplace=False) for d in delay_times_sec]\n",
    "\n",
    "##\n",
    "\n",
    "ramsey_schedule = schedule(exp_ramsey_circs[2], backend)\n",
    "ramsey_schedule.draw(backend=backend)\n",
    "\n",
    "##\n",
    "\n",
    "# Execution settings\n",
    "num_shots = 256\n",
    "\n",
    "job = backend.run(exp_ramsey_circs, \n",
    "                  meas_level=1, \n",
    "                  meas_return='single', \n",
    "                  shots=num_shots)\n",
    "\n",
    "job_monitor(job)\n",
    "\n",
    "##\n",
    "\n",
    "ramsey_results = job.result(timeout=120)\n",
    "\n",
    "##\n",
    "\n",
    "ramsey_values = []\n",
    "\n",
    "for i in range(len(delay_times_sec)):\n",
    "    iq_data = ramsey_results.get_memory(i)[:,qubit] * scale_factor\n",
    "    ramsey_values.append(sum(map(classify, iq_data)) / num_shots)\n",
    "    \n",
    "plt.scatter(delay_times_sec/us, np.real(ramsey_values), color='black')\n",
    "plt.xlim(0, np.max(delay_times_sec/us))\n",
    "plt.title(\"Ramsey Experiment\", fontsize=15)\n",
    "plt.xlabel('Delay between X90 pulses [$\\mu$s]', fontsize=15)\n",
    "plt.ylabel('Measured Signal [a.u.]', fontsize=15)\n",
    "plt.show()"
   ]
  },
  {
   "cell_type": "code",
   "execution_count": 72,
   "id": "b0ce338d-0559-4474-84f4-783058cc5c80",
   "metadata": {},
   "outputs": [
    {
     "name": "stdout",
     "output_type": "stream",
     "text": [
      "Job Status: job has successfully run\n"
     ]
    },
    {
     "data": {
      "image/png": "[encoded data removed]",
      "text/plain": [
       "<Figure size 432x288 with 1 Axes>"
      ]
     },
     "metadata": {
      "needs_background": "light"
     },
     "output_type": "display_data"
    }
   ],
   "source": [
    "# Ramsey experiment parameters\n",
    "time_max_sec = 7.2 * us\n",
    "time_step_sec = 0.025 * us\n",
    "delay_times_sec = np.arange(4.8 * us, time_max_sec, time_step_sec)\n",
    "\n",
    "# Drive parameters\n",
    "# The drive amplitude for pi/2 is simply half the amplitude of the pi pulse\n",
    "drive_amp = pi_amp / 2\n",
    "\n",
    "# x_90 is a concise way to say pi_over_2; i.e., an X rotation of 90 degrees\n",
    "with pulse.build(backend) as x90_pulse:\n",
    "    drive_duration = get_closest_multiple_of_16(pulse.seconds_to_samples(drive_duration_sec))\n",
    "    drive_sigma = pulse.seconds_to_samples(drive_sigma_sec)\n",
    "    drive_chan = pulse.drive_channel(qubit)\n",
    "    pulse.play(pulse.Gaussian(duration=drive_duration,\n",
    "                              amp=drive_amp,\n",
    "                              sigma=drive_sigma,\n",
    "                              name='x90_pulse'), drive_chan)\n",
    "\n",
    "##\n",
    "\n",
    "detuning_MHz = 2 \n",
    "ramsey_frequency = round(rough_qubit_frequency + detuning_MHz * MHz, 6) # need ramsey freq in Hz\n",
    "\n",
    "##\n",
    "\n",
    "# create schedules for Ramsey experiment \n",
    "delay = Parameter('delay')\n",
    "with pulse.build(backend=backend, default_alignment='sequential', name=\"Ramsey delay Experiment\") as ramsey_schedule:\n",
    "    drive_chan = pulse.drive_channel(qubit)\n",
    "    pulse.set_frequency(ramsey_frequency, drive_chan)\n",
    "    pulse.call(x90_pulse)\n",
    "    pulse.delay(delay, drive_chan)\n",
    "    pulse.call(x90_pulse)\n",
    "\n",
    "##\n",
    "\n",
    "ramsey_gate = Gate(\"ramsey\", 1, [delay])\n",
    "\n",
    "qc_ramsey = QuantumCircuit(1, 1)\n",
    "\n",
    "qc_ramsey.append(ramsey_gate, [0])\n",
    "qc_ramsey.measure(0, 0)\n",
    "qc_ramsey.add_calibration(ramsey_gate, (0,), ramsey_schedule, [delay])\n",
    "\n",
    "exp_ramsey_circs = [qc_ramsey.assign_parameters({delay: get_dt_from(d)}, inplace=False) for d in delay_times_sec]\n",
    "\n",
    "##\n",
    "\n",
    "ramsey_schedule = schedule(exp_ramsey_circs[2], backend)\n",
    "ramsey_schedule.draw(backend=backend)\n",
    "\n",
    "##\n",
    "\n",
    "# Execution settings\n",
    "num_shots = 256\n",
    "\n",
    "job = backend.run(exp_ramsey_circs, \n",
    "                  meas_level=1, \n",
    "                  meas_return='single', \n",
    "                  shots=num_shots)\n",
    "\n",
    "job_monitor(job)\n",
    "\n",
    "##\n",
    "\n",
    "ramsey_results = job.result(timeout=120)\n",
    "\n",
    "##\n",
    "\n",
    "ramsey_values = []\n",
    "\n",
    "for i in range(len(delay_times_sec)):\n",
    "    iq_data = ramsey_results.get_memory(i)[:,qubit] * scale_factor\n",
    "    ramsey_values.append(sum(map(classify, iq_data)) / num_shots)\n",
    "    \n",
    "plt.scatter(delay_times_sec/us, np.real(ramsey_values), color='black')\n",
    "plt.xlim(0, np.max(delay_times_sec/us))\n",
    "plt.title(\"Ramsey Experiment\", fontsize=15)\n",
    "plt.xlabel('Delay between X90 pulses [$\\mu$s]', fontsize=15)\n",
    "plt.ylabel('Measured Signal [a.u.]', fontsize=15)\n",
    "plt.show()"
   ]
  },
  {
   "cell_type": "code",
   "execution_count": 73,
   "id": "72a0ad64-a32b-4588-aafd-1dbeb2225ea3",
   "metadata": {},
   "outputs": [
    {
     "name": "stdout",
     "output_type": "stream",
     "text": [
      "Job Status: job has successfully run\n"
     ]
    },
    {
     "data": {
      "image/png": "[encoded data removed]",
      "text/plain": [
       "<Figure size 432x288 with 1 Axes>"
      ]
     },
     "metadata": {
      "needs_background": "light"
     },
     "output_type": "display_data"
    }
   ],
   "source": [
    "# Ramsey experiment parameters\n",
    "time_max_sec = 9.6 * us\n",
    "time_step_sec = 0.025 * us\n",
    "delay_times_sec = np.arange(7.2 * us, time_max_sec, time_step_sec)\n",
    "\n",
    "# Drive parameters\n",
    "# The drive amplitude for pi/2 is simply half the amplitude of the pi pulse\n",
    "drive_amp = pi_amp / 2\n",
    "\n",
    "# x_90 is a concise way to say pi_over_2; i.e., an X rotation of 90 degrees\n",
    "with pulse.build(backend) as x90_pulse:\n",
    "    drive_duration = get_closest_multiple_of_16(pulse.seconds_to_samples(drive_duration_sec))\n",
    "    drive_sigma = pulse.seconds_to_samples(drive_sigma_sec)\n",
    "    drive_chan = pulse.drive_channel(qubit)\n",
    "    pulse.play(pulse.Gaussian(duration=drive_duration,\n",
    "                              amp=drive_amp,\n",
    "                              sigma=drive_sigma,\n",
    "                              name='x90_pulse'), drive_chan)\n",
    "\n",
    "##\n",
    "\n",
    "detuning_MHz = 2 \n",
    "ramsey_frequency = round(rough_qubit_frequency + detuning_MHz * MHz, 6) # need ramsey freq in Hz\n",
    "\n",
    "##\n",
    "\n",
    "# create schedules for Ramsey experiment \n",
    "delay = Parameter('delay')\n",
    "with pulse.build(backend=backend, default_alignment='sequential', name=\"Ramsey delay Experiment\") as ramsey_schedule:\n",
    "    drive_chan = pulse.drive_channel(qubit)\n",
    "    pulse.set_frequency(ramsey_frequency, drive_chan)\n",
    "    pulse.call(x90_pulse)\n",
    "    pulse.delay(delay, drive_chan)\n",
    "    pulse.call(x90_pulse)\n",
    "\n",
    "##\n",
    "\n",
    "ramsey_gate = Gate(\"ramsey\", 1, [delay])\n",
    "\n",
    "qc_ramsey = QuantumCircuit(1, 1)\n",
    "\n",
    "qc_ramsey.append(ramsey_gate, [0])\n",
    "qc_ramsey.measure(0, 0)\n",
    "qc_ramsey.add_calibration(ramsey_gate, (0,), ramsey_schedule, [delay])\n",
    "\n",
    "exp_ramsey_circs = [qc_ramsey.assign_parameters({delay: get_dt_from(d)}, inplace=False) for d in delay_times_sec]\n",
    "\n",
    "##\n",
    "\n",
    "ramsey_schedule = schedule(exp_ramsey_circs[2], backend)\n",
    "ramsey_schedule.draw(backend=backend)\n",
    "\n",
    "##\n",
    "\n",
    "# Execution settings\n",
    "num_shots = 256\n",
    "\n",
    "job = backend.run(exp_ramsey_circs, \n",
    "                  meas_level=1, \n",
    "                  meas_return='single', \n",
    "                  shots=num_shots)\n",
    "\n",
    "job_monitor(job)\n",
    "\n",
    "##\n",
    "\n",
    "ramsey_results = job.result(timeout=120)\n",
    "\n",
    "##\n",
    "\n",
    "ramsey_values = []\n",
    "\n",
    "for i in range(len(delay_times_sec)):\n",
    "    iq_data = ramsey_results.get_memory(i)[:,qubit] * scale_factor\n",
    "    ramsey_values.append(sum(map(classify, iq_data)) / num_shots)\n",
    "    \n",
    "plt.scatter(delay_times_sec/us, np.real(ramsey_values), color='black')\n",
    "plt.xlim(0, np.max(delay_times_sec/us))\n",
    "plt.title(\"Ramsey Experiment\", fontsize=15)\n",
    "plt.xlabel('Delay between X90 pulses [$\\mu$s]', fontsize=15)\n",
    "plt.ylabel('Measured Signal [a.u.]', fontsize=15)\n",
    "plt.show()"
   ]
  },
  {
   "cell_type": "code",
   "execution_count": 74,
   "id": "d3b3c471-5910-4887-811d-7b395468a89f",
   "metadata": {},
   "outputs": [
    {
     "name": "stdout",
     "output_type": "stream",
     "text": [
      "Job Status: job has successfully run\n"
     ]
    },
    {
     "data": {
      "image/png": "[encoded data removed]",
      "text/plain": [
       "<Figure size 432x288 with 1 Axes>"
      ]
     },
     "metadata": {
      "needs_background": "light"
     },
     "output_type": "display_data"
    }
   ],
   "source": [
    "# Ramsey experiment parameters\n",
    "time_max_sec = 12 * us\n",
    "time_step_sec = 0.025 * us\n",
    "delay_times_sec = np.arange(9.6 * us, time_max_sec, time_step_sec)\n",
    "\n",
    "# Drive parameters\n",
    "# The drive amplitude for pi/2 is simply half the amplitude of the pi pulse\n",
    "drive_amp = pi_amp / 2\n",
    "\n",
    "# x_90 is a concise way to say pi_over_2; i.e., an X rotation of 90 degrees\n",
    "with pulse.build(backend) as x90_pulse:\n",
    "    drive_duration = get_closest_multiple_of_16(pulse.seconds_to_samples(drive_duration_sec))\n",
    "    drive_sigma = pulse.seconds_to_samples(drive_sigma_sec)\n",
    "    drive_chan = pulse.drive_channel(qubit)\n",
    "    pulse.play(pulse.Gaussian(duration=drive_duration,\n",
    "                              amp=drive_amp,\n",
    "                              sigma=drive_sigma,\n",
    "                              name='x90_pulse'), drive_chan)\n",
    "\n",
    "##\n",
    "\n",
    "detuning_MHz = 2 \n",
    "ramsey_frequency = round(rough_qubit_frequency + detuning_MHz * MHz, 6) # need ramsey freq in Hz\n",
    "\n",
    "##\n",
    "\n",
    "# create schedules for Ramsey experiment \n",
    "delay = Parameter('delay')\n",
    "with pulse.build(backend=backend, default_alignment='sequential', name=\"Ramsey delay Experiment\") as ramsey_schedule:\n",
    "    drive_chan = pulse.drive_channel(qubit)\n",
    "    pulse.set_frequency(ramsey_frequency, drive_chan)\n",
    "    pulse.call(x90_pulse)\n",
    "    pulse.delay(delay, drive_chan)\n",
    "    pulse.call(x90_pulse)\n",
    "\n",
    "##\n",
    "\n",
    "ramsey_gate = Gate(\"ramsey\", 1, [delay])\n",
    "\n",
    "qc_ramsey = QuantumCircuit(1, 1)\n",
    "\n",
    "qc_ramsey.append(ramsey_gate, [0])\n",
    "qc_ramsey.measure(0, 0)\n",
    "qc_ramsey.add_calibration(ramsey_gate, (0,), ramsey_schedule, [delay])\n",
    "\n",
    "exp_ramsey_circs = [qc_ramsey.assign_parameters({delay: get_dt_from(d)}, inplace=False) for d in delay_times_sec]\n",
    "\n",
    "##\n",
    "\n",
    "ramsey_schedule = schedule(exp_ramsey_circs[2], backend)\n",
    "ramsey_schedule.draw(backend=backend)\n",
    "\n",
    "##\n",
    "\n",
    "# Execution settings\n",
    "num_shots = 256\n",
    "\n",
    "job = backend.run(exp_ramsey_circs, \n",
    "                  meas_level=1, \n",
    "                  meas_return='single', \n",
    "                  shots=num_shots)\n",
    "\n",
    "job_monitor(job)\n",
    "\n",
    "##\n",
    "\n",
    "ramsey_results = job.result(timeout=120)\n",
    "\n",
    "##\n",
    "\n",
    "ramsey_values = []\n",
    "\n",
    "for i in range(len(delay_times_sec)):\n",
    "    iq_data = ramsey_results.get_memory(i)[:,qubit] * scale_factor\n",
    "    ramsey_values.append(sum(map(classify, iq_data)) / num_shots)\n",
    "    \n",
    "plt.scatter(delay_times_sec/us, np.real(ramsey_values), color='black')\n",
    "plt.xlim(0, np.max(delay_times_sec/us))\n",
    "plt.title(\"Ramsey Experiment\", fontsize=15)\n",
    "plt.xlabel('Delay between X90 pulses [$\\mu$s]', fontsize=15)\n",
    "plt.ylabel('Measured Signal [a.u.]', fontsize=15)\n",
    "plt.show()"
   ]
  },
  {
   "cell_type": "code",
   "execution_count": 75,
   "id": "6d2d3056-6706-41aa-8f7a-f14613342a33",
   "metadata": {},
   "outputs": [
    {
     "name": "stdout",
     "output_type": "stream",
     "text": [
      "Job Status: job has successfully run\n"
     ]
    },
    {
     "data": {
      "image/png": "[encoded data removed]",
      "text/plain": [
       "<Figure size 432x288 with 1 Axes>"
      ]
     },
     "metadata": {
      "needs_background": "light"
     },
     "output_type": "display_data"
    }
   ],
   "source": [
    "# Ramsey experiment parameters\n",
    "time_max_sec = 14.4 * us\n",
    "time_step_sec = 0.025 * us\n",
    "delay_times_sec = np.arange(12 * us, time_max_sec, time_step_sec)\n",
    "\n",
    "# Drive parameters\n",
    "# The drive amplitude for pi/2 is simply half the amplitude of the pi pulse\n",
    "drive_amp = pi_amp / 2\n",
    "\n",
    "# x_90 is a concise way to say pi_over_2; i.e., an X rotation of 90 degrees\n",
    "with pulse.build(backend) as x90_pulse:\n",
    "    drive_duration = get_closest_multiple_of_16(pulse.seconds_to_samples(drive_duration_sec))\n",
    "    drive_sigma = pulse.seconds_to_samples(drive_sigma_sec)\n",
    "    drive_chan = pulse.drive_channel(qubit)\n",
    "    pulse.play(pulse.Gaussian(duration=drive_duration,\n",
    "                              amp=drive_amp,\n",
    "                              sigma=drive_sigma,\n",
    "                              name='x90_pulse'), drive_chan)\n",
    "\n",
    "##\n",
    "\n",
    "detuning_MHz = 2 \n",
    "ramsey_frequency = round(rough_qubit_frequency + detuning_MHz * MHz, 6) # need ramsey freq in Hz\n",
    "\n",
    "##\n",
    "\n",
    "# create schedules for Ramsey experiment \n",
    "delay = Parameter('delay')\n",
    "with pulse.build(backend=backend, default_alignment='sequential', name=\"Ramsey delay Experiment\") as ramsey_schedule:\n",
    "    drive_chan = pulse.drive_channel(qubit)\n",
    "    pulse.set_frequency(ramsey_frequency, drive_chan)\n",
    "    pulse.call(x90_pulse)\n",
    "    pulse.delay(delay, drive_chan)\n",
    "    pulse.call(x90_pulse)\n",
    "\n",
    "##\n",
    "\n",
    "ramsey_gate = Gate(\"ramsey\", 1, [delay])\n",
    "\n",
    "qc_ramsey = QuantumCircuit(1, 1)\n",
    "\n",
    "qc_ramsey.append(ramsey_gate, [0])\n",
    "qc_ramsey.measure(0, 0)\n",
    "qc_ramsey.add_calibration(ramsey_gate, (0,), ramsey_schedule, [delay])\n",
    "\n",
    "exp_ramsey_circs = [qc_ramsey.assign_parameters({delay: get_dt_from(d)}, inplace=False) for d in delay_times_sec]\n",
    "\n",
    "##\n",
    "\n",
    "ramsey_schedule = schedule(exp_ramsey_circs[2], backend)\n",
    "ramsey_schedule.draw(backend=backend)\n",
    "\n",
    "##\n",
    "\n",
    "# Execution settings\n",
    "num_shots = 256\n",
    "\n",
    "job = backend.run(exp_ramsey_circs, \n",
    "                  meas_level=1, \n",
    "                  meas_return='single', \n",
    "                  shots=num_shots)\n",
    "\n",
    "job_monitor(job)\n",
    "\n",
    "##\n",
    "\n",
    "ramsey_results = job.result(timeout=120)\n",
    "\n",
    "##\n",
    "\n",
    "ramsey_values = []\n",
    "\n",
    "for i in range(len(delay_times_sec)):\n",
    "    iq_data = ramsey_results.get_memory(i)[:,qubit] * scale_factor\n",
    "    ramsey_values.append(sum(map(classify, iq_data)) / num_shots)\n",
    "    \n",
    "plt.scatter(delay_times_sec/us, np.real(ramsey_values), color='black')\n",
    "plt.xlim(0, np.max(delay_times_sec/us))\n",
    "plt.title(\"Ramsey Experiment\", fontsize=15)\n",
    "plt.xlabel('Delay between X90 pulses [$\\mu$s]', fontsize=15)\n",
    "plt.ylabel('Measured Signal [a.u.]', fontsize=15)\n",
    "plt.show()"
   ]
  },
  {
   "cell_type": "code",
   "execution_count": null,
   "id": "b0d09b1b-09eb-4c4b-bc2a-d1ef48662e66",
   "metadata": {},
   "outputs": [],
   "source": []
  },
  {
   "cell_type": "code",
   "execution_count": null,
   "id": "0d2b38de-057e-4f96-bc2f-3735dc48eb01",
   "metadata": {},
   "outputs": [],
   "source": []
  },
  {
   "cell_type": "code",
   "execution_count": null,
   "id": "aa33eac4-416e-4be5-a409-95eec61753e1",
   "metadata": {},
   "outputs": [],
   "source": []
  },
  {
   "cell_type": "code",
   "execution_count": null,
   "id": "f118d739-b017-425c-8a0e-8844d7e8e0be",
   "metadata": {},
   "outputs": [],
   "source": []
  },
  {
   "cell_type": "code",
   "execution_count": null,
   "id": "638b03fc-d0f8-45bc-b3f7-6db6bee03922",
   "metadata": {},
   "outputs": [],
   "source": []
  },
  {
   "cell_type": "code",
   "execution_count": null,
   "id": "66616b8f-ce4c-4ae6-a704-5286b2de76a9",
   "metadata": {},
   "outputs": [],
   "source": []
  },
  {
   "cell_type": "code",
   "execution_count": null,
   "id": "2486eb3a-c9ac-4995-807d-872c9e57870f",
   "metadata": {},
   "outputs": [],
   "source": []
  },
  {
   "cell_type": "code",
   "execution_count": null,
   "id": "05d0c8fc-8a5e-4f8d-ae22-60b4fa9b13fb",
   "metadata": {},
   "outputs": [],
   "source": []
  }
 ],
 "metadata": {
  "kernelspec": {
   "display_name": "Python 3 (ipykernel)",
   "language": "python",
   "name": "python3"
  },
  "language_info": {
   "codemirror_mode": {
    "name": "ipython",
    "version": 3
   },
   "file_extension": ".py",
   "mimetype": "text/x-python",
   "name": "python",
   "nbconvert_exporter": "python",
   "pygments_lexer": "ipython3",
   "version": "3.8.13"
  },
  "widgets": {
   "application/vnd.jupyter.widget-state+json": {
    "state": {
     "00673aa1952c48e0b093a742a1c72deb": {
      "model_module": "@jupyter-widgets/base",
      "model_module_version": "1.2.0",
      "model_name": "LayoutModel",
      "state": {
       "overflow_x": "scroll"
      }
     },
     "008a05f4c88c49ffa7771ed3ec400b53": {
      "model_module": "@jupyter-widgets/base",
      "model_module_version": "1.2.0",
      "model_name": "LayoutModel",
      "state": {
       "width": "145px"
      }
     },
     "01e903689359417da6dd30b46328784a": {
      "model_module": "@jupyter-widgets/controls",
      "model_module_version": "1.5.0",
      "model_name": "ButtonModel",
      "state": {
       "icon": "close",
       "layout": "IPY_MODEL_767568ce556f471db354bb8f6dcccf31",
       "style": "IPY_MODEL_7fe489e7124d4b04b285e2bb954d046e"
      }
     },
     "05279d364e0d4e1ea2013a97bba99bc5": {
      "model_module": "@jupyter-widgets/controls",
      "model_module_version": "1.5.0",
      "model_name": "DescriptionStyleModel",
      "state": {
       "description_width": ""
      }
     },
     "05aa3f4d423041ba8f737684ffb26667": {
      "model_module": "@jupyter-widgets/controls",
      "model_module_version": "1.5.0",
      "model_name": "HBoxModel",
      "state": {
       "children": [
        "IPY_MODEL_dfe56b9c78ef41b18a218e022c47dae6",
        "IPY_MODEL_fea1bb2484874fa18d2155d0e92080fd",
        "IPY_MODEL_f5f8fbf1f7c94f0596699f9115383395",
        "IPY_MODEL_95b41c8c4673450b8781b556b9ccc36e",
        "IPY_MODEL_55ff06b34d87469d90c65483df6bcbfc",
        "IPY_MODEL_2bca9612a7aa47d88125d920d1e6e56b"
       ],
       "layout": "IPY_MODEL_ca3cc3421ada4b84bc5770d37ce40588"
      }
     },
     "063cb6ba438146c1a0c0a6bd6f1f4449": {
      "model_module": "@jupyter-widgets/base",
      "model_module_version": "1.2.0",
      "model_name": "LayoutModel",
      "state": {
       "width": "70px"
      }
     },
     "067894e4cec549f58eb75f604579d284": {
      "model_module": "@jupyter-widgets/base",
      "model_module_version": "1.2.0",
      "model_name": "LayoutModel",
      "state": {
       "overflow_x": "scroll"
      }
     },
     "073737f0461c4efcbec40f80106227a1": {
      "model_module": "@jupyter-widgets/base",
      "model_module_version": "1.2.0",
      "model_name": "LayoutModel",
      "state": {
       "overflow_x": "scroll"
      }
     },
     "07cba8f3286345a6b04dd85ec9f5f7a5": {
      "model_module": "@jupyter-widgets/controls",
      "model_module_version": "1.5.0",
      "model_name": "HTMLModel",
      "state": {
       "layout": "IPY_MODEL_59145f19a93a48848ee56b9fae4bad5f",
       "style": "IPY_MODEL_43097c9805294ec39918afe1cb710dad",
       "value": "<font style='color:#34BC6E'>DONE</font>"
      }
     },
     "087ef1b3c67144e2aaf22f6aee5fcd9b": {
      "model_module": "@jupyter-widgets/controls",
      "model_module_version": "1.5.0",
      "model_name": "HTMLModel",
      "state": {
       "layout": "IPY_MODEL_133c29af7bbf4585a06f8ae44f9f5a0e",
       "style": "IPY_MODEL_f552e8cd6643461ab99af10f909413ed",
       "value": "ibmq_manila"
      }
     },
     "0947d5faa7c84266913675db22464f11": {
      "model_module": "@jupyter-widgets/controls",
      "model_module_version": "1.5.0",
      "model_name": "HTMLModel",
      "state": {
       "layout": "IPY_MODEL_f5f1b8c314b24ab98cb0db9fb84c705a",
       "style": "IPY_MODEL_fbd7201b59ec4e009834860d958268ef",
       "value": "<p style='font-family: IBM Plex Sans, Arial, Helvetica, sans-serif; font-size: 20px; font-weight: medium;'>Circuit Properties</p>"
      }
     },
     "0960b176e5cc40a8a6757fa8c386beb6": {
      "model_module": "@jupyter-widgets/controls",
      "model_module_version": "1.5.0",
      "model_name": "HTMLModel",
      "state": {
       "layout": "IPY_MODEL_dfb5fc2eeca3423c9cf6c4b1aaea4cfa",
       "style": "IPY_MODEL_cb2f54a37e6243f49a32270da46fd28b",
       "value": "62e5a34537e42faed7aebc0b"
      }
     },
     "09f0f19e5b644a208b5d47e316047ed1": {
      "model_module": "@jupyter-widgets/controls",
      "model_module_version": "1.5.0",
      "model_name": "ButtonStyleModel",
      "state": {
       "button_color": "white"
      }
     },
     "0b0afee4ef86469ba4f2b8a44876e475": {
      "model_module": "@jupyter-widgets/base",
      "model_module_version": "1.2.0",
      "model_name": "LayoutModel",
      "state": {
       "max_width": "700px",
       "min_width": "700px"
      }
     },
     "0c43723f7a374e098a836606509bf85b": {
      "model_module": "@jupyter-widgets/controls",
      "model_module_version": "1.5.0",
      "model_name": "DescriptionStyleModel",
      "state": {
       "description_width": ""
      }
     },
     "0c648e46ac5349678fe5ed8ff2bfb586": {
      "model_module": "@jupyter-widgets/controls",
      "model_module_version": "1.5.0",
      "model_name": "HTMLModel",
      "state": {
       "layout": "IPY_MODEL_ee84b6e92e834151b171e994e9ad87bd",
       "style": "IPY_MODEL_5e047c03198f46b6b4e9969ea7078d93",
       "value": "-"
      }
     },
     "0e1c61de94da4630be15b15db24c9f10": {
      "model_module": "@jupyter-widgets/controls",
      "model_module_version": "1.5.0",
      "model_name": "DescriptionStyleModel",
      "state": {
       "description_width": ""
      }
     },
     "0e3a219e2caa47f88a4d131191a738b5": {
      "model_module": "@jupyter-widgets/controls",
      "model_module_version": "1.5.0",
      "model_name": "ButtonStyleModel",
      "state": {
       "button_color": "white"
      }
     },
     "107db5a2478d43f5887084399d3af4e9": {
      "model_module": "@jupyter-widgets/controls",
      "model_module_version": "1.5.0",
      "model_name": "HTMLModel",
      "state": {
       "layout": "IPY_MODEL_4256b70ed9e04029b35463f93b71e39e",
       "style": "IPY_MODEL_b0f22cf4dee6428d8e88d83d7cf5b183",
       "value": "ibmq_manila"
      }
     },
     "10c3a84e6103413281c420575abad8a8": {
      "model_module": "@jupyter-widgets/base",
      "model_module_version": "1.2.0",
      "model_name": "LayoutModel",
      "state": {
       "margin": "0px 5px 0px 0px",
       "width": "32px"
      }
     },
     "10cfc59c755748dc9d2ff39dd9c758d1": {
      "model_module": "@jupyter-widgets/controls",
      "model_module_version": "1.5.0",
      "model_name": "HTMLModel",
      "state": {
       "layout": "IPY_MODEL_2eea5d1d9b144f4791a4517c32f18305",
       "style": "IPY_MODEL_1574b856756b40b2a26fd2bfc03d8dc7",
       "value": "-"
      }
     },
     "1102578c545449c091864fbe8bd21c6d": {
      "model_module": "@jupyter-widgets/controls",
      "model_module_version": "1.5.0",
      "model_name": "ButtonModel",
      "state": {
       "icon": "close",
       "layout": "IPY_MODEL_23cf808f9e224320bb7c3a0f7d2d989b",
       "style": "IPY_MODEL_0e3a219e2caa47f88a4d131191a738b5"
      }
     },
     "11d3a29b92e2452aa5b1f670c30fa0ae": {
      "model_module": "@jupyter-widgets/controls",
      "model_module_version": "1.5.0",
      "model_name": "DescriptionStyleModel",
      "state": {
       "description_width": ""
      }
     },
     "1298bae0077c4e9aa34d65152be577f8": {
      "model_module": "@jupyter-widgets/controls",
      "model_module_version": "1.5.0",
      "model_name": "DescriptionStyleModel",
      "state": {
       "description_width": ""
      }
     },
     "133c29af7bbf4585a06f8ae44f9f5a0e": {
      "model_module": "@jupyter-widgets/base",
      "model_module_version": "1.2.0",
      "model_name": "LayoutModel",
      "state": {
       "width": "145px"
      }
     },
     "14ffe43940724241b00c9e9f1fb55eef": {
      "model_module": "@jupyter-widgets/base",
      "model_module_version": "1.2.0",
      "model_name": "LayoutModel",
      "state": {
       "width": "95px"
      }
     },
     "151fe81480d544f79a99699bc03227c8": {
      "model_module": "@jupyter-widgets/controls",
      "model_module_version": "1.5.0",
      "model_name": "DescriptionStyleModel",
      "state": {
       "description_width": ""
      }
     },
     "1574b856756b40b2a26fd2bfc03d8dc7": {
      "model_module": "@jupyter-widgets/controls",
      "model_module_version": "1.5.0",
      "model_name": "DescriptionStyleModel",
      "state": {
       "description_width": ""
      }
     },
     "17f481eee0784c4ba243052c895708db": {
      "model_module": "@jupyter-widgets/controls",
      "model_module_version": "1.5.0",
      "model_name": "HTMLModel",
      "state": {
       "layout": "IPY_MODEL_fe4eda26fb294064bc0e1a32fd395757",
       "style": "IPY_MODEL_7923e5f3f41f4b8483f816c8212b05f8",
       "value": "62e6246422b5f5a0095677c9"
      }
     },
     "1ad8b56d87cd4570a5444464b59efae5": {
      "model_module": "@jupyter-widgets/base",
      "model_module_version": "1.2.0",
      "model_name": "LayoutModel",
      "state": {
       "overflow_x": "scroll"
      }
     },
     "1b452c0cb3ad4d99b5b7369878c3f461": {
      "model_module": "@jupyter-widgets/controls",
      "model_module_version": "1.5.0",
      "model_name": "DescriptionStyleModel",
      "state": {
       "description_width": ""
      }
     },
     "1bbe832b78334e30877a53cc30bdd9a0": {
      "model_module": "@jupyter-widgets/controls",
      "model_module_version": "1.5.0",
      "model_name": "HTMLModel",
      "state": {
       "layout": "IPY_MODEL_6d2e989cb123407dad387756b50bacb0",
       "style": "IPY_MODEL_d650eee3da1147029fba166b10fdead9",
       "value": "ibmq_manila"
      }
     },
     "1c065357240a41459c6fdf1ea6269a4a": {
      "model_module": "@jupyter-widgets/base",
      "model_module_version": "1.2.0",
      "model_name": "LayoutModel",
      "state": {
       "max_width": "700px",
       "min_width": "700px"
      }
     },
     "1d159ca87d0c43bbbdfc58ab70392c5b": {
      "model_module": "@jupyter-widgets/base",
      "model_module_version": "1.2.0",
      "model_name": "LayoutModel",
      "state": {
       "overflow_x": "scroll"
      }
     },
     "1e407f5b49ec4e02b5ff80a19956b59e": {
      "model_module": "@jupyter-widgets/controls",
      "model_module_version": "1.5.0",
      "model_name": "HTMLModel",
      "state": {
       "layout": "IPY_MODEL_36b4c5c22fdf45ff8286e6ed85ffb7ec",
       "style": "IPY_MODEL_607d4e1710894829ad0647360a3992a0",
       "value": "job has successfully run"
      }
     },
     "1fff47655065488c910b595bddc5809b": {
      "model_module": "@jupyter-widgets/controls",
      "model_module_version": "1.5.0",
      "model_name": "DescriptionStyleModel",
      "state": {
       "description_width": ""
      }
     },
     "2042b7bcbaee42b185242af13afe2d7e": {
      "model_module": "@jupyter-widgets/controls",
      "model_module_version": "1.5.0",
      "model_name": "HBoxModel",
      "state": {
       "children": [
        "IPY_MODEL_4202360377ff40ebafe2da4e66f2f2f6",
        "IPY_MODEL_17f481eee0784c4ba243052c895708db",
        "IPY_MODEL_3b8bac54fcec4c85987c1e323d6a0e5f",
        "IPY_MODEL_07cba8f3286345a6b04dd85ec9f5f7a5",
        "IPY_MODEL_10cfc59c755748dc9d2ff39dd9c758d1",
        "IPY_MODEL_68116d0a1b8b4f2fbc1c9359499a59e6"
       ],
       "layout": "IPY_MODEL_93e7bfee8ab04e309fb5be16e0e376a9"
      }
     },
     "2126fdab0ab84a74aa2a1a96af31cdc1": {
      "model_module": "@jupyter-widgets/base",
      "model_module_version": "1.2.0",
      "model_name": "LayoutModel",
      "state": {
       "width": "190px"
      }
     },
     "21dbd532c1834ba59a2111bced7245f9": {
      "model_module": "@jupyter-widgets/controls",
      "model_module_version": "1.5.0",
      "model_name": "HTMLModel",
      "state": {
       "layout": "IPY_MODEL_6aacec6ba7514c20bb91cfb1fe9bfada",
       "style": "IPY_MODEL_bbf4818891ac413589bcccb349aac629",
       "value": "ibmq_manila"
      }
     },
     "22474bd95b5a4609b54bd492b57e016f": {
      "model_module": "@jupyter-widgets/base",
      "model_module_version": "1.2.0",
      "model_name": "LayoutModel",
      "state": {
       "grid_area": "right",
       "padding": "0px 0px 0px 0px",
       "width": "70px"
      }
     },
     "2253a587a4bf4e0380dc7898e2b36430": {
      "model_module": "@jupyter-widgets/controls",
      "model_module_version": "1.5.0",
      "model_name": "HBoxModel",
      "state": {
       "children": [
        "IPY_MODEL_01e903689359417da6dd30b46328784a",
        "IPY_MODEL_ec62e56af48f43dcbecc3405bae2f351",
        "IPY_MODEL_c2616d7c383343319fe05ef08512dc2b",
        "IPY_MODEL_bd9adf5e22e244b4afb5e26f2ea78024",
        "IPY_MODEL_fbf012adeb1943fbb72459e59cdc48b3",
        "IPY_MODEL_8093de7e386b4fd8ab925cd9f3d14ac0"
       ],
       "layout": "IPY_MODEL_4cfede321d4e4a98bbafbea265d0a535"
      }
     },
     "22e52939a42c46008a1f6d339296383c": {
      "model_module": "@jupyter-widgets/controls",
      "model_module_version": "1.5.0",
      "model_name": "HTMLModel",
      "state": {
       "layout": "IPY_MODEL_25ca464d42974b648d3636758ac783a1",
       "style": "IPY_MODEL_f1d5886686f54191b918d8b52f918778",
       "value": "62e67ce037e42fc6adaec1f3"
      }
     },
     "23cf808f9e224320bb7c3a0f7d2d989b": {
      "model_module": "@jupyter-widgets/base",
      "model_module_version": "1.2.0",
      "model_name": "LayoutModel",
      "state": {
       "margin": "0px 5px 0px 0px",
       "width": "32px"
      }
     },
     "25ca464d42974b648d3636758ac783a1": {
      "model_module": "@jupyter-widgets/base",
      "model_module_version": "1.2.0",
      "model_name": "LayoutModel",
      "state": {
       "width": "190px"
      }
     },
     "26d318eb633f4e5fb3205aa9fcd5dbb8": {
      "model_module": "@jupyter-widgets/controls",
      "model_module_version": "1.5.0",
      "model_name": "DescriptionStyleModel",
      "state": {
       "description_width": ""
      }
     },
     "2bca9612a7aa47d88125d920d1e6e56b": {
      "model_module": "@jupyter-widgets/controls",
      "model_module_version": "1.5.0",
      "model_name": "HTMLModel",
      "state": {
       "layout": "IPY_MODEL_549daafb96094d6ba426c711ef05f0fe",
       "style": "IPY_MODEL_05279d364e0d4e1ea2013a97bba99bc5",
       "value": "job has successfully run"
      }
     },
     "2bd438308926428fb33852b0369a91b9": {
      "model_module": "@jupyter-widgets/controls",
      "model_module_version": "1.5.0",
      "model_name": "HTMLModel",
      "state": {
       "layout": "IPY_MODEL_14ffe43940724241b00c9e9f1fb55eef",
       "style": "IPY_MODEL_93460404239f45b2ab5bd04ca70a9646",
       "value": "QUEUED"
      }
     },
     "2bf9749370514570882791e9aa2f03ff": {
      "model_module": "@jupyter-widgets/base",
      "model_module_version": "1.2.0",
      "model_name": "LayoutModel",
      "state": {
       "max_width": "700px",
       "min_width": "700px"
      }
     },
     "2cada311d05e43f084ceace7619c7bc6": {
      "model_module": "@jupyter-widgets/base",
      "model_module_version": "1.2.0",
      "model_name": "LayoutModel",
      "state": {
       "max_width": "700px",
       "min_width": "700px"
      }
     },
     "2d0745511d0e4cba857b41b07ea7bc12": {
      "model_module": "@jupyter-widgets/controls",
      "model_module_version": "1.5.0",
      "model_name": "DescriptionStyleModel",
      "state": {
       "description_width": ""
      }
     },
     "2d367a9420904c5f9de8dd08c6bd70d7": {
      "model_module": "@jupyter-widgets/controls",
      "model_module_version": "1.5.0",
      "model_name": "ButtonModel",
      "state": {
       "icon": "close",
       "layout": "IPY_MODEL_ac17a5b520c843e39a3a6e119ba722d4",
       "style": "IPY_MODEL_dbbdf216a6e244c681f1e5648691752f"
      }
     },
     "2eb4fa63e3c740b88f88ed80992a4834": {
      "model_module": "@jupyter-widgets/controls",
      "model_module_version": "1.5.0",
      "model_name": "ButtonStyleModel",
      "state": {
       "button_color": "white"
      }
     },
     "2ec698c113cc481ba79edce821cdf38f": {
      "model_module": "@jupyter-widgets/base",
      "model_module_version": "1.2.0",
      "model_name": "LayoutModel",
      "state": {
       "width": "145px"
      }
     },
     "2eea5d1d9b144f4791a4517c32f18305": {
      "model_module": "@jupyter-widgets/base",
      "model_module_version": "1.2.0",
      "model_name": "LayoutModel",
      "state": {
       "width": "70px"
      }
     },
     "2fa510d520984e22af940d84941f2d62": {
      "model_module": "@jupyter-widgets/controls",
      "model_module_version": "1.5.0",
      "model_name": "ButtonStyleModel",
      "state": {
       "button_color": "white"
      }
     },
     "3013df099b684eac83da03eee4189da6": {
      "model_module": "@jupyter-widgets/controls",
      "model_module_version": "1.5.0",
      "model_name": "HTMLModel",
      "state": {
       "layout": "IPY_MODEL_330eb9680914453faeabbbeb247de865",
       "style": "IPY_MODEL_bcf626ad22484fa0bb70176e42840dc9",
       "value": "-"
      }
     },
     "31515dc2351744ff904395ca0807907b": {
      "model_module": "@jupyter-widgets/controls",
      "model_module_version": "1.5.0",
      "model_name": "DescriptionStyleModel",
      "state": {
       "description_width": ""
      }
     },
     "31aa805db40d4188b4053a21f46afd52": {
      "model_module": "@jupyter-widgets/base",
      "model_module_version": "1.2.0",
      "model_name": "LayoutModel",
      "state": {
       "width": "70px"
      }
     },
     "31d94f23f5d3415184e9f78c4735533e": {
      "model_module": "@jupyter-widgets/controls",
      "model_module_version": "1.5.0",
      "model_name": "DescriptionStyleModel",
      "state": {
       "description_width": ""
      }
     },
     "325499d55aec4c0ebb79ae3bb42e8bb3": {
      "model_module": "@jupyter-widgets/controls",
      "model_module_version": "1.5.0",
      "model_name": "DescriptionStyleModel",
      "state": {
       "description_width": ""
      }
     },
     "329f64ed3a4848bc8bffd4d3c3f7a2d5": {
      "model_module": "@jupyter-widgets/controls",
      "model_module_version": "1.5.0",
      "model_name": "HTMLModel",
      "state": {
       "layout": "IPY_MODEL_44199aea995749168513e8ab8cfcd7d4",
       "style": "IPY_MODEL_ca2a68b0c08e4aaeb636055de542e6e0",
       "value": "<font style='color:#34BC6E'>DONE</font>"
      }
     },
     "32fd29d7ce0d4501a8911c3496cd3d40": {
      "model_module": "@jupyter-widgets/controls",
      "model_module_version": "1.5.0",
      "model_name": "HTMLModel",
      "state": {
       "layout": "IPY_MODEL_89c89202f29c4c139b73077ea8a36662",
       "style": "IPY_MODEL_de89543f271e43d7aeb0c58d6656f4ae",
       "value": "<font style='color:#34BC6E'>DONE</font>"
      }
     },
     "330eb9680914453faeabbbeb247de865": {
      "model_module": "@jupyter-widgets/base",
      "model_module_version": "1.2.0",
      "model_name": "LayoutModel",
      "state": {
       "width": "70px"
      }
     },
     "330f3a89fee74003bd8b7d969aa7873d": {
      "model_module": "@jupyter-widgets/controls",
      "model_module_version": "1.5.0",
      "model_name": "HTMLModel",
      "state": {
       "layout": "IPY_MODEL_067894e4cec549f58eb75f604579d284",
       "style": "IPY_MODEL_6a05be8c26a24255b2334971dab6f718",
       "value": "job has successfully run"
      }
     },
     "3332bd502a3a44f28a9db76afddc7b01": {
      "model_module": "@jupyter-widgets/controls",
      "model_module_version": "1.5.0",
      "model_name": "GridBoxModel",
      "state": {
       "children": [
        "IPY_MODEL_61c284bc9a4f4330a8fc3a5ae420c606"
       ],
       "layout": "IPY_MODEL_739fe5cb4d174821b2b82b9b4104d01c"
      }
     },
     "339a55319f4c4629892f0b6ea51dacfb": {
      "model_module": "@jupyter-widgets/controls",
      "model_module_version": "1.5.0",
      "model_name": "DescriptionStyleModel",
      "state": {
       "description_width": ""
      }
     },
     "33da5bb4d40d4c00a15658b65d6229a1": {
      "model_module": "@jupyter-widgets/base",
      "model_module_version": "1.2.0",
      "model_name": "LayoutModel",
      "state": {
       "width": "145px"
      }
     },
     "352a563448a44be89dc9d08e23b375ed": {
      "model_module": "@jupyter-widgets/controls",
      "model_module_version": "1.5.0",
      "model_name": "DescriptionStyleModel",
      "state": {
       "description_width": ""
      }
     },
     "369dfcab48c0422dbe988cf1904f3d49": {
      "model_module": "@jupyter-widgets/controls",
      "model_module_version": "1.5.0",
      "model_name": "HTMLModel",
      "state": {
       "layout": "IPY_MODEL_4892131984a440bda705ef7211911c0b",
       "style": "IPY_MODEL_9b2937258d864a53921c8b7bd60f866b",
       "value": "<font style='color:#34BC6E'>DONE</font>"
      }
     },
     "36b4c5c22fdf45ff8286e6ed85ffb7ec": {
      "model_module": "@jupyter-widgets/base",
      "model_module_version": "1.2.0",
      "model_name": "LayoutModel",
      "state": {
       "overflow_x": "scroll"
      }
     },
     "3752f2c7fdb04e7c872381ad14ed127f": {
      "model_module": "@jupyter-widgets/base",
      "model_module_version": "1.2.0",
      "model_name": "LayoutModel",
      "state": {
       "width": "70px"
      }
     },
     "3781cb2da3b849c88610bd9b33fff42b": {
      "model_module": "@jupyter-widgets/controls",
      "model_module_version": "1.5.0",
      "model_name": "HTMLModel",
      "state": {
       "layout": "IPY_MODEL_31aa805db40d4188b4053a21f46afd52",
       "style": "IPY_MODEL_31d94f23f5d3415184e9f78c4735533e",
       "value": "-"
      }
     },
     "37bb85bc92834df4ada534125221f513": {
      "model_module": "@jupyter-widgets/base",
      "model_module_version": "1.2.0",
      "model_name": "LayoutModel",
      "state": {
       "overflow_x": "scroll"
      }
     },
     "3a8abac13d06423daab7b844bc288ef4": {
      "model_module": "@jupyter-widgets/base",
      "model_module_version": "1.2.0",
      "model_name": "LayoutModel",
      "state": {
       "width": "95px"
      }
     },
     "3b3c01947afa4955bc939e3804bcdeec": {
      "model_module": "@jupyter-widgets/base",
      "model_module_version": "1.2.0",
      "model_name": "LayoutModel",
      "state": {
       "max_width": "700px",
       "min_width": "700px"
      }
     },
     "3b8bac54fcec4c85987c1e323d6a0e5f": {
      "model_module": "@jupyter-widgets/controls",
      "model_module_version": "1.5.0",
      "model_name": "HTMLModel",
      "state": {
       "layout": "IPY_MODEL_d64b46bd50b2439d847ea8097b75a2a5",
       "style": "IPY_MODEL_7a87569ee78246998d4a57607b8349bf",
       "value": "ibmq_manila"
      }
     },
     "3c1b0b75f83140f98c71f2f0cfb58750": {
      "model_module": "@jupyter-widgets/controls",
      "model_module_version": "1.5.0",
      "model_name": "DescriptionStyleModel",
      "state": {
       "description_width": ""
      }
     },
     "3c319c037a05496daf1f0ff560372554": {
      "model_module": "@jupyter-widgets/base",
      "model_module_version": "1.2.0",
      "model_name": "LayoutModel",
      "state": {}
     },
     "3d2dd58473b9487b8a0b0b0e691bac56": {
      "model_module": "@jupyter-widgets/controls",
      "model_module_version": "1.5.0",
      "model_name": "HTMLModel",
      "state": {
       "layout": "IPY_MODEL_677be45de62a45399f4acdea2d899dd2",
       "style": "IPY_MODEL_abaa378067db42dc82b5623fdf43abb1",
       "value": "<font style='color:#34BC6E'>DONE</font>"
      }
     },
     "3eac74b919e0492f8c0eec0bb970698a": {
      "model_module": "@jupyter-widgets/controls",
      "model_module_version": "1.5.0",
      "model_name": "HTMLModel",
      "state": {
       "layout": "IPY_MODEL_2126fdab0ab84a74aa2a1a96af31cdc1",
       "style": "IPY_MODEL_fcde4c5d58484dcd9cdcbe7f75bae2b3",
       "value": "62e5daae5593a84e2119449d"
      }
     },
     "3f98f540184d4077a45ad58b8adc0cb3": {
      "model_module": "@jupyter-widgets/controls",
      "model_module_version": "1.5.0",
      "model_name": "DescriptionStyleModel",
      "state": {
       "description_width": ""
      }
     },
     "3fca7ae63c014738a7dae33588044036": {
      "model_module": "@jupyter-widgets/controls",
      "model_module_version": "1.5.0",
      "model_name": "ButtonModel",
      "state": {
       "icon": "close",
       "layout": "IPY_MODEL_c5309e88a42446e29b2907bedfb158c5",
       "style": "IPY_MODEL_09f0f19e5b644a208b5d47e316047ed1"
      }
     },
     "40c99e12bb42420b94b4daeb7145c810": {
      "model_module": "@jupyter-widgets/controls",
      "model_module_version": "1.5.0",
      "model_name": "HTMLModel",
      "state": {
       "layout": "IPY_MODEL_3c319c037a05496daf1f0ff560372554",
       "style": "IPY_MODEL_bbdc7b458cb24a77b913b0ea6e5739d8",
       "value": "<h5>Message</h5>"
      }
     },
     "413f92d4c4e94611b80f21642e5e9b6e": {
      "model_module": "@jupyter-widgets/controls",
      "model_module_version": "1.5.0",
      "model_name": "DescriptionStyleModel",
      "state": {
       "description_width": ""
      }
     },
     "4202360377ff40ebafe2da4e66f2f2f6": {
      "model_module": "@jupyter-widgets/controls",
      "model_module_version": "1.5.0",
      "model_name": "ButtonModel",
      "state": {
       "icon": "close",
       "layout": "IPY_MODEL_10c3a84e6103413281c420575abad8a8",
       "style": "IPY_MODEL_bc1065686dcf4b70877613bfd7da5cf8"
      }
     },
     "42339a5eba54453ebae282ab63876be8": {
      "model_module": "@jupyter-widgets/base",
      "model_module_version": "1.2.0",
      "model_name": "LayoutModel",
      "state": {
       "width": "95px"
      }
     },
     "4256b70ed9e04029b35463f93b71e39e": {
      "model_module": "@jupyter-widgets/base",
      "model_module_version": "1.2.0",
      "model_name": "LayoutModel",
      "state": {
       "width": "145px"
      }
     },
     "43097c9805294ec39918afe1cb710dad": {
      "model_module": "@jupyter-widgets/controls",
      "model_module_version": "1.5.0",
      "model_name": "DescriptionStyleModel",
      "state": {
       "description_width": ""
      }
     },
     "436b6bf7eaa0428091a56c4ee10a17e5": {
      "model_module": "@jupyter-widgets/base",
      "model_module_version": "1.2.0",
      "model_name": "LayoutModel",
      "state": {
       "overflow_x": "scroll"
      }
     },
     "44199aea995749168513e8ab8cfcd7d4": {
      "model_module": "@jupyter-widgets/base",
      "model_module_version": "1.2.0",
      "model_name": "LayoutModel",
      "state": {
       "width": "95px"
      }
     },
     "4892131984a440bda705ef7211911c0b": {
      "model_module": "@jupyter-widgets/base",
      "model_module_version": "1.2.0",
      "model_name": "LayoutModel",
      "state": {
       "width": "95px"
      }
     },
     "4a53df6766f445158433fb51b0fe84be": {
      "model_module": "@jupyter-widgets/controls",
      "model_module_version": "1.5.0",
      "model_name": "HTMLModel",
      "state": {
       "layout": "IPY_MODEL_008a05f4c88c49ffa7771ed3ec400b53",
       "style": "IPY_MODEL_151fe81480d544f79a99699bc03227c8",
       "value": "ibmq_manila"
      }
     },
     "4bdc1ffd3b1c41a0b68c9caa8d6d31b0": {
      "model_module": "@jupyter-widgets/base",
      "model_module_version": "1.2.0",
      "model_name": "LayoutModel",
      "state": {
       "overflow_x": "scroll"
      }
     },
     "4cfede321d4e4a98bbafbea265d0a535": {
      "model_module": "@jupyter-widgets/base",
      "model_module_version": "1.2.0",
      "model_name": "LayoutModel",
      "state": {
       "max_width": "700px",
       "min_width": "700px"
      }
     },
     "4e3905042cf0401d8efa265e122d6b94": {
      "model_module": "@jupyter-widgets/controls",
      "model_module_version": "1.5.0",
      "model_name": "DescriptionStyleModel",
      "state": {
       "description_width": ""
      }
     },
     "4f7bcab26f3e4b74a4667abe44d08ea7": {
      "model_module": "@jupyter-widgets/controls",
      "model_module_version": "1.5.0",
      "model_name": "DescriptionStyleModel",
      "state": {
       "description_width": ""
      }
     },
     "501c984dfa2b493ca185e951f3f82e09": {
      "model_module": "@jupyter-widgets/controls",
      "model_module_version": "1.5.0",
      "model_name": "HTMLModel",
      "state": {
       "layout": "IPY_MODEL_98f7e7ccf3ce478fb62d69a55440bc47",
       "style": "IPY_MODEL_1b452c0cb3ad4d99b5b7369878c3f461",
       "value": "62e62e8bec8dccf70400fd6f"
      }
     },
     "510c8a1b22ae43e0aa6a687803a3130a": {
      "model_module": "@jupyter-widgets/controls",
      "model_module_version": "1.5.0",
      "model_name": "DescriptionStyleModel",
      "state": {
       "description_width": ""
      }
     },
     "510f85c90086468783bdd76dc1f7b93d": {
      "model_module": "@jupyter-widgets/controls",
      "model_module_version": "1.5.0",
      "model_name": "DescriptionStyleModel",
      "state": {
       "description_width": ""
      }
     },
     "52db99c55ba6473e8da6f3c03424e12c": {
      "model_module": "@jupyter-widgets/controls",
      "model_module_version": "1.5.0",
      "model_name": "HTMLModel",
      "state": {
       "layout": "IPY_MODEL_3a8abac13d06423daab7b844bc288ef4",
       "style": "IPY_MODEL_325499d55aec4c0ebb79ae3bb42e8bb3",
       "value": "<font style='color:#34BC6E'>DONE</font>"
      }
     },
     "549daafb96094d6ba426c711ef05f0fe": {
      "model_module": "@jupyter-widgets/base",
      "model_module_version": "1.2.0",
      "model_name": "LayoutModel",
      "state": {
       "overflow_x": "scroll"
      }
     },
     "54b000abf7dc4deca96e52c97aa527c7": {
      "model_module": "@jupyter-widgets/base",
      "model_module_version": "1.2.0",
      "model_name": "LayoutModel",
      "state": {
       "max_width": "700px",
       "min_width": "700px"
      }
     },
     "55ff06b34d87469d90c65483df6bcbfc": {
      "model_module": "@jupyter-widgets/controls",
      "model_module_version": "1.5.0",
      "model_name": "HTMLModel",
      "state": {
       "layout": "IPY_MODEL_6e25d18813b94b73ae43f90c8f3041e1",
       "style": "IPY_MODEL_510f85c90086468783bdd76dc1f7b93d",
       "value": "-"
      }
     },
     "561af85a851e4cdf827e7999e11b9edf": {
      "model_module": "@jupyter-widgets/base",
      "model_module_version": "1.2.0",
      "model_name": "LayoutModel",
      "state": {
       "margin": "0px 5px 0px 0px",
       "width": "32px"
      }
     },
     "583171c3f8f74d75adaabdc5f43a1e1c": {
      "model_module": "@jupyter-widgets/base",
      "model_module_version": "1.2.0",
      "model_name": "LayoutModel",
      "state": {
       "margin": "0px 5px 0px 0px",
       "width": "32px"
      }
     },
     "58d071739b47491ebbaa628dc9c1e8d2": {
      "model_module": "@jupyter-widgets/controls",
      "model_module_version": "1.5.0",
      "model_name": "DescriptionStyleModel",
      "state": {
       "description_width": ""
      }
     },
     "59145f19a93a48848ee56b9fae4bad5f": {
      "model_module": "@jupyter-widgets/base",
      "model_module_version": "1.2.0",
      "model_name": "LayoutModel",
      "state": {
       "width": "95px"
      }
     },
     "5984fb50b95b4c67ba83de66338c6504": {
      "model_module": "@jupyter-widgets/controls",
      "model_module_version": "1.5.0",
      "model_name": "HTMLModel",
      "state": {
       "layout": "IPY_MODEL_fbb33f0d89b5410387c6d6f06ebf9566",
       "style": "IPY_MODEL_6a2cc89ced2e4568b6f673a0959071ea",
       "value": "62e68e925923b6629d5f6211"
      }
     },
     "5a5161d1e2e34e1e82d4801088e401cb": {
      "model_module": "@jupyter-widgets/base",
      "model_module_version": "1.2.0",
      "model_name": "LayoutModel",
      "state": {
       "width": "145px"
      }
     },
     "5c3d9bc25846463abc137cf85fb721f3": {
      "model_module": "@jupyter-widgets/controls",
      "model_module_version": "1.5.0",
      "model_name": "DescriptionStyleModel",
      "state": {
       "description_width": ""
      }
     },
     "5e047c03198f46b6b4e9969ea7078d93": {
      "model_module": "@jupyter-widgets/controls",
      "model_module_version": "1.5.0",
      "model_name": "DescriptionStyleModel",
      "state": {
       "description_width": ""
      }
     },
     "5eda658f316a443aab2a981f6e41e49f": {
      "model_module": "@jupyter-widgets/base",
      "model_module_version": "1.2.0",
      "model_name": "LayoutModel",
      "state": {
       "overflow_x": "scroll"
      }
     },
     "5ff73fd5202e4fe99c2a03ba2143b086": {
      "model_module": "@jupyter-widgets/controls",
      "model_module_version": "1.5.0",
      "model_name": "DescriptionStyleModel",
      "state": {
       "description_width": ""
      }
     },
     "607d4e1710894829ad0647360a3992a0": {
      "model_module": "@jupyter-widgets/controls",
      "model_module_version": "1.5.0",
      "model_name": "DescriptionStyleModel",
      "state": {
       "description_width": ""
      }
     },
     "614856e498d94c37a2dd518cb1d434f8": {
      "model_module": "@jupyter-widgets/controls",
      "model_module_version": "1.5.0",
      "model_name": "DescriptionStyleModel",
      "state": {
       "description_width": ""
      }
     },
     "61c284bc9a4f4330a8fc3a5ae420c606": {
      "model_module": "@jupyter-widgets/controls",
      "model_module_version": "1.5.0",
      "model_name": "ButtonModel",
      "state": {
       "button_style": "primary",
       "description": "Clear",
       "layout": "IPY_MODEL_22474bd95b5a4609b54bd492b57e016f",
       "style": "IPY_MODEL_fd2a27edca084506be6a07f39b005d50"
      }
     },
     "63b39ba160964e6391ce56d0dee1247b": {
      "model_module": "@jupyter-widgets/base",
      "model_module_version": "1.2.0",
      "model_name": "LayoutModel",
      "state": {
       "width": "95px"
      }
     },
     "64990bc88f21436988fe8eabd5add0c4": {
      "model_module": "@jupyter-widgets/base",
      "model_module_version": "1.2.0",
      "model_name": "LayoutModel",
      "state": {
       "width": "145px"
      }
     },
     "65a435a185704a2f9c98294ec4fcf440": {
      "model_module": "@jupyter-widgets/controls",
      "model_module_version": "1.5.0",
      "model_name": "DescriptionStyleModel",
      "state": {
       "description_width": ""
      }
     },
     "65eaee88dd1a456487a128f27a450e10": {
      "model_module": "@jupyter-widgets/controls",
      "model_module_version": "1.5.0",
      "model_name": "HTMLModel",
      "state": {
       "layout": "IPY_MODEL_33da5bb4d40d4c00a15658b65d6229a1",
       "style": "IPY_MODEL_e082a35bfa0f4e60a5d26fc3cfb87cce",
       "value": "ibmq_manila"
      }
     },
     "664df11667e045e591440f66ad475c78": {
      "model_module": "@jupyter-widgets/controls",
      "model_module_version": "1.5.0",
      "model_name": "HTMLModel",
      "state": {
       "layout": "IPY_MODEL_ad7059774a10408a99e1ce68265ac515",
       "style": "IPY_MODEL_614856e498d94c37a2dd518cb1d434f8",
       "value": "62e5e9fcac90f7ca8ac852f7"
      }
     },
     "6658f02f9def42a48b6064725394ecaf": {
      "model_module": "@jupyter-widgets/base",
      "model_module_version": "1.2.0",
      "model_name": "LayoutModel",
      "state": {
       "margin": "0px 5px 0px 0px",
       "width": "32px"
      }
     },
     "677be45de62a45399f4acdea2d899dd2": {
      "model_module": "@jupyter-widgets/base",
      "model_module_version": "1.2.0",
      "model_name": "LayoutModel",
      "state": {
       "width": "95px"
      }
     },
     "67b4a1741f464ec6afbb89dd61e31402": {
      "model_module": "@jupyter-widgets/controls",
      "model_module_version": "1.5.0",
      "model_name": "ButtonModel",
      "state": {
       "icon": "close",
       "layout": "IPY_MODEL_8d0d2a44a8ee46c5b181ceff277d37b9",
       "style": "IPY_MODEL_8b5f1261b7184a23ba6a8c106caa6c23"
      }
     },
     "68116d0a1b8b4f2fbc1c9359499a59e6": {
      "model_module": "@jupyter-widgets/controls",
      "model_module_version": "1.5.0",
      "model_name": "HTMLModel",
      "state": {
       "layout": "IPY_MODEL_073737f0461c4efcbec40f80106227a1",
       "style": "IPY_MODEL_d58a528083024cf685b7bf0ed26c4d2b",
       "value": "job has successfully run"
      }
     },
     "6a05be8c26a24255b2334971dab6f718": {
      "model_module": "@jupyter-widgets/controls",
      "model_module_version": "1.5.0",
      "model_name": "DescriptionStyleModel",
      "state": {
       "description_width": ""
      }
     },
     "6a2cc89ced2e4568b6f673a0959071ea": {
      "model_module": "@jupyter-widgets/controls",
      "model_module_version": "1.5.0",
      "model_name": "DescriptionStyleModel",
      "state": {
       "description_width": ""
      }
     },
     "6aacec6ba7514c20bb91cfb1fe9bfada": {
      "model_module": "@jupyter-widgets/base",
      "model_module_version": "1.2.0",
      "model_name": "LayoutModel",
      "state": {
       "width": "145px"
      }
     },
     "6c63e8816f3340959df7a15591b90d09": {
      "model_module": "@jupyter-widgets/controls",
      "model_module_version": "1.5.0",
      "model_name": "HTMLModel",
      "state": {
       "layout": "IPY_MODEL_f7b941d55c094cdab15647453fd61645",
       "style": "IPY_MODEL_58d071739b47491ebbaa628dc9c1e8d2",
       "value": "<h5>Status</h5>"
      }
     },
     "6d2e989cb123407dad387756b50bacb0": {
      "model_module": "@jupyter-widgets/base",
      "model_module_version": "1.2.0",
      "model_name": "LayoutModel",
      "state": {
       "width": "145px"
      }
     },
     "6db8e4d195e44e2ba4cb9e5ec35dd18f": {
      "model_module": "@jupyter-widgets/controls",
      "model_module_version": "1.5.0",
      "model_name": "HTMLModel",
      "state": {
       "layout": "IPY_MODEL_e1ece4b7d3e24558aa975734e04d3f21",
       "style": "IPY_MODEL_1298bae0077c4e9aa34d65152be577f8",
       "value": "ibmq_manila"
      }
     },
     "6e25d18813b94b73ae43f90c8f3041e1": {
      "model_module": "@jupyter-widgets/base",
      "model_module_version": "1.2.0",
      "model_name": "LayoutModel",
      "state": {
       "width": "70px"
      }
     },
     "70b1c029e8d5431090ac90fa73bf8980": {
      "model_module": "@jupyter-widgets/controls",
      "model_module_version": "1.5.0",
      "model_name": "ButtonModel",
      "state": {
       "icon": "close",
       "layout": "IPY_MODEL_561af85a851e4cdf827e7999e11b9edf",
       "style": "IPY_MODEL_b3d3d30f4e2d4cc18a08a6734634868a"
      }
     },
     "718ec0a0bd4a4d24b7c3ae8d0899eb22": {
      "model_module": "@jupyter-widgets/base",
      "model_module_version": "1.2.0",
      "model_name": "LayoutModel",
      "state": {
       "width": "95px"
      }
     },
     "7208efb4bcc04615b83bb534d257eac4": {
      "model_module": "@jupyter-widgets/controls",
      "model_module_version": "1.5.0",
      "model_name": "HTMLModel",
      "state": {
       "layout": "IPY_MODEL_64990bc88f21436988fe8eabd5add0c4",
       "style": "IPY_MODEL_fb382fe7e7274d5eafd35fa0674b732e",
       "value": "ibmq_manila"
      }
     },
     "739fe5cb4d174821b2b82b9b4104d01c": {
      "model_module": "@jupyter-widgets/base",
      "model_module_version": "1.2.0",
      "model_name": "LayoutModel",
      "state": {
       "grid_template_areas": "\n                                       \". . . . right \"\n                                        ",
       "grid_template_columns": "20% 20% 20% 20% 20%",
       "width": "100%"
      }
     },
     "7521caa3d606471c95c652b630fc66fd": {
      "model_module": "@jupyter-widgets/controls",
      "model_module_version": "1.5.0",
      "model_name": "HTMLModel",
      "state": {
       "layout": "IPY_MODEL_37bb85bc92834df4ada534125221f513",
       "style": "IPY_MODEL_8dcdb39886b1434fbfbabd307970a6b4",
       "value": "job has successfully run"
      }
     },
     "75853db1bad54644bf2ac7e71cbef274": {
      "model_module": "@jupyter-widgets/controls",
      "model_module_version": "1.5.0",
      "model_name": "HBoxModel",
      "state": {
       "children": [
        "IPY_MODEL_f5289df26a9b49069ca651632dc435fd",
        "IPY_MODEL_fd4a83508a1f417fa2fc433d5d1e4ceb",
        "IPY_MODEL_6c63e8816f3340959df7a15591b90d09",
        "IPY_MODEL_babf49bfb8284d3d9d651a16416dee46",
        "IPY_MODEL_40c99e12bb42420b94b4daeb7145c810"
       ],
       "layout": "IPY_MODEL_adfab4c61eea4e45b61a91541dd5b39d"
      }
     },
     "767568ce556f471db354bb8f6dcccf31": {
      "model_module": "@jupyter-widgets/base",
      "model_module_version": "1.2.0",
      "model_name": "LayoutModel",
      "state": {
       "margin": "0px 5px 0px 0px",
       "width": "32px"
      }
     },
     "76a41a647f464a38b0de032e3233b03d": {
      "model_module": "@jupyter-widgets/controls",
      "model_module_version": "1.5.0",
      "model_name": "DescriptionStyleModel",
      "state": {
       "description_width": ""
      }
     },
     "78222b4c720f4515b6f6cb9ba329e6e8": {
      "model_module": "@jupyter-widgets/controls",
      "model_module_version": "1.5.0",
      "model_name": "ButtonStyleModel",
      "state": {
       "button_color": "white"
      }
     },
     "7923e5f3f41f4b8483f816c8212b05f8": {
      "model_module": "@jupyter-widgets/controls",
      "model_module_version": "1.5.0",
      "model_name": "DescriptionStyleModel",
      "state": {
       "description_width": ""
      }
     },
     "79d315b1aca0440e801051dc9466cbc1": {
      "model_module": "@jupyter-widgets/controls",
      "model_module_version": "1.5.0",
      "model_name": "HTMLModel",
      "state": {
       "layout": "IPY_MODEL_5a5161d1e2e34e1e82d4801088e401cb",
       "style": "IPY_MODEL_339a55319f4c4629892f0b6ea51dacfb",
       "value": "ibmq_manila"
      }
     },
     "7a147dff4aa2491d8eaf1bf93425b611": {
      "model_module": "@jupyter-widgets/controls",
      "model_module_version": "1.5.0",
      "model_name": "DescriptionStyleModel",
      "state": {
       "description_width": ""
      }
     },
     "7a87569ee78246998d4a57607b8349bf": {
      "model_module": "@jupyter-widgets/controls",
      "model_module_version": "1.5.0",
      "model_name": "DescriptionStyleModel",
      "state": {
       "description_width": ""
      }
     },
     "7b71b5682fc644e6846fe50ebaea9c70": {
      "model_module": "@jupyter-widgets/controls",
      "model_module_version": "1.5.0",
      "model_name": "HTMLModel",
      "state": {
       "layout": "IPY_MODEL_b75882860fbc46ef83cbeae045bb91d2",
       "style": "IPY_MODEL_0e1c61de94da4630be15b15db24c9f10",
       "value": "job has successfully run"
      }
     },
     "7e547766c57f4df9b32df897ce42cef6": {
      "model_module": "@jupyter-widgets/controls",
      "model_module_version": "1.5.0",
      "model_name": "HTMLModel",
      "state": {
       "layout": "IPY_MODEL_3752f2c7fdb04e7c872381ad14ed127f",
       "style": "IPY_MODEL_1fff47655065488c910b595bddc5809b",
       "value": "-"
      }
     },
     "7fe489e7124d4b04b285e2bb954d046e": {
      "model_module": "@jupyter-widgets/controls",
      "model_module_version": "1.5.0",
      "model_name": "ButtonStyleModel",
      "state": {
       "button_color": "white"
      }
     },
     "80387547f91b4940b3b45c299a3218d9": {
      "model_module": "@jupyter-widgets/controls",
      "model_module_version": "1.5.0",
      "model_name": "HTMLModel",
      "state": {
       "layout": "IPY_MODEL_de428b952cf843ae9e287965a4b11f50",
       "style": "IPY_MODEL_df02ea74e86a4ad8a976a04ef2d88ac7",
       "value": "-"
      }
     },
     "8093de7e386b4fd8ab925cd9f3d14ac0": {
      "model_module": "@jupyter-widgets/controls",
      "model_module_version": "1.5.0",
      "model_name": "HTMLModel",
      "state": {
       "layout": "IPY_MODEL_4bdc1ffd3b1c41a0b68c9caa8d6d31b0",
       "style": "IPY_MODEL_352a563448a44be89dc9d08e23b375ed",
       "value": "job has successfully run"
      }
     },
     "81604fb141574785a3c611b1f8513217": {
      "model_module": "@jupyter-widgets/base",
      "model_module_version": "1.2.0",
      "model_name": "LayoutModel",
      "state": {
       "max_width": "700px",
       "min_width": "700px"
      }
     },
     "81a92477b915416d824df1ac76ae1daf": {
      "model_module": "@jupyter-widgets/base",
      "model_module_version": "1.2.0",
      "model_name": "LayoutModel",
      "state": {
       "margin": "0px 5px 0px 0px",
       "width": "32px"
      }
     },
     "823daa0b39174b1ca1cc306542842d05": {
      "model_module": "@jupyter-widgets/controls",
      "model_module_version": "1.5.0",
      "model_name": "HTMLModel",
      "state": {
       "layout": "IPY_MODEL_63b39ba160964e6391ce56d0dee1247b",
       "style": "IPY_MODEL_bed880ea631b49ccb62c6ce9c2e0095a",
       "value": "<font style='color:#34BC6E'>DONE</font>"
      }
     },
     "82812a4fd9f74e9ea3f38e45e878be87": {
      "model_module": "@jupyter-widgets/controls",
      "model_module_version": "1.5.0",
      "model_name": "HBoxModel",
      "state": {
       "children": [
        "IPY_MODEL_1102578c545449c091864fbe8bd21c6d",
        "IPY_MODEL_b877d59b219f40c7924c0c80087cce3f",
        "IPY_MODEL_087ef1b3c67144e2aaf22f6aee5fcd9b",
        "IPY_MODEL_8f6445ab58cd4213859dd824b93a593b",
        "IPY_MODEL_0c648e46ac5349678fe5ed8ff2bfb586",
        "IPY_MODEL_1e407f5b49ec4e02b5ff80a19956b59e"
       ],
       "layout": "IPY_MODEL_2cada311d05e43f084ceace7619c7bc6"
      }
     },
     "82b88acd5e90407b883190bc67e8cf35": {
      "model_module": "@jupyter-widgets/base",
      "model_module_version": "1.2.0",
      "model_name": "LayoutModel",
      "state": {
       "width": "190px"
      }
     },
     "85036c1542734e3b83b974f310ed2b4c": {
      "model_module": "@jupyter-widgets/controls",
      "model_module_version": "1.5.0",
      "model_name": "HBoxModel",
      "state": {
       "children": [
        "IPY_MODEL_3fca7ae63c014738a7dae33588044036",
        "IPY_MODEL_f72ddb7e648e43fa91f9b4f59c277614",
        "IPY_MODEL_94ef594c6f7b46c2bdc384110c1bfd0e",
        "IPY_MODEL_823daa0b39174b1ca1cc306542842d05",
        "IPY_MODEL_3781cb2da3b849c88610bd9b33fff42b",
        "IPY_MODEL_7521caa3d606471c95c652b630fc66fd"
       ],
       "layout": "IPY_MODEL_0b0afee4ef86469ba4f2b8a44876e475"
      }
     },
     "8562952c2604437c8398e29489853e1e": {
      "model_module": "@jupyter-widgets/controls",
      "model_module_version": "1.5.0",
      "model_name": "DescriptionStyleModel",
      "state": {
       "description_width": ""
      }
     },
     "89c89202f29c4c139b73077ea8a36662": {
      "model_module": "@jupyter-widgets/base",
      "model_module_version": "1.2.0",
      "model_name": "LayoutModel",
      "state": {
       "width": "95px"
      }
     },
     "89e078850b104ba7b8e00f5414e6c864": {
      "model_module": "@jupyter-widgets/base",
      "model_module_version": "1.2.0",
      "model_name": "LayoutModel",
      "state": {
       "max_width": "700px",
       "min_width": "700px"
      }
     },
     "89e1683d1f234f6face35604cf2720d9": {
      "model_module": "@jupyter-widgets/controls",
      "model_module_version": "1.5.0",
      "model_name": "HTMLModel",
      "state": {
       "layout": "IPY_MODEL_5eda658f316a443aab2a981f6e41e49f",
       "style": "IPY_MODEL_a4f72acd30134d95b336af8bd1bf0bda",
       "value": "job has successfully run"
      }
     },
     "8a0d223c298d4ce0b238a6625e1fef9b": {
      "model_module": "@jupyter-widgets/base",
      "model_module_version": "1.2.0",
      "model_name": "LayoutModel",
      "state": {
       "width": "190px"
      }
     },
     "8b4c7282561e496b870c47866c21977a": {
      "model_module": "@jupyter-widgets/base",
      "model_module_version": "1.2.0",
      "model_name": "LayoutModel",
      "state": {
       "width": "70px"
      }
     },
     "8b5f1261b7184a23ba6a8c106caa6c23": {
      "model_module": "@jupyter-widgets/controls",
      "model_module_version": "1.5.0",
      "model_name": "ButtonStyleModel",
      "state": {
       "button_color": "white"
      }
     },
     "8b8a4507c60b4e5bad77997375494534": {
      "model_module": "@jupyter-widgets/base",
      "model_module_version": "1.2.0",
      "model_name": "LayoutModel",
      "state": {
       "width": "95px"
      }
     },
     "8c814f1583594f62912ae655739466cf": {
      "model_module": "@jupyter-widgets/controls",
      "model_module_version": "1.5.0",
      "model_name": "HTMLModel",
      "state": {
       "layout": "IPY_MODEL_b0920220a2e34c01a8635cd1dad02fa0",
       "style": "IPY_MODEL_9d08dfe0d8694326aefd0ca6a9a2b559",
       "value": "<font style='color:#34BC6E'>DONE</font>"
      }
     },
     "8d0d2a44a8ee46c5b181ceff277d37b9": {
      "model_module": "@jupyter-widgets/base",
      "model_module_version": "1.2.0",
      "model_name": "LayoutModel",
      "state": {
       "margin": "0px 5px 0px 0px",
       "width": "32px"
      }
     },
     "8dcdb39886b1434fbfbabd307970a6b4": {
      "model_module": "@jupyter-widgets/controls",
      "model_module_version": "1.5.0",
      "model_name": "DescriptionStyleModel",
      "state": {
       "description_width": ""
      }
     },
     "8e1d6d90c0124cf6ab8c7837515e4b34": {
      "model_module": "@jupyter-widgets/base",
      "model_module_version": "1.2.0",
      "model_name": "LayoutModel",
      "state": {
       "width": "145px"
      }
     },
     "8eabf2b805ff4a2c845a507e530bb84e": {
      "model_module": "@jupyter-widgets/base",
      "model_module_version": "1.2.0",
      "model_name": "LayoutModel",
      "state": {
       "width": "145px"
      }
     },
     "8f6445ab58cd4213859dd824b93a593b": {
      "model_module": "@jupyter-widgets/controls",
      "model_module_version": "1.5.0",
      "model_name": "HTMLModel",
      "state": {
       "layout": "IPY_MODEL_718ec0a0bd4a4d24b7c3ae8d0899eb22",
       "style": "IPY_MODEL_8562952c2604437c8398e29489853e1e",
       "value": "<font style='color:#34BC6E'>DONE</font>"
      }
     },
     "90ab5e800c9b4c40929ff5b18b62a0b5": {
      "model_module": "@jupyter-widgets/base",
      "model_module_version": "1.2.0",
      "model_name": "LayoutModel",
      "state": {
       "width": "190px"
      }
     },
     "91b390334dbb476e8dca7a50f9ccd3db": {
      "model_module": "@jupyter-widgets/controls",
      "model_module_version": "1.5.0",
      "model_name": "HTMLModel",
      "state": {
       "layout": "IPY_MODEL_ea6fa03a9f694894b47287fb234b67f0",
       "style": "IPY_MODEL_f2cb1930fb8745f9b95540fa6a28829d",
       "value": "45"
      }
     },
     "93460404239f45b2ab5bd04ca70a9646": {
      "model_module": "@jupyter-widgets/controls",
      "model_module_version": "1.5.0",
      "model_name": "DescriptionStyleModel",
      "state": {
       "description_width": ""
      }
     },
     "93e7bfee8ab04e309fb5be16e0e376a9": {
      "model_module": "@jupyter-widgets/base",
      "model_module_version": "1.2.0",
      "model_name": "LayoutModel",
      "state": {
       "max_width": "700px",
       "min_width": "700px"
      }
     },
     "94ef594c6f7b46c2bdc384110c1bfd0e": {
      "model_module": "@jupyter-widgets/controls",
      "model_module_version": "1.5.0",
      "model_name": "HTMLModel",
      "state": {
       "layout": "IPY_MODEL_2ec698c113cc481ba79edce821cdf38f",
       "style": "IPY_MODEL_4e3905042cf0401d8efa265e122d6b94",
       "value": "ibmq_manila"
      }
     },
     "952607216dc74e35ba76fb92a743af52": {
      "model_module": "@jupyter-widgets/base",
      "model_module_version": "1.2.0",
      "model_name": "LayoutModel",
      "state": {
       "width": "145px"
      }
     },
     "95b41c8c4673450b8781b556b9ccc36e": {
      "model_module": "@jupyter-widgets/controls",
      "model_module_version": "1.5.0",
      "model_name": "HTMLModel",
      "state": {
       "layout": "IPY_MODEL_dc604e2e55904cec818cedbbae24c216",
       "style": "IPY_MODEL_d7b77ef9e73e4aaeaa25cadf57ec3de8",
       "value": "<font style='color:#34BC6E'>DONE</font>"
      }
     },
     "9699c746c1ea409bb88f6e5aa53ef9cb": {
      "model_module": "@jupyter-widgets/controls",
      "model_module_version": "1.5.0",
      "model_name": "HBoxModel",
      "state": {
       "children": [
        "IPY_MODEL_cc0f174c253b4683b09d26f4ee7343d5",
        "IPY_MODEL_3eac74b919e0492f8c0eec0bb970698a",
        "IPY_MODEL_6db8e4d195e44e2ba4cb9e5ec35dd18f",
        "IPY_MODEL_329f64ed3a4848bc8bffd4d3c3f7a2d5",
        "IPY_MODEL_80387547f91b4940b3b45c299a3218d9",
        "IPY_MODEL_abc9962a4d4f4a0db61c395ae46e20fc"
       ],
       "layout": "IPY_MODEL_1c065357240a41459c6fdf1ea6269a4a"
      }
     },
     "97752c3a46a646efa627846a56dc5990": {
      "model_module": "@jupyter-widgets/controls",
      "model_module_version": "1.5.0",
      "model_name": "HTMLModel",
      "state": {
       "layout": "IPY_MODEL_ecc3dbaccb334f608db263024f4ae578",
       "style": "IPY_MODEL_510c8a1b22ae43e0aa6a687803a3130a",
       "value": "62e5be5d017f02ac9a5ca991"
      }
     },
     "98f7e7ccf3ce478fb62d69a55440bc47": {
      "model_module": "@jupyter-widgets/base",
      "model_module_version": "1.2.0",
      "model_name": "LayoutModel",
      "state": {
       "width": "190px"
      }
     },
     "9a87e7448c6c4bcd8a3a2039b5195022": {
      "model_module": "@jupyter-widgets/controls",
      "model_module_version": "1.5.0",
      "model_name": "HBoxModel",
      "state": {
       "children": [
        "IPY_MODEL_fc84659c8dad447ba9638e21909f440a",
        "IPY_MODEL_22e52939a42c46008a1f6d339296383c",
        "IPY_MODEL_7208efb4bcc04615b83bb534d257eac4",
        "IPY_MODEL_32fd29d7ce0d4501a8911c3496cd3d40",
        "IPY_MODEL_7e547766c57f4df9b32df897ce42cef6",
        "IPY_MODEL_efd2de9c2fc24c57870f62317470cf70"
       ],
       "layout": "IPY_MODEL_ba004665e9b34222af4b0c9f1b5b9bd7"
      }
     },
     "9b2937258d864a53921c8b7bd60f866b": {
      "model_module": "@jupyter-widgets/controls",
      "model_module_version": "1.5.0",
      "model_name": "DescriptionStyleModel",
      "state": {
       "description_width": ""
      }
     },
     "9cabb38318144db98d09b59a8cbec9d1": {
      "model_module": "@jupyter-widgets/controls",
      "model_module_version": "1.5.0",
      "model_name": "HBoxModel",
      "state": {
       "children": [
        "IPY_MODEL_67b4a1741f464ec6afbb89dd61e31402",
        "IPY_MODEL_501c984dfa2b493ca185e951f3f82e09",
        "IPY_MODEL_1bbe832b78334e30877a53cc30bdd9a0",
        "IPY_MODEL_3d2dd58473b9487b8a0b0b0e691bac56",
        "IPY_MODEL_d3a565fcb6164a88aa673ba9ca6a216a",
        "IPY_MODEL_7b71b5682fc644e6846fe50ebaea9c70"
       ],
       "layout": "IPY_MODEL_54b000abf7dc4deca96e52c97aa527c7"
      }
     },
     "9d08dfe0d8694326aefd0ca6a9a2b559": {
      "model_module": "@jupyter-widgets/controls",
      "model_module_version": "1.5.0",
      "model_name": "DescriptionStyleModel",
      "state": {
       "description_width": ""
      }
     },
     "9f9f6e744add460e97297c6fd077cae6": {
      "model_module": "@jupyter-widgets/controls",
      "model_module_version": "1.5.0",
      "model_name": "HBoxModel",
      "state": {
       "children": [
        "IPY_MODEL_2d367a9420904c5f9de8dd08c6bd70d7",
        "IPY_MODEL_0960b176e5cc40a8a6757fa8c386beb6",
        "IPY_MODEL_65eaee88dd1a456487a128f27a450e10",
        "IPY_MODEL_52db99c55ba6473e8da6f3c03424e12c",
        "IPY_MODEL_cfbfae985c784f75b7d8ed4e4db3f316",
        "IPY_MODEL_89e1683d1f234f6face35604cf2720d9"
       ],
       "layout": "IPY_MODEL_3b3c01947afa4955bc939e3804bcdeec"
      }
     },
     "a36b7c4736674160af71f0d574d44a2b": {
      "model_module": "@jupyter-widgets/controls",
      "model_module_version": "1.5.0",
      "model_name": "ButtonModel",
      "state": {
       "icon": "close",
       "layout": "IPY_MODEL_81a92477b915416d824df1ac76ae1daf",
       "style": "IPY_MODEL_dfac582299f74f079bfaaf67c7645d11"
      }
     },
     "a4f72acd30134d95b336af8bd1bf0bda": {
      "model_module": "@jupyter-widgets/controls",
      "model_module_version": "1.5.0",
      "model_name": "DescriptionStyleModel",
      "state": {
       "description_width": ""
      }
     },
     "a654a1abd1f345cab55909fb1cc300ca": {
      "model_module": "@jupyter-widgets/controls",
      "model_module_version": "1.5.0",
      "model_name": "DescriptionStyleModel",
      "state": {
       "description_width": ""
      }
     },
     "aa01f13236c34c55909fd74d31660da1": {
      "model_module": "@jupyter-widgets/controls",
      "model_module_version": "1.5.0",
      "model_name": "HTMLModel",
      "state": {
       "layout": "IPY_MODEL_8b4c7282561e496b870c47866c21977a",
       "style": "IPY_MODEL_4f7bcab26f3e4b74a4667abe44d08ea7",
       "value": "-"
      }
     },
     "ab26c3c6e41b460d8686159301e75103": {
      "model_module": "@jupyter-widgets/controls",
      "model_module_version": "1.5.0",
      "model_name": "DescriptionStyleModel",
      "state": {
       "description_width": ""
      }
     },
     "abaa378067db42dc82b5623fdf43abb1": {
      "model_module": "@jupyter-widgets/controls",
      "model_module_version": "1.5.0",
      "model_name": "DescriptionStyleModel",
      "state": {
       "description_width": ""
      }
     },
     "abc9962a4d4f4a0db61c395ae46e20fc": {
      "model_module": "@jupyter-widgets/controls",
      "model_module_version": "1.5.0",
      "model_name": "HTMLModel",
      "state": {
       "layout": "IPY_MODEL_1d159ca87d0c43bbbdfc58ab70392c5b",
       "style": "IPY_MODEL_3f98f540184d4077a45ad58b8adc0cb3",
       "value": "job has successfully run"
      }
     },
     "ac17a5b520c843e39a3a6e119ba722d4": {
      "model_module": "@jupyter-widgets/base",
      "model_module_version": "1.2.0",
      "model_name": "LayoutModel",
      "state": {
       "margin": "0px 5px 0px 0px",
       "width": "32px"
      }
     },
     "ad7059774a10408a99e1ce68265ac515": {
      "model_module": "@jupyter-widgets/base",
      "model_module_version": "1.2.0",
      "model_name": "LayoutModel",
      "state": {
       "width": "190px"
      }
     },
     "adfab4c61eea4e45b61a91541dd5b39d": {
      "model_module": "@jupyter-widgets/base",
      "model_module_version": "1.2.0",
      "model_name": "LayoutModel",
      "state": {
       "margin": "0px 0px 0px 37px",
       "width": "600px"
      }
     },
     "b0920220a2e34c01a8635cd1dad02fa0": {
      "model_module": "@jupyter-widgets/base",
      "model_module_version": "1.2.0",
      "model_name": "LayoutModel",
      "state": {
       "width": "95px"
      }
     },
     "b0f22cf4dee6428d8e88d83d7cf5b183": {
      "model_module": "@jupyter-widgets/controls",
      "model_module_version": "1.5.0",
      "model_name": "DescriptionStyleModel",
      "state": {
       "description_width": ""
      }
     },
     "b2c0e51a5f1b4f5fbf75fe15e821cbff": {
      "model_module": "@jupyter-widgets/base",
      "model_module_version": "1.2.0",
      "model_name": "LayoutModel",
      "state": {
       "width": "190px"
      }
     },
     "b3d3d30f4e2d4cc18a08a6734634868a": {
      "model_module": "@jupyter-widgets/controls",
      "model_module_version": "1.5.0",
      "model_name": "ButtonStyleModel",
      "state": {
       "button_color": "white"
      }
     },
     "b753b02a98644ee6b9cbfcf827b67365": {
      "model_module": "@jupyter-widgets/controls",
      "model_module_version": "1.5.0",
      "model_name": "HBoxModel",
      "state": {
       "children": [
        "IPY_MODEL_d03aee066e054d6b92e82280ac87fb5a",
        "IPY_MODEL_5984fb50b95b4c67ba83de66338c6504",
        "IPY_MODEL_4a53df6766f445158433fb51b0fe84be",
        "IPY_MODEL_2bd438308926428fb33852b0369a91b9",
        "IPY_MODEL_91b390334dbb476e8dca7a50f9ccd3db",
        "IPY_MODEL_f55dcadd60c74a9c838a6dc12be2b6c4"
       ],
       "layout": "IPY_MODEL_89e078850b104ba7b8e00f5414e6c864"
      }
     },
     "b75882860fbc46ef83cbeae045bb91d2": {
      "model_module": "@jupyter-widgets/base",
      "model_module_version": "1.2.0",
      "model_name": "LayoutModel",
      "state": {
       "overflow_x": "scroll"
      }
     },
     "b877d59b219f40c7924c0c80087cce3f": {
      "model_module": "@jupyter-widgets/controls",
      "model_module_version": "1.5.0",
      "model_name": "HTMLModel",
      "state": {
       "layout": "IPY_MODEL_eb2e06086e5e4d418214d1d31d94a358",
       "style": "IPY_MODEL_11d3a29b92e2452aa5b1f670c30fa0ae",
       "value": "62e5afdd85270c4464bb1ad4"
      }
     },
     "b9cbaac6e8694702a56f5d5cb2ff53ef": {
      "model_module": "@jupyter-widgets/controls",
      "model_module_version": "1.5.0",
      "model_name": "DescriptionStyleModel",
      "state": {
       "description_width": ""
      }
     },
     "ba004665e9b34222af4b0c9f1b5b9bd7": {
      "model_module": "@jupyter-widgets/base",
      "model_module_version": "1.2.0",
      "model_name": "LayoutModel",
      "state": {
       "max_width": "700px",
       "min_width": "700px"
      }
     },
     "babf49bfb8284d3d9d651a16416dee46": {
      "model_module": "@jupyter-widgets/controls",
      "model_module_version": "1.5.0",
      "model_name": "HTMLModel",
      "state": {
       "layout": "IPY_MODEL_f6a71c7a5a9e4bdf9fbea1221f544744",
       "style": "IPY_MODEL_dd70c3a4c4c64ed687b2c4ae60a915ad",
       "value": "<h5>Queue</h5>"
      }
     },
     "bbdc7b458cb24a77b913b0ea6e5739d8": {
      "model_module": "@jupyter-widgets/controls",
      "model_module_version": "1.5.0",
      "model_name": "DescriptionStyleModel",
      "state": {
       "description_width": ""
      }
     },
     "bbf4818891ac413589bcccb349aac629": {
      "model_module": "@jupyter-widgets/controls",
      "model_module_version": "1.5.0",
      "model_name": "DescriptionStyleModel",
      "state": {
       "description_width": ""
      }
     },
     "bc1065686dcf4b70877613bfd7da5cf8": {
      "model_module": "@jupyter-widgets/controls",
      "model_module_version": "1.5.0",
      "model_name": "ButtonStyleModel",
      "state": {
       "button_color": "white"
      }
     },
     "bcf626ad22484fa0bb70176e42840dc9": {
      "model_module": "@jupyter-widgets/controls",
      "model_module_version": "1.5.0",
      "model_name": "DescriptionStyleModel",
      "state": {
       "description_width": ""
      }
     },
     "bd9adf5e22e244b4afb5e26f2ea78024": {
      "model_module": "@jupyter-widgets/controls",
      "model_module_version": "1.5.0",
      "model_name": "HTMLModel",
      "state": {
       "layout": "IPY_MODEL_8b8a4507c60b4e5bad77997375494534",
       "style": "IPY_MODEL_76a41a647f464a38b0de032e3233b03d",
       "value": "<font style='color:#34BC6E'>DONE</font>"
      }
     },
     "bed880ea631b49ccb62c6ce9c2e0095a": {
      "model_module": "@jupyter-widgets/controls",
      "model_module_version": "1.5.0",
      "model_name": "DescriptionStyleModel",
      "state": {
       "description_width": ""
      }
     },
     "bf13641ef89f447ea0e0b7ccf06c2570": {
      "model_module": "@jupyter-widgets/controls",
      "model_module_version": "1.5.0",
      "model_name": "HTMLModel",
      "state": {
       "layout": "IPY_MODEL_c3243928d9de46ae81aa23bba87a0b7d",
       "style": "IPY_MODEL_413f92d4c4e94611b80f21642e5e9b6e",
       "value": "62e5f85b37e42f05b6aebe27"
      }
     },
     "bf1bfde79a164b9cb50d44a82d783e09": {
      "model_module": "@jupyter-widgets/controls",
      "model_module_version": "1.5.0",
      "model_name": "HBoxModel",
      "state": {
       "children": [
        "IPY_MODEL_70b1c029e8d5431090ac90fa73bf8980",
        "IPY_MODEL_664df11667e045e591440f66ad475c78",
        "IPY_MODEL_79d315b1aca0440e801051dc9466cbc1",
        "IPY_MODEL_8c814f1583594f62912ae655739466cf",
        "IPY_MODEL_3013df099b684eac83da03eee4189da6",
        "IPY_MODEL_efad82f5c63449f7b4967d5dbba14ad3"
       ],
       "layout": "IPY_MODEL_81604fb141574785a3c611b1f8513217"
      }
     },
     "c1c2850fc0254413912225fdecc925ea": {
      "model_module": "@jupyter-widgets/controls",
      "model_module_version": "1.5.0",
      "model_name": "HTMLModel",
      "state": {
       "layout": "IPY_MODEL_42339a5eba54453ebae282ab63876be8",
       "style": "IPY_MODEL_7a147dff4aa2491d8eaf1bf93425b611",
       "value": "<font style='color:#34BC6E'>DONE</font>"
      }
     },
     "c2616d7c383343319fe05ef08512dc2b": {
      "model_module": "@jupyter-widgets/controls",
      "model_module_version": "1.5.0",
      "model_name": "HTMLModel",
      "state": {
       "layout": "IPY_MODEL_8eabf2b805ff4a2c845a507e530bb84e",
       "style": "IPY_MODEL_a654a1abd1f345cab55909fb1cc300ca",
       "value": "ibmq_manila"
      }
     },
     "c2767e50c78e489c8f953c7124e3a86f": {
      "model_module": "@jupyter-widgets/controls",
      "model_module_version": "1.5.0",
      "model_name": "DescriptionStyleModel",
      "state": {
       "description_width": ""
      }
     },
     "c3243928d9de46ae81aa23bba87a0b7d": {
      "model_module": "@jupyter-widgets/base",
      "model_module_version": "1.2.0",
      "model_name": "LayoutModel",
      "state": {
       "width": "190px"
      }
     },
     "c33efc9c2da842f8bcae998dc8ea5344": {
      "model_module": "@jupyter-widgets/controls",
      "model_module_version": "1.5.0",
      "model_name": "ButtonStyleModel",
      "state": {
       "button_color": "white"
      }
     },
     "c4cbcd47f5034ba7a1f822b64f7da1d5": {
      "model_module": "@jupyter-widgets/controls",
      "model_module_version": "1.5.0",
      "model_name": "ButtonStyleModel",
      "state": {
       "button_color": "white"
      }
     },
     "c5309e88a42446e29b2907bedfb158c5": {
      "model_module": "@jupyter-widgets/base",
      "model_module_version": "1.2.0",
      "model_name": "LayoutModel",
      "state": {
       "margin": "0px 5px 0px 0px",
       "width": "32px"
      }
     },
     "ca2a68b0c08e4aaeb636055de542e6e0": {
      "model_module": "@jupyter-widgets/controls",
      "model_module_version": "1.5.0",
      "model_name": "DescriptionStyleModel",
      "state": {
       "description_width": ""
      }
     },
     "ca3cc3421ada4b84bc5770d37ce40588": {
      "model_module": "@jupyter-widgets/base",
      "model_module_version": "1.2.0",
      "model_name": "LayoutModel",
      "state": {
       "max_width": "700px",
       "min_width": "700px"
      }
     },
     "ca8c6300a282462aa66a460bf1e7ed6e": {
      "model_module": "@jupyter-widgets/controls",
      "model_module_version": "1.5.0",
      "model_name": "ButtonModel",
      "state": {
       "icon": "close",
       "layout": "IPY_MODEL_ee76e0fa570c4c1997aa77fd97da33a1",
       "style": "IPY_MODEL_78222b4c720f4515b6f6cb9ba329e6e8"
      }
     },
     "cb2f54a37e6243f49a32270da46fd28b": {
      "model_module": "@jupyter-widgets/controls",
      "model_module_version": "1.5.0",
      "model_name": "DescriptionStyleModel",
      "state": {
       "description_width": ""
      }
     },
     "cc0f174c253b4683b09d26f4ee7343d5": {
      "model_module": "@jupyter-widgets/controls",
      "model_module_version": "1.5.0",
      "model_name": "ButtonModel",
      "state": {
       "icon": "close",
       "layout": "IPY_MODEL_ced0c4046039448395f916af2d0b6c01",
       "style": "IPY_MODEL_2fa510d520984e22af940d84941f2d62"
      }
     },
     "ced0c4046039448395f916af2d0b6c01": {
      "model_module": "@jupyter-widgets/base",
      "model_module_version": "1.2.0",
      "model_name": "LayoutModel",
      "state": {
       "margin": "0px 5px 0px 0px",
       "width": "32px"
      }
     },
     "cfbfae985c784f75b7d8ed4e4db3f316": {
      "model_module": "@jupyter-widgets/controls",
      "model_module_version": "1.5.0",
      "model_name": "HTMLModel",
      "state": {
       "layout": "IPY_MODEL_f3f59c096f2341b899eae9a3b95cf01e",
       "style": "IPY_MODEL_26d318eb633f4e5fb3205aa9fcd5dbb8",
       "value": "-"
      }
     },
     "d03aee066e054d6b92e82280ac87fb5a": {
      "model_module": "@jupyter-widgets/controls",
      "model_module_version": "1.5.0",
      "model_name": "ButtonModel",
      "state": {
       "icon": "close",
       "layout": "IPY_MODEL_583171c3f8f74d75adaabdc5f43a1e1c",
       "style": "IPY_MODEL_c33efc9c2da842f8bcae998dc8ea5344"
      }
     },
     "d3a565fcb6164a88aa673ba9ca6a216a": {
      "model_module": "@jupyter-widgets/controls",
      "model_module_version": "1.5.0",
      "model_name": "HTMLModel",
      "state": {
       "layout": "IPY_MODEL_063cb6ba438146c1a0c0a6bd6f1f4449",
       "style": "IPY_MODEL_ee407459a05447b895bd2062c8450903",
       "value": "-"
      }
     },
     "d556902fafbf4c948d3790619641371e": {
      "model_module": "@jupyter-widgets/base",
      "model_module_version": "1.2.0",
      "model_name": "LayoutModel",
      "state": {
       "width": "70px"
      }
     },
     "d58a528083024cf685b7bf0ed26c4d2b": {
      "model_module": "@jupyter-widgets/controls",
      "model_module_version": "1.5.0",
      "model_name": "DescriptionStyleModel",
      "state": {
       "description_width": ""
      }
     },
     "d64b46bd50b2439d847ea8097b75a2a5": {
      "model_module": "@jupyter-widgets/base",
      "model_module_version": "1.2.0",
      "model_name": "LayoutModel",
      "state": {
       "width": "145px"
      }
     },
     "d650eee3da1147029fba166b10fdead9": {
      "model_module": "@jupyter-widgets/controls",
      "model_module_version": "1.5.0",
      "model_name": "DescriptionStyleModel",
      "state": {
       "description_width": ""
      }
     },
     "d7b77ef9e73e4aaeaa25cadf57ec3de8": {
      "model_module": "@jupyter-widgets/controls",
      "model_module_version": "1.5.0",
      "model_name": "DescriptionStyleModel",
      "state": {
       "description_width": ""
      }
     },
     "d806ac209dd84977a15d55b59f3eb4c1": {
      "model_module": "@jupyter-widgets/base",
      "model_module_version": "1.2.0",
      "model_name": "LayoutModel",
      "state": {
       "width": "70px"
      }
     },
     "d95accbf041b4e3693f02162735a56b3": {
      "model_module": "@jupyter-widgets/base",
      "model_module_version": "1.2.0",
      "model_name": "LayoutModel",
      "state": {
       "margin": "0px 5px 0px 0px",
       "width": "32px"
      }
     },
     "dbbdf216a6e244c681f1e5648691752f": {
      "model_module": "@jupyter-widgets/controls",
      "model_module_version": "1.5.0",
      "model_name": "ButtonStyleModel",
      "state": {
       "button_color": "white"
      }
     },
     "dc604e2e55904cec818cedbbae24c216": {
      "model_module": "@jupyter-widgets/base",
      "model_module_version": "1.2.0",
      "model_name": "LayoutModel",
      "state": {
       "width": "95px"
      }
     },
     "dd70c3a4c4c64ed687b2c4ae60a915ad": {
      "model_module": "@jupyter-widgets/controls",
      "model_module_version": "1.5.0",
      "model_name": "DescriptionStyleModel",
      "state": {
       "description_width": ""
      }
     },
     "de428b952cf843ae9e287965a4b11f50": {
      "model_module": "@jupyter-widgets/base",
      "model_module_version": "1.2.0",
      "model_name": "LayoutModel",
      "state": {
       "width": "70px"
      }
     },
     "de89543f271e43d7aeb0c58d6656f4ae": {
      "model_module": "@jupyter-widgets/controls",
      "model_module_version": "1.5.0",
      "model_name": "DescriptionStyleModel",
      "state": {
       "description_width": ""
      }
     },
     "de8b8f01dfec45bcac72916729db544e": {
      "model_module": "@jupyter-widgets/base",
      "model_module_version": "1.2.0",
      "model_name": "LayoutModel",
      "state": {
       "overflow_x": "scroll"
      }
     },
     "df02ea74e86a4ad8a976a04ef2d88ac7": {
      "model_module": "@jupyter-widgets/controls",
      "model_module_version": "1.5.0",
      "model_name": "DescriptionStyleModel",
      "state": {
       "description_width": ""
      }
     },
     "dfac582299f74f079bfaaf67c7645d11": {
      "model_module": "@jupyter-widgets/controls",
      "model_module_version": "1.5.0",
      "model_name": "ButtonStyleModel",
      "state": {
       "button_color": "white"
      }
     },
     "dfb5fc2eeca3423c9cf6c4b1aaea4cfa": {
      "model_module": "@jupyter-widgets/base",
      "model_module_version": "1.2.0",
      "model_name": "LayoutModel",
      "state": {
       "width": "190px"
      }
     },
     "dfe56b9c78ef41b18a218e022c47dae6": {
      "model_module": "@jupyter-widgets/controls",
      "model_module_version": "1.5.0",
      "model_name": "ButtonModel",
      "state": {
       "icon": "close",
       "layout": "IPY_MODEL_d95accbf041b4e3693f02162735a56b3",
       "style": "IPY_MODEL_c4cbcd47f5034ba7a1f822b64f7da1d5"
      }
     },
     "e05a3d21c2cd4ea8aa64dc36e0cadc29": {
      "model_module": "@jupyter-widgets/controls",
      "model_module_version": "1.5.0",
      "model_name": "DescriptionStyleModel",
      "state": {
       "description_width": ""
      }
     },
     "e082a35bfa0f4e60a5d26fc3cfb87cce": {
      "model_module": "@jupyter-widgets/controls",
      "model_module_version": "1.5.0",
      "model_name": "DescriptionStyleModel",
      "state": {
       "description_width": ""
      }
     },
     "e1ece4b7d3e24558aa975734e04d3f21": {
      "model_module": "@jupyter-widgets/base",
      "model_module_version": "1.2.0",
      "model_name": "LayoutModel",
      "state": {
       "width": "145px"
      }
     },
     "e263721d6b124bd49b19456c0b80573a": {
      "model_module": "@jupyter-widgets/controls",
      "model_module_version": "1.5.0",
      "model_name": "HBoxModel",
      "state": {
       "children": [
        "IPY_MODEL_ca8c6300a282462aa66a460bf1e7ed6e",
        "IPY_MODEL_bf13641ef89f447ea0e0b7ccf06c2570",
        "IPY_MODEL_107db5a2478d43f5887084399d3af4e9",
        "IPY_MODEL_369dfcab48c0422dbe988cf1904f3d49",
        "IPY_MODEL_e5d491f6c1e747ada5abfaa6f5db69ba",
        "IPY_MODEL_330f3a89fee74003bd8b7d969aa7873d"
       ],
       "layout": "IPY_MODEL_2bf9749370514570882791e9aa2f03ff"
      }
     },
     "e563ba8759b54d66be035a5da4efa3d6": {
      "model_module": "@jupyter-widgets/controls",
      "model_module_version": "1.5.0",
      "model_name": "HBoxModel",
      "state": {
       "children": [
        "IPY_MODEL_a36b7c4736674160af71f0d574d44a2b",
        "IPY_MODEL_97752c3a46a646efa627846a56dc5990",
        "IPY_MODEL_21dbd532c1834ba59a2111bced7245f9",
        "IPY_MODEL_c1c2850fc0254413912225fdecc925ea",
        "IPY_MODEL_aa01f13236c34c55909fd74d31660da1",
        "IPY_MODEL_efb8037979e047c192b6e33755375a3c"
       ],
       "layout": "IPY_MODEL_f0935a6e052e4e90858db7f61de2f28a"
      }
     },
     "e5d491f6c1e747ada5abfaa6f5db69ba": {
      "model_module": "@jupyter-widgets/controls",
      "model_module_version": "1.5.0",
      "model_name": "HTMLModel",
      "state": {
       "layout": "IPY_MODEL_d556902fafbf4c948d3790619641371e",
       "style": "IPY_MODEL_2d0745511d0e4cba857b41b07ea7bc12",
       "value": "-"
      }
     },
     "ea6fa03a9f694894b47287fb234b67f0": {
      "model_module": "@jupyter-widgets/base",
      "model_module_version": "1.2.0",
      "model_name": "LayoutModel",
      "state": {
       "width": "70px"
      }
     },
     "eb2e06086e5e4d418214d1d31d94a358": {
      "model_module": "@jupyter-widgets/base",
      "model_module_version": "1.2.0",
      "model_name": "LayoutModel",
      "state": {
       "width": "190px"
      }
     },
     "ec62e56af48f43dcbecc3405bae2f351": {
      "model_module": "@jupyter-widgets/controls",
      "model_module_version": "1.5.0",
      "model_name": "HTMLModel",
      "state": {
       "layout": "IPY_MODEL_82b88acd5e90407b883190bc67e8cf35",
       "style": "IPY_MODEL_5ff73fd5202e4fe99c2a03ba2143b086",
       "value": "62e5cae6017f025f8c5ca9db"
      }
     },
     "ecc3dbaccb334f608db263024f4ae578": {
      "model_module": "@jupyter-widgets/base",
      "model_module_version": "1.2.0",
      "model_name": "LayoutModel",
      "state": {
       "width": "190px"
      }
     },
     "ee407459a05447b895bd2062c8450903": {
      "model_module": "@jupyter-widgets/controls",
      "model_module_version": "1.5.0",
      "model_name": "DescriptionStyleModel",
      "state": {
       "description_width": ""
      }
     },
     "ee76e0fa570c4c1997aa77fd97da33a1": {
      "model_module": "@jupyter-widgets/base",
      "model_module_version": "1.2.0",
      "model_name": "LayoutModel",
      "state": {
       "margin": "0px 5px 0px 0px",
       "width": "32px"
      }
     },
     "ee84b6e92e834151b171e994e9ad87bd": {
      "model_module": "@jupyter-widgets/base",
      "model_module_version": "1.2.0",
      "model_name": "LayoutModel",
      "state": {
       "width": "70px"
      }
     },
     "efad82f5c63449f7b4967d5dbba14ad3": {
      "model_module": "@jupyter-widgets/controls",
      "model_module_version": "1.5.0",
      "model_name": "HTMLModel",
      "state": {
       "layout": "IPY_MODEL_00673aa1952c48e0b093a742a1c72deb",
       "style": "IPY_MODEL_0c43723f7a374e098a836606509bf85b",
       "value": "job has successfully run"
      }
     },
     "efb8037979e047c192b6e33755375a3c": {
      "model_module": "@jupyter-widgets/controls",
      "model_module_version": "1.5.0",
      "model_name": "HTMLModel",
      "state": {
       "layout": "IPY_MODEL_1ad8b56d87cd4570a5444464b59efae5",
       "style": "IPY_MODEL_c2767e50c78e489c8f953c7124e3a86f",
       "value": "job has successfully run"
      }
     },
     "efd2de9c2fc24c57870f62317470cf70": {
      "model_module": "@jupyter-widgets/controls",
      "model_module_version": "1.5.0",
      "model_name": "HTMLModel",
      "state": {
       "layout": "IPY_MODEL_de8b8f01dfec45bcac72916729db544e",
       "style": "IPY_MODEL_ab26c3c6e41b460d8686159301e75103",
       "value": "job has successfully run"
      }
     },
     "f05b4d32e4d64593a0284aad292281c8": {
      "model_module": "@jupyter-widgets/controls",
      "model_module_version": "1.5.0",
      "model_name": "DescriptionStyleModel",
      "state": {
       "description_width": ""
      }
     },
     "f0935a6e052e4e90858db7f61de2f28a": {
      "model_module": "@jupyter-widgets/base",
      "model_module_version": "1.2.0",
      "model_name": "LayoutModel",
      "state": {
       "max_width": "700px",
       "min_width": "700px"
      }
     },
     "f1d5886686f54191b918d8b52f918778": {
      "model_module": "@jupyter-widgets/controls",
      "model_module_version": "1.5.0",
      "model_name": "DescriptionStyleModel",
      "state": {
       "description_width": ""
      }
     },
     "f2cb1930fb8745f9b95540fa6a28829d": {
      "model_module": "@jupyter-widgets/controls",
      "model_module_version": "1.5.0",
      "model_name": "DescriptionStyleModel",
      "state": {
       "description_width": ""
      }
     },
     "f3f59c096f2341b899eae9a3b95cf01e": {
      "model_module": "@jupyter-widgets/base",
      "model_module_version": "1.2.0",
      "model_name": "LayoutModel",
      "state": {
       "width": "70px"
      }
     },
     "f5289df26a9b49069ca651632dc435fd": {
      "model_module": "@jupyter-widgets/controls",
      "model_module_version": "1.5.0",
      "model_name": "HTMLModel",
      "state": {
       "layout": "IPY_MODEL_90ab5e800c9b4c40929ff5b18b62a0b5",
       "style": "IPY_MODEL_3c1b0b75f83140f98c71f2f0cfb58750",
       "value": "<h5>Job ID</h5>"
      }
     },
     "f552e8cd6643461ab99af10f909413ed": {
      "model_module": "@jupyter-widgets/controls",
      "model_module_version": "1.5.0",
      "model_name": "DescriptionStyleModel",
      "state": {
       "description_width": ""
      }
     },
     "f55dcadd60c74a9c838a6dc12be2b6c4": {
      "model_module": "@jupyter-widgets/controls",
      "model_module_version": "1.5.0",
      "model_name": "HTMLModel",
      "state": {
       "layout": "IPY_MODEL_436b6bf7eaa0428091a56c4ee10a17e5",
       "style": "IPY_MODEL_65a435a185704a2f9c98294ec4fcf440",
       "value": "job is queued"
      }
     },
     "f5f1b8c314b24ab98cb0db9fb84c705a": {
      "model_module": "@jupyter-widgets/base",
      "model_module_version": "1.2.0",
      "model_name": "LayoutModel",
      "state": {
       "margin": "0px 0px 10px 0px"
      }
     },
     "f5f8fbf1f7c94f0596699f9115383395": {
      "model_module": "@jupyter-widgets/controls",
      "model_module_version": "1.5.0",
      "model_name": "HTMLModel",
      "state": {
       "layout": "IPY_MODEL_952607216dc74e35ba76fb92a743af52",
       "style": "IPY_MODEL_f05b4d32e4d64593a0284aad292281c8",
       "value": "ibmq_manila"
      }
     },
     "f6a71c7a5a9e4bdf9fbea1221f544744": {
      "model_module": "@jupyter-widgets/base",
      "model_module_version": "1.2.0",
      "model_name": "LayoutModel",
      "state": {
       "width": "70px"
      }
     },
     "f72ddb7e648e43fa91f9b4f59c277614": {
      "model_module": "@jupyter-widgets/controls",
      "model_module_version": "1.5.0",
      "model_name": "HTMLModel",
      "state": {
       "layout": "IPY_MODEL_b2c0e51a5f1b4f5fbf75fe15e821cbff",
       "style": "IPY_MODEL_31515dc2351744ff904395ca0807907b",
       "value": "62e617ee5593a85579194616"
      }
     },
     "f7b941d55c094cdab15647453fd61645": {
      "model_module": "@jupyter-widgets/base",
      "model_module_version": "1.2.0",
      "model_name": "LayoutModel",
      "state": {
       "width": "95px"
      }
     },
     "fb382fe7e7274d5eafd35fa0674b732e": {
      "model_module": "@jupyter-widgets/controls",
      "model_module_version": "1.5.0",
      "model_name": "DescriptionStyleModel",
      "state": {
       "description_width": ""
      }
     },
     "fbb33f0d89b5410387c6d6f06ebf9566": {
      "model_module": "@jupyter-widgets/base",
      "model_module_version": "1.2.0",
      "model_name": "LayoutModel",
      "state": {
       "width": "190px"
      }
     },
     "fbd7201b59ec4e009834860d958268ef": {
      "model_module": "@jupyter-widgets/controls",
      "model_module_version": "1.5.0",
      "model_name": "DescriptionStyleModel",
      "state": {
       "description_width": ""
      }
     },
     "fbf012adeb1943fbb72459e59cdc48b3": {
      "model_module": "@jupyter-widgets/controls",
      "model_module_version": "1.5.0",
      "model_name": "HTMLModel",
      "state": {
       "layout": "IPY_MODEL_d806ac209dd84977a15d55b59f3eb4c1",
       "style": "IPY_MODEL_e05a3d21c2cd4ea8aa64dc36e0cadc29",
       "value": "-"
      }
     },
     "fc84659c8dad447ba9638e21909f440a": {
      "model_module": "@jupyter-widgets/controls",
      "model_module_version": "1.5.0",
      "model_name": "ButtonModel",
      "state": {
       "icon": "close",
       "layout": "IPY_MODEL_6658f02f9def42a48b6064725394ecaf",
       "style": "IPY_MODEL_2eb4fa63e3c740b88f88ed80992a4834"
      }
     },
     "fcde4c5d58484dcd9cdcbe7f75bae2b3": {
      "model_module": "@jupyter-widgets/controls",
      "model_module_version": "1.5.0",
      "model_name": "DescriptionStyleModel",
      "state": {
       "description_width": ""
      }
     },
     "fd2a27edca084506be6a07f39b005d50": {
      "model_module": "@jupyter-widgets/controls",
      "model_module_version": "1.5.0",
      "model_name": "ButtonStyleModel",
      "state": {}
     },
     "fd4a83508a1f417fa2fc433d5d1e4ceb": {
      "model_module": "@jupyter-widgets/controls",
      "model_module_version": "1.5.0",
      "model_name": "HTMLModel",
      "state": {
       "layout": "IPY_MODEL_8e1d6d90c0124cf6ab8c7837515e4b34",
       "style": "IPY_MODEL_5c3d9bc25846463abc137cf85fb721f3",
       "value": "<h5>Backend</h5>"
      }
     },
     "fe4eda26fb294064bc0e1a32fd395757": {
      "model_module": "@jupyter-widgets/base",
      "model_module_version": "1.2.0",
      "model_name": "LayoutModel",
      "state": {
       "width": "190px"
      }
     },
     "fea1bb2484874fa18d2155d0e92080fd": {
      "model_module": "@jupyter-widgets/controls",
      "model_module_version": "1.5.0",
      "model_name": "HTMLModel",
      "state": {
       "layout": "IPY_MODEL_8a0d223c298d4ce0b238a6625e1fef9b",
       "style": "IPY_MODEL_b9cbaac6e8694702a56f5d5cb2ff53ef",
       "value": "62e605ff3e2c288f8cbd3f6f"
      }
     }
    },
    "version_major": 2,
    "version_minor": 0
   }
  }
 },
 "nbformat": 4,
 "nbformat_minor": 5
}
